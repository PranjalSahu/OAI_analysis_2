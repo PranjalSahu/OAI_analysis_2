{
  "nbformat": 4,
  "nbformat_minor": 0,
  "metadata": {
    "colab": {
      "name": "DaskComputation.ipynb",
      "provenance": [],
      "collapsed_sections": [],
      "authorship_tag": "ABX9TyNhskrj0q9pEe5o2NMFyOuu",
      "include_colab_link": true
    },
    "kernelspec": {
      "name": "python3",
      "display_name": "Python 3"
    },
    "language_info": {
      "name": "python"
    },
    "widgets": {
      "application/vnd.jupyter.widget-state+json": {
        "1168bdc5c1634fc38627a535d5e3dc8f": {
          "model_module": "itkwidgets",
          "model_name": "ViewerModel",
          "model_module_version": "^0.32.1",
          "state": {
            "_custom_cmap": null,
            "_dom_classes": [],
            "_downsampling": false,
            "_largest_roi": {
              "shape": [
                2,
                3
              ],
              "dtype": "float64"
            },
            "_model_module": "itkwidgets",
            "_model_module_version": "^0.32.1",
            "_model_name": "ViewerModel",
            "_rendering_image": false,
            "_reset_crop_requested": false,
            "_scale_factors": {
              "shape": [
                3
              ],
              "dtype": "uint8"
            },
            "_view_count": null,
            "_view_module": "itkwidgets",
            "_view_module_version": "^0.32.1",
            "_view_name": "ViewerView",
            "annotations": true,
            "axes": false,
            "background": [
              1,
              1,
              1
            ],
            "blend_mode": "composite",
            "camera": {
              "shape": [
                3,
                3
              ],
              "dtype": "float32"
            },
            "channels": null,
            "clicked_slice_point": null,
            "cmap": null,
            "geometries": [
              {
                "vtkClass": "vtkPolyData",
                "points": {
                  "vtkClass": "vtkPoints",
                  "name": "_points",
                  "numberOfComponents": 3,
                  "dataType": "Float32Array",
                  "size": 161451
                },
                "polys": {
                  "vtkClass": "vtkCellArray",
                  "name": "_polys",
                  "numberOfComponents": 1,
                  "size": 421692,
                  "dataType": "Uint32Array"
                },
                "pointData": {
                  "vtkClass": "vtkDataSetAttributes",
                  "activeScalars": 0,
                  "arrays": [
                    {
                      "data": {
                        "vtkClass": "vtkDataArray",
                        "name": "PointScalarData",
                        "numberOfComponents": 1,
                        "size": 53818,
                        "dataType": "Float64Array"
                      }
                    }
                  ]
                },
                "cellData": {
                  "vtkClass": "vtkDataSetAttributes",
                  "activeScalars": 0,
                  "arrays": [
                    {
                      "data": {
                        "vtkClass": "vtkDataArray",
                        "name": "CellScalarData",
                        "numberOfComponents": 1,
                        "size": 105424,
                        "dataType": "Float64Array"
                      }
                    }
                  ]
                },
                "metadata": {
                  "name": "Geometry 0"
                }
              }
            ],
            "geometry_colors": {
              "shape": [
                1,
                3
              ],
              "dtype": "float32"
            },
            "geometry_opacities": {
              "shape": [
                1
              ],
              "dtype": "float32"
            },
            "gradient_opacity": 0.22,
            "interpolation": true,
            "label_image_blend": 0.5,
            "label_image_names": null,
            "label_image_weights": null,
            "layout": "IPY_MODEL_694e81244a3f42baa5e955811ba96ad3",
            "lut": "glasbey",
            "mode": "v",
            "opacity_gaussians": null,
            "point_set_colors": {
              "shape": [
                0,
                3
              ],
              "dtype": "float32"
            },
            "point_set_opacities": {
              "shape": [
                0
              ],
              "dtype": "float32"
            },
            "point_set_representations": [],
            "point_set_sizes": {
              "shape": [
                0
              ],
              "dtype": "uint8"
            },
            "point_sets": [],
            "rendered_image": null,
            "rendered_label_image": null,
            "roi": {
              "shape": [
                2,
                3
              ],
              "dtype": "float64"
            },
            "rotate": false,
            "sample_distance": 0.25,
            "select_roi": false,
            "shadow": true,
            "slicing_planes": false,
            "ui_collapsed": false,
            "units": "",
            "vmax": null,
            "vmin": null,
            "x_slice": null,
            "y_slice": null,
            "z_slice": null
          }
        },
        "694e81244a3f42baa5e955811ba96ad3": {
          "model_module": "@jupyter-widgets/base",
          "model_name": "LayoutModel",
          "model_module_version": "1.2.0",
          "state": {
            "_model_module": "@jupyter-widgets/base",
            "_model_module_version": "1.2.0",
            "_model_name": "LayoutModel",
            "_view_count": null,
            "_view_module": "@jupyter-widgets/base",
            "_view_module_version": "1.2.0",
            "_view_name": "LayoutView",
            "align_content": null,
            "align_items": null,
            "align_self": null,
            "border": null,
            "bottom": null,
            "display": null,
            "flex": null,
            "flex_flow": null,
            "grid_area": null,
            "grid_auto_columns": null,
            "grid_auto_flow": null,
            "grid_auto_rows": null,
            "grid_column": null,
            "grid_gap": null,
            "grid_row": null,
            "grid_template_areas": null,
            "grid_template_columns": null,
            "grid_template_rows": null,
            "height": null,
            "justify_content": null,
            "justify_items": null,
            "left": null,
            "margin": null,
            "max_height": null,
            "max_width": null,
            "min_height": null,
            "min_width": null,
            "object_fit": null,
            "object_position": null,
            "order": null,
            "overflow": null,
            "overflow_x": null,
            "overflow_y": null,
            "padding": null,
            "right": null,
            "top": null,
            "visibility": null,
            "width": null
          }
        },
        "9169eb36f32d4ebe9e2d7403c4e69ced": {
          "model_module": "@jupyter-widgets/output",
          "model_name": "OutputModel",
          "model_module_version": "1.0.0",
          "state": {
            "_dom_classes": [],
            "_model_module": "@jupyter-widgets/output",
            "_model_module_version": "1.0.0",
            "_model_name": "OutputModel",
            "_view_count": null,
            "_view_module": "@jupyter-widgets/output",
            "_view_module_version": "1.0.0",
            "_view_name": "OutputView",
            "layout": "IPY_MODEL_b6089e0826934a77984fd1cb65a5852d",
            "msg_id": "",
            "outputs": [
              {
                "output_type": "display_data",
                "data": {
                  "text/plain": "\u001b[32m⠴\u001b[0m \u001b[1;32mCreating Cluster. This might take a few minutes...\u001b[0m\n",
                  "text/html": "<pre style=\"white-space:pre;overflow-x:auto;line-height:normal;font-family:Menlo,'DejaVu Sans Mono',consolas,'Courier New',monospace\"><span style=\"color: #008000; text-decoration-color: #008000\">⠴</span> <span style=\"color: #008000; text-decoration-color: #008000; font-weight: bold\">Creating Cluster. This might take a few minutes...</span>\n</pre>\n"
                },
                "metadata": {}
              }
            ]
          }
        },
        "b6089e0826934a77984fd1cb65a5852d": {
          "model_module": "@jupyter-widgets/base",
          "model_name": "LayoutModel",
          "model_module_version": "1.2.0",
          "state": {
            "_model_module": "@jupyter-widgets/base",
            "_model_module_version": "1.2.0",
            "_model_name": "LayoutModel",
            "_view_count": null,
            "_view_module": "@jupyter-widgets/base",
            "_view_module_version": "1.2.0",
            "_view_name": "LayoutView",
            "align_content": null,
            "align_items": null,
            "align_self": null,
            "border": null,
            "bottom": null,
            "display": null,
            "flex": null,
            "flex_flow": null,
            "grid_area": null,
            "grid_auto_columns": null,
            "grid_auto_flow": null,
            "grid_auto_rows": null,
            "grid_column": null,
            "grid_gap": null,
            "grid_row": null,
            "grid_template_areas": null,
            "grid_template_columns": null,
            "grid_template_rows": null,
            "height": null,
            "justify_content": null,
            "justify_items": null,
            "left": null,
            "margin": null,
            "max_height": null,
            "max_width": null,
            "min_height": null,
            "min_width": null,
            "object_fit": null,
            "object_position": null,
            "order": null,
            "overflow": null,
            "overflow_x": null,
            "overflow_y": null,
            "padding": null,
            "right": null,
            "top": null,
            "visibility": null,
            "width": null
          }
        }
      }
    }
  },
  "cells": [
    {
      "cell_type": "markdown",
      "metadata": {
        "id": "view-in-github",
        "colab_type": "text"
      },
      "source": [
        "<a href=\"https://colab.research.google.com/github/PranjalSahu/OAI_analysis_2/blob/pranjal/notebooks/DaskComputation1.ipynb\" target=\"_parent\"><img src=\"https://colab.research.google.com/assets/colab-badge.svg\" alt=\"Open In Colab\"/></a>"
      ]
    },
    {
      "cell_type": "code",
      "execution_count": null,
      "metadata": {
        "id": "8VnZ6zuBOtp3"
      },
      "outputs": [],
      "source": [
        "# Install packages\n",
        "\n",
        "!pip install itk==5.3rc4\n",
        "!pip install vtk\n",
        "!pip install itkwidgets\n",
        "!pip install icon-registration==0.3.4\n",
        "!pip install \"dask[complete]\"\n",
        "!pip install coiled dask distributed\n",
        "!pip install torch\n",
        "!pip install jupyter\n",
        "!pip install girder_client\n",
        "!pip install git+https://github.com/uncbiag/mermaid.git\n",
        "!pip install git+https://github.com/uncbiag/easyreg.git\n",
        "!pip install git+https://github.com/PranjalSahu/OAI_analysis_2.git#egg=oai_package"
      ]
    },
    {
      "cell_type": "code",
      "source": [
        "# All Imports\n",
        "\n",
        "import numpy as np\n",
        "\n",
        "import itkConfig\n",
        "itkConfig.LazyLoading = False\n",
        "\n",
        "import itk\n",
        "import vtk\n",
        "import itkwidgets\n",
        "import icon_registration\n",
        "import icon_registration.itk_wrapper as itk_wrapper\n",
        "import icon_registration.pretrained_models as pretrained_models\n",
        "from oai_analysis_2 import mesh_processing as mp\n",
        "\n",
        "import os\n",
        "os.environ[\"CUDA_VISIBLE_DEVICES\"]=\"\"\n",
        "\n",
        "from dask import delayed, compute, visualize\n",
        "from dask.distributed import Client, progress, LocalCluster"
      ],
      "metadata": {
        "id": "0w5y-3zBOxkY",
        "colab": {
          "base_uri": "https://localhost:8080/"
        },
        "outputId": "ce101325-317e-4af0-c71b-b287912a220a"
      },
      "execution_count": 1,
      "outputs": [
        {
          "output_type": "stream",
          "name": "stderr",
          "text": [
            "urllib3 (1.26.9) or chardet (3.0.4) doesn't match a supported version!\n"
          ]
        }
      ]
    },
    {
      "cell_type": "code",
      "source": [
        "# Create Dask Client. This will also spawn dask worker and scheduler\n",
        "\n",
        "import coiled\n",
        "\n",
        "use_coiled = True\n",
        "\n",
        "if use_coiled:\n",
        "  # # Create the environment\n",
        "  # coiled.create_software_environment(\n",
        "  #   name=\"oai1\",\n",
        "  #   pip=\"coiled_requirements.txt\",\n",
        "  # )\n",
        "\n",
        "  name = None\n",
        "  cluster = coiled.Cluster(n_workers=4,\n",
        "                         worker_cpu=2,\n",
        "                         worker_memory='6G',\n",
        "                         name=name,\n",
        "                         software='pranjal-sahu/oai1')\n",
        "  client = Client(cluster)\n",
        "  client\n",
        "else:\n",
        "  cluster = LocalCluster(processes=False)\n",
        "  client = Client(cluster)\n",
        "  client"
      ],
      "metadata": {
        "colab": {
          "base_uri": "https://localhost:8080/",
          "height": 260,
          "referenced_widgets": [
            "9169eb36f32d4ebe9e2d7403c4e69ced",
            "b6089e0826934a77984fd1cb65a5852d"
          ]
        },
        "id": "2wQIfgkLSMRy",
        "outputId": "0c9749ad-f13b-4f33-a0cd-234ac125aaef"
      },
      "execution_count": 4,
      "outputs": [
        {
          "output_type": "display_data",
          "data": {
            "text/plain": [
              "Output()"
            ],
            "application/vnd.jupyter.widget-view+json": {
              "version_major": 2,
              "version_minor": 0,
              "model_id": "9169eb36f32d4ebe9e2d7403c4e69ced"
            }
          },
          "metadata": {}
        },
        {
          "output_type": "stream",
          "name": "stdout",
          "text": [
            "Found software environment build\n",
            "Created fw rule: inbound [8786-8787] [0.0.0.0/0] []\n",
            "Created FW rules: coiled-dask-pranjal09-143970-firewall\n",
            "Created fw rule: cluster [0-65535] [None] [coiled-dask-pranjal09-143970-firewall -> coiled-dask-pranjal09-143970-firewall]\n",
            "Created FW rules: coiled-dask-pranjal09-143970-cluster-firewall\n",
            "Created fw rule: cluster [0-65535] [None] [coiled-dask-pranjal09-143970-cluster-firewall -> coiled-dask-pranjal09-143970-cluster-firewall]\n",
            "Created scheduler VM: coiled-dask-pranjal09-143970-scheduler (type: t3a.medium, ip: ['44.204.186.155'])\n"
          ]
        },
        {
          "output_type": "display_data",
          "data": {
            "text/plain": [
              ""
            ],
            "text/html": [
              "<pre style=\"white-space:pre;overflow-x:auto;line-height:normal;font-family:Menlo,'DejaVu Sans Mono',consolas,'Courier New',monospace\"></pre>\n"
            ]
          },
          "metadata": {}
        },
        {
          "output_type": "stream",
          "name": "stderr",
          "text": [
            "Mismatched versions found\n",
            "\n",
            "+---------+--------+-----------+---------+\n",
            "| Package | client | scheduler | workers |\n",
            "+---------+--------+-----------+---------+\n",
            "| tornado | 5.1.1  | 6.1       | 6.1     |\n",
            "+---------+--------+-----------+---------+\n"
          ]
        }
      ]
    },
    {
      "cell_type": "code",
      "source": [
        "client"
      ],
      "metadata": {
        "id": "bnlmOqfJsIsX",
        "outputId": "f109dbe4-6825-4a35-bcb0-3b25c4eda886",
        "colab": {
          "base_uri": "https://localhost:8080/",
          "height": 161
        }
      },
      "execution_count": 9,
      "outputs": [
        {
          "output_type": "execute_result",
          "data": {
            "text/plain": [
              "<Client: 'tls://10.4.14.33:8786' processes=4 threads=8, memory=19.31 GiB>"
            ],
            "text/html": [
              "<div>\n",
              "    <div style=\"width: 24px; height: 24px; background-color: #e1e1e1; border: 3px solid #9D9D9D; border-radius: 5px; position: absolute;\"> </div>\n",
              "    <div style=\"margin-left: 48px;\">\n",
              "        <h3 style=\"margin-bottom: 0px;\">Client</h3>\n",
              "        <p style=\"color: #9D9D9D; margin-bottom: 0px;\">Client-0cf35d14-c026-11ec-8242-0242ac1c0002</p>\n",
              "        <table style=\"width: 100%; text-align: left;\">\n",
              "\n",
              "        <tr>\n",
              "        \n",
              "            <td style=\"text-align: left;\"><strong>Connection method:</strong> Cluster object</td>\n",
              "            <td style=\"text-align: left;\"><strong>Cluster type:</strong> coiled.Cluster</td>\n",
              "        \n",
              "        </tr>\n",
              "\n",
              "        \n",
              "            <tr>\n",
              "                <td style=\"text-align: left;\">\n",
              "                    <strong>Dashboard: </strong> <a href=\"http://44.204.186.155:8787\" target=\"_blank\">http://44.204.186.155:8787</a>\n",
              "                </td>\n",
              "                <td style=\"text-align: left;\"></td>\n",
              "            </tr>\n",
              "        \n",
              "\n",
              "        </table>\n",
              "\n",
              "        \n",
              "            <details>\n",
              "            <summary style=\"margin-bottom: 20px;\"><h3 style=\"display: inline;\">Cluster Info</h3></summary>\n",
              "            <div class=\"jp-RenderedHTMLCommon jp-RenderedHTML jp-mod-trusted jp-OutputArea-output\">\n",
              "    <div style=\"width: 24px; height: 24px; background-color: #e1e1e1; border: 3px solid #9D9D9D; border-radius: 5px; position: absolute;\">\n",
              "    </div>\n",
              "    <div style=\"margin-left: 48px;\">\n",
              "        <h3 style=\"margin-bottom: 0px; margin-top: 0px;\">Cluster</h3>\n",
              "        <p style=\"color: #9D9D9D; margin-bottom: 0px;\">pranjal-sahu-a982f78c-8</p>\n",
              "        <table style=\"width: 100%; text-align: left;\">\n",
              "            <tr>\n",
              "                <td style=\"text-align: left;\">\n",
              "                    <strong>Dashboard:</strong> <a href=\"http://44.204.186.155:8787\" target=\"_blank\">http://44.204.186.155:8787</a>\n",
              "                </td>\n",
              "                <td style=\"text-align: left;\">\n",
              "                    <strong>Workers:</strong> 4\n",
              "                </td>\n",
              "            </tr>\n",
              "            <tr>\n",
              "                <td style=\"text-align: left;\">\n",
              "                    <strong>Total threads:</strong> 8\n",
              "                </td>\n",
              "                <td style=\"text-align: left;\">\n",
              "                    <strong>Total memory:</strong> 19.31 GiB\n",
              "                </td>\n",
              "            </tr>\n",
              "            \n",
              "        </table>\n",
              "\n",
              "        <details>\n",
              "            <summary style=\"margin-bottom: 20px;\">\n",
              "                <h3 style=\"display: inline;\">Scheduler Info</h3>\n",
              "            </summary>\n",
              "\n",
              "            <div style=\"\">\n",
              "    <div>\n",
              "        <div style=\"width: 24px; height: 24px; background-color: #FFF7E5; border: 3px solid #FF6132; border-radius: 5px; position: absolute;\"> </div>\n",
              "        <div style=\"margin-left: 48px;\">\n",
              "            <h3 style=\"margin-bottom: 0px;\">Scheduler</h3>\n",
              "            <p style=\"color: #9D9D9D; margin-bottom: 0px;\">Scheduler-79792387-4f01-4949-a27d-bfd687e1e9f7</p>\n",
              "            <table style=\"width: 100%; text-align: left;\">\n",
              "                <tr>\n",
              "                    <td style=\"text-align: left;\">\n",
              "                        <strong>Comm:</strong> tls://10.4.14.33:8786\n",
              "                    </td>\n",
              "                    <td style=\"text-align: left;\">\n",
              "                        <strong>Workers:</strong> 4\n",
              "                    </td>\n",
              "                </tr>\n",
              "                <tr>\n",
              "                    <td style=\"text-align: left;\">\n",
              "                        <strong>Dashboard:</strong> <a href=\"http://10.4.14.33:8787/status\" target=\"_blank\">http://10.4.14.33:8787/status</a>\n",
              "                    </td>\n",
              "                    <td style=\"text-align: left;\">\n",
              "                        <strong>Total threads:</strong> 8\n",
              "                    </td>\n",
              "                </tr>\n",
              "                <tr>\n",
              "                    <td style=\"text-align: left;\">\n",
              "                        <strong>Started:</strong> 1 minute ago\n",
              "                    </td>\n",
              "                    <td style=\"text-align: left;\">\n",
              "                        <strong>Total memory:</strong> 19.31 GiB\n",
              "                    </td>\n",
              "                </tr>\n",
              "            </table>\n",
              "        </div>\n",
              "    </div>\n",
              "\n",
              "    <details style=\"margin-left: 48px;\">\n",
              "        <summary style=\"margin-bottom: 20px;\">\n",
              "            <h3 style=\"display: inline;\">Workers</h3>\n",
              "        </summary>\n",
              "\n",
              "        \n",
              "        <div style=\"margin-bottom: 20px;\">\n",
              "            <div style=\"width: 24px; height: 24px; background-color: #DBF5FF; border: 3px solid #4CC9FF; border-radius: 5px; position: absolute;\"> </div>\n",
              "            <div style=\"margin-left: 48px;\">\n",
              "            <details>\n",
              "                <summary>\n",
              "                    <h4 style=\"margin-bottom: 0px; display: inline;\">Worker: coiled-dask-pranjal09-143970-worker-669a35e159</h4>\n",
              "                </summary>\n",
              "                <table style=\"width: 100%; text-align: left;\">\n",
              "                    <tr>\n",
              "                        <td style=\"text-align: left;\">\n",
              "                            <strong>Comm: </strong> tls://10.4.3.4:35369\n",
              "                        </td>\n",
              "                        <td style=\"text-align: left;\">\n",
              "                            <strong>Total threads: </strong> 2\n",
              "                        </td>\n",
              "                    </tr>\n",
              "                    <tr>\n",
              "                        <td style=\"text-align: left;\">\n",
              "                            <strong>Dashboard: </strong> <a href=\"http://10.4.3.4:35679/status\" target=\"_blank\">http://10.4.3.4:35679/status</a>\n",
              "                        </td>\n",
              "                        <td style=\"text-align: left;\">\n",
              "                            <strong>Memory: </strong> 4.83 GiB\n",
              "                        </td>\n",
              "                    </tr>\n",
              "                    <tr>\n",
              "                        <td style=\"text-align: left;\">\n",
              "                            <strong>Nanny: </strong> tls://10.4.3.4:40977\n",
              "                        </td>\n",
              "                        <td style=\"text-align: left;\"></td>\n",
              "                    </tr>\n",
              "                    <tr>\n",
              "                        <td colspan=\"2\" style=\"text-align: left;\">\n",
              "                            <strong>Local directory: </strong> /dask-worker-space/worker-784v4api\n",
              "                        </td>\n",
              "                    </tr>\n",
              "\n",
              "                    \n",
              "\n",
              "                    \n",
              "\n",
              "                </table>\n",
              "            </details>\n",
              "            </div>\n",
              "        </div>\n",
              "        \n",
              "        <div style=\"margin-bottom: 20px;\">\n",
              "            <div style=\"width: 24px; height: 24px; background-color: #DBF5FF; border: 3px solid #4CC9FF; border-radius: 5px; position: absolute;\"> </div>\n",
              "            <div style=\"margin-left: 48px;\">\n",
              "            <details>\n",
              "                <summary>\n",
              "                    <h4 style=\"margin-bottom: 0px; display: inline;\">Worker: coiled-dask-pranjal09-143970-worker-bfee1fcf09</h4>\n",
              "                </summary>\n",
              "                <table style=\"width: 100%; text-align: left;\">\n",
              "                    <tr>\n",
              "                        <td style=\"text-align: left;\">\n",
              "                            <strong>Comm: </strong> tls://10.4.1.168:40295\n",
              "                        </td>\n",
              "                        <td style=\"text-align: left;\">\n",
              "                            <strong>Total threads: </strong> 2\n",
              "                        </td>\n",
              "                    </tr>\n",
              "                    <tr>\n",
              "                        <td style=\"text-align: left;\">\n",
              "                            <strong>Dashboard: </strong> <a href=\"http://10.4.1.168:35793/status\" target=\"_blank\">http://10.4.1.168:35793/status</a>\n",
              "                        </td>\n",
              "                        <td style=\"text-align: left;\">\n",
              "                            <strong>Memory: </strong> 4.83 GiB\n",
              "                        </td>\n",
              "                    </tr>\n",
              "                    <tr>\n",
              "                        <td style=\"text-align: left;\">\n",
              "                            <strong>Nanny: </strong> tls://10.4.1.168:37785\n",
              "                        </td>\n",
              "                        <td style=\"text-align: left;\"></td>\n",
              "                    </tr>\n",
              "                    <tr>\n",
              "                        <td colspan=\"2\" style=\"text-align: left;\">\n",
              "                            <strong>Local directory: </strong> /dask-worker-space/worker-15q3ydoq\n",
              "                        </td>\n",
              "                    </tr>\n",
              "\n",
              "                    \n",
              "\n",
              "                    \n",
              "\n",
              "                </table>\n",
              "            </details>\n",
              "            </div>\n",
              "        </div>\n",
              "        \n",
              "        <div style=\"margin-bottom: 20px;\">\n",
              "            <div style=\"width: 24px; height: 24px; background-color: #DBF5FF; border: 3px solid #4CC9FF; border-radius: 5px; position: absolute;\"> </div>\n",
              "            <div style=\"margin-left: 48px;\">\n",
              "            <details>\n",
              "                <summary>\n",
              "                    <h4 style=\"margin-bottom: 0px; display: inline;\">Worker: coiled-dask-pranjal09-143970-worker-c3a77e348a</h4>\n",
              "                </summary>\n",
              "                <table style=\"width: 100%; text-align: left;\">\n",
              "                    <tr>\n",
              "                        <td style=\"text-align: left;\">\n",
              "                            <strong>Comm: </strong> tls://10.4.4.138:46211\n",
              "                        </td>\n",
              "                        <td style=\"text-align: left;\">\n",
              "                            <strong>Total threads: </strong> 2\n",
              "                        </td>\n",
              "                    </tr>\n",
              "                    <tr>\n",
              "                        <td style=\"text-align: left;\">\n",
              "                            <strong>Dashboard: </strong> <a href=\"http://10.4.4.138:42865/status\" target=\"_blank\">http://10.4.4.138:42865/status</a>\n",
              "                        </td>\n",
              "                        <td style=\"text-align: left;\">\n",
              "                            <strong>Memory: </strong> 4.83 GiB\n",
              "                        </td>\n",
              "                    </tr>\n",
              "                    <tr>\n",
              "                        <td style=\"text-align: left;\">\n",
              "                            <strong>Nanny: </strong> tls://10.4.4.138:46619\n",
              "                        </td>\n",
              "                        <td style=\"text-align: left;\"></td>\n",
              "                    </tr>\n",
              "                    <tr>\n",
              "                        <td colspan=\"2\" style=\"text-align: left;\">\n",
              "                            <strong>Local directory: </strong> /dask-worker-space/worker-zdpw2day\n",
              "                        </td>\n",
              "                    </tr>\n",
              "\n",
              "                    \n",
              "\n",
              "                    \n",
              "\n",
              "                </table>\n",
              "            </details>\n",
              "            </div>\n",
              "        </div>\n",
              "        \n",
              "        <div style=\"margin-bottom: 20px;\">\n",
              "            <div style=\"width: 24px; height: 24px; background-color: #DBF5FF; border: 3px solid #4CC9FF; border-radius: 5px; position: absolute;\"> </div>\n",
              "            <div style=\"margin-left: 48px;\">\n",
              "            <details>\n",
              "                <summary>\n",
              "                    <h4 style=\"margin-bottom: 0px; display: inline;\">Worker: coiled-dask-pranjal09-143970-worker-cc50adc75e</h4>\n",
              "                </summary>\n",
              "                <table style=\"width: 100%; text-align: left;\">\n",
              "                    <tr>\n",
              "                        <td style=\"text-align: left;\">\n",
              "                            <strong>Comm: </strong> tls://10.4.9.145:40921\n",
              "                        </td>\n",
              "                        <td style=\"text-align: left;\">\n",
              "                            <strong>Total threads: </strong> 2\n",
              "                        </td>\n",
              "                    </tr>\n",
              "                    <tr>\n",
              "                        <td style=\"text-align: left;\">\n",
              "                            <strong>Dashboard: </strong> <a href=\"http://10.4.9.145:45025/status\" target=\"_blank\">http://10.4.9.145:45025/status</a>\n",
              "                        </td>\n",
              "                        <td style=\"text-align: left;\">\n",
              "                            <strong>Memory: </strong> 4.83 GiB\n",
              "                        </td>\n",
              "                    </tr>\n",
              "                    <tr>\n",
              "                        <td style=\"text-align: left;\">\n",
              "                            <strong>Nanny: </strong> tls://10.4.9.145:41843\n",
              "                        </td>\n",
              "                        <td style=\"text-align: left;\"></td>\n",
              "                    </tr>\n",
              "                    <tr>\n",
              "                        <td colspan=\"2\" style=\"text-align: left;\">\n",
              "                            <strong>Local directory: </strong> /dask-worker-space/worker-l7ooy8te\n",
              "                        </td>\n",
              "                    </tr>\n",
              "\n",
              "                    \n",
              "\n",
              "                    \n",
              "\n",
              "                </table>\n",
              "            </details>\n",
              "            </div>\n",
              "        </div>\n",
              "        \n",
              "\n",
              "    </details>\n",
              "</div>\n",
              "\n",
              "        </details>\n",
              "    </div>\n",
              "</div>\n",
              "            </details>\n",
              "        \n",
              "\n",
              "    </div>\n",
              "</div>"
            ]
          },
          "metadata": {},
          "execution_count": 9
        }
      ]
    },
    {
      "cell_type": "code",
      "source": [
        "# Download the relevant files such as input image, atlas image, segmented TC and FC maps\n",
        "\n",
        "!girder-client --api-url https://data.kitware.com/api/v1 localsync 621a5d784acac99f426c143b OAIData"
      ],
      "metadata": {
        "colab": {
          "base_uri": "https://localhost:8080/"
        },
        "id": "7RYZtcl0Wo0n",
        "outputId": "35a7468b-b333-4ce7-8a00-262853a665fc"
      },
      "execution_count": 5,
      "outputs": [
        {
          "output_type": "stream",
          "name": "stdout",
          "text": [
            "/usr/local/lib/python3.7/dist-packages/requests/__init__.py:91: RequestsDependencyWarning: urllib3 (1.26.9) or chardet (3.0.4) doesn't match a supported version!\n",
            "  RequestsDependencyWarning)\n",
            "Local metadata does not exists. Falling back to download.\n",
            "\u001b[?25l[####################################]  74.74M/74.74M  100%  atlas_image.nii.gz          \u001b[?25h\n",
            "\u001b[?25l[####################################]  76.70M/76.70M  100%  FC_probmap.nii.gz          \u001b[?25h\n",
            "\u001b[?25l[####################################]  27.96M/27.96M  100%  image_preprocessed.nii.gz          \u001b[?25h\n",
            "\u001b[?25l[####################################]  76.66M/76.66M  100%  TC_probmap.nii.gz          \u001b[?25h\n"
          ]
        }
      ]
    },
    {
      "cell_type": "code",
      "source": [
        "# All Function Definitions with Dask Delayed Decorator to perform parallel Computing\n",
        "\n",
        "@delayed(nout=2)\n",
        "def read_images(image_preprocessed, atlas_image):\n",
        "    image_A = itk.imread(image_preprocessed, itk.D)\n",
        "    image_B = itk.imread(atlas_image, itk.D)\n",
        "    return image_A, image_B\n",
        "\n",
        "def register_images(image_A, image_B):\n",
        "    model = pretrained_models.OAI_knees_gradICON_model()\n",
        "    model.to('cpu')\n",
        "\n",
        "    # Register the images\n",
        "    phi_AB, phi_BA = itk_wrapper.register_pair(model, image_A, image_B)\n",
        "    return phi_AB\n",
        "\n",
        "@delayed\n",
        "def deform_probmap_FC(phi_AB, image_A, image_B):\n",
        "    fc_prob_file = './OAIData/FC_probmap.nii.gz'\n",
        "\n",
        "    FC_prob = itk.imread(fc_prob_file)\n",
        "\n",
        "    interpolator = itk.LinearInterpolateImageFunction.New(image_A)\n",
        "    warped_image_FC = itk.resample_image_filter(FC_prob, \n",
        "        transform=phi_AB, \n",
        "        interpolator=interpolator,\n",
        "        size=itk.size(image_B),\n",
        "        output_spacing=itk.spacing(image_B),\n",
        "        output_direction=image_B.GetDirection(),\n",
        "        output_origin=image_B.GetOrigin()\n",
        "    )\n",
        "\n",
        "    return warped_image_FC\n",
        "\n",
        "@delayed\n",
        "def deform_probmap_TC(phi_AB, image_A, image_B):\n",
        "    tc_prob_file = './OAIData/TC_probmap.nii.gz'\n",
        "\n",
        "    TC_prob = itk.imread(tc_prob_file)\n",
        "\n",
        "    interpolator = itk.LinearInterpolateImageFunction.New(image_B)\n",
        "    warped_image_TC = itk.resample_image_filter(TC_prob, \n",
        "        transform=phi_AB, \n",
        "        interpolator=interpolator,\n",
        "        size=itk.size(image_B),\n",
        "        output_spacing=itk.spacing(image_B),\n",
        "        output_direction=image_B.GetDirection(),\n",
        "        output_origin=image_B.GetOrigin()\n",
        "    )\n",
        "\n",
        "    return warped_image_TC\n",
        "\n",
        "# Convert from VTK Mesh to ITK Mesh to make it serializable\n",
        "def get_itk_mesh(vtk_mesh):\n",
        "    Dimension = 3\n",
        "    PixelType = itk.D\n",
        "    \n",
        "    MeshType = itk.Mesh[PixelType, Dimension]\n",
        "    itk_mesh = MeshType.New()\n",
        "    \n",
        "    # Get points array from VTK mesh\n",
        "    points = vtk_mesh.GetPoints().GetData()\n",
        "    points_numpy = np.array(points).flatten().astype('float32')\n",
        "        \n",
        "    polys = vtk_mesh.GetPolys().GetData()\n",
        "    polys_numpy = np.array(polys).flatten()\n",
        "\n",
        "    # Triangle Mesh\n",
        "    vtk_cells_count = vtk_mesh.GetNumberOfPolys()\n",
        "    polys_numpy = np.reshape(polys_numpy, [vtk_cells_count, Dimension+1])\n",
        "\n",
        "    # Extracting only the points by removing first column that denotes the VTK cell type\n",
        "    polys_numpy = polys_numpy[:, 1:]\n",
        "    polys_numpy = polys_numpy.flatten().astype(np.uint64)\n",
        "\n",
        "    # Get point data from VTK mesh to insert in ITK Mesh\n",
        "    point_data_numpy = np.array(vtk_mesh.GetPointData().GetScalars())#.astype('float64')\n",
        "    \n",
        "    # Get cell data from VTK mesh to insert in ITK Mesh\n",
        "    cell_data_numpy = np.array(vtk_mesh.GetCellData().GetScalars())#.astype('float64')\n",
        "    \n",
        "    itk_mesh.SetPoints(itk.vector_container_from_array(points_numpy))\n",
        "    itk_mesh.SetCellsArray(itk.vector_container_from_array(polys_numpy), itk.CommonEnums.CellGeometry_TRIANGLE_CELL)\n",
        "    itk_mesh.SetPointData(itk.vector_container_from_array(point_data_numpy))\n",
        "    itk_mesh.SetCellData(itk.vector_container_from_array(cell_data_numpy))    \n",
        "    return itk_mesh\n",
        "    \n",
        "@delayed\n",
        "def get_thickness_FC(warped_image_FC):\n",
        "    distance_inner_FC, distance_outer_FC = mp.get_thickness_mesh(warped_image_FC, mesh_type='FC')\n",
        "    distance_inner_FC = get_itk_mesh(distance_inner_FC)\n",
        "    return distance_inner_FC\n",
        "\n",
        "@delayed\n",
        "def get_thickness_TC(warped_image_TC):\n",
        "    distance_inner_TC, distance_outer_TC = mp.get_thickness_mesh(warped_image_TC, mesh_type='TC')\n",
        "    distance_inner_TC = get_itk_mesh(distance_inner_TC)\n",
        "    return distance_inner_TC\n",
        "\n",
        "@delayed(nout=2)\n",
        "def get_paths():\n",
        "    image_preprocessed = \"./OAIData/image_preprocessed.nii.gz\"\n",
        "    atlas_image = \"./OAIData/atlas_image.nii.gz\"\n",
        "\n",
        "    return image_preprocessed, atlas_image\n",
        "\n",
        "@delayed\n",
        "def only_register_images(image_A, image_B):\n",
        "    phi_AB  = register_images(image_A=image_A, image_B=image_B)\n",
        "    return phi_AB"
      ],
      "metadata": {
        "id": "2HbtL8r4TiKb"
      },
      "execution_count": 6,
      "outputs": []
    },
    {
      "cell_type": "code",
      "source": [
        "# Create Dask Computation Graph\n",
        "\n",
        "result = []\n",
        "\n",
        "image_preprocessed, atlas_image   = get_paths()\n",
        "\n",
        "image_A, image_B  = read_images(image_preprocessed, atlas_image)\n",
        "phi_AB            = only_register_images(image_A, image_B)\n",
        "\n",
        "warped_image_FC = deform_probmap_FC(phi_AB, image_A, image_B)\n",
        "warped_image_TC = deform_probmap_TC(phi_AB, image_A, image_B)\n",
        "\n",
        "thickness_FC = get_thickness_FC(warped_image_FC)\n",
        "thickness_TC = get_thickness_TC(warped_image_TC)\n",
        "\n",
        "result.append(thickness_FC)\n",
        "result.append(thickness_TC)"
      ],
      "metadata": {
        "id": "19uaqQxfXFGZ"
      },
      "execution_count": 7,
      "outputs": []
    },
    {
      "cell_type": "code",
      "source": [
        "# Visualize Dask Computation Graph\n",
        "\n",
        "visualize(*result)"
      ],
      "metadata": {
        "colab": {
          "base_uri": "https://localhost:8080/",
          "height": 1000
        },
        "id": "7B9giaonXGfA",
        "outputId": "1a26247b-c22c-4a0a-e69b-50e79b202d15"
      },
      "execution_count": 8,
      "outputs": [
        {
          "output_type": "execute_result",
          "data": {
            "text/plain": [
              "<IPython.core.display.Image object>"
            ],
            "image/png": "[encoded data removed]"
          },
          "metadata": {},
          "execution_count": 8
        }
      ]
    },
    {
      "cell_type": "code",
      "source": [
        "# Perform computation\n",
        "%%time\n",
        "\n",
        "l = compute(*result)"
      ],
      "metadata": {
        "id": "06pW5urcXIzF"
      },
      "execution_count": null,
      "outputs": []
    },
    {
      "cell_type": "markdown",
      "source": [
        "![DaskProgress](https://user-images.githubusercontent.com/1044135/163692457-40a41395-3d83-4928-9445-528cd025a7b9.png)\n"
      ],
      "metadata": {
        "id": "4MlwDE5nXo4C"
      }
    },
    {
      "cell_type": "code",
      "source": [
        "# Write the result meshes\n",
        "\n",
        "distance_inner_FC = l[0]\n",
        "distance_inner_TC = l[1]\n",
        "\n",
        "itk.meshwrite(distance_inner_FC, 'itk_distance_inner_FC.vtk')\n",
        "itk.meshwrite(distance_inner_TC, 'itk_distance_inner_TC.vtk')"
      ],
      "metadata": {
        "id": "EGoH_Yv4XwN-"
      },
      "execution_count": null,
      "outputs": []
    },
    {
      "cell_type": "code",
      "source": [
        "# Visualize the meshes with thickness as cell data\n",
        "\n",
        "# To enable running the itkwidgets window on colab\n",
        "from google.colab import output\n",
        "output.enable_custom_widget_manager()\n",
        "\n",
        "a1 = vtk.vtkPolyDataReader()\n",
        "a1.SetFileName('itk_distance_inner_FC.vtk')\n",
        "a1.Update()\n",
        "distance_inner_FC = a1.GetOutput()\n",
        "\n",
        "itkwidgets.view(geometries=[distance_inner_FC])"
      ],
      "metadata": {
        "colab": {
          "base_uri": "https://localhost:8080/",
          "height": 717,
          "referenced_widgets": [
            "1168bdc5c1634fc38627a535d5e3dc8f",
            "694e81244a3f42baa5e955811ba96ad3"
          ]
        },
        "id": "NyM5dBpSX2D6",
        "outputId": "e05d3396-5a4a-4c1f-e3e3-477e4f89480c"
      },
      "execution_count": null,
      "outputs": [
        {
          "output_type": "display_data",
          "data": {
            "text/plain": [
              "Viewer(geometries=[{'vtkClass': 'vtkPolyData', 'points': {'vtkClass': 'vtkPoints', 'name': '_points', 'numberO…"
            ],
            "application/vnd.jupyter.widget-view+json": {
              "version_major": 2,
              "version_minor": 0,
              "model_id": "1168bdc5c1634fc38627a535d5e3dc8f"
            }
          },
          "metadata": {
            "application/vnd.jupyter.widget-view+json": {
              "colab": {
                "custom_widget_manager": {
                  "url": "https://ssl.gstatic.com/colaboratory-static/widgets/colab-cdn-widget-manager/a8874ba6619b6106/manager.min.js"
                }
              }
            }
          }
        }
      ]
    }
  ]
}