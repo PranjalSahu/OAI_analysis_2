{
 "cells": [
  {
   "cell_type": "code",
   "execution_count": 1,
   "id": "105b8ef9",
   "metadata": {},
   "outputs": [],
   "source": [
    "import os\n",
    "import itk\n",
    "import itkwidgets\n",
    "import numpy as np\n",
    "import matplotlib.pyplot as plt\n",
    "import parent\n",
    "import test\n",
    "from test.test_all import TEST_DATA_DIR\n",
    "from test.test_all import download_test_data\n",
    "download_test_data()"
   ]
  },
  {
   "cell_type": "code",
   "execution_count": 6,
   "id": "607c1efc",
   "metadata": {},
   "outputs": [],
   "source": [
    "#test_volume = itk.imread(os.path.join(TEST_DATA_DIR, \"colab_case/image_preprocessed.nii.gz\"))\n",
    "#test_volume = itk.imread('/media/pranjal.sahu/moredata/OAI-MATT/9298954_20050422_10384306_left-20220531T150108Z-001/9298954_20050422_10384306_left.nii.gz')\n",
    "\n",
    "\n",
    "test_volume = itk.imread('/media/pranjal.sahu/moredata/OAI-MATT/20051007/10101107.nii.gz')\n",
    "# works fine\n",
    "#test_volume = itk.imread('/media/pranjal.sahu/moredata/OAI-MATT/20051007/10101103.nii.gz')\n",
    "#test_volume = itk.imread('/media/pranjal.sahu/moredata/OAI-MATT/20051007/10101109.nii.gz')\n",
    "test_volume = itk.imread('/media/pranjal.sahu/moredata/OAI-MATT/20051007/10101114.nii.gz')"
   ]
  },
  {
   "cell_type": "code",
   "execution_count": 7,
   "id": "dffca46b",
   "metadata": {},
   "outputs": [
    {
     "data": {
      "application/vnd.jupyter.widget-view+json": {
       "model_id": "352e623de2fe45f3a0d29eb8b09ff56d",
       "version_major": 2,
       "version_minor": 0
      },
      "text/plain": [
       "Viewer(geometries=[], gradient_opacity=0.22, point_sets=[], rendered_image=<itk.itkImagePython.itkImageF3; pro…"
      ]
     },
     "metadata": {},
     "output_type": "display_data"
    }
   ],
   "source": [
    "itkwidgets.view(test_volume)"
   ]
  },
  {
   "cell_type": "code",
   "execution_count": 4,
   "id": "1c45b4af",
   "metadata": {},
   "outputs": [
    {
     "name": "stdout",
     "output_type": "stream",
     "text": [
      "Loading parameter file = /home/pranjal.sahu/OAI/OAI_analysis_2/data/segmentation_train_config.pth.tar\n",
      "=> loading checkpoint '/home/pranjal.sahu/OAI/OAI_analysis_2/data/segmentation_model.pth.tar'\n",
      "=> loaded checkpoint '/home/pranjal.sahu/OAI/OAI_analysis_2/data/segmentation_model.pth.tar' (epoch 600)\n"
     ]
    }
   ],
   "source": [
    "import oai_analysis_2\n",
    "obj = oai_analysis_2.AnalysisObject()\n",
    "FC, TC = obj.segment(test_volume)"
   ]
  },
  {
   "cell_type": "code",
   "execution_count": 5,
   "id": "12131af9",
   "metadata": {},
   "outputs": [
    {
     "data": {
      "application/vnd.jupyter.widget-view+json": {
       "model_id": "87f11e033145420280ddfa818a930e30",
       "version_major": 2,
       "version_minor": 0
      },
      "text/plain": [
       "Viewer(geometries=[], gradient_opacity=0.22, point_sets=[], rendered_image=<itk.itkImagePython.itkImageD3; pro…"
      ]
     },
     "metadata": {},
     "output_type": "display_data"
    }
   ],
   "source": [
    "itkwidgets.view(FC)"
   ]
  },
  {
   "cell_type": "code",
   "execution_count": 29,
   "id": "8bd8325e",
   "metadata": {
    "code_folding": [
     9,
     25
    ]
   },
   "outputs": [
    {
     "name": "stdout",
     "output_type": "stream",
     "text": [
      "/media/pranjal.sahu/moredata/OAI-MATT/20051007/10101109_RIGHT.nii.gz (160, 384, 384) SAG_3D_DESS_RIGHT \n",
      "/media/pranjal.sahu/moredata/OAI-MATT/20051007/10101103_LEFT.nii.gz (160, 384, 384) SAG_3D_DESS_LEFT\n"
     ]
    }
   ],
   "source": [
    "# Read the dicom image series\n",
    "\n",
    "import itk\n",
    "import glob\n",
    "import os\n",
    "\n",
    "dirName = '/media/pranjal.sahu/moredata/OAI-MATT/20051007/10101101'\n",
    "#dirName = '/media/pranjal.sahu/moredata/OAI-MATT/9298954_20050422_10384306_left-20220531T150108Z-001/9298954_20050422_10384306_left'\n",
    "\n",
    "def image_normalize(image, window_min_perc, window_max_perc, output_min, output_max):\n",
    "    window_rescale = itk.IntensityWindowingImageFilter[type(image), type(image)].New()\n",
    "    image_array = itk.GetArrayFromImage(image)\n",
    "    \n",
    "    window_min = np.percentile(image_array, window_min_perc)\n",
    "    window_max = np.percentile(image_array, window_max_perc)\n",
    "    \n",
    "    window_rescale.SetInput(image)\n",
    "    window_rescale.SetOutputMaximum(output_max)\n",
    "    window_rescale.SetOutputMinimum(output_min)\n",
    "    window_rescale.SetWindowMaximum(window_max)\n",
    "    window_rescale.SetWindowMinimum(window_min)\n",
    "    window_rescale.Update()\n",
    "    \n",
    "    return window_rescale.GetOutput()\n",
    "\n",
    "def get_normalized_image(dirName):\n",
    "    PixelType = itk.ctype(\"signed short\")\n",
    "    Dimension = 3\n",
    "\n",
    "    ImageType = itk.Image[PixelType, Dimension]\n",
    "\n",
    "    namesGenerator = itk.GDCMSeriesFileNames.New()\n",
    "    namesGenerator.SetUseSeriesDetails(True)\n",
    "    namesGenerator.AddSeriesRestriction(\"0008|0021\")\n",
    "    namesGenerator.SetGlobalWarningDisplay(False)\n",
    "    namesGenerator.SetDirectory(dirName)\n",
    "\n",
    "    seriesUID = namesGenerator.GetSeriesUIDs()\n",
    "    \n",
    "    for uid in seriesUID:\n",
    "        seriesIdentifier = uid\n",
    "        fileNames = namesGenerator.GetFileNames(seriesIdentifier)\n",
    "\n",
    "        reader  = itk.ImageSeriesReader[ImageType].New()\n",
    "        dicomIO = itk.GDCMImageIO.New()\n",
    "        reader.SetImageIO(dicomIO)\n",
    "        reader.SetFileNames(fileNames)\n",
    "        reader.ForceOrthogonalDirectionOff()\n",
    "        reader.Update()\n",
    "        image = reader.GetOutput()\n",
    "        \n",
    "        metadata = dicomIO.GetMetaDataDictionary()\n",
    "        #print('key is ', metadata['0008|103e'])\n",
    "    \n",
    "        float_filter = itk.CastImageFilter[type(image), itk.Image.F3].New()\n",
    "        float_filter.SetInput(image)\n",
    "        float_filter.Update()\n",
    "        image = float_filter.GetOutput()\n",
    "        \n",
    "        img_normalized = image_normalize(image, 0.1, 99.9, 0, 1)\n",
    "        \n",
    "        return img_normalized, metadata['0008|103e']\n",
    "        \n",
    "\n",
    "#folder_name = '/media/pranjal.sahu/moredata/OAI-MATT/9298954_20050422_10384306_left-20220531T150108Z-001/'\n",
    "folder_name = '/media/pranjal.sahu/moredata/OAI-MATT/20051007/'\n",
    "\n",
    "all_names = glob.glob(folder_name+'*')\n",
    "for name in all_names:\n",
    "    if os.path.isdir(name):\n",
    "        normalized_img, metadata = get_normalized_image(name)\n",
    "        if 'DESS' in metadata:\n",
    "            new_name =  name + '_' + metadata.split('_')[-1].strip()+'.nii.gz'\n",
    "            print(new_name, normalized_img.shape, metadata)\n",
    "            itk.imwrite(normalized_img, new_name)"
   ]
  },
  {
   "cell_type": "code",
   "execution_count": 18,
   "id": "0837941c",
   "metadata": {},
   "outputs": [
    {
     "name": "stdout",
     "output_type": "stream",
     "text": [
      "('1.3.12.2.1107.5.2.13.20576.4.0.4671522628072110.3de3d10.6999999938438420051007',)\n",
      "key is  SAG_3D_DESS_LEFT\n"
     ]
    }
   ],
   "source": [
    "dirName = '/media/pranjal.sahu/moredata/OAI-MATT/20051007/10101103/'\n",
    "\n",
    "PixelType = itk.ctype(\"signed short\")\n",
    "Dimension = 3\n",
    "ImageType = itk.Image[PixelType, Dimension]\n",
    "    \n",
    "namesGenerator = itk.GDCMSeriesFileNames.New()\n",
    "namesGenerator.SetUseSeriesDetails(True)\n",
    "namesGenerator.AddSeriesRestriction(\"0008|0021\")\n",
    "namesGenerator.SetGlobalWarningDisplay(False)\n",
    "namesGenerator.SetDirectory(dirName)\n",
    "\n",
    "seriesUID = namesGenerator.GetSeriesUIDs()\n",
    "\n",
    "print(seriesUID)\n",
    "\n",
    "for uid in seriesUID:\n",
    "    seriesIdentifier = uid\n",
    "    fileNames = namesGenerator.GetFileNames(seriesIdentifier)\n",
    "\n",
    "    reader  = itk.ImageSeriesReader[ImageType].New()\n",
    "    dicomIO = itk.GDCMImageIO.New()\n",
    "    dicomIO.LoadPrivateTagsOn()\n",
    "    \n",
    "    reader.SetImageIO(dicomIO)\n",
    "    reader.SetFileNames(fileNames)\n",
    "    reader.ForceOrthogonalDirectionOff()\n",
    "    reader.Update()\n",
    "    image = reader.GetOutput()\n",
    "    \n",
    "    metadata = dicomIO.GetMetaDataDictionary()\n",
    "    \n",
    "    print('key is ', metadata['0008|103e'])"
   ]
  },
  {
   "cell_type": "code",
   "execution_count": 46,
   "id": "ae55b2ea",
   "metadata": {},
   "outputs": [
    {
     "data": {
      "text/plain": [
       "<matplotlib.image.AxesImage at 0x7f191cd7b0a0>"
      ]
     },
     "execution_count": 46,
     "metadata": {},
     "output_type": "execute_result"
    },
    {
     "data": {
      "image/png": "[encoded data removed]",
      "text/plain": [
       "<Figure size 432x288 with 1 Axes>"
      ]
     },
     "metadata": {
      "needs_background": "light"
     },
     "output_type": "display_data"
    }
   ],
   "source": [
    "plt.imshow(normalized_img[32], cmap='gray')"
   ]
  },
  {
   "cell_type": "code",
   "execution_count": 28,
   "id": "464f98b7",
   "metadata": {},
   "outputs": [],
   "source": [
    "itk.imwrite(img_normalized, 'img_normalized.nii.gz')"
   ]
  },
  {
   "cell_type": "code",
   "execution_count": 2,
   "id": "93bb4292",
   "metadata": {},
   "outputs": [
    {
     "ename": "TypeError",
     "evalue": "Expecting argument of type itkImageF3 or itkImageSourceIF3.\nAdditional information:\nWrong number or type of arguments for overloaded function 'itkImageToImageFilterIF3IF3_SetInput'.\n  Possible C/C++ prototypes are:\n    itkImageToImageFilterIF3IF3::SetInput(itkImageF3 const *)\n    itkImageToImageFilterIF3IF3::SetInput(unsigned int,itkImageF3 const *)\n",
     "output_type": "error",
     "traceback": [
      "\u001b[0;31m---------------------------------------------------------------------------\u001b[0m",
      "\u001b[0;31mTypeError\u001b[0m                                 Traceback (most recent call last)",
      "Input \u001b[0;32mIn [2]\u001b[0m, in \u001b[0;36m<cell line: 181>\u001b[0;34m()\u001b[0m\n\u001b[1;32m    175\u001b[0m number_of_bspline_param \u001b[38;5;241m=\u001b[39m \\\n\u001b[1;32m    176\u001b[0m     bspline_transform_fine\u001b[38;5;241m.\u001b[39mGetNumberOfParameters()\n\u001b[1;32m    178\u001b[0m interpolator_fine \u001b[38;5;241m=\u001b[39m itk\u001b[38;5;241m.\u001b[39mBSplineResampleImageFunction[\n\u001b[1;32m    179\u001b[0m     moving_image_type, coord_type]\u001b[38;5;241m.\u001b[39mNew()\n\u001b[0;32m--> 181\u001b[0m upsampler \u001b[38;5;241m=\u001b[39m \u001b[43mitk\u001b[49m\u001b[38;5;241;43m.\u001b[39;49m\u001b[43mResampleImageFilter\u001b[49m\u001b[43m[\u001b[49m\u001b[43mmoving_image_type\u001b[49m\u001b[43m,\u001b[49m\u001b[43m \u001b[49m\u001b[43mmoving_image_type\u001b[49m\u001b[43m]\u001b[49m\u001b[38;5;241;43m.\u001b[39;49m\u001b[43mNew\u001b[49m\u001b[43m(\u001b[49m\n\u001b[1;32m    182\u001b[0m \u001b[43m    \u001b[49m\u001b[43mInput\u001b[49m\u001b[38;5;241;43m=\u001b[39;49m\u001b[43mbspline_transform_coarse\u001b[49m\u001b[38;5;241;43m.\u001b[39;49m\u001b[43mGetCoefficientImages\u001b[49m\u001b[43m(\u001b[49m\u001b[43m)\u001b[49m\u001b[43m,\u001b[49m\n\u001b[1;32m    183\u001b[0m \u001b[43m    \u001b[49m\u001b[43mInterpolator\u001b[49m\u001b[38;5;241;43m=\u001b[39;49m\u001b[43minterpolator_fine\u001b[49m\u001b[43m,\u001b[49m\n\u001b[1;32m    184\u001b[0m \u001b[43m    \u001b[49m\u001b[43mTransform\u001b[49m\u001b[38;5;241;43m=\u001b[39;49m\u001b[43midentity_transform\u001b[49m\u001b[43m,\u001b[49m\n\u001b[1;32m    185\u001b[0m \u001b[43m    \u001b[49m\u001b[43mSize\u001b[49m\u001b[38;5;241;43m=\u001b[39;49m\u001b[43mbspline_transform_fine\u001b[49m\u001b[38;5;241;43m.\u001b[39;49m\u001b[43mGetCoefficientImages\u001b[49m\u001b[43m(\u001b[49m\u001b[43m)\u001b[49m\u001b[43m)\u001b[49m\n\u001b[1;32m    187\u001b[0m upsampler \u001b[38;5;241m=\u001b[39m itk\u001b[38;5;241m.\u001b[39mresample_image_filter[moving_image_type, moving_image_type](\n\u001b[1;32m    188\u001b[0m     Input\u001b[38;5;241m=\u001b[39mbspline_transform_coarse\u001b[38;5;241m.\u001b[39mGetCoefficientImages()[\u001b[38;5;241m0\u001b[39m],\n\u001b[1;32m    189\u001b[0m     interpolator\u001b[38;5;241m=\u001b[39minterpolator_fine,\n\u001b[1;32m    190\u001b[0m     transform\u001b[38;5;241m=\u001b[39midentity_transform,\n\u001b[1;32m    191\u001b[0m     size\u001b[38;5;241m=\u001b[39mbspline_transform_fine\u001b[38;5;241m.\u001b[39mGetCoefficientImages())\n",
      "File \u001b[0;32m~/anaconda3/envs/ethicon/lib/python3.8/site-packages/itk/itkResampleImageFilterPython.py:516\u001b[0m, in \u001b[0;36mitkResampleImageFilterIF3IF3.New\u001b[0;34m(*args, **kargs)\u001b[0m\n\u001b[1;32m    514\u001b[0m obj \u001b[38;5;241m=\u001b[39m itkResampleImageFilterIF3IF3\u001b[38;5;241m.\u001b[39m__New_orig__()\n\u001b[1;32m    515\u001b[0m \u001b[38;5;28;01mfrom\u001b[39;00m \u001b[38;5;21;01mitk\u001b[39;00m\u001b[38;5;21;01m.\u001b[39;00m\u001b[38;5;21;01msupport\u001b[39;00m \u001b[38;5;28;01mimport\u001b[39;00m template_class\n\u001b[0;32m--> 516\u001b[0m \u001b[43mtemplate_class\u001b[49m\u001b[38;5;241;43m.\u001b[39;49m\u001b[43mNew\u001b[49m\u001b[43m(\u001b[49m\u001b[43mobj\u001b[49m\u001b[43m,\u001b[49m\u001b[43m \u001b[49m\u001b[38;5;241;43m*\u001b[39;49m\u001b[43margs\u001b[49m\u001b[43m,\u001b[49m\u001b[43m \u001b[49m\u001b[38;5;241;43m*\u001b[39;49m\u001b[38;5;241;43m*\u001b[39;49m\u001b[43mkargs\u001b[49m\u001b[43m)\u001b[49m\n\u001b[1;32m    517\u001b[0m \u001b[38;5;28;01mreturn\u001b[39;00m obj\n",
      "File \u001b[0;32m~/anaconda3/envs/ethicon/lib/python3.8/site-packages/itk/support/template_class.py:800\u001b[0m, in \u001b[0;36mNew\u001b[0;34m(self, *args, **kargs)\u001b[0m\n\u001b[1;32m    797\u001b[0m \u001b[38;5;28;01mdef\u001b[39;00m \u001b[38;5;21mNew\u001b[39m(\u001b[38;5;28mself\u001b[39m, \u001b[38;5;241m*\u001b[39margs, \u001b[38;5;241m*\u001b[39m\u001b[38;5;241m*\u001b[39mkargs):\n\u001b[1;32m    798\u001b[0m     \u001b[38;5;28;01mimport\u001b[39;00m \u001b[38;5;21;01mitk\u001b[39;00m\n\u001b[0;32m--> 800\u001b[0m     \u001b[43mitk\u001b[49m\u001b[38;5;241;43m.\u001b[39;49m\u001b[43mset_inputs\u001b[49m\u001b[43m(\u001b[49m\u001b[38;5;28;43mself\u001b[39;49m\u001b[43m,\u001b[49m\u001b[43m \u001b[49m\u001b[43margs\u001b[49m\u001b[43m,\u001b[49m\u001b[43m \u001b[49m\u001b[43mkargs\u001b[49m\u001b[43m)\u001b[49m\n\u001b[1;32m    802\u001b[0m     \u001b[38;5;66;03m# now, try to add observer to display progress\u001b[39;00m\n\u001b[1;32m    803\u001b[0m     \u001b[38;5;28;01mif\u001b[39;00m \u001b[38;5;124m\"\u001b[39m\u001b[38;5;124mauto_progress\u001b[39m\u001b[38;5;124m\"\u001b[39m \u001b[38;5;129;01min\u001b[39;00m kargs\u001b[38;5;241m.\u001b[39mkeys():\n",
      "File \u001b[0;32m~/anaconda3/envs/ethicon/lib/python3.8/site-packages/itk/support/extras.py:1626\u001b[0m, in \u001b[0;36mset_inputs\u001b[0;34m(new_itk_object, inargs, inkargs)\u001b[0m\n\u001b[1;32m   1624\u001b[0m         attrib(itk\u001b[38;5;241m.\u001b[39moutput(value))\n\u001b[1;32m   1625\u001b[0m \u001b[38;5;28;01melse\u001b[39;00m:\n\u001b[0;32m-> 1626\u001b[0m     \u001b[43mattrib\u001b[49m\u001b[43m(\u001b[49m\u001b[43mitk\u001b[49m\u001b[38;5;241;43m.\u001b[39;49m\u001b[43moutput\u001b[49m\u001b[43m(\u001b[49m\u001b[43mvalue\u001b[49m\u001b[43m)\u001b[49m\u001b[43m)\u001b[49m\n",
      "\u001b[0;31mTypeError\u001b[0m: Expecting argument of type itkImageF3 or itkImageSourceIF3.\nAdditional information:\nWrong number or type of arguments for overloaded function 'itkImageToImageFilterIF3IF3_SetInput'.\n  Possible C/C++ prototypes are:\n    itkImageToImageFilterIF3IF3::SetInput(itkImageF3 const *)\n    itkImageToImageFilterIF3IF3::SetInput(unsigned int,itkImageF3 const *)\n"
     ]
    }
   ],
   "source": [
    "import sys\n",
    "import itk\n",
    "import numpy as np\n",
    "from distutils.version import StrictVersion as VS\n",
    "from scipy import ndimage as ndi\n",
    "from skimage.morphology import disk\n",
    "from scipy.ndimage import shift\n",
    "\n",
    "\n",
    "# if VS(itk.Version.GetITKVersion()) < VS(\"5.3.0\"):\n",
    "#     print(\"ITK 5.3.0 is required.\")\n",
    "#     sys.exit(1)\n",
    "\n",
    "# Draw a 3D disk\n",
    "side_size = 10\n",
    "obj2d = disk(side_size / 2, dtype=np.uint8)\n",
    "obj3d = np.asarray([disk(side_size / 2, dtype=np.uint8)\n",
    "                    for idx in range(5)])\n",
    "# Create 4 frames\n",
    "series_length = 4\n",
    "holder = np.asarray([obj3d for idx in range(series_length)])\n",
    "# Move the last frame\n",
    "holder[-1] = shift(holder[-1],\n",
    "                   (series_length - 1, 0, 0))\n",
    "\n",
    "fixed_image_arr = holder[0].transpose((2, 1, 0))\n",
    "moving_image_arr = holder[-1].transpose((2, 1, 0))\n",
    "fixed_image = itk.image_from_array(\n",
    "    fixed_image_arr.astype(np.float32))\n",
    "moving_image = itk.image_from_array(\n",
    "    moving_image_arr.astype(np.float32))\n",
    "\n",
    "spatial_dim = fixed_image.GetImageDimension()\n",
    "fixed_image_type = type(fixed_image)\n",
    "moving_image_type = type(moving_image)\n",
    "\n",
    "origin = [0] * spatial_dim\n",
    "length_per_px_ratios = [1] * spatial_dim\n",
    "[dict(img).update({\n",
    "    # Set origin ([0, 0, 0]); fixed_image.GetOrigin()\n",
    "    \"origin\": origin,\n",
    "    # Axial scale (length unit / pixel for each axis)\n",
    "    \"spacing\": length_per_px_ratios,\n",
    "    # Set orientation of axes; fixed_image.GetDirection()\n",
    "    \"direction\": np.eye(spatial_dim)})\n",
    " for img in (fixed_image, moving_image)]\n",
    "\n",
    "coord_type = itk.D\n",
    "versor_type = coord_type\n",
    "versor_transform_class = itk.VersorRigid3DTransform[versor_type]\n",
    "rigid_transform = versor_transform_class.New()\n",
    "trnfm_init_class = itk.CenteredTransformInitializer[\n",
    "    # versor_transform_class,\n",
    "    itk.VersorRigid3DTransform[itk.D],\n",
    "    fixed_image_type,\n",
    "    moving_image_type]\n",
    "optimiser_class = itk.RegularStepGradientDescentOptimizer\n",
    "optimiser = optimiser_class.New()\n",
    "metric = itk.MattesMutualInformationImageToImageMetric[\n",
    "    fixed_image_type, moving_image_type].New(\n",
    "        NumberOfHistogramBins=50)\n",
    "metric.ReinitializeSeed(76926294)\n",
    "metric.SetUseCachingOfBSplineWeights(True)\n",
    "metric.SetUseExplicitPDFDerivatives(True)\n",
    "interpolator = itk.LinearInterpolateImageFunction[\n",
    "    moving_image_type, coord_type].New()\n",
    "registrant = itk.ImageRegistrationMethod[\n",
    "    fixed_image_type, moving_image_type].New(\n",
    "        Metric=metric,\n",
    "        Optimizer=optimiser,\n",
    "        Interpolator=interpolator,\n",
    "        FixedImage=fixed_image,\n",
    "        MovingImage=moving_image)\n",
    "\n",
    "identity_transform = itk.IdentityTransform[\n",
    "    coord_type, spatial_dim].New()\n",
    "\n",
    "initialiser = trnfm_init_class.New(\n",
    "    Transform=rigid_transform,\n",
    "    FixedImage=fixed_image,\n",
    "    MovingImage=moving_image)\n",
    "initialiser.MomentsOn()\n",
    "initialiser.InitializeTransform()\n",
    "fixed_region = fixed_image.GetBufferedRegion()\n",
    "number_of_pixels = fixed_region.GetNumberOfPixels()\n",
    "registrant.SetFixedImageRegion(fixed_region)\n",
    "registrant.SetInitialTransformParameters(\n",
    "    rigid_transform.GetParameters())\n",
    "registrant.SetTransform(rigid_transform)\n",
    "\n",
    "translation_scale = 1 / 1000\n",
    "optimiser_scales = [1.0, 1.0, 1.0,\n",
    "                    translation_scale,\n",
    "                    translation_scale,\n",
    "                    translation_scale]\n",
    "optimiser.SetScales(optimiser_scales)\n",
    "optimiser.SetMaximumStepLength(0.2000)\n",
    "optimiser.SetMinimumStepLength(0.0001)\n",
    "optimiser.SetNumberOfIterations(200)\n",
    "\n",
    "metric.SetNumberOfSpatialSamples(int(10000))\n",
    "registrant.Update()\n",
    "rigid_transform.SetParameters(registrant.GetLastTransformParameters())\n",
    "\n",
    "affine_transform_class = itk.AffineTransform[\n",
    "    coord_type, spatial_dim]\n",
    "affine_transform = affine_transform_class.New(\n",
    "    Center=rigid_transform.GetCenter(),\n",
    "    Translation=rigid_transform.GetTranslation(),\n",
    "    Matrix=rigid_transform.GetMatrix())\n",
    "registrant.SetTransform(affine_transform)\n",
    "registrant.SetInitialTransformParameters(\n",
    "    affine_transform.GetParameters())\n",
    "optimiser.SetScales([1] * 9 + [translation_scale] * 3)\n",
    "optimiser.SetMaximumStepLength(0.2)\n",
    "optimiser.SetMinimumStepLength(1e-4)\n",
    "optimiser.SetNumberOfIterations(200)\n",
    "metric.SetNumberOfSpatialSamples(int(50000))\n",
    "\n",
    "registrant.Update()\n",
    "\n",
    "affine_transform.SetParameters(registrant.GetLastTransformParameters())\n",
    "\n",
    "spline_order = 3\n",
    "deformable_transform_class = itk.BSplineTransform[\n",
    "    coord_type, spatial_dim, spline_order]\n",
    "bspline_transform_coarse = deformable_transform_class.New()\n",
    "grid_nodes_1_dim_coarse = int(5)\n",
    "fixed_origin = fixed_image.GetOrigin()\n",
    "fixed_physical_dimensions = [fixed_image.GetSpacing()[idx] * (\n",
    "    fixed_image.GetLargestPossibleRegion().GetSize()[idx] - 1)\n",
    "                             for idx in range(spatial_dim)]\n",
    "bspline_transform_coarse.SetTransformDomainOrigin(fixed_origin)\n",
    "bspline_transform_coarse.SetTransformDomainPhysicalDimensions(\n",
    "    fixed_physical_dimensions)\n",
    "mesh_size = \\\n",
    "    bspline_transform_coarse.GetTransformDomainMeshSize()\n",
    "mesh_size.Fill(grid_nodes_1_dim_coarse - spline_order)\n",
    "bspline_transform_coarse.SetTransformDomainMeshSize(mesh_size)\n",
    "bspline_transform_coarse.SetTransformDomainDirection(\n",
    "    fixed_image.GetDirection())\n",
    "number_of_bspline_param = \\\n",
    "    bspline_transform_coarse.GetNumberOfParameters()\n",
    "optimiser.SetScales(\n",
    "    [1.0 for idx in range(number_of_bspline_param)])\n",
    "composite_transform_class = itk.CompositeTransform[\n",
    "    coord_type, spatial_dim]\n",
    "composite_transform = composite_transform_class.New()\n",
    "composite_transform.AddTransform(affine_transform)\n",
    "composite_transform.AddTransform(bspline_transform_coarse)\n",
    "composite_transform.SetOnlyMostRecentTransformToOptimizeOn()\n",
    "bspline_transform_coarse.GetParameters().Fill(1.0)\n",
    "registrant.SetInitialTransformParameters(\n",
    "    bspline_transform_coarse.GetParameters())\n",
    "registrant.SetTransform(composite_transform)\n",
    "\n",
    "optimiser.SetMaximumStepLength(10.0)\n",
    "optimiser.SetMinimumStepLength(0.01)\n",
    "optimiser.SetRelaxationFactor(0.7)\n",
    "optimiser.SetNumberOfIterations(50)\n",
    "\n",
    "metric.SetNumberOfSpatialSamples(number_of_bspline_param * 100)\n",
    "registrant.Update()\n",
    "final_parameters = registrant.GetLastTransformParameters()\n",
    "bspline_transform_coarse.SetParameters(final_parameters)\n",
    "\n",
    "\n",
    "bspline_transform_fine = deformable_transform_class.New(\n",
    "    TransformDomainOrigin=fixed_origin,\n",
    "    TransformDomainPhysicalDimensions=fixed_physical_dimensions,\n",
    "    TransformDomainMeshSize=mesh_size,\n",
    "    TransformDomainDirection=fixed_image.GetDirection())\n",
    "grid_nodes_1_dim_fine = int(20)\n",
    "mesh_size.Fill(grid_nodes_1_dim_fine - spline_order)\n",
    "number_of_bspline_param = \\\n",
    "    bspline_transform_fine.GetNumberOfParameters()\n",
    "\n",
    "interpolator_fine = itk.BSplineResampleImageFunction[\n",
    "    moving_image_type, coord_type].New()\n",
    "\n",
    "upsampler = itk.ResampleImageFilter[moving_image_type, moving_image_type].New(\n",
    "    Input=bspline_transform_coarse.GetCoefficientImages(),\n",
    "    Interpolator=interpolator_fine,\n",
    "    Transform=identity_transform,\n",
    "    Size=bspline_transform_fine.GetCoefficientImages())\n",
    "\n",
    "upsampler = itk.resample_image_filter[moving_image_type, moving_image_type](\n",
    "    Input=bspline_transform_coarse.GetCoefficientImages()[0],\n",
    "    interpolator=interpolator_fine,\n",
    "    transform=identity_transform,\n",
    "    size=bspline_transform_fine.GetCoefficientImages())"
   ]
  },
  {
   "cell_type": "code",
   "execution_count": 12,
   "id": "fbadafdc",
   "metadata": {},
   "outputs": [
    {
     "ename": "AttributeError",
     "evalue": "'itkBSplineTransformD33' object has no attribute 'iterator'",
     "output_type": "error",
     "traceback": [
      "\u001b[0;31m---------------------------------------------------------------------------\u001b[0m",
      "\u001b[0;31mAttributeError\u001b[0m                            Traceback (most recent call last)",
      "Input \u001b[0;32mIn [12]\u001b[0m, in \u001b[0;36m<cell line: 1>\u001b[0;34m()\u001b[0m\n\u001b[0;32m----> 1\u001b[0m \u001b[38;5;28mprint\u001b[39m(\u001b[43mbspline_transform_coarse\u001b[49m\u001b[38;5;241;43m.\u001b[39;49m\u001b[43miterator\u001b[49m)\n",
      "\u001b[0;31mAttributeError\u001b[0m: 'itkBSplineTransformD33' object has no attribute 'iterator'"
     ]
    }
   ],
   "source": [
    "print(bspline_transform_coarse.iterator)"
   ]
  },
  {
   "cell_type": "code",
   "execution_count": 13,
   "id": "422a0de0",
   "metadata": {},
   "outputs": [
    {
     "ename": "AttributeError",
     "evalue": "'SwigPyObject' object has no attribute 'iterator'",
     "output_type": "error",
     "traceback": [
      "\u001b[0;31m---------------------------------------------------------------------------\u001b[0m",
      "\u001b[0;31mAttributeError\u001b[0m                            Traceback (most recent call last)",
      "Input \u001b[0;32mIn [13]\u001b[0m, in \u001b[0;36m<cell line: 2>\u001b[0;34m()\u001b[0m\n\u001b[1;32m      1\u001b[0m t1 \u001b[38;5;241m=\u001b[39m bspline_transform_coarse\u001b[38;5;241m.\u001b[39mGetCoefficientImages()\n\u001b[0;32m----> 2\u001b[0m \u001b[38;5;28mprint\u001b[39m(\u001b[43mt1\u001b[49m\u001b[38;5;241;43m.\u001b[39;49m\u001b[43miterator\u001b[49m)\n",
      "\u001b[0;31mAttributeError\u001b[0m: 'SwigPyObject' object has no attribute 'iterator'"
     ]
    }
   ],
   "source": [
    "t1 = bspline_transform_coarse.GetCoefficientImages()\n",
    "print(t1.iterator)"
   ]
  },
  {
   "cell_type": "code",
   "execution_count": 14,
   "id": "8a324fbb",
   "metadata": {},
   "outputs": [
    {
     "name": "stdout",
     "output_type": "stream",
     "text": [
      "<Swig Object of type 'itk::FixedArray< itk::SmartPointer< itk::Image< double,3 > >,3 > *' at 0x7f0e70f9f5d0>\n"
     ]
    }
   ],
   "source": [
    "print(t1)"
   ]
  },
  {
   "cell_type": "code",
   "execution_count": 18,
   "id": "d85ffcb9",
   "metadata": {},
   "outputs": [
    {
     "ename": "AttributeError",
     "evalue": "'SwigPyObject' object has no attribute 'size'",
     "output_type": "error",
     "traceback": [
      "\u001b[0;31m---------------------------------------------------------------------------\u001b[0m",
      "\u001b[0;31mAttributeError\u001b[0m                            Traceback (most recent call last)",
      "Input \u001b[0;32mIn [18]\u001b[0m, in \u001b[0;36m<cell line: 1>\u001b[0;34m()\u001b[0m\n\u001b[0;32m----> 1\u001b[0m \u001b[43mt1\u001b[49m\u001b[38;5;241;43m.\u001b[39;49m\u001b[43msize\u001b[49m()\n",
      "\u001b[0;31mAttributeError\u001b[0m: 'SwigPyObject' object has no attribute 'size'"
     ]
    }
   ],
   "source": [
    "t1.size()"
   ]
  },
  {
   "cell_type": "code",
   "execution_count": null,
   "id": "931b46ae",
   "metadata": {},
   "outputs": [],
   "source": []
  }
 ],
 "metadata": {
  "kernelspec": {
   "display_name": "Python 3 (ipykernel)",
   "language": "python",
   "name": "python3"
  },
  "language_info": {
   "codemirror_mode": {
    "name": "ipython",
    "version": 3
   },
   "file_extension": ".py",
   "mimetype": "text/x-python",
   "name": "python",
   "nbconvert_exporter": "python",
   "pygments_lexer": "ipython3",
   "version": "3.8.12"
  }
 },
 "nbformat": 4,
 "nbformat_minor": 5
}
