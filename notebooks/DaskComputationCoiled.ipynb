{
  "nbformat": 4,
  "nbformat_minor": 0,
  "metadata": {
    "colab": {
      "name": "DaskComputationCoiled.ipynb",
      "provenance": [],
      "collapsed_sections": [],
      "include_colab_link": true
    },
    "kernelspec": {
      "name": "python3",
      "display_name": "Python 3"
    },
    "language_info": {
      "name": "python"
    },
    "widgets": {
      "application/vnd.jupyter.widget-state+json": {
        "6e9fecae6ede487c820f9699037cae0e": {
          "model_module": "@jupyter-widgets/output",
          "model_name": "OutputModel",
          "model_module_version": "1.0.0",
          "state": {
            "_dom_classes": [],
            "_model_module": "@jupyter-widgets/output",
            "_model_module_version": "1.0.0",
            "_model_name": "OutputModel",
            "_view_count": null,
            "_view_module": "@jupyter-widgets/output",
            "_view_module_version": "1.0.0",
            "_view_name": "OutputView",
            "layout": "IPY_MODEL_3ddd751097684094b45c8d9e4184c0fb",
            "msg_id": "",
            "outputs": [
              {
                "output_type": "display_data",
                "data": {
                  "text/plain": "\u001b[32m⠴\u001b[0m \u001b[1;32mCreating Cluster. This might take a few minutes...\u001b[0m\n",
                  "text/html": "<pre style=\"white-space:pre;overflow-x:auto;line-height:normal;font-family:Menlo,'DejaVu Sans Mono',consolas,'Courier New',monospace\"><span style=\"color: #008000; text-decoration-color: #008000\">⠴</span> <span style=\"color: #008000; text-decoration-color: #008000; font-weight: bold\">Creating Cluster. This might take a few minutes...</span>\n</pre>\n"
                },
                "metadata": {}
              }
            ]
          }
        },
        "3ddd751097684094b45c8d9e4184c0fb": {
          "model_module": "@jupyter-widgets/base",
          "model_name": "LayoutModel",
          "model_module_version": "1.2.0",
          "state": {
            "_model_module": "@jupyter-widgets/base",
            "_model_module_version": "1.2.0",
            "_model_name": "LayoutModel",
            "_view_count": null,
            "_view_module": "@jupyter-widgets/base",
            "_view_module_version": "1.2.0",
            "_view_name": "LayoutView",
            "align_content": null,
            "align_items": null,
            "align_self": null,
            "border": null,
            "bottom": null,
            "display": null,
            "flex": null,
            "flex_flow": null,
            "grid_area": null,
            "grid_auto_columns": null,
            "grid_auto_flow": null,
            "grid_auto_rows": null,
            "grid_column": null,
            "grid_gap": null,
            "grid_row": null,
            "grid_template_areas": null,
            "grid_template_columns": null,
            "grid_template_rows": null,
            "height": null,
            "justify_content": null,
            "justify_items": null,
            "left": null,
            "margin": null,
            "max_height": null,
            "max_width": null,
            "min_height": null,
            "min_width": null,
            "object_fit": null,
            "object_position": null,
            "order": null,
            "overflow": null,
            "overflow_x": null,
            "overflow_y": null,
            "padding": null,
            "right": null,
            "top": null,
            "visibility": null,
            "width": null
          }
        }
      }
    },
    "accelerator": "GPU"
  },
  "cells": [
    {
      "cell_type": "markdown",
      "metadata": {
        "id": "view-in-github",
        "colab_type": "text"
      },
      "source": [
        "<a href=\"https://colab.research.google.com/github/PranjalSahu/OAI_analysis_2/blob/pranjal/notebooks/DaskComputationCoiled.ipynb\" target=\"_parent\"><img src=\"https://colab.research.google.com/assets/colab-badge.svg\" alt=\"Open In Colab\"/></a>"
      ]
    },
    {
      "cell_type": "code",
      "execution_count": null,
      "metadata": {
        "id": "8VnZ6zuBOtp3"
      },
      "outputs": [],
      "source": [
        "# Install packages\n",
        "\n",
        "# Remember to Restart runtime after installation\n",
        "\n",
        "\n",
        "!pip install itk==5.3rc4\n",
        "!pip install vtk\n",
        "!pip install itkwidgets\n",
        "!pip install icon-registration==0.3.4\n",
        "#!pip install \"dask[complete]\"\n",
        "#!pip install coiled dask distributed\n",
        "!pip install tornado==6.1\n",
        "!pip install coiled\n",
        "!pip install torch\n",
        "!pip install jupyter\n",
        "!pip install girder_client\n",
        "!pip install git+https://github.com/uncbiag/mermaid.git\n",
        "!pip install git+https://github.com/uncbiag/easyreg.git\n",
        "!pip install git+https://github.com/PranjalSahu/OAI_analysis_2.git#egg=oai_package"
      ]
    },
    {
      "cell_type": "code",
      "source": [
        "# All Imports\n",
        "\n",
        "import numpy as np\n",
        "import itk\n",
        "import vtk\n",
        "import itkwidgets\n",
        "import icon_registration\n",
        "import icon_registration.itk_wrapper as itk_wrapper\n",
        "import icon_registration.pretrained_models as pretrained_models\n",
        "from oai_analysis_2 import mesh_processing as mp\n",
        "\n",
        "import os\n",
        "#os.environ[\"CUDA_VISIBLE_DEVICES\"]=\"\"\n",
        "\n",
        "import boto3\n",
        "import coiled\n",
        "import dask\n",
        "from dask import delayed, compute, visualize\n",
        "from dask.distributed import Client, progress, LocalCluster"
      ],
      "metadata": {
        "id": "0w5y-3zBOxkY"
      },
      "execution_count": 1,
      "outputs": []
    },
    {
      "cell_type": "code",
      "source": [
        "# Create the environment\n",
        "\n",
        "if False:\n",
        "  coiled.create_software_environment(\n",
        "    name=\"oai5\",\n",
        "    pip=\"coiled_requirements\",\n",
        "  )\n",
        "  # coiled.create_software_environment(\n",
        "  #   name=\"oai4\",\n",
        "  #   container=\"pranjalsahu/pranjal-sahu-oai4:cf409eeb-435c-4976-afd4-6a5118d6b683\",\n",
        "  # )"
      ],
      "metadata": {
        "id": "D-E-5gV6KX8E"
      },
      "execution_count": null,
      "outputs": []
    },
    {
      "cell_type": "code",
      "source": [
        "# Create Dask Client. This will also spawn dask worker and scheduler\n",
        "\n",
        "use_coiled = True\n",
        "\n",
        "if use_coiled:\n",
        "  name = None\n",
        "  cluster = coiled.Cluster(n_workers=2,\n",
        "                         worker_cpu=8,\n",
        "                         worker_memory='31G',\n",
        "                         name=name,\n",
        "                         software='pranjal-sahu/oai5')\n",
        "  client = dask.distributed.Client(cluster, \n",
        "                                   serializers=['pickle', 'dask'],\n",
        "                                   deserializers=['pickle', 'dask'])\n",
        "  client\n",
        "else:\n",
        "  cluster = LocalCluster(processes=False)\n",
        "  client = Client(cluster)\n",
        "  client"
      ],
      "metadata": {
        "id": "2wQIfgkLSMRy",
        "colab": {
          "base_uri": "https://localhost:8080/",
          "height": 138,
          "referenced_widgets": [
            "6e9fecae6ede487c820f9699037cae0e",
            "3ddd751097684094b45c8d9e4184c0fb"
          ]
        },
        "outputId": "98c560b2-26d4-4c91-8bfc-83d075774e35"
      },
      "execution_count": 2,
      "outputs": [
        {
          "output_type": "display_data",
          "data": {
            "text/plain": [
              "Output()"
            ],
            "application/vnd.jupyter.widget-view+json": {
              "version_major": 2,
              "version_minor": 0,
              "model_id": "6e9fecae6ede487c820f9699037cae0e"
            }
          },
          "metadata": {}
        },
        {
          "output_type": "stream",
          "name": "stdout",
          "text": [
            "Found software environment build\n",
            "Created fw rule: inbound [8786-8787] [0.0.0.0/0] []\n",
            "Created FW rules: coiled-dask-pranjal09-151799-firewall\n",
            "Created fw rule: cluster [0-65535] [None] [coiled-dask-pranjal09-151799-firewall -> coiled-dask-pranjal09-151799-firewall]\n",
            "Created FW rules: coiled-dask-pranjal09-151799-cluster-firewall\n",
            "Created fw rule: cluster [0-65535] [None] [coiled-dask-pranjal09-151799-cluster-firewall -> coiled-dask-pranjal09-151799-cluster-firewall]\n",
            "Created scheduler VM: coiled-dask-pranjal09-151799-scheduler (type: t3.medium, ip: ['3.87.178.246'])\n"
          ]
        },
        {
          "output_type": "display_data",
          "data": {
            "text/plain": [
              ""
            ],
            "text/html": [
              "<pre style=\"white-space:pre;overflow-x:auto;line-height:normal;font-family:Menlo,'DejaVu Sans Mono',consolas,'Courier New',monospace\"></pre>\n"
            ]
          },
          "metadata": {}
        }
      ]
    },
    {
      "cell_type": "code",
      "source": [
        "client"
      ],
      "metadata": {
        "colab": {
          "base_uri": "https://localhost:8080/",
          "height": 161
        },
        "id": "rkSTOxWpdO-A",
        "outputId": "4695c924-79b5-4fa2-f76f-56dbd5627e92"
      },
      "execution_count": 4,
      "outputs": [
        {
          "output_type": "execute_result",
          "data": {
            "text/plain": [
              "<Client: 'tls://10.0.2.12:8786' processes=1 threads=8, memory=30.57 GiB>"
            ],
            "text/html": [
              "<div>\n",
              "    <div style=\"width: 24px; height: 24px; background-color: #e1e1e1; border: 3px solid #9D9D9D; border-radius: 5px; position: absolute;\"> </div>\n",
              "    <div style=\"margin-left: 48px;\">\n",
              "        <h3 style=\"margin-bottom: 0px;\">Client</h3>\n",
              "        <p style=\"color: #9D9D9D; margin-bottom: 0px;\">Client-94ab39f6-cb1e-11ec-8743-0242ac1c0002</p>\n",
              "        <table style=\"width: 100%; text-align: left;\">\n",
              "\n",
              "        <tr>\n",
              "        \n",
              "            <td style=\"text-align: left;\"><strong>Connection method:</strong> Cluster object</td>\n",
              "            <td style=\"text-align: left;\"><strong>Cluster type:</strong> coiled.Cluster</td>\n",
              "        \n",
              "        </tr>\n",
              "\n",
              "        \n",
              "            <tr>\n",
              "                <td style=\"text-align: left;\">\n",
              "                    <strong>Dashboard: </strong> <a href=\"http://3.87.178.246:8787\" target=\"_blank\">http://3.87.178.246:8787</a>\n",
              "                </td>\n",
              "                <td style=\"text-align: left;\"></td>\n",
              "            </tr>\n",
              "        \n",
              "\n",
              "        </table>\n",
              "\n",
              "        \n",
              "            <details>\n",
              "            <summary style=\"margin-bottom: 20px;\"><h3 style=\"display: inline;\">Cluster Info</h3></summary>\n",
              "            <div class=\"jp-RenderedHTMLCommon jp-RenderedHTML jp-mod-trusted jp-OutputArea-output\">\n",
              "    <div style=\"width: 24px; height: 24px; background-color: #e1e1e1; border: 3px solid #9D9D9D; border-radius: 5px; position: absolute;\">\n",
              "    </div>\n",
              "    <div style=\"margin-left: 48px;\">\n",
              "        <h3 style=\"margin-bottom: 0px; margin-top: 0px;\">Cluster</h3>\n",
              "        <p style=\"color: #9D9D9D; margin-bottom: 0px;\">pranjal-sahu-c5bc2999-4</p>\n",
              "        <table style=\"width: 100%; text-align: left;\">\n",
              "            <tr>\n",
              "                <td style=\"text-align: left;\">\n",
              "                    <strong>Dashboard:</strong> <a href=\"http://3.87.178.246:8787\" target=\"_blank\">http://3.87.178.246:8787</a>\n",
              "                </td>\n",
              "                <td style=\"text-align: left;\">\n",
              "                    <strong>Workers:</strong> 1\n",
              "                </td>\n",
              "            </tr>\n",
              "            <tr>\n",
              "                <td style=\"text-align: left;\">\n",
              "                    <strong>Total threads:</strong> 8\n",
              "                </td>\n",
              "                <td style=\"text-align: left;\">\n",
              "                    <strong>Total memory:</strong> 30.57 GiB\n",
              "                </td>\n",
              "            </tr>\n",
              "            \n",
              "        </table>\n",
              "\n",
              "        <details>\n",
              "            <summary style=\"margin-bottom: 20px;\">\n",
              "                <h3 style=\"display: inline;\">Scheduler Info</h3>\n",
              "            </summary>\n",
              "\n",
              "            <div style=\"\">\n",
              "    <div>\n",
              "        <div style=\"width: 24px; height: 24px; background-color: #FFF7E5; border: 3px solid #FF6132; border-radius: 5px; position: absolute;\"> </div>\n",
              "        <div style=\"margin-left: 48px;\">\n",
              "            <h3 style=\"margin-bottom: 0px;\">Scheduler</h3>\n",
              "            <p style=\"color: #9D9D9D; margin-bottom: 0px;\">Scheduler-74c69496-7e15-403c-92fd-ff78d4c587fc</p>\n",
              "            <table style=\"width: 100%; text-align: left;\">\n",
              "                <tr>\n",
              "                    <td style=\"text-align: left;\">\n",
              "                        <strong>Comm:</strong> tls://10.0.2.12:8786\n",
              "                    </td>\n",
              "                    <td style=\"text-align: left;\">\n",
              "                        <strong>Workers:</strong> 1\n",
              "                    </td>\n",
              "                </tr>\n",
              "                <tr>\n",
              "                    <td style=\"text-align: left;\">\n",
              "                        <strong>Dashboard:</strong> <a href=\"http://10.0.2.12:8787/status\" target=\"_blank\">http://10.0.2.12:8787/status</a>\n",
              "                    </td>\n",
              "                    <td style=\"text-align: left;\">\n",
              "                        <strong>Total threads:</strong> 8\n",
              "                    </td>\n",
              "                </tr>\n",
              "                <tr>\n",
              "                    <td style=\"text-align: left;\">\n",
              "                        <strong>Started:</strong> Just now\n",
              "                    </td>\n",
              "                    <td style=\"text-align: left;\">\n",
              "                        <strong>Total memory:</strong> 30.57 GiB\n",
              "                    </td>\n",
              "                </tr>\n",
              "            </table>\n",
              "        </div>\n",
              "    </div>\n",
              "\n",
              "    <details style=\"margin-left: 48px;\">\n",
              "        <summary style=\"margin-bottom: 20px;\">\n",
              "            <h3 style=\"display: inline;\">Workers</h3>\n",
              "        </summary>\n",
              "\n",
              "        \n",
              "        <div style=\"margin-bottom: 20px;\">\n",
              "            <div style=\"width: 24px; height: 24px; background-color: #DBF5FF; border: 3px solid #4CC9FF; border-radius: 5px; position: absolute;\"> </div>\n",
              "            <div style=\"margin-left: 48px;\">\n",
              "            <details>\n",
              "                <summary>\n",
              "                    <h4 style=\"margin-bottom: 0px; display: inline;\">Worker: coiled-dask-pranjal09-151799-worker-48b9df52be</h4>\n",
              "                </summary>\n",
              "                <table style=\"width: 100%; text-align: left;\">\n",
              "                    <tr>\n",
              "                        <td style=\"text-align: left;\">\n",
              "                            <strong>Comm: </strong> tls://10.0.6.38:36503\n",
              "                        </td>\n",
              "                        <td style=\"text-align: left;\">\n",
              "                            <strong>Total threads: </strong> 8\n",
              "                        </td>\n",
              "                    </tr>\n",
              "                    <tr>\n",
              "                        <td style=\"text-align: left;\">\n",
              "                            <strong>Dashboard: </strong> <a href=\"http://10.0.6.38:37249/status\" target=\"_blank\">http://10.0.6.38:37249/status</a>\n",
              "                        </td>\n",
              "                        <td style=\"text-align: left;\">\n",
              "                            <strong>Memory: </strong> 30.57 GiB\n",
              "                        </td>\n",
              "                    </tr>\n",
              "                    <tr>\n",
              "                        <td style=\"text-align: left;\">\n",
              "                            <strong>Nanny: </strong> tls://10.0.6.38:44019\n",
              "                        </td>\n",
              "                        <td style=\"text-align: left;\"></td>\n",
              "                    </tr>\n",
              "                    <tr>\n",
              "                        <td colspan=\"2\" style=\"text-align: left;\">\n",
              "                            <strong>Local directory: </strong> /dask-worker-space/worker-ixh6kzm2\n",
              "                        </td>\n",
              "                    </tr>\n",
              "\n",
              "                    \n",
              "\n",
              "                    \n",
              "\n",
              "                </table>\n",
              "            </details>\n",
              "            </div>\n",
              "        </div>\n",
              "        \n",
              "\n",
              "    </details>\n",
              "</div>\n",
              "\n",
              "        </details>\n",
              "    </div>\n",
              "</div>\n",
              "            </details>\n",
              "        \n",
              "\n",
              "    </div>\n",
              "</div>"
            ]
          },
          "metadata": {},
          "execution_count": 4
        }
      ]
    },
    {
      "cell_type": "code",
      "source": [
        "# For fetching files from S3\n",
        "\n",
        "import boto3\n",
        "s3 = boto3.resource(\"s3\")\n",
        "\n",
        "def show_contents_s3_bucket(bucket_name):\n",
        "  import boto3\n",
        "\n",
        "  s3     = boto3.resource(\"s3\")\n",
        "  bucket = s3.Bucket(bucket_name)\n",
        "\n",
        "  all_objects = []\n",
        "  for obj in bucket.objects.all():\n",
        "    all_objects.append(str(obj.key))\n",
        "  \n",
        "  return \",\".join(all_objects)\n",
        "\n",
        "#print(f'filename : {obj.key} ')\n",
        "#s3.Bucket(bucket_name).download_file(obj.key, './OAIData1/'+obj.key)\n",
        "    \n",
        "bucket_name = 'oaisample1'\n",
        "show_contents_s3_bucket(bucket_name)"
      ],
      "metadata": {
        "id": "FHKIV_YcMfTa"
      },
      "execution_count": null,
      "outputs": []
    },
    {
      "cell_type": "code",
      "source": [
        "# Read File from S3 from Dask workers inside the EC2 instances\n",
        "# Now finish the pipeline\n",
        "\n",
        "@delayed\n",
        "def get_environ():\n",
        "  import os\n",
        "  variables = ''\n",
        "\n",
        "  for item, value in os.environ.items():\n",
        "    variables = variables + str(item) +','\n",
        "    #print('{}: {}'.format(item, value))\n",
        "  return variables\n",
        "\n",
        "@delayed\n",
        "def show_contents_s3_bucket_a(bucket_name, filename):\n",
        "  import boto3\n",
        "  import itk\n",
        "\n",
        "  s3     = boto3.resource(\"s3\")\n",
        "  bucket = s3.Bucket(bucket_name)\n",
        "\n",
        "  #all_objects = []\n",
        "  #for obj in bucket.objects.all():\n",
        "  #  all_objects.append(str(obj.key))\n",
        "  #all_files = \",\".join(all_objects)\n",
        "\n",
        "  s3.Bucket(bucket_name).download_file(filename, filename)\n",
        "  itk_image = itk.imread(filename)\n",
        "  return itk_image.shape\n",
        "\n",
        "bucket_name = 'oaisample1'\n",
        "filename    = 'atlas_image.nii.gz'\n",
        "#output_str  = show_contents_s3_bucket_a(bucket_name, filename)\n",
        "output_str = get_environ()\n",
        "\n",
        "l = compute(output_str)\n",
        "print(l)"
      ],
      "metadata": {
        "id": "1pEGBfo-RvbE",
        "colab": {
          "base_uri": "https://localhost:8080/"
        },
        "outputId": "8b27ceff-b5ba-484b-b07d-6463ffb1f457"
      },
      "execution_count": 6,
      "outputs": [
        {
          "output_type": "stream",
          "name": "stdout",
          "text": [
            "('PATH,HOSTNAME,DASK_SCHEDULER_ADDRESS,DASK_SNOWFLAKE__PARTNER,DASK_DISTRIBUTED__COMM__TIMEOUTS__TCP,DASK_DISTRIBUTED__COMM__TIMEOUTS__CONNECT,DASK_COILED__TOKEN,COILED_SERVER,LANG,LC_ALL,HOME,DASK_PARENT,MALLOC_TRIM_THRESHOLD_,OMP_NUM_THREADS,MKL_NUM_THREADS,',)\n"
          ]
        }
      ]
    },
    {
      "cell_type": "code",
      "source": [
        "#('CUDNN_VERSION,__EGL_VENDOR_LIBRARY_DIRS,LD_LIBRARY_PATH,CLOUDSDK_PYTHON,LANG,HOSTNAME,OLDPWD,CLOUDSDK_CONFIG,NVIDIA_VISIBLE_DEVICES,DATALAB_SETTINGS_OVERRIDES,ENV,NCCL_VERSION,TF_FORCE_GPU_ALLOW_GROWTH,NO_GCE_CHECK,PWD,HOME,LAST_FORCED_REBUILD,DEBIAN_FRONTEND,LIBRARY_PATH,GCE_METADATA_TIMEOUT,GLIBCPP_FORCE_NEW,TBE_CREDS_ADDR,SHELL,GCS_READ_CACHE_BLOCK_SIZE_MB,PYTHONWARNINGS,CUDA_VERSION,NVIDIA_DRIVER_CAPABILITIES,SHLVL,PYTHONPATH,NVIDIA_REQUIRE_CUDA,TBE_EPHEM_CREDS_ADDR,COLAB_GPU,GLIBCXX_FORCE_NEW,PATH,LD_PRELOAD,JPY_PARENT_PID,TERM,CLICOLOR,PAGER,GIT_PAGER,MPLBACKEND,ENABLE_DIRECTORYPREFETCHER,USE_AUTH_EPHEM,PYDEVD_USE_FRAME_EVAL,KMP_DUPLICATE_LIB_OK,KMP_INIT_AT_FORK,',)\n"
      ],
      "metadata": {
        "colab": {
          "base_uri": "https://localhost:8080/",
          "height": 33
        },
        "id": "aH1ia5fJfqX7",
        "outputId": "2aafcd8d-0792-4b3d-a5bc-301edb99cb78"
      },
      "execution_count": 65,
      "outputs": [
        {
          "output_type": "display_data",
          "data": {
            "text/plain": [
              "\u001b[32mCluster deleted successfully.\u001b[0m\n"
            ],
            "text/html": [
              "<pre style=\"white-space:pre;overflow-x:auto;line-height:normal;font-family:Menlo,'DejaVu Sans Mono',consolas,'Courier New',monospace\"><span style=\"color: #008000; text-decoration-color: #008000\">Cluster deleted successfully.</span>\n",
              "</pre>\n"
            ]
          },
          "metadata": {}
        }
      ]
    },
    {
      "cell_type": "code",
      "source": [
        "# Download the relevant files such as input image, atlas image, segmented TC and FC maps\n",
        "\n",
        "!girder-client --api-url https://data.kitware.com/api/v1 localsync 621a5d784acac99f426c143b OAIData"
      ],
      "metadata": {
        "id": "7RYZtcl0Wo0n",
        "colab": {
          "base_uri": "https://localhost:8080/"
        },
        "outputId": "74b4f35c-96fb-47b7-d417-006b5bb187f6"
      },
      "execution_count": 6,
      "outputs": [
        {
          "output_type": "stream",
          "name": "stdout",
          "text": [
            "Local metadata does not exists. Falling back to download.\n",
            "\u001b[?25l[####################################]  74.74M/74.74M  100%  atlas_image.nii.gz          \u001b[?25h\n",
            "\u001b[?25l[####################################]  76.70M/76.70M  100%  FC_probmap.nii.gz          \u001b[?25h\n",
            "\u001b[?25l[####################################]  27.96M/27.96M  100%  image_preprocessed.nii.gz          \u001b[?25h\n",
            "\u001b[?25l[####################################]  76.66M/76.66M  100%  TC_probmap.nii.gz          \u001b[?25h\n"
          ]
        }
      ]
    },
    {
      "cell_type": "code",
      "source": [
        "# All Function Definitions with Dask Delayed Decorator to perform parallel Computing\n",
        "\n",
        "#@delayed(nout=2)\n",
        "def read_images(image_preprocessed, atlas_image):\n",
        "    image_A = itk.imread(image_preprocessed, itk.D)\n",
        "    image_B = itk.imread(atlas_image, itk.D)\n",
        "\n",
        "    fc_prob_file = './OAIData/FC_probmap.nii.gz'\n",
        "    FC_prob = itk.imread(fc_prob_file)\n",
        "\n",
        "    tc_prob_file = './OAIData/TC_probmap.nii.gz'\n",
        "    TC_prob = itk.imread(tc_prob_file)\n",
        "\n",
        "    return image_A, image_B, FC_prob, TC_prob\n",
        "\n",
        "@delayed(nout=3)\n",
        "def register_images_delayed():\n",
        "    import boto3\n",
        "    import itk\n",
        "    import icon_registration\n",
        "    import icon_registration.itk_wrapper as itk_wrapper\n",
        "    import icon_registration.pretrained_models as pretrained_models\n",
        "\n",
        "    if 1:\n",
        "        s3          = boto3.resource(\"s3\")\n",
        "        bucket_name = 'oaisample1'\n",
        "        bucket      = s3.Bucket(bucket_name)\n",
        "        image_A = 'image_preprocessed.nii.gz'\n",
        "        image_B = 'atlas_image.nii.gz'\n",
        "        s3.Bucket(bucket_name).download_file(image_A, image_A)\n",
        "        s3.Bucket(bucket_name).download_file(image_B, image_B)\n",
        "    else:\n",
        "        image_A = './OAIData/image_preprocessed.nii.gz'\n",
        "        image_B = './OAIData/atlas_image.nii.gz'\n",
        "\n",
        "    image_A = itk.imread(image_A, itk.D)\n",
        "    image_B = itk.imread(image_B, itk.D)\n",
        "\n",
        "    model = pretrained_models.OAI_knees_gradICON_model()\n",
        "    model.to('cpu')\n",
        "\n",
        "    # Register the images\n",
        "    phi_AB, phi_BA = itk_wrapper.register_pair(model, image_A, image_B)\n",
        "    return itk.dict_from_transform(phi_AB), itk.dict_from_image(image_A), itk.dict_from_image(image_B)\n",
        "\n",
        "@delayed(nout=1)\n",
        "def deform_probmap_FC_delayed(phi_AB, image_A, image_B):\n",
        "    import itk\n",
        "    import boto3\n",
        "\n",
        "    if 1:\n",
        "        s3          = boto3.resource(\"s3\")\n",
        "        bucket_name = 'oaisample1'\n",
        "        bucket      = s3.Bucket(bucket_name)\n",
        "        fc_prob_file = 'FC_probmap.nii.gz'\n",
        "        s3.Bucket(bucket_name).download_file(fc_prob_file, fc_prob_file)\n",
        "\n",
        "    phi_AB1  = itk.transform_from_dict(phi_AB)\n",
        "    \n",
        "    def set_parameters(phi_AB, phi_AB1):\n",
        "        for i in range(len(phi_AB)-1):\n",
        "            transform1 = phi_AB1.GetNthTransform(i)\n",
        "\n",
        "            fp = phi_AB[i+1]['fixedParameters']\n",
        "            o1 = transform1.GetFixedParameters()\n",
        "            o1.SetSize(fp.shape[0])\n",
        "            for j, v in enumerate(fp):\n",
        "                o1.SetElement(j, v)\n",
        "            transform1.SetFixedParameters(o1)\n",
        "\n",
        "            p = phi_AB[i+1]['parameters']\n",
        "            o2 = transform1.GetParameters()\n",
        "            o2.SetSize(p.shape[0])\n",
        "            for j, v in enumerate(p):\n",
        "                o2.SetElement(j, v)\n",
        "            transform1.SetParameters(o2)\n",
        "\n",
        "    set_parameters(phi_AB, phi_AB1)\n",
        "    image_A = itk.image_from_dict(image_A)\n",
        "    image_B = itk.image_from_dict(image_B)\n",
        "\n",
        "    interpolator = itk.LinearInterpolateImageFunction.New(image_A)\n",
        "    \n",
        "    prob_file = 'FC_probmap.nii.gz'\n",
        "    prob = itk.imread(prob_file, itk.D)\n",
        "\n",
        "    warped_image = itk.resample_image_filter(prob, \n",
        "       transform=phi_AB1, \n",
        "       interpolator=interpolator,\n",
        "       size=itk.size(image_B),\n",
        "       output_spacing=itk.spacing(image_B),\n",
        "       output_direction=image_B.GetDirection(),\n",
        "       output_origin=image_B.GetOrigin()\n",
        "    )\n",
        "\n",
        "    output_dict = itk.dict_from_image(warped_image)\n",
        "    return output_dict\n",
        "  \n",
        "@delayed\n",
        "def deform_probmap_TC_delayed(phi_AB, image_A, image_B):\n",
        "    import itk\n",
        "    import boto3\n",
        "\n",
        "    if 1:\n",
        "        s3          = boto3.resource(\"s3\")\n",
        "        bucket_name = 'oaisample1'\n",
        "        bucket      = s3.Bucket(bucket_name)\n",
        "        fc_prob_file = 'TC_probmap.nii.gz'\n",
        "        s3.Bucket(bucket_name).download_file(fc_prob_file, fc_prob_file)\n",
        "\n",
        "    phi_AB1  = itk.transform_from_dict(phi_AB)\n",
        "    \n",
        "    def set_parameters(phi_AB, phi_AB1):\n",
        "        for i in range(len(phi_AB)-1):\n",
        "            transform1 = phi_AB1.GetNthTransform(i)\n",
        "\n",
        "            fp = phi_AB[i+1]['fixedParameters']\n",
        "            o1 = transform1.GetFixedParameters()\n",
        "            o1.SetSize(fp.shape[0])\n",
        "            for j, v in enumerate(fp):\n",
        "                o1.SetElement(j, v)\n",
        "            transform1.SetFixedParameters(o1)\n",
        "\n",
        "            p = phi_AB[i+1]['parameters']\n",
        "            o2 = transform1.GetParameters()\n",
        "            o2.SetSize(p.shape[0])\n",
        "            for j, v in enumerate(p):\n",
        "                o2.SetElement(j, v)\n",
        "            transform1.SetParameters(o2)\n",
        "\n",
        "    set_parameters(phi_AB, phi_AB1)\n",
        "    image_A = itk.image_from_dict(image_A)\n",
        "    image_B = itk.image_from_dict(image_B)\n",
        "\n",
        "    interpolator = itk.LinearInterpolateImageFunction.New(image_A)\n",
        "    \n",
        "    prob_file = 'TC_probmap.nii.gz'\n",
        "    prob = itk.imread(prob_file, itk.D)\n",
        "\n",
        "    warped_image = itk.resample_image_filter(prob, \n",
        "       transform=phi_AB1, \n",
        "       interpolator=interpolator,\n",
        "       size=itk.size(image_B),\n",
        "       output_spacing=itk.spacing(image_B),\n",
        "       output_direction=image_B.GetDirection(),\n",
        "       output_origin=image_B.GetOrigin()\n",
        "    )\n",
        "\n",
        "    output_dict = itk.dict_from_image(warped_image)\n",
        "    return output_dict\n",
        "  \n",
        "\n",
        "@delayed\n",
        "def deform_probmap_TC(phi_AB, image_A, image_B, TC_prob):\n",
        "    #import itkConfig\n",
        "    #itkConfig.LazyLoading = False\n",
        "    #import itk\n",
        "    #tc_prob_file = './OAIData/TC_probmap.nii.gz'\n",
        "    #TC_prob = itk.imread(tc_prob_file)\n",
        "\n",
        "    interpolator = itk.LinearInterpolateImageFunction.New(image_A)\n",
        "    warped_image_TC = itk.resample_image_filter(TC_prob, \n",
        "        transform=phi_AB, \n",
        "        interpolator=interpolator,\n",
        "        size=itk.size(image_B),\n",
        "        output_spacing=itk.spacing(image_B),\n",
        "        output_direction=image_B.GetDirection(),\n",
        "        output_origin=image_B.GetOrigin()\n",
        "    )\n",
        "\n",
        "    return warped_image_TC\n",
        "\n",
        "# Convert from VTK Mesh to ITK Mesh to make it serializable\n",
        "def get_itk_mesh(vtk_mesh):\n",
        "    #import itkConfig\n",
        "    #itkConfig.LazyLoading = False\n",
        "    #import itk\n",
        "\n",
        "    Dimension = 3\n",
        "    PixelType = itk.D\n",
        "    \n",
        "    MeshType = itk.Mesh[PixelType, Dimension]\n",
        "    itk_mesh = MeshType.New()\n",
        "    \n",
        "    # Get points array from VTK mesh\n",
        "    points = vtk_mesh.GetPoints().GetData()\n",
        "    points_numpy = np.array(points).flatten().astype('float32')\n",
        "        \n",
        "    polys = vtk_mesh.GetPolys().GetData()\n",
        "    polys_numpy = np.array(polys).flatten()\n",
        "\n",
        "    # Triangle Mesh\n",
        "    vtk_cells_count = vtk_mesh.GetNumberOfPolys()\n",
        "    polys_numpy = np.reshape(polys_numpy, [vtk_cells_count, Dimension+1])\n",
        "\n",
        "    # Extracting only the points by removing first column that denotes the VTK cell type\n",
        "    polys_numpy = polys_numpy[:, 1:]\n",
        "    polys_numpy = polys_numpy.flatten().astype(np.uint64)\n",
        "\n",
        "    # Get point data from VTK mesh to insert in ITK Mesh\n",
        "    point_data_numpy = np.array(vtk_mesh.GetPointData().GetScalars())#.astype('float64')\n",
        "    \n",
        "    # Get cell data from VTK mesh to insert in ITK Mesh\n",
        "    cell_data_numpy = np.array(vtk_mesh.GetCellData().GetScalars())#.astype('float64')\n",
        "    \n",
        "    itk_mesh.SetPoints(itk.vector_container_from_array(points_numpy))\n",
        "    itk_mesh.SetCellsArray(itk.vector_container_from_array(polys_numpy), itk.CommonEnums.CellGeometry_TRIANGLE_CELL)\n",
        "    itk_mesh.SetPointData(itk.vector_container_from_array(point_data_numpy))\n",
        "    itk_mesh.SetCellData(itk.vector_container_from_array(cell_data_numpy))    \n",
        "    return itk_mesh\n",
        "    \n",
        "@delayed\n",
        "def get_thickness_FC(warped_image_FC):\n",
        "    import itk\n",
        "    from oai_analysis_2 import mesh_processing as mp\n",
        "\n",
        "    warped_image_FC = itk.image_from_dict(warped_image_FC)\n",
        "    distance_inner_FC, distance_outer_FC = mp.get_thickness_mesh(warped_image_FC, mesh_type='FC')\n",
        "    distance_inner_FC = get_itk_mesh(distance_inner_FC)\n",
        "    distance_inner_FC = itk.dict_from_mesh(distance_inner_FC)\n",
        "    return distance_inner_FC\n",
        "\n",
        "@delayed(nout=1)\n",
        "def get_thickness_TC(warped_image_TC):\n",
        "    import itk\n",
        "    import vtk\n",
        "    import numpy as np\n",
        "    from oai_analysis_2 import mesh_processing as mp\n",
        "\n",
        "    def get_itk_mesh(vtk_mesh):\n",
        "        Dimension = 3\n",
        "        PixelType = itk.D\n",
        "        \n",
        "        MeshType = itk.Mesh[PixelType, Dimension]\n",
        "        itk_mesh = MeshType.New()\n",
        "        \n",
        "        # Get points array from VTK mesh\n",
        "        points = vtk_mesh.GetPoints().GetData()\n",
        "        points_numpy = np.array(points).flatten().astype('float32')\n",
        "            \n",
        "        polys = vtk_mesh.GetPolys().GetData()\n",
        "        polys_numpy = np.array(polys).flatten()\n",
        "\n",
        "        # Triangle Mesh\n",
        "        vtk_cells_count = vtk_mesh.GetNumberOfPolys()\n",
        "        polys_numpy = np.reshape(polys_numpy, [vtk_cells_count, Dimension+1])\n",
        "\n",
        "        # Extracting only the points by removing first column that denotes the VTK cell type\n",
        "        polys_numpy = polys_numpy[:, 1:]\n",
        "        polys_numpy = polys_numpy.flatten().astype(np.uint64)\n",
        "\n",
        "        # Get point data from VTK mesh to insert in ITK Mesh\n",
        "        point_data_numpy = np.array(vtk_mesh.GetPointData().GetScalars())#.astype('float64')\n",
        "        \n",
        "        # Get cell data from VTK mesh to insert in ITK Mesh\n",
        "        cell_data_numpy = np.array(vtk_mesh.GetCellData().GetScalars())#.astype('float64')\n",
        "        \n",
        "        itk_mesh.SetPoints(itk.vector_container_from_array(points_numpy))\n",
        "        itk_mesh.SetCellsArray(itk.vector_container_from_array(polys_numpy), itk.CommonEnums.CellGeometry_TRIANGLE_CELL)\n",
        "        itk_mesh.SetPointData(itk.vector_container_from_array(point_data_numpy))\n",
        "        itk_mesh.SetCellData(itk.vector_container_from_array(cell_data_numpy))    \n",
        "        return itk_mesh\n",
        "\n",
        "    warped_image_TC = itk.image_from_dict(warped_image_TC)\n",
        "    distance_inner_TC, distance_outer_TC = mp.get_thickness_mesh(warped_image_TC, mesh_type='TC')\n",
        "    distance_inner_TC = get_itk_mesh(distance_inner_TC)\n",
        "    distance_inner_TC = itk.dict_from_mesh(distance_inner_TC)\n",
        "    return distance_inner_TC\n",
        "\n",
        "#@delayed(nout=2)\n",
        "def get_paths():\n",
        "    import numpy as np\n",
        "    import itk\n",
        "    import vtk\n",
        "    import itkwidgets\n",
        "    import icon_registration\n",
        "    import icon_registration.itk_wrapper as itk_wrapper\n",
        "    import icon_registration.pretrained_models as pretrained_models\n",
        "    from oai_analysis_2 import mesh_processing as mp\n",
        "\n",
        "    image_preprocessed = \"./OAIData/image_preprocessed.nii.gz\"\n",
        "    atlas_image = \"./OAIData/atlas_image.nii.gz\"\n",
        "\n",
        "    return image_preprocessed, atlas_image\n",
        "\n",
        "#@delayed\n",
        "def only_register_images(image_A, image_B):\n",
        "  #import itkConfig\n",
        "  #itkConfig.LazyLoading = False\n",
        "  #import itk\n",
        "  import numpy as np\n",
        "  import itk\n",
        "  import vtk\n",
        "  import itkwidgets\n",
        "  import icon_registration\n",
        "  import icon_registration.itk_wrapper as itk_wrapper\n",
        "  import icon_registration.pretrained_models as pretrained_models\n",
        "  from oai_analysis_2 import mesh_processing as mp\n",
        "\n",
        "  phi_AB  = register_images(image_A=image_A, image_B=image_B)\n",
        "  return phi_AB\n",
        "\n",
        "@delayed\n",
        "def import_all():\n",
        "  import numpy as np\n",
        "  #import itkConfig\n",
        "  #itkConfig.LazyLoading = False\n",
        "  import itk\n",
        "  import vtk\n",
        "  import itkwidgets\n",
        "  import icon_registration\n",
        "  import icon_registration.itk_wrapper as itk_wrapper\n",
        "  import icon_registration.pretrained_models as pretrained_models\n",
        "  from oai_analysis_2 import mesh_processing as mp\n",
        "\n",
        "  return True"
      ],
      "metadata": {
        "id": "2HbtL8r4TiKb"
      },
      "execution_count": 47,
      "outputs": []
    },
    {
      "cell_type": "code",
      "source": [
        "phi_AB, image_A, image_B = register_images_delayed()\n",
        "deformed_fc = deform_probmap_FC_delayed(phi_AB, image_A, image_B)\n",
        "deformed_tc = deform_probmap_TC_delayed(phi_AB, image_A, image_B)\n",
        "\n",
        "#thickness_fc = get_thickness_FC(deformed_fc)\n",
        "thickness_tc = get_thickness_TC(deformed_tc)\n",
        "\n",
        "result = thickness_tc\n",
        "#result = #[deformed_fc]\n",
        "output_result = compute(*result)\n",
        "#print(output_result)"
      ],
      "metadata": {
        "colab": {
          "base_uri": "https://localhost:8080/",
          "height": 1000
        },
        "id": "snuntUuOBLqV",
        "outputId": "f8eb50eb-1d1a-482e-818b-82bcabb884b2"
      },
      "execution_count": 48,
      "outputs": [
        {
          "output_type": "error",
          "ename": "ImportError",
          "evalue": "ignored",
          "traceback": [
            "\u001b[0;31m---------------------------------------------------------------------------\u001b[0m",
            "\u001b[0;31mImportError\u001b[0m                               Traceback (most recent call last)",
            "\u001b[0;32m<ipython-input-48-3dae0a946c7a>\u001b[0m in \u001b[0;36m<module>\u001b[0;34m()\u001b[0m\n\u001b[1;32m      8\u001b[0m \u001b[0mresult\u001b[0m \u001b[0;34m=\u001b[0m \u001b[0mthickness_tc\u001b[0m\u001b[0;34m\u001b[0m\u001b[0;34m\u001b[0m\u001b[0m\n\u001b[1;32m      9\u001b[0m \u001b[0;31m#result = #[deformed_fc]\u001b[0m\u001b[0;34m\u001b[0m\u001b[0;34m\u001b[0m\u001b[0;34m\u001b[0m\u001b[0m\n\u001b[0;32m---> 10\u001b[0;31m \u001b[0moutput_result\u001b[0m \u001b[0;34m=\u001b[0m \u001b[0mcompute\u001b[0m\u001b[0;34m(\u001b[0m\u001b[0;34m*\u001b[0m\u001b[0mresult\u001b[0m\u001b[0;34m)\u001b[0m\u001b[0;34m\u001b[0m\u001b[0;34m\u001b[0m\u001b[0m\n\u001b[0m\u001b[1;32m     11\u001b[0m \u001b[0;31m#print(output_result)\u001b[0m\u001b[0;34m\u001b[0m\u001b[0;34m\u001b[0m\u001b[0;34m\u001b[0m\u001b[0m\n",
            "\u001b[0;32m/usr/local/lib/python3.7/dist-packages/dask/base.py\u001b[0m in \u001b[0;36mcompute\u001b[0;34m(traverse, optimize_graph, scheduler, get, *args, **kwargs)\u001b[0m\n\u001b[1;32m    571\u001b[0m         \u001b[0mpostcomputes\u001b[0m\u001b[0;34m.\u001b[0m\u001b[0mappend\u001b[0m\u001b[0;34m(\u001b[0m\u001b[0mx\u001b[0m\u001b[0;34m.\u001b[0m\u001b[0m__dask_postcompute__\u001b[0m\u001b[0;34m(\u001b[0m\u001b[0;34m)\u001b[0m\u001b[0;34m)\u001b[0m\u001b[0;34m\u001b[0m\u001b[0;34m\u001b[0m\u001b[0m\n\u001b[1;32m    572\u001b[0m \u001b[0;34m\u001b[0m\u001b[0m\n\u001b[0;32m--> 573\u001b[0;31m     \u001b[0mresults\u001b[0m \u001b[0;34m=\u001b[0m \u001b[0mschedule\u001b[0m\u001b[0;34m(\u001b[0m\u001b[0mdsk\u001b[0m\u001b[0;34m,\u001b[0m \u001b[0mkeys\u001b[0m\u001b[0;34m,\u001b[0m \u001b[0;34m**\u001b[0m\u001b[0mkwargs\u001b[0m\u001b[0;34m)\u001b[0m\u001b[0;34m\u001b[0m\u001b[0;34m\u001b[0m\u001b[0m\n\u001b[0m\u001b[1;32m    574\u001b[0m     \u001b[0;32mreturn\u001b[0m \u001b[0mrepack\u001b[0m\u001b[0;34m(\u001b[0m\u001b[0;34m[\u001b[0m\u001b[0mf\u001b[0m\u001b[0;34m(\u001b[0m\u001b[0mr\u001b[0m\u001b[0;34m,\u001b[0m \u001b[0;34m*\u001b[0m\u001b[0ma\u001b[0m\u001b[0;34m)\u001b[0m \u001b[0;32mfor\u001b[0m \u001b[0mr\u001b[0m\u001b[0;34m,\u001b[0m \u001b[0;34m(\u001b[0m\u001b[0mf\u001b[0m\u001b[0;34m,\u001b[0m \u001b[0ma\u001b[0m\u001b[0;34m)\u001b[0m \u001b[0;32min\u001b[0m \u001b[0mzip\u001b[0m\u001b[0;34m(\u001b[0m\u001b[0mresults\u001b[0m\u001b[0;34m,\u001b[0m \u001b[0mpostcomputes\u001b[0m\u001b[0;34m)\u001b[0m\u001b[0;34m]\u001b[0m\u001b[0;34m)\u001b[0m\u001b[0;34m\u001b[0m\u001b[0;34m\u001b[0m\u001b[0m\n\u001b[1;32m    575\u001b[0m \u001b[0;34m\u001b[0m\u001b[0m\n",
            "\u001b[0;32m/usr/local/lib/python3.7/dist-packages/distributed/client.py\u001b[0m in \u001b[0;36mget\u001b[0;34m(self, dsk, keys, workers, allow_other_workers, resources, sync, asynchronous, direct, retries, priority, fifo_timeout, actors, **kwargs)\u001b[0m\n\u001b[1;32m   2992\u001b[0m                     \u001b[0mshould_rejoin\u001b[0m \u001b[0;34m=\u001b[0m \u001b[0;32mFalse\u001b[0m\u001b[0;34m\u001b[0m\u001b[0;34m\u001b[0m\u001b[0m\n\u001b[1;32m   2993\u001b[0m             \u001b[0;32mtry\u001b[0m\u001b[0;34m:\u001b[0m\u001b[0;34m\u001b[0m\u001b[0;34m\u001b[0m\u001b[0m\n\u001b[0;32m-> 2994\u001b[0;31m                 \u001b[0mresults\u001b[0m \u001b[0;34m=\u001b[0m \u001b[0mself\u001b[0m\u001b[0;34m.\u001b[0m\u001b[0mgather\u001b[0m\u001b[0;34m(\u001b[0m\u001b[0mpacked\u001b[0m\u001b[0;34m,\u001b[0m \u001b[0masynchronous\u001b[0m\u001b[0;34m=\u001b[0m\u001b[0masynchronous\u001b[0m\u001b[0;34m,\u001b[0m \u001b[0mdirect\u001b[0m\u001b[0;34m=\u001b[0m\u001b[0mdirect\u001b[0m\u001b[0;34m)\u001b[0m\u001b[0;34m\u001b[0m\u001b[0;34m\u001b[0m\u001b[0m\n\u001b[0m\u001b[1;32m   2995\u001b[0m             \u001b[0;32mfinally\u001b[0m\u001b[0;34m:\u001b[0m\u001b[0;34m\u001b[0m\u001b[0;34m\u001b[0m\u001b[0m\n\u001b[1;32m   2996\u001b[0m                 \u001b[0;32mfor\u001b[0m \u001b[0mf\u001b[0m \u001b[0;32min\u001b[0m \u001b[0mfutures\u001b[0m\u001b[0;34m.\u001b[0m\u001b[0mvalues\u001b[0m\u001b[0;34m(\u001b[0m\u001b[0;34m)\u001b[0m\u001b[0;34m:\u001b[0m\u001b[0;34m\u001b[0m\u001b[0;34m\u001b[0m\u001b[0m\n",
            "\u001b[0;32m/usr/local/lib/python3.7/dist-packages/distributed/client.py\u001b[0m in \u001b[0;36mgather\u001b[0;34m(self, futures, errors, direct, asynchronous)\u001b[0m\n\u001b[1;32m   2150\u001b[0m                 \u001b[0mdirect\u001b[0m\u001b[0;34m=\u001b[0m\u001b[0mdirect\u001b[0m\u001b[0;34m,\u001b[0m\u001b[0;34m\u001b[0m\u001b[0;34m\u001b[0m\u001b[0m\n\u001b[1;32m   2151\u001b[0m                 \u001b[0mlocal_worker\u001b[0m\u001b[0;34m=\u001b[0m\u001b[0mlocal_worker\u001b[0m\u001b[0;34m,\u001b[0m\u001b[0;34m\u001b[0m\u001b[0;34m\u001b[0m\u001b[0m\n\u001b[0;32m-> 2152\u001b[0;31m                 \u001b[0masynchronous\u001b[0m\u001b[0;34m=\u001b[0m\u001b[0masynchronous\u001b[0m\u001b[0;34m,\u001b[0m\u001b[0;34m\u001b[0m\u001b[0;34m\u001b[0m\u001b[0m\n\u001b[0m\u001b[1;32m   2153\u001b[0m             )\n\u001b[1;32m   2154\u001b[0m \u001b[0;34m\u001b[0m\u001b[0m\n",
            "\u001b[0;32m/usr/local/lib/python3.7/dist-packages/distributed/utils.py\u001b[0m in \u001b[0;36msync\u001b[0;34m(self, func, asynchronous, callback_timeout, *args, **kwargs)\u001b[0m\n\u001b[1;32m    308\u001b[0m         \u001b[0;32melse\u001b[0m\u001b[0;34m:\u001b[0m\u001b[0;34m\u001b[0m\u001b[0;34m\u001b[0m\u001b[0m\n\u001b[1;32m    309\u001b[0m             return sync(\n\u001b[0;32m--> 310\u001b[0;31m                 \u001b[0mself\u001b[0m\u001b[0;34m.\u001b[0m\u001b[0mloop\u001b[0m\u001b[0;34m,\u001b[0m \u001b[0mfunc\u001b[0m\u001b[0;34m,\u001b[0m \u001b[0;34m*\u001b[0m\u001b[0margs\u001b[0m\u001b[0;34m,\u001b[0m \u001b[0mcallback_timeout\u001b[0m\u001b[0;34m=\u001b[0m\u001b[0mcallback_timeout\u001b[0m\u001b[0;34m,\u001b[0m \u001b[0;34m**\u001b[0m\u001b[0mkwargs\u001b[0m\u001b[0;34m\u001b[0m\u001b[0;34m\u001b[0m\u001b[0m\n\u001b[0m\u001b[1;32m    311\u001b[0m             )\n\u001b[1;32m    312\u001b[0m \u001b[0;34m\u001b[0m\u001b[0m\n",
            "\u001b[0;32m/usr/local/lib/python3.7/dist-packages/distributed/utils.py\u001b[0m in \u001b[0;36msync\u001b[0;34m(loop, func, callback_timeout, *args, **kwargs)\u001b[0m\n\u001b[1;32m    374\u001b[0m     \u001b[0;32mif\u001b[0m \u001b[0merror\u001b[0m\u001b[0;34m:\u001b[0m\u001b[0;34m\u001b[0m\u001b[0;34m\u001b[0m\u001b[0m\n\u001b[1;32m    375\u001b[0m         \u001b[0mtyp\u001b[0m\u001b[0;34m,\u001b[0m \u001b[0mexc\u001b[0m\u001b[0;34m,\u001b[0m \u001b[0mtb\u001b[0m \u001b[0;34m=\u001b[0m \u001b[0merror\u001b[0m\u001b[0;34m\u001b[0m\u001b[0;34m\u001b[0m\u001b[0m\n\u001b[0;32m--> 376\u001b[0;31m         \u001b[0;32mraise\u001b[0m \u001b[0mexc\u001b[0m\u001b[0;34m.\u001b[0m\u001b[0mwith_traceback\u001b[0m\u001b[0;34m(\u001b[0m\u001b[0mtb\u001b[0m\u001b[0;34m)\u001b[0m\u001b[0;34m\u001b[0m\u001b[0;34m\u001b[0m\u001b[0m\n\u001b[0m\u001b[1;32m    377\u001b[0m     \u001b[0;32melse\u001b[0m\u001b[0;34m:\u001b[0m\u001b[0;34m\u001b[0m\u001b[0;34m\u001b[0m\u001b[0m\n\u001b[1;32m    378\u001b[0m         \u001b[0;32mreturn\u001b[0m \u001b[0mresult\u001b[0m\u001b[0;34m\u001b[0m\u001b[0;34m\u001b[0m\u001b[0m\n",
            "\u001b[0;32m/usr/local/lib/python3.7/dist-packages/distributed/utils.py\u001b[0m in \u001b[0;36mf\u001b[0;34m()\u001b[0m\n\u001b[1;32m    347\u001b[0m                 \u001b[0mfuture\u001b[0m \u001b[0;34m=\u001b[0m \u001b[0masyncio\u001b[0m\u001b[0;34m.\u001b[0m\u001b[0mwait_for\u001b[0m\u001b[0;34m(\u001b[0m\u001b[0mfuture\u001b[0m\u001b[0;34m,\u001b[0m \u001b[0mcallback_timeout\u001b[0m\u001b[0;34m)\u001b[0m\u001b[0;34m\u001b[0m\u001b[0;34m\u001b[0m\u001b[0m\n\u001b[1;32m    348\u001b[0m             \u001b[0mfuture\u001b[0m \u001b[0;34m=\u001b[0m \u001b[0masyncio\u001b[0m\u001b[0;34m.\u001b[0m\u001b[0mensure_future\u001b[0m\u001b[0;34m(\u001b[0m\u001b[0mfuture\u001b[0m\u001b[0;34m)\u001b[0m\u001b[0;34m\u001b[0m\u001b[0;34m\u001b[0m\u001b[0m\n\u001b[0;32m--> 349\u001b[0;31m             \u001b[0mresult\u001b[0m \u001b[0;34m=\u001b[0m \u001b[0;32myield\u001b[0m \u001b[0mfuture\u001b[0m\u001b[0;34m\u001b[0m\u001b[0;34m\u001b[0m\u001b[0m\n\u001b[0m\u001b[1;32m    350\u001b[0m         \u001b[0;32mexcept\u001b[0m \u001b[0mException\u001b[0m\u001b[0;34m:\u001b[0m\u001b[0;34m\u001b[0m\u001b[0;34m\u001b[0m\u001b[0m\n\u001b[1;32m    351\u001b[0m             \u001b[0merror\u001b[0m \u001b[0;34m=\u001b[0m \u001b[0msys\u001b[0m\u001b[0;34m.\u001b[0m\u001b[0mexc_info\u001b[0m\u001b[0;34m(\u001b[0m\u001b[0;34m)\u001b[0m\u001b[0;34m\u001b[0m\u001b[0;34m\u001b[0m\u001b[0m\n",
            "\u001b[0;32m/usr/local/lib/python3.7/dist-packages/tornado/gen.py\u001b[0m in \u001b[0;36mrun\u001b[0;34m(self)\u001b[0m\n\u001b[1;32m    760\u001b[0m \u001b[0;34m\u001b[0m\u001b[0m\n\u001b[1;32m    761\u001b[0m                     \u001b[0;32mtry\u001b[0m\u001b[0;34m:\u001b[0m\u001b[0;34m\u001b[0m\u001b[0;34m\u001b[0m\u001b[0m\n\u001b[0;32m--> 762\u001b[0;31m                         \u001b[0mvalue\u001b[0m \u001b[0;34m=\u001b[0m \u001b[0mfuture\u001b[0m\u001b[0;34m.\u001b[0m\u001b[0mresult\u001b[0m\u001b[0;34m(\u001b[0m\u001b[0;34m)\u001b[0m\u001b[0;34m\u001b[0m\u001b[0;34m\u001b[0m\u001b[0m\n\u001b[0m\u001b[1;32m    763\u001b[0m                     \u001b[0;32mexcept\u001b[0m \u001b[0mException\u001b[0m\u001b[0;34m:\u001b[0m\u001b[0;34m\u001b[0m\u001b[0;34m\u001b[0m\u001b[0m\n\u001b[1;32m    764\u001b[0m                         \u001b[0mexc_info\u001b[0m \u001b[0;34m=\u001b[0m \u001b[0msys\u001b[0m\u001b[0;34m.\u001b[0m\u001b[0mexc_info\u001b[0m\u001b[0;34m(\u001b[0m\u001b[0;34m)\u001b[0m\u001b[0;34m\u001b[0m\u001b[0;34m\u001b[0m\u001b[0m\n",
            "\u001b[0;32m/usr/local/lib/python3.7/dist-packages/distributed/client.py\u001b[0m in \u001b[0;36m_gather\u001b[0;34m(self, futures, errors, direct, local_worker)\u001b[0m\n\u001b[1;32m   2007\u001b[0m                             \u001b[0mexc\u001b[0m \u001b[0;34m=\u001b[0m \u001b[0mCancelledError\u001b[0m\u001b[0;34m(\u001b[0m\u001b[0mkey\u001b[0m\u001b[0;34m)\u001b[0m\u001b[0;34m\u001b[0m\u001b[0;34m\u001b[0m\u001b[0m\n\u001b[1;32m   2008\u001b[0m                         \u001b[0;32melse\u001b[0m\u001b[0;34m:\u001b[0m\u001b[0;34m\u001b[0m\u001b[0;34m\u001b[0m\u001b[0m\n\u001b[0;32m-> 2009\u001b[0;31m                             \u001b[0;32mraise\u001b[0m \u001b[0mexception\u001b[0m\u001b[0;34m.\u001b[0m\u001b[0mwith_traceback\u001b[0m\u001b[0;34m(\u001b[0m\u001b[0mtraceback\u001b[0m\u001b[0;34m)\u001b[0m\u001b[0;34m\u001b[0m\u001b[0;34m\u001b[0m\u001b[0m\n\u001b[0m\u001b[1;32m   2010\u001b[0m                         \u001b[0;32mraise\u001b[0m \u001b[0mexc\u001b[0m\u001b[0;34m\u001b[0m\u001b[0;34m\u001b[0m\u001b[0m\n\u001b[1;32m   2011\u001b[0m                     \u001b[0;32mif\u001b[0m \u001b[0merrors\u001b[0m \u001b[0;34m==\u001b[0m \u001b[0;34m\"skip\"\u001b[0m\u001b[0;34m:\u001b[0m\u001b[0;34m\u001b[0m\u001b[0;34m\u001b[0m\u001b[0m\n",
            "\u001b[0;32m<ipython-input-47-9423abe1baf8>\u001b[0m in \u001b[0;36mget_thickness_TC\u001b[0;34m()\u001b[0m\n\u001b[1;32m    224\u001b[0m \u001b[0;32mdef\u001b[0m \u001b[0mget_thickness_TC\u001b[0m\u001b[0;34m(\u001b[0m\u001b[0mwarped_image_TC\u001b[0m\u001b[0;34m)\u001b[0m\u001b[0;34m:\u001b[0m\u001b[0;34m\u001b[0m\u001b[0;34m\u001b[0m\u001b[0m\n\u001b[1;32m    225\u001b[0m     \u001b[0;32mimport\u001b[0m \u001b[0mitk\u001b[0m\u001b[0;34m\u001b[0m\u001b[0;34m\u001b[0m\u001b[0m\n\u001b[0;32m--> 226\u001b[0;31m     \u001b[0;32mimport\u001b[0m \u001b[0mvtk\u001b[0m\u001b[0;34m\u001b[0m\u001b[0;34m\u001b[0m\u001b[0m\n\u001b[0m\u001b[1;32m    227\u001b[0m     \u001b[0;32mimport\u001b[0m \u001b[0mnumpy\u001b[0m \u001b[0;32mas\u001b[0m \u001b[0mnp\u001b[0m\u001b[0;34m\u001b[0m\u001b[0;34m\u001b[0m\u001b[0m\n\u001b[1;32m    228\u001b[0m     \u001b[0;32mfrom\u001b[0m \u001b[0moai_analysis_2\u001b[0m \u001b[0;32mimport\u001b[0m \u001b[0mmesh_processing\u001b[0m \u001b[0;32mas\u001b[0m \u001b[0mmp\u001b[0m\u001b[0;34m\u001b[0m\u001b[0;34m\u001b[0m\u001b[0m\n",
            "\u001b[0;32m/opt/conda/envs/coiled/lib/python3.7/site-packages/vtk.py\u001b[0m in \u001b[0;36m<module>\u001b[0;34m()\u001b[0m\n",
            "\u001b[0;32m/opt/conda/envs/coiled/lib/python3.7/importlib/__init__.py\u001b[0m in \u001b[0;36mimport_module\u001b[0;34m()\u001b[0m\n",
            "\u001b[0;32m/opt/conda/envs/coiled/lib/python3.7/site-packages/vtkmodules/all.py\u001b[0m in \u001b[0;36m<module>\u001b[0;34m()\u001b[0m\n",
            "\u001b[0;31mImportError\u001b[0m: libGL.so.1: cannot open shared object file: No such file or directory",
            "",
            "\u001b[0;31m---------------------------------------------------------------------------\u001b[0;32m\nNOTE: If your import is failing due to a missing package, you can\nmanually install dependencies using either !pip or !apt.\n\nTo view examples of installing some common dependencies, click the\n\"Open Examples\" button below.\n\u001b[0;31m---------------------------------------------------------------------------\u001b[0m\n"
          ],
          "errorDetails": {
            "actions": [
              {
                "action": "open_url",
                "actionText": "Open Examples",
                "url": "/notebooks/snippets/importing_libraries.ipynb"
              }
            ]
          }
        }
      ]
    },
    {
      "cell_type": "code",
      "source": [
        "print(output_result)"
      ],
      "metadata": {
        "colab": {
          "base_uri": "https://localhost:8080/",
          "height": 165
        },
        "id": "8lqJbjg941Rt",
        "outputId": "8a0fcd0c-9b6e-4dae-e9ab-fe1b89f13a54"
      },
      "execution_count": 1,
      "outputs": [
        {
          "output_type": "error",
          "ename": "NameError",
          "evalue": "ignored",
          "traceback": [
            "\u001b[0;31m---------------------------------------------------------------------------\u001b[0m",
            "\u001b[0;31mNameError\u001b[0m                                 Traceback (most recent call last)",
            "\u001b[0;32m<ipython-input-1-44a2cdbfe1eb>\u001b[0m in \u001b[0;36m<module>\u001b[0;34m()\u001b[0m\n\u001b[0;32m----> 1\u001b[0;31m \u001b[0mprint\u001b[0m\u001b[0;34m(\u001b[0m\u001b[0moutput_result\u001b[0m\u001b[0;34m)\u001b[0m\u001b[0;34m\u001b[0m\u001b[0;34m\u001b[0m\u001b[0m\n\u001b[0m",
            "\u001b[0;31mNameError\u001b[0m: name 'output_result' is not defined"
          ]
        }
      ]
    },
    {
      "cell_type": "code",
      "source": [
        "d1      = itk.dict_from_transform(phi_AB)\n",
        "phi_AB1 = itk.transform_from_dict(d1)\n",
        "\n",
        "#print(phi_AB1.GetNthTransform(1)[\"parameters\"])\n",
        "#print(td1)"
      ],
      "metadata": {
        "id": "oXCzeEypiNYm"
      },
      "execution_count": null,
      "outputs": []
    },
    {
      "cell_type": "code",
      "source": [
        "pt1 = phi_AB.GetNthTransform(0)#.GetTransformTypeAsString()\n",
        "pt1.GetFixedParameters().Size()"
      ],
      "metadata": {
        "colab": {
          "base_uri": "https://localhost:8080/"
        },
        "id": "aokzPA2kg_7N",
        "outputId": "e3d45b0f-568e-4fc6-c68e-bd4693231e1c"
      },
      "execution_count": null,
      "outputs": [
        {
          "output_type": "execute_result",
          "data": {
            "text/plain": [
              "3"
            ]
          },
          "metadata": {},
          "execution_count": 53
        }
      ]
    },
    {
      "cell_type": "code",
      "source": [
        "# Code to create right transform\n",
        "\n",
        "for i in range(phi_AB.GetNumberOfTransforms()):\n",
        "  transform0 = phi_AB.GetNthTransform(i)\n",
        "  transform1 = phi_AB1.GetNthTransform(i)\n",
        "\n",
        "  o1 = transform1.GetFixedParameters()\n",
        "  o1.SetSize(transform0['fixedParameters'].shape[0])\n",
        "  for j, v in enumerate(transform0['fixedParameters']):\n",
        "      o1.SetElement(j, v)\n",
        "  transform1.SetFixedParameters(o1)\n",
        "\n",
        "  o2 = transform1.GetParameters()\n",
        "  o2.SetSize(transform0['parameters'].shape[0])\n",
        "  for j, v in enumerate(transform0['parameters']):\n",
        "      o2.SetElement(j, v)\n",
        "  transform1.SetParameters(o2)"
      ],
      "metadata": {
        "id": "EqxFLKdbgYq6"
      },
      "execution_count": null,
      "outputs": []
    },
    {
      "cell_type": "code",
      "source": [
        "#itk.dict_from_transform(phi_AB1)\n",
        "phi_AB1.GetNthTransform(1)"
      ],
      "metadata": {
        "colab": {
          "base_uri": "https://localhost:8080/"
        },
        "id": "fxm2-ekug74d",
        "outputId": "15160714-5049-453b-f666-49e6e80bc86e"
      },
      "execution_count": null,
      "outputs": [
        {
          "output_type": "execute_result",
          "data": {
            "text/plain": [
              "<itk.itkTransformBasePython.itkTransformD33; proxy of <Swig Object of type 'itkTransformD33 *' at 0x7fa306063360> >"
            ]
          },
          "metadata": {},
          "execution_count": 59
        }
      ]
    },
    {
      "cell_type": "code",
      "source": [
        "transform1 = phi_AB1.GetNthTransform(1)\n",
        "d1 = itk.dict_from_transform(transform1)\n",
        "print(d1)\n",
        "#print(transform1)"
      ],
      "metadata": {
        "colab": {
          "base_uri": "https://localhost:8080/"
        },
        "id": "gXc7o4y6bAA0",
        "outputId": "eacd4328-dc09-4d99-d33e-43699c2e2ba2"
      },
      "execution_count": null,
      "outputs": [
        {
          "output_type": "stream",
          "name": "stdout",
          "text": [
            "[{'name': '', 'numberOfTransforms': 1, 'parametersValueType': 'float64', 'inDimension': 3, 'outDimension': 3, 'transformName': 'DisplacementFieldTransform', 'transformType': 'D33', 'parameters': array([], dtype=float64), 'fixedParameters': array([0., 0., 0., 0., 0., 0., 0., 0., 0., 0., 0., 0., 0., 0., 0., 0., 0.,\n",
            "       0.]), 'numberOfParameters': 0, 'numberOfFixedParameters': 18}]\n"
          ]
        }
      ]
    },
    {
      "cell_type": "code",
      "source": [
        "phi_AB1_dis = phi_AB1.GetNthTransform(1)"
      ],
      "metadata": {
        "id": "nqnNqEurcxwz"
      },
      "execution_count": null,
      "outputs": []
    },
    {
      "cell_type": "code",
      "source": [
        "print(itk.dict_from_transform(phi_AB1_dis))"
      ],
      "metadata": {
        "colab": {
          "base_uri": "https://localhost:8080/"
        },
        "id": "hxUUKXg0c4u6",
        "outputId": "d3ca6ed3-ea2a-4eab-d6b9-6eb6dfe4ccdb"
      },
      "execution_count": null,
      "outputs": [
        {
          "output_type": "stream",
          "name": "stdout",
          "text": [
            "[{'name': '', 'numberOfTransforms': 1, 'parametersValueType': 'float64', 'inDimension': 3, 'outDimension': 3, 'transformName': 'DisplacementFieldTransform', 'transformType': 'D33', 'parameters': array([], dtype=float64), 'fixedParameters': array([0., 0., 0., 0., 0., 0., 0., 0., 0., 0., 0., 0., 0., 0., 0., 0., 0.,\n",
            "       0.]), 'numberOfParameters': 0, 'numberOfFixedParameters': 18}]\n"
          ]
        }
      ]
    },
    {
      "cell_type": "code",
      "source": [
        "itk.dict_from_transform(phi_AB1_dis)"
      ],
      "metadata": {
        "colab": {
          "base_uri": "https://localhost:8080/"
        },
        "id": "t1mGvxsee7uY",
        "outputId": "779f01d7-a50c-46cb-d1e5-2e808335f4a7"
      },
      "execution_count": null,
      "outputs": [
        {
          "output_type": "execute_result",
          "data": {
            "text/plain": [
              "[{'fixedParameters': array([192., 192.,  80.,   0.,   0.,   0.,   1.,   1.,   1.,   1.,   0.,\n",
              "           0.,   0.,   1.,   0.,   0.,   0.,   1.]),\n",
              "  'inDimension': 3,\n",
              "  'name': '',\n",
              "  'numberOfFixedParameters': 18,\n",
              "  'numberOfParameters': 8847360,\n",
              "  'numberOfTransforms': 1,\n",
              "  'outDimension': 3,\n",
              "  'parameters': array([-1.55766129, -1.21581364, -0.17686807, ...,  0.61738586,\n",
              "          2.51548004,  9.465065  ]),\n",
              "  'parametersValueType': 'float64',\n",
              "  'transformName': 'DisplacementFieldTransform',\n",
              "  'transformType': 'D33'}]"
            ]
          },
          "metadata": {},
          "execution_count": 33
        }
      ]
    },
    {
      "cell_type": "code",
      "source": [
        "# o2 = phi_AB1_dis.GetFixedParameters()\n",
        "# print(o2.Size())\n",
        "\n",
        "o2 = phi_AB1_dis.GetParameters()\n",
        "o2.SetSize(d1[0]['parameters'].shape[0])\n",
        "for j, v in enumerate(d1[0]['parameters']):\n",
        "    o2.SetElement(j, v)\n",
        "phi_AB1_dis.SetParameters(o2)\n",
        "\n",
        "o1 = phi_AB1_dis.GetFixedParameters()\n",
        "o1.SetSize(d1[0]['fixedParameters'].shape[0])\n",
        "for j, v in enumerate(d1[0]['fixedParameters']):\n",
        "    o1.SetElement(j, v)\n",
        "phi_AB1_dis.SetFixedParameters(o1)"
      ],
      "metadata": {
        "id": "VSu7RC9ScUTT"
      },
      "execution_count": null,
      "outputs": []
    },
    {
      "cell_type": "code",
      "source": [
        "itk.dict_from_transform(phi_AB1_dis)"
      ],
      "metadata": {
        "colab": {
          "base_uri": "https://localhost:8080/"
        },
        "id": "N7GOkuc0egwa",
        "outputId": "2e362da0-9216-452b-9030-6433be561fda"
      },
      "execution_count": null,
      "outputs": [
        {
          "output_type": "execute_result",
          "data": {
            "text/plain": [
              "[{'fixedParameters': array([0., 0., 0., 0., 0., 0., 0., 0., 0., 0., 0., 0., 0., 0., 0., 0., 0.,\n",
              "         0.]),\n",
              "  'inDimension': 3,\n",
              "  'name': '',\n",
              "  'numberOfFixedParameters': 18,\n",
              "  'numberOfParameters': 0,\n",
              "  'numberOfTransforms': 1,\n",
              "  'outDimension': 3,\n",
              "  'parameters': array([], dtype=float64),\n",
              "  'parametersValueType': 'float64',\n",
              "  'transformName': 'DisplacementFieldTransform',\n",
              "  'transformType': 'D33'}]"
            ]
          },
          "metadata": {},
          "execution_count": 40
        }
      ]
    },
    {
      "cell_type": "code",
      "source": [
        "itk.dict_from_transform(phi_AB1_dis)"
      ],
      "metadata": {
        "colab": {
          "base_uri": "https://localhost:8080/"
        },
        "id": "rA9VE4D7dTuS",
        "outputId": "f1c45e5a-82f1-4393-c610-9d9ec9bd9ad7"
      },
      "execution_count": null,
      "outputs": [
        {
          "output_type": "execute_result",
          "data": {
            "text/plain": [
              "[{'fixedParameters': array([192., 192.,  80.,   0.,   0.,   0.,   1.,   1.,   1.,   1.,   0.,\n",
              "           0.,   0.,   1.,   0.,   0.,   0.,   1.]),\n",
              "  'inDimension': 3,\n",
              "  'name': '',\n",
              "  'numberOfFixedParameters': 18,\n",
              "  'numberOfParameters': 8847360,\n",
              "  'numberOfTransforms': 1,\n",
              "  'outDimension': 3,\n",
              "  'parameters': array([-1.55766129, -1.21581364, -0.17686807, ...,  0.61738586,\n",
              "          2.51548004,  9.465065  ]),\n",
              "  'parametersValueType': 'float64',\n",
              "  'transformName': 'DisplacementFieldTransform',\n",
              "  'transformType': 'D33'}]"
            ]
          },
          "metadata": {},
          "execution_count": 28
        }
      ]
    },
    {
      "cell_type": "code",
      "source": [
        "phi_AB1_dis1 = itk.transform_from_dict(itk.dict_from_transform(phi_AB1_dis))\n",
        "print(phi_AB1_dis1)"
      ],
      "metadata": {
        "colab": {
          "base_uri": "https://localhost:8080/",
          "height": 329
        },
        "id": "nBhsns89d8wE",
        "outputId": "e20ee6a0-026c-4bf6-9035-85358c25db24"
      },
      "execution_count": null,
      "outputs": [
        {
          "output_type": "error",
          "ename": "AttributeError",
          "evalue": "ignored",
          "traceback": [
            "\u001b[0;31m---------------------------------------------------------------------------\u001b[0m",
            "\u001b[0;31mAttributeError\u001b[0m                            Traceback (most recent call last)",
            "\u001b[0;32m<ipython-input-29-e7b1df14f003>\u001b[0m in \u001b[0;36m<module>\u001b[0;34m()\u001b[0m\n\u001b[0;32m----> 1\u001b[0;31m \u001b[0mphi_AB1_dis1\u001b[0m \u001b[0;34m=\u001b[0m \u001b[0mitk\u001b[0m\u001b[0;34m.\u001b[0m\u001b[0mtransform_from_dict\u001b[0m\u001b[0;34m(\u001b[0m\u001b[0mitk\u001b[0m\u001b[0;34m.\u001b[0m\u001b[0mdict_from_transform\u001b[0m\u001b[0;34m(\u001b[0m\u001b[0mphi_AB1_dis\u001b[0m\u001b[0;34m)\u001b[0m\u001b[0;34m)\u001b[0m\u001b[0;34m\u001b[0m\u001b[0;34m\u001b[0m\u001b[0m\n\u001b[0m\u001b[1;32m      2\u001b[0m \u001b[0mprint\u001b[0m\u001b[0;34m(\u001b[0m\u001b[0mphi_AB1_dis1\u001b[0m\u001b[0;34m)\u001b[0m\u001b[0;34m\u001b[0m\u001b[0;34m\u001b[0m\u001b[0m\n",
            "\u001b[0;32m/usr/local/lib/python3.7/dist-packages/itk/support/extras.py\u001b[0m in \u001b[0;36mtransform_from_dict\u001b[0;34m(transform_dict)\u001b[0m\n\u001b[1;32m   1148\u001b[0m         \u001b[0;31m# because that way we can handle future extensions easily.\u001b[0m\u001b[0;34m\u001b[0m\u001b[0;34m\u001b[0m\u001b[0;34m\u001b[0m\u001b[0m\n\u001b[1;32m   1149\u001b[0m         \u001b[0mtransform_template\u001b[0m \u001b[0;34m=\u001b[0m \u001b[0mgetattr\u001b[0m\u001b[0;34m(\u001b[0m\u001b[0mitk\u001b[0m\u001b[0;34m,\u001b[0m \u001b[0mtransform_dict\u001b[0m\u001b[0;34m[\u001b[0m\u001b[0;36m0\u001b[0m\u001b[0;34m]\u001b[0m\u001b[0;34m[\u001b[0m\u001b[0;34m\"transformName\"\u001b[0m\u001b[0;34m]\u001b[0m\u001b[0;34m)\u001b[0m\u001b[0;34m\u001b[0m\u001b[0;34m\u001b[0m\u001b[0m\n\u001b[0;32m-> 1150\u001b[0;31m         \u001b[0mtransform\u001b[0m \u001b[0;34m=\u001b[0m \u001b[0mgetattr\u001b[0m\u001b[0;34m(\u001b[0m\u001b[0mtransform_template\u001b[0m\u001b[0;34m,\u001b[0m \u001b[0mtransform_dict\u001b[0m\u001b[0;34m[\u001b[0m\u001b[0;36m0\u001b[0m\u001b[0;34m]\u001b[0m\u001b[0;34m[\u001b[0m\u001b[0;34m\"transformType\"\u001b[0m\u001b[0;34m]\u001b[0m\u001b[0;34m)\u001b[0m\u001b[0;34m.\u001b[0m\u001b[0mNew\u001b[0m\u001b[0;34m(\u001b[0m\u001b[0;34m)\u001b[0m\u001b[0;34m\u001b[0m\u001b[0;34m\u001b[0m\u001b[0m\n\u001b[0m\u001b[1;32m   1151\u001b[0m         \u001b[0mtransform\u001b[0m\u001b[0;34m.\u001b[0m\u001b[0mSetObjectName\u001b[0m\u001b[0;34m(\u001b[0m\u001b[0mtransform_dict\u001b[0m\u001b[0;34m[\u001b[0m\u001b[0;36m0\u001b[0m\u001b[0;34m]\u001b[0m\u001b[0;34m[\u001b[0m\u001b[0;34m\"name\"\u001b[0m\u001b[0;34m]\u001b[0m\u001b[0;34m)\u001b[0m\u001b[0;34m\u001b[0m\u001b[0;34m\u001b[0m\u001b[0m\n\u001b[1;32m   1152\u001b[0m         \u001b[0mset_parameters\u001b[0m\u001b[0;34m(\u001b[0m\u001b[0mtransform\u001b[0m\u001b[0;34m,\u001b[0m \u001b[0mtransform_dict\u001b[0m\u001b[0;34m[\u001b[0m\u001b[0;36m0\u001b[0m\u001b[0;34m]\u001b[0m\u001b[0;34m[\u001b[0m\u001b[0;34m\"parameters\"\u001b[0m\u001b[0;34m]\u001b[0m\u001b[0;34m,\u001b[0m \u001b[0mtransform_dict\u001b[0m\u001b[0;34m[\u001b[0m\u001b[0;36m0\u001b[0m\u001b[0;34m]\u001b[0m\u001b[0;34m[\u001b[0m\u001b[0;34m\"fixedParameters\"\u001b[0m\u001b[0;34m]\u001b[0m\u001b[0;34m)\u001b[0m\u001b[0;34m\u001b[0m\u001b[0;34m\u001b[0m\u001b[0m\n",
            "\u001b[0;32m/usr/local/lib/python3.7/dist-packages/itk/support/template_class.py\u001b[0m in \u001b[0;36m__getattr__\u001b[0;34m(self, attr)\u001b[0m\n\u001b[1;32m    536\u001b[0m         \u001b[0;34m\"\"\"Support for lazy loading.\"\"\"\u001b[0m\u001b[0;34m\u001b[0m\u001b[0;34m\u001b[0m\u001b[0m\n\u001b[1;32m    537\u001b[0m         \u001b[0mself\u001b[0m\u001b[0;34m.\u001b[0m\u001b[0m_LoadModules\u001b[0m\u001b[0;34m(\u001b[0m\u001b[0;34m)\u001b[0m\u001b[0;34m\u001b[0m\u001b[0;34m\u001b[0m\u001b[0m\n\u001b[0;32m--> 538\u001b[0;31m         \u001b[0;32mreturn\u001b[0m \u001b[0mobject\u001b[0m\u001b[0;34m.\u001b[0m\u001b[0m__getattribute__\u001b[0m\u001b[0;34m(\u001b[0m\u001b[0mself\u001b[0m\u001b[0;34m,\u001b[0m \u001b[0mattr\u001b[0m\u001b[0;34m)\u001b[0m\u001b[0;34m\u001b[0m\u001b[0;34m\u001b[0m\u001b[0m\n\u001b[0m\u001b[1;32m    539\u001b[0m \u001b[0;34m\u001b[0m\u001b[0m\n\u001b[1;32m    540\u001b[0m     \u001b[0;32mdef\u001b[0m \u001b[0m_LoadModules\u001b[0m\u001b[0;34m(\u001b[0m\u001b[0mself\u001b[0m\u001b[0;34m)\u001b[0m \u001b[0;34m->\u001b[0m \u001b[0;32mNone\u001b[0m\u001b[0;34m:\u001b[0m\u001b[0;34m\u001b[0m\u001b[0;34m\u001b[0m\u001b[0m\n",
            "\u001b[0;31mAttributeError\u001b[0m: 'itkTemplate' object has no attribute 'D33'"
          ]
        }
      ]
    },
    {
      "cell_type": "code",
      "source": [
        "import pickle\n",
        "pickle.dump(d1, open(\"transform_object.pkl\", \"wb\")) "
      ],
      "metadata": {
        "id": "R1i2sj1sbSfl"
      },
      "execution_count": null,
      "outputs": []
    },
    {
      "cell_type": "code",
      "source": [
        "print(phi_AB1.GetNthTransform(1)[\"fixedParameters\"])"
      ],
      "metadata": {
        "colab": {
          "base_uri": "https://localhost:8080/"
        },
        "id": "n-9YIHJ5a3AX",
        "outputId": "db7ea824-fa2a-4798-fedb-44d4407c6a1c"
      },
      "execution_count": null,
      "outputs": [
        {
          "output_type": "stream",
          "name": "stdout",
          "text": [
            "[0. 0. 0. 0. 0. 0. 0. 0. 0. 0. 0. 0. 0. 0. 0. 0. 0. 0.]\n"
          ]
        }
      ]
    },
    {
      "cell_type": "code",
      "source": [
        "print(phi_AB.GetNthTransform(1)[\"fixedParameters\"])"
      ],
      "metadata": {
        "colab": {
          "base_uri": "https://localhost:8080/"
        },
        "id": "36L0jvSniGK6",
        "outputId": "8dd5d8ab-711c-4d1a-ea9f-92174d3e5ee0"
      },
      "execution_count": null,
      "outputs": [
        {
          "output_type": "stream",
          "name": "stdout",
          "text": [
            "[192. 192.  80.   0.   0.   0.   1.   1.   1.   1.   0.   0.   0.   1.\n",
            "   0.   0.   0.   1.]\n"
          ]
        }
      ]
    },
    {
      "cell_type": "code",
      "source": [
        "temp1 = phi_AB1.GetNthTransform(1)\n",
        "print(temp1[\"parameters\"])\n",
        "temp1[\"parameters\"] = phi_AB.GetNthTransform(1)[\"parameters\"]+1\n",
        "print(temp1[\"parameters\"])"
      ],
      "metadata": {
        "colab": {
          "base_uri": "https://localhost:8080/"
        },
        "id": "Tk6s1buzjVCY",
        "outputId": "f999be0c-b39c-4882-d8bd-721621c37051"
      },
      "execution_count": null,
      "outputs": [
        {
          "output_type": "stream",
          "name": "stdout",
          "text": [
            "[-1.55766129 -1.21581364 -0.17686807 ...  0.61738586  2.51548004\n",
            "  9.465065  ]\n",
            "[-0.55766129 -0.21581364  0.82313193 ...  1.61738586  3.51548004\n",
            " 10.465065  ]\n"
          ]
        }
      ]
    },
    {
      "cell_type": "code",
      "source": [
        "itk.dict_from_transform(phi_AB1)"
      ],
      "metadata": {
        "id": "SgwCk3O1kI3h"
      },
      "execution_count": null,
      "outputs": []
    },
    {
      "cell_type": "code",
      "source": [
        "itk.dict_from_transform(phi_AB)"
      ],
      "metadata": {
        "id": "b21yc9jGj7-V"
      },
      "execution_count": null,
      "outputs": []
    },
    {
      "cell_type": "code",
      "source": [
        "print(phi_AB.GetNthTransform(1)[\"parameters\"])"
      ],
      "metadata": {
        "colab": {
          "base_uri": "https://localhost:8080/"
        },
        "id": "YzZLycI7h5Ro",
        "outputId": "633e40ea-1878-4f15-c1d9-1fd5d94659a7"
      },
      "execution_count": null,
      "outputs": [
        {
          "output_type": "stream",
          "name": "stdout",
          "text": [
            "[-1.55766129 -1.21581364 -0.17686807 ...  0.61738586  2.51548004\n",
            "  9.465065  ]\n"
          ]
        }
      ]
    },
    {
      "cell_type": "code",
      "source": [
        "deformed_fc = deform_probmap_FC_delayed(phi_AB, image_A, image_B)"
      ],
      "metadata": {
        "id": "AggW6qERJ26R"
      },
      "execution_count": null,
      "outputs": []
    },
    {
      "cell_type": "code",
      "source": [
        "phi_AB1 = itk.transform_from_dict(d1)"
      ],
      "metadata": {
        "id": "3kMAjypVd7id"
      },
      "execution_count": null,
      "outputs": []
    },
    {
      "cell_type": "code",
      "source": [
        "phi_AB1[\"fixedParameters\"]\n",
        "print(phi_AB[\"fixedParameters\"])"
      ],
      "metadata": {
        "colab": {
          "base_uri": "https://localhost:8080/"
        },
        "id": "23FkZkOWhtlX",
        "outputId": "9fb7ec11-ad3f-4895-c187-984ab1d939c7"
      },
      "execution_count": null,
      "outputs": [
        {
          "output_type": "stream",
          "name": "stdout",
          "text": [
            "[]\n"
          ]
        }
      ]
    },
    {
      "cell_type": "code",
      "source": [
        "print(phi_AB1)"
      ],
      "metadata": {
        "colab": {
          "base_uri": "https://localhost:8080/"
        },
        "id": "GahX9qYKeCID",
        "outputId": "4658fb44-a5d4-4122-bcc1-8c9a49af0a67"
      },
      "execution_count": null,
      "outputs": [
        {
          "output_type": "stream",
          "name": "stdout",
          "text": [
            "CompositeTransform (0x8307c20)\n",
            "  RTTI typeinfo:   itk::CompositeTransform<double, 3u>\n",
            "  Reference Count: 1\n",
            "  Modified Time: 1031\n",
            "  Debug: Off\n",
            "  Object Name: \n",
            "  Observers: \n",
            "    none\n",
            "  Transforms in queue, from begin to end:\n",
            "  >>>>>>>>>\n",
            "  CenteredAffineTransform (0xc363900)\n",
            "    RTTI typeinfo:   itk::CenteredAffineTransform<double, 3u>\n",
            "    Reference Count: 1\n",
            "    Modified Time: 1022\n",
            "    Debug: Off\n",
            "    Object Name: \n",
            "    Observers: \n",
            "      none\n",
            "    Matrix: \n",
            "      1 0 0 \n",
            "      0 1 0 \n",
            "      0 0 1 \n",
            "    Offset: [0, 0, 0]\n",
            "    Center: [0, 0, 0]\n",
            "    Translation: [0, 0, 0]\n",
            "    Inverse: \n",
            "      1 0 0 \n",
            "      0 1 0 \n",
            "      0 0 1 \n",
            "    Singular: 0\n",
            "  >>>>>>>>>\n",
            "  DisplacementFieldTransform (0x7b405a0)\n",
            "    RTTI typeinfo:   itk::DisplacementFieldTransform<double, 3u>\n",
            "    Reference Count: 1\n",
            "    Modified Time: 1024\n",
            "    Debug: Off\n",
            "    Object Name: \n",
            "    Observers: \n",
            "      none\n",
            "    DisplacementField: (null)\n",
            "    InverseDisplacementField: (null)\n",
            "    Interpolator: \n",
            "      VectorLinearInterpolateImageFunction (0x3601f360)\n",
            "        RTTI typeinfo:   itk::VectorLinearInterpolateImageFunction<itk::Image<itk::Vector<double, 3u>, 3u>, double>\n",
            "        Reference Count: 1\n",
            "        Modified Time: 1025\n",
            "        Debug: Off\n",
            "        Object Name: \n",
            "        Observers: \n",
            "          none\n",
            "        InputImage: 0\n",
            "        StartIndex: [0, 0, 0]\n",
            "        EndIndex: [0, 0, 0]\n",
            "        StartContinuousIndex: [0, 0, 0]\n",
            "        EndContinuousIndex: [0, 0, 0]\n",
            "    InverseInterpolator: \n",
            "      VectorLinearInterpolateImageFunction (0x3601f400)\n",
            "        RTTI typeinfo:   itk::VectorLinearInterpolateImageFunction<itk::Image<itk::Vector<double, 3u>, 3u>, double>\n",
            "        Reference Count: 1\n",
            "        Modified Time: 1026\n",
            "        Debug: Off\n",
            "        Object Name: \n",
            "        Observers: \n",
            "          none\n",
            "        InputImage: 0\n",
            "        StartIndex: [0, 0, 0]\n",
            "        EndIndex: [0, 0, 0]\n",
            "        StartContinuousIndex: [0, 0, 0]\n",
            "        EndContinuousIndex: [0, 0, 0]\n",
            "    DisplacementFieldSetTime: 0\n",
            "    m_IdentityJacobian: [1, 0, 0]\n",
            "[0, 1, 0]\n",
            "[0, 0, 1]\n",
            "\n",
            "     CoordinateTolerance: 1e-06\n",
            "     DirectionTolerance: 1e-06\n",
            "  >>>>>>>>>\n",
            "  CenteredAffineTransform (0xc363780)\n",
            "    RTTI typeinfo:   itk::CenteredAffineTransform<double, 3u>\n",
            "    Reference Count: 1\n",
            "    Modified Time: 1027\n",
            "    Debug: Off\n",
            "    Object Name: \n",
            "    Observers: \n",
            "      none\n",
            "    Matrix: \n",
            "      1 0 0 \n",
            "      0 1 0 \n",
            "      0 0 1 \n",
            "    Offset: [0, 0, 0]\n",
            "    Center: [0, 0, 0]\n",
            "    Translation: [0, 0, 0]\n",
            "    Inverse: \n",
            "      1 0 0 \n",
            "      0 1 0 \n",
            "      0 0 1 \n",
            "    Singular: 0\n",
            "  End of MultiTransform.\n",
            "<<<<<<<<<<\n",
            "  TransformsToOptimizeFlags, begin() to end(): \n",
            "    1 1 1 \n",
            "  TransformsToOptimize in queue, from begin to end:\n",
            "  End of TransformsToOptimizeQueue.\n",
            "<<<<<<<<<<\n",
            "  End of CompositeTransform.\n",
            "<<<<<<<<<<\n",
            "\n"
          ]
        }
      ]
    },
    {
      "cell_type": "code",
      "source": [
        "d1 = itk.dict_from_transform(phi_AB)"
      ],
      "metadata": {
        "id": "KnnPVmUgdzBQ"
      },
      "execution_count": null,
      "outputs": []
    },
    {
      "cell_type": "code",
      "source": [
        "print(phi_AB)"
      ],
      "metadata": {
        "id": "LiaCLDdVds07"
      },
      "execution_count": null,
      "outputs": []
    },
    {
      "cell_type": "code",
      "source": [
        "d1"
      ],
      "metadata": {
        "id": "OeGQvP5oM0rm"
      },
      "execution_count": null,
      "outputs": []
    },
    {
      "cell_type": "code",
      "source": [
        "d1 = itk.dict_from_transform(phi_AB)\n",
        "phi_AB1 = itk.transform_from_dict(d1)\n",
        "\n",
        "print(phi_AB1)"
      ],
      "metadata": {
        "id": "WafSZY7MKWqO"
      },
      "execution_count": null,
      "outputs": []
    },
    {
      "cell_type": "code",
      "source": [
        "phi_AB1_fixed_params = phi_AB1.GetNthTransform(0)#['fixedParameters']\n",
        "print(phi_AB1_fixed_params[\"fixedParameters\"])\n",
        "\n",
        "phi_AB_fixed_params = phi_AB.GetNthTransform(0)#['fixedParameters']\n",
        "print(phi_AB_fixed_params[\"fixedParameters\"])\n",
        "\n",
        "#print(phi_AB1_fixed_params.GetFixedParameters())"
      ],
      "metadata": {
        "id": "TbzlXlKONPVm"
      },
      "execution_count": null,
      "outputs": []
    },
    {
      "cell_type": "code",
      "source": [
        "import itk\n",
        "import numpy as np\n",
        "import pickle\n",
        "\n",
        "Dimension = 3\n",
        "PixelType = itk.D\n",
        "\n",
        "# List of Transforms to test\n",
        "transforms_to_test = [itk.DisplacementFieldTransform[PixelType, Dimension]]#[itk.AffineTransform[PixelType, Dimension], itk.DisplacementFieldTransform[PixelType, Dimension], itk.BSplineTransform[PixelType, Dimension, 3], itk.QuaternionRigidTransform[PixelType]]\n",
        "\n",
        "keys_to_test1 = [\"name\", \"parametersValueType\", \"transformName\", \"transformType\", \"inDimension\", \"outDimension\", \"numberOfParameters\", \"numberOfFixedParameters\"]\n",
        "keys_to_test2 = [\"parameters\", \"fixedParameters\"]\n",
        "\n",
        "transform_object_list = []\n",
        "for i, transform_type in enumerate(transforms_to_test):\n",
        "    print(transform_type)\n",
        "\n",
        "    transform = transform_type.New()\n",
        "    transform.SetObjectName(\"transform\"+str(i))\n",
        "    print(transform.GetObjectName())\n",
        "\n",
        "    fixedParameters = np.random.rand(3, 3, 2).flatten()\n",
        "    print(transform.GetFixedParameters().Size())\n",
        "\n",
        "    #print(fixedParameters.dtype)\n",
        "    transform[\"fixedParameters\"] = fixedParameters\n",
        "\n",
        "    #print(transform[\"fixedParameters\"])\n",
        "\n",
        "    # Check the serialization\n",
        "    serialize_deserialize = pickle.loads(pickle.dumps(transform))\n",
        "\n",
        "    #print(serialize_deserialize)\n",
        "    # # Test all the attributes\n",
        "    for k in keys_to_test1:\n",
        "        assert serialize_deserialize[k] == transform[k]\n",
        "\n",
        "    # # Test all the parameters\n",
        "    for k in keys_to_test2:\n",
        "        print(k)\n",
        "        print(serialize_deserialize[k])\n",
        "        print(transform[k])\n",
        "        assert np.array_equal(serialize_deserialize[k], transform[k])\n",
        "\n",
        "    transform.SetFixedParameters(transform.GetFixedParameters())\n",
        "    #transform[\"fixedParameters\"] = fixedParameters#transform.GetFixedParameters()\n",
        "    #print(transform)\n",
        "    # transform_object_list.append(transform)\n",
        "\n",
        "print('Individual Transforms Test Done')"
      ],
      "metadata": {
        "colab": {
          "base_uri": "https://localhost:8080/",
          "height": 381
        },
        "id": "nrqDAxzqQs_V",
        "outputId": "df54c541-0fd8-4442-fbaf-9614bbbf9ac6"
      },
      "execution_count": null,
      "outputs": [
        {
          "output_type": "error",
          "ename": "ModuleNotFoundError",
          "evalue": "ignored",
          "traceback": [
            "\u001b[0;31m---------------------------------------------------------------------------\u001b[0m",
            "\u001b[0;31mModuleNotFoundError\u001b[0m                       Traceback (most recent call last)",
            "\u001b[0;32m<ipython-input-1-28ac62ca86d0>\u001b[0m in \u001b[0;36m<module>\u001b[0;34m()\u001b[0m\n\u001b[0;32m----> 1\u001b[0;31m \u001b[0;32mimport\u001b[0m \u001b[0mitk\u001b[0m\u001b[0;34m\u001b[0m\u001b[0;34m\u001b[0m\u001b[0m\n\u001b[0m\u001b[1;32m      2\u001b[0m \u001b[0;32mimport\u001b[0m \u001b[0mnumpy\u001b[0m \u001b[0;32mas\u001b[0m \u001b[0mnp\u001b[0m\u001b[0;34m\u001b[0m\u001b[0;34m\u001b[0m\u001b[0m\n\u001b[1;32m      3\u001b[0m \u001b[0;32mimport\u001b[0m \u001b[0mpickle\u001b[0m\u001b[0;34m\u001b[0m\u001b[0;34m\u001b[0m\u001b[0m\n\u001b[1;32m      4\u001b[0m \u001b[0;34m\u001b[0m\u001b[0m\n\u001b[1;32m      5\u001b[0m \u001b[0mDimension\u001b[0m \u001b[0;34m=\u001b[0m \u001b[0;36m3\u001b[0m\u001b[0;34m\u001b[0m\u001b[0;34m\u001b[0m\u001b[0m\n",
            "\u001b[0;31mModuleNotFoundError\u001b[0m: No module named 'itk'",
            "",
            "\u001b[0;31m---------------------------------------------------------------------------\u001b[0;32m\nNOTE: If your import is failing due to a missing package, you can\nmanually install dependencies using either !pip or !apt.\n\nTo view examples of installing some common dependencies, click the\n\"Open Examples\" button below.\n\u001b[0;31m---------------------------------------------------------------------------\u001b[0m\n"
          ],
          "errorDetails": {
            "actions": [
              {
                "action": "open_url",
                "actionText": "Open Examples",
                "url": "/notebooks/snippets/importing_libraries.ipynb"
              }
            ]
          }
        }
      ]
    },
    {
      "cell_type": "code",
      "source": [
        "transform.SetFixedParameters"
      ],
      "metadata": {
        "id": "1eW0If1hRmIg"
      },
      "execution_count": null,
      "outputs": []
    },
    {
      "cell_type": "code",
      "source": [
        "t1 = transform_object_list[1]\n",
        "print(t1[\"fixedParameters\"])"
      ],
      "metadata": {
        "id": "tztMFgs3QxVT"
      },
      "execution_count": null,
      "outputs": []
    },
    {
      "cell_type": "code",
      "source": [
        "transform_template = getattr(itk, 'DisplacementFieldTransform')\n",
        "transform_template"
      ],
      "metadata": {
        "id": "55FBR5LMNjKN"
      },
      "execution_count": null,
      "outputs": []
    },
    {
      "cell_type": "code",
      "source": [
        "a = np.array([3, 3])\n",
        "print(a.shape)\n",
        "print(np.random.rand(*a))"
      ],
      "metadata": {
        "id": "U-tAi3ECN14T"
      },
      "execution_count": null,
      "outputs": []
    },
    {
      "cell_type": "code",
      "source": [
        "output_result = compute(result)\n",
        "print(output_result)"
      ],
      "metadata": {
        "id": "WSZ2PUWYB0vy"
      },
      "execution_count": null,
      "outputs": []
    },
    {
      "cell_type": "code",
      "source": [
        "img_np = np.random.rand(5, 5)\n",
        "print(img_np.shape)\n",
        "\n",
        "img = itk.image_from_array(img_np)\n",
        "print(img.shape)"
      ],
      "metadata": {
        "id": "XDJkXRHs-7FN"
      },
      "execution_count": null,
      "outputs": []
    },
    {
      "cell_type": "code",
      "source": [
        "# Create a test mesh\n",
        "\n",
        "m = itk.Mesh.F3.New()\n",
        "p = np.random.rand(5, 3).astype('float32')\n",
        "print(p.shape, p.dtype)\n",
        "m.SetPoints(itk.vector_container_from_array(p.flatten()))\n",
        "\n",
        "#md = itk.dict_from_mesh(m)\n",
        "#print(md)"
      ],
      "metadata": {
        "id": "A87IIQ4tcwvQ"
      },
      "execution_count": null,
      "outputs": []
    },
    {
      "cell_type": "code",
      "source": [
        "@delayed\n",
        "def perform_sum1(img_temp):\n",
        "  import itk\n",
        "  mesh = itk.mesh_from_dict(img_temp)\n",
        "  return img_temp['dimension']\n",
        "\n",
        "  #return np.sum(img_temp['points'])\n",
        "  #return itk.di\n",
        "  #import itkConfig\n",
        "  #itkConfig.LazyLoading = False\n",
        "  #import itk\n",
        "  #return itk.image_from_array(img_temp)\n",
        "  #a = np.array(img_temp)\n",
        "  #return a#np.sum(img_temp)"
      ],
      "metadata": {
        "id": "LO0weghb_KIm"
      },
      "execution_count": null,
      "outputs": []
    },
    {
      "cell_type": "code",
      "source": [
        "# Create Dask Computation Graph\n",
        "\n",
        "result = []\n",
        "\n",
        "#import_done = import_all()\n",
        "image_preprocessed, atlas_image   = get_paths()\n",
        "\n",
        "image_A, image_B, FC_prob, TC_prob  = read_images(image_preprocessed, atlas_image)\n",
        "phi_AB            = only_register_images(image_A, image_B)\n",
        "\n",
        "warped_image_FC = deform_probmap_FC(phi_AB, image_A, image_B, FC_prob)\n",
        "warped_image_TC = deform_probmap_TC(phi_AB, image_A, image_B, TC_prob)\n",
        "\n",
        "thickness_FC = get_thickness_FC(warped_image_FC)\n",
        "thickness_TC = get_thickness_TC(warped_image_TC)\n",
        "\n",
        "result.append(thickness_FC)\n",
        "result.append(thickness_TC)"
      ],
      "metadata": {
        "id": "19uaqQxfXFGZ"
      },
      "execution_count": null,
      "outputs": []
    },
    {
      "cell_type": "code",
      "source": [
        "numParam = deform_probmap_FC_paramA(phi_AB)\n"
      ],
      "metadata": {
        "id": "TAkwQu9Emm_-"
      },
      "execution_count": null,
      "outputs": []
    },
    {
      "cell_type": "code",
      "source": [
        "m1 = itk.dict_from_mesh(m)\n",
        "sumImg = perform_sum1(m1)"
      ],
      "metadata": {
        "id": "9-jWMZxT_S-0"
      },
      "execution_count": null,
      "outputs": []
    },
    {
      "cell_type": "code",
      "source": [
        "#cluster.close()"
      ],
      "metadata": {
        "id": "PzSIRcHff1BP"
      },
      "execution_count": null,
      "outputs": []
    },
    {
      "cell_type": "code",
      "source": [
        "# Visualize Dask Computation Graph\n",
        "\n",
        "visualize(sumImg)"
      ],
      "metadata": {
        "id": "7B9giaonXGfA"
      },
      "execution_count": null,
      "outputs": []
    },
    {
      "cell_type": "code",
      "source": [
        "# Perform computation\n",
        "#%%time\n",
        "l = compute(sumImg)"
      ],
      "metadata": {
        "id": "06pW5urcXIzF"
      },
      "execution_count": null,
      "outputs": []
    },
    {
      "cell_type": "code",
      "source": [
        "print(l)"
      ],
      "metadata": {
        "id": "wBmRAP-Dlwpe"
      },
      "execution_count": null,
      "outputs": []
    },
    {
      "cell_type": "code",
      "source": [
        "import pickle\n",
        "import cloudpickle\n",
        "a = itk.image_from_array(img_np)\n",
        "b = cloudpickle.loads(pickle.dumps(a))\n",
        "print(b)"
      ],
      "metadata": {
        "id": "oW-DKEDbFfIM"
      },
      "execution_count": null,
      "outputs": []
    },
    {
      "cell_type": "code",
      "source": [
        "!pip install cloudpickle"
      ],
      "metadata": {
        "id": "TQwypZ4tHEZW"
      },
      "execution_count": null,
      "outputs": []
    },
    {
      "cell_type": "code",
      "source": [
        ""
      ],
      "metadata": {
        "id": "K6S0ee-zGwa-"
      },
      "execution_count": null,
      "outputs": []
    },
    {
      "cell_type": "markdown",
      "source": [
        "![DaskProgress](https://user-images.githubusercontent.com/1044135/163692457-40a41395-3d83-4928-9445-528cd025a7b9.png)\n"
      ],
      "metadata": {
        "id": "4MlwDE5nXo4C"
      }
    },
    {
      "cell_type": "code",
      "source": [
        "# Write the result meshes\n",
        "\n",
        "distance_inner_FC = l[0]\n",
        "distance_inner_TC = l[1]\n",
        "\n",
        "itk.meshwrite(distance_inner_FC, 'itk_distance_inner_FC.vtk')\n",
        "itk.meshwrite(distance_inner_TC, 'itk_distance_inner_TC.vtk')"
      ],
      "metadata": {
        "id": "EGoH_Yv4XwN-"
      },
      "execution_count": null,
      "outputs": []
    },
    {
      "cell_type": "code",
      "source": [
        "# Visualize the meshes with thickness as cell data\n",
        "\n",
        "# To enable running the itkwidgets window on colab\n",
        "from google.colab import output\n",
        "output.enable_custom_widget_manager()\n",
        "\n",
        "a1 = vtk.vtkPolyDataReader()\n",
        "a1.SetFileName('itk_distance_inner_FC.vtk')\n",
        "a1.Update()\n",
        "distance_inner_FC = a1.GetOutput()\n",
        "\n",
        "itkwidgets.view(geometries=[distance_inner_FC])"
      ],
      "metadata": {
        "id": "NyM5dBpSX2D6"
      },
      "execution_count": null,
      "outputs": []
    }
  ]
}