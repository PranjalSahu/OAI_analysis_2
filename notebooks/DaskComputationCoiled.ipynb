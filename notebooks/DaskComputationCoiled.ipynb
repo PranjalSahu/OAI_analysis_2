{
  "cells": [
    {
      "cell_type": "markdown",
      "metadata": {
        "id": "view-in-github",
        "colab_type": "text"
      },
      "source": [
        "<a href=\"https://colab.research.google.com/github/PranjalSahu/OAI_analysis_2/blob/pranjal/notebooks/DaskComputationCoiled.ipynb\" target=\"_parent\"><img src=\"https://colab.research.google.com/assets/colab-badge.svg\" alt=\"Open In Colab\"/></a>"
      ]
    },
    {
      "cell_type": "code",
      "execution_count": null,
      "metadata": {
        "id": "8VnZ6zuBOtp3"
      },
      "outputs": [],
      "source": [
        "# Install packages\n",
        "\n",
        "# Remember to Restart runtime after installation\n",
        "\n",
        "\n",
        "!pip install itk==5.3rc4\n",
        "!pip install vtk\n",
        "!pip install itkwidgets\n",
        "!pip install icon-registration==0.3.4\n",
        "!pip install tornado==6.1\n",
        "!pip install coiled\n",
        "!pip install torch\n",
        "!pip install jupyter\n",
        "!pip install git+https://github.com/uncbiag/mermaid.git\n",
        "!pip install git+https://github.com/uncbiag/easyreg.git\n",
        "!pip install git+https://github.com/PranjalSahu/OAI_analysis_2.git#egg=oai_package"
      ]
    },
    {
      "cell_type": "code",
      "execution_count": 1,
      "metadata": {
        "id": "0w5y-3zBOxkY"
      },
      "outputs": [],
      "source": [
        "# All Imports\n",
        "\n",
        "import numpy as np\n",
        "import itk\n",
        "import vtk\n",
        "import itkwidgets\n",
        "import icon_registration\n",
        "import icon_registration.itk_wrapper as itk_wrapper\n",
        "import icon_registration.pretrained_models as pretrained_models\n",
        "from oai_analysis_2 import mesh_processing as mp\n",
        "\n",
        "import os\n",
        "os.environ[\"CUDA_VISIBLE_DEVICES\"]=\"\"\n",
        "\n",
        "import boto3\n",
        "import coiled\n",
        "import dask\n",
        "from dask import delayed, compute, visualize\n",
        "from dask.distributed import Client, progress, LocalCluster"
      ]
    },
    {
      "cell_type": "code",
      "execution_count": null,
      "metadata": {
        "id": "D-E-5gV6KX8E"
      },
      "outputs": [],
      "source": [
        "# Create the environment\n",
        "\n",
        "if False:\n",
        "  coiled.create_software_environment(\n",
        "    name=\"oai6\",\n",
        "    pip=\"coiled_requirements.txt\",\n",
        "  )"
      ]
    },
    {
      "cell_type": "code",
      "source": [
        "# To create a software environment using docker with open gl installed\n",
        "# coiled.create_software_environment(\n",
        "#     name=\"oai6\",\n",
        "#     container=\"pranjalsahu/pranjal-sahu-oai6:latest\",\n",
        "# )"
      ],
      "metadata": {
        "colab": {
          "base_uri": "https://localhost:8080/",
          "height": 69
        },
        "id": "O-pxKPFD2Ld9",
        "outputId": "4b8d4dcc-2b5b-491d-d531-bfedad3ee87b"
      },
      "execution_count": null,
      "outputs": [
        {
          "output_type": "stream",
          "name": "stdout",
          "text": [
            "Creating new software environment\n",
            "Creating container-only software environment\n",
            "Successfully saved software environment build\n"
          ]
        }
      ]
    },
    {
      "cell_type": "code",
      "execution_count": 2,
      "metadata": {
        "id": "2wQIfgkLSMRy",
        "colab": {
          "base_uri": "https://localhost:8080/",
          "height": 33,
          "referenced_widgets": [
            "0fdf3ebec30d4459a90be4314731236d",
            "c511b4eef0e74cd98b84c8c4e9b2cda5"
          ]
        },
        "outputId": "f0063135-18b1-4eaa-f1ba-f5b54eddc6b5"
      },
      "outputs": [
        {
          "output_type": "display_data",
          "data": {
            "text/plain": [
              "Output()"
            ],
            "application/vnd.jupyter.widget-view+json": {
              "version_major": 2,
              "version_minor": 0,
              "model_id": "0fdf3ebec30d4459a90be4314731236d"
            }
          },
          "metadata": {}
        },
        {
          "output_type": "display_data",
          "data": {
            "text/plain": [
              "Using existing cluster: \u001b[32m'oai-processing'\u001b[0m\n"
            ],
            "text/html": [
              "<pre style=\"white-space:pre;overflow-x:auto;line-height:normal;font-family:Menlo,'DejaVu Sans Mono',consolas,'Courier New',monospace\">Using existing cluster: <span style=\"color: #008000; text-decoration-color: #008000\">'oai-processing'</span>\n",
              "</pre>\n"
            ]
          },
          "metadata": {}
        },
        {
          "output_type": "display_data",
          "data": {
            "text/plain": [
              ""
            ],
            "text/html": [
              "<pre style=\"white-space:pre;overflow-x:auto;line-height:normal;font-family:Menlo,'DejaVu Sans Mono',consolas,'Courier New',monospace\"></pre>\n"
            ]
          },
          "metadata": {}
        }
      ],
      "source": [
        "# Create Dask Client. This will also spawn dask worker and scheduler\n",
        "\n",
        "use_coiled = True\n",
        "\n",
        "if use_coiled:\n",
        "  name = 'oai-processing'\n",
        "  cluster = coiled.Cluster(n_workers=2,\n",
        "                         worker_cpu=8,\n",
        "                         worker_memory='31G',\n",
        "                         name=name,\n",
        "                         software='pranjal-sahu/oai6')\n",
        "  client = dask.distributed.Client(cluster, \n",
        "                                   serializers=['pickle', 'dask'],\n",
        "                                   deserializers=['pickle', 'dask'])\n",
        "  client\n",
        "else:\n",
        "  cluster = LocalCluster(processes=False)\n",
        "  client = Client(cluster)\n",
        "  client"
      ]
    },
    {
      "cell_type": "code",
      "source": [
        "client"
      ],
      "metadata": {
        "id": "YRutouN1Nu-t",
        "outputId": "36783f91-97bc-4d87-acba-c38fdc03053d",
        "colab": {
          "base_uri": "https://localhost:8080/",
          "height": 161
        }
      },
      "execution_count": 3,
      "outputs": [
        {
          "output_type": "execute_result",
          "data": {
            "text/plain": [
              "<Client: 'tls://10.0.0.85:8786' processes=2 threads=16, memory=61.48 GiB>"
            ],
            "text/html": [
              "<div>\n",
              "    <div style=\"width: 24px; height: 24px; background-color: #e1e1e1; border: 3px solid #9D9D9D; border-radius: 5px; position: absolute;\"> </div>\n",
              "    <div style=\"margin-left: 48px;\">\n",
              "        <h3 style=\"margin-bottom: 0px;\">Client</h3>\n",
              "        <p style=\"color: #9D9D9D; margin-bottom: 0px;\">Client-0cccf874-cc98-11ec-852c-0242ac1c0002</p>\n",
              "        <table style=\"width: 100%; text-align: left;\">\n",
              "\n",
              "        <tr>\n",
              "        \n",
              "            <td style=\"text-align: left;\"><strong>Connection method:</strong> Cluster object</td>\n",
              "            <td style=\"text-align: left;\"><strong>Cluster type:</strong> coiled.Cluster</td>\n",
              "        \n",
              "        </tr>\n",
              "\n",
              "        \n",
              "            <tr>\n",
              "                <td style=\"text-align: left;\">\n",
              "                    <strong>Dashboard: </strong> <a href=\"http://3.80.217.99:8787\" target=\"_blank\">http://3.80.217.99:8787</a>\n",
              "                </td>\n",
              "                <td style=\"text-align: left;\"></td>\n",
              "            </tr>\n",
              "        \n",
              "\n",
              "        </table>\n",
              "\n",
              "        \n",
              "            <details>\n",
              "            <summary style=\"margin-bottom: 20px;\"><h3 style=\"display: inline;\">Cluster Info</h3></summary>\n",
              "            <div class=\"jp-RenderedHTMLCommon jp-RenderedHTML jp-mod-trusted jp-OutputArea-output\">\n",
              "    <div style=\"width: 24px; height: 24px; background-color: #e1e1e1; border: 3px solid #9D9D9D; border-radius: 5px; position: absolute;\">\n",
              "    </div>\n",
              "    <div style=\"margin-left: 48px;\">\n",
              "        <h3 style=\"margin-bottom: 0px; margin-top: 0px;\">Cluster</h3>\n",
              "        <p style=\"color: #9D9D9D; margin-bottom: 0px;\">oai-processing</p>\n",
              "        <table style=\"width: 100%; text-align: left;\">\n",
              "            <tr>\n",
              "                <td style=\"text-align: left;\">\n",
              "                    <strong>Dashboard:</strong> <a href=\"http://3.80.217.99:8787\" target=\"_blank\">http://3.80.217.99:8787</a>\n",
              "                </td>\n",
              "                <td style=\"text-align: left;\">\n",
              "                    <strong>Workers:</strong> 2\n",
              "                </td>\n",
              "            </tr>\n",
              "            <tr>\n",
              "                <td style=\"text-align: left;\">\n",
              "                    <strong>Total threads:</strong> 16\n",
              "                </td>\n",
              "                <td style=\"text-align: left;\">\n",
              "                    <strong>Total memory:</strong> 61.48 GiB\n",
              "                </td>\n",
              "            </tr>\n",
              "            \n",
              "        </table>\n",
              "\n",
              "        <details>\n",
              "            <summary style=\"margin-bottom: 20px;\">\n",
              "                <h3 style=\"display: inline;\">Scheduler Info</h3>\n",
              "            </summary>\n",
              "\n",
              "            <div style=\"\">\n",
              "    <div>\n",
              "        <div style=\"width: 24px; height: 24px; background-color: #FFF7E5; border: 3px solid #FF6132; border-radius: 5px; position: absolute;\"> </div>\n",
              "        <div style=\"margin-left: 48px;\">\n",
              "            <h3 style=\"margin-bottom: 0px;\">Scheduler</h3>\n",
              "            <p style=\"color: #9D9D9D; margin-bottom: 0px;\">Scheduler-0760b654-375f-4759-af1f-7ce3779130c3</p>\n",
              "            <table style=\"width: 100%; text-align: left;\">\n",
              "                <tr>\n",
              "                    <td style=\"text-align: left;\">\n",
              "                        <strong>Comm:</strong> tls://10.0.0.85:8786\n",
              "                    </td>\n",
              "                    <td style=\"text-align: left;\">\n",
              "                        <strong>Workers:</strong> 2\n",
              "                    </td>\n",
              "                </tr>\n",
              "                <tr>\n",
              "                    <td style=\"text-align: left;\">\n",
              "                        <strong>Dashboard:</strong> <a href=\"http://10.0.0.85:8787/status\" target=\"_blank\">http://10.0.0.85:8787/status</a>\n",
              "                    </td>\n",
              "                    <td style=\"text-align: left;\">\n",
              "                        <strong>Total threads:</strong> 16\n",
              "                    </td>\n",
              "                </tr>\n",
              "                <tr>\n",
              "                    <td style=\"text-align: left;\">\n",
              "                        <strong>Started:</strong> 9 minutes ago\n",
              "                    </td>\n",
              "                    <td style=\"text-align: left;\">\n",
              "                        <strong>Total memory:</strong> 61.48 GiB\n",
              "                    </td>\n",
              "                </tr>\n",
              "            </table>\n",
              "        </div>\n",
              "    </div>\n",
              "\n",
              "    <details style=\"margin-left: 48px;\">\n",
              "        <summary style=\"margin-bottom: 20px;\">\n",
              "            <h3 style=\"display: inline;\">Workers</h3>\n",
              "        </summary>\n",
              "\n",
              "        \n",
              "        <div style=\"margin-bottom: 20px;\">\n",
              "            <div style=\"width: 24px; height: 24px; background-color: #DBF5FF; border: 3px solid #4CC9FF; border-radius: 5px; position: absolute;\"> </div>\n",
              "            <div style=\"margin-left: 48px;\">\n",
              "            <details>\n",
              "                <summary>\n",
              "                    <h4 style=\"margin-bottom: 0px; display: inline;\">Worker: coiled-dask-pranjal09-152383-worker-7fd143b21f</h4>\n",
              "                </summary>\n",
              "                <table style=\"width: 100%; text-align: left;\">\n",
              "                    <tr>\n",
              "                        <td style=\"text-align: left;\">\n",
              "                            <strong>Comm: </strong> tls://10.0.0.218:34367\n",
              "                        </td>\n",
              "                        <td style=\"text-align: left;\">\n",
              "                            <strong>Total threads: </strong> 8\n",
              "                        </td>\n",
              "                    </tr>\n",
              "                    <tr>\n",
              "                        <td style=\"text-align: left;\">\n",
              "                            <strong>Dashboard: </strong> <a href=\"http://10.0.0.218:44941/status\" target=\"_blank\">http://10.0.0.218:44941/status</a>\n",
              "                        </td>\n",
              "                        <td style=\"text-align: left;\">\n",
              "                            <strong>Memory: </strong> 30.74 GiB\n",
              "                        </td>\n",
              "                    </tr>\n",
              "                    <tr>\n",
              "                        <td style=\"text-align: left;\">\n",
              "                            <strong>Nanny: </strong> tls://10.0.0.218:32795\n",
              "                        </td>\n",
              "                        <td style=\"text-align: left;\"></td>\n",
              "                    </tr>\n",
              "                    <tr>\n",
              "                        <td colspan=\"2\" style=\"text-align: left;\">\n",
              "                            <strong>Local directory: </strong> /dask-worker-space/worker-2h63xzwp\n",
              "                        </td>\n",
              "                    </tr>\n",
              "\n",
              "                    \n",
              "\n",
              "                    \n",
              "\n",
              "                </table>\n",
              "            </details>\n",
              "            </div>\n",
              "        </div>\n",
              "        \n",
              "        <div style=\"margin-bottom: 20px;\">\n",
              "            <div style=\"width: 24px; height: 24px; background-color: #DBF5FF; border: 3px solid #4CC9FF; border-radius: 5px; position: absolute;\"> </div>\n",
              "            <div style=\"margin-left: 48px;\">\n",
              "            <details>\n",
              "                <summary>\n",
              "                    <h4 style=\"margin-bottom: 0px; display: inline;\">Worker: coiled-dask-pranjal09-152383-worker-f46a11c2fc</h4>\n",
              "                </summary>\n",
              "                <table style=\"width: 100%; text-align: left;\">\n",
              "                    <tr>\n",
              "                        <td style=\"text-align: left;\">\n",
              "                            <strong>Comm: </strong> tls://10.0.4.47:33463\n",
              "                        </td>\n",
              "                        <td style=\"text-align: left;\">\n",
              "                            <strong>Total threads: </strong> 8\n",
              "                        </td>\n",
              "                    </tr>\n",
              "                    <tr>\n",
              "                        <td style=\"text-align: left;\">\n",
              "                            <strong>Dashboard: </strong> <a href=\"http://10.0.4.47:37427/status\" target=\"_blank\">http://10.0.4.47:37427/status</a>\n",
              "                        </td>\n",
              "                        <td style=\"text-align: left;\">\n",
              "                            <strong>Memory: </strong> 30.74 GiB\n",
              "                        </td>\n",
              "                    </tr>\n",
              "                    <tr>\n",
              "                        <td style=\"text-align: left;\">\n",
              "                            <strong>Nanny: </strong> tls://10.0.4.47:35227\n",
              "                        </td>\n",
              "                        <td style=\"text-align: left;\"></td>\n",
              "                    </tr>\n",
              "                    <tr>\n",
              "                        <td colspan=\"2\" style=\"text-align: left;\">\n",
              "                            <strong>Local directory: </strong> /dask-worker-space/worker-n62u0x3u\n",
              "                        </td>\n",
              "                    </tr>\n",
              "\n",
              "                    \n",
              "\n",
              "                    \n",
              "\n",
              "                </table>\n",
              "            </details>\n",
              "            </div>\n",
              "        </div>\n",
              "        \n",
              "\n",
              "    </details>\n",
              "</div>\n",
              "\n",
              "        </details>\n",
              "    </div>\n",
              "</div>\n",
              "            </details>\n",
              "        \n",
              "\n",
              "    </div>\n",
              "</div>"
            ]
          },
          "metadata": {},
          "execution_count": 3
        }
      ]
    },
    {
      "cell_type": "code",
      "source": [
        "cluster"
      ],
      "metadata": {
        "colab": {
          "base_uri": "https://localhost:8080/",
          "height": 17,
          "referenced_widgets": [
            "ef35542d83fd4a6eb38d062367658a23",
            "7c6a6eaedaf1455e9e4ce6e9bb2fc7b2",
            "35f0646f5ded451d99e92a7c74e9486e",
            "04433edc426a4ba99ba1d3a937f42d15",
            "54ee4db13cab4eebada9fe0ebc9dba3c",
            "e58a8323c0b64d82a5fa75377cf46e50",
            "89cfc99bacb3424983f0127b1065c98b",
            "9e81c59ecf804e56af1c69f30fda8cf9",
            "641ae4f0ec3a4d78858476edec985aa0",
            "57cb38340f6f4d3ab264f2d2632dea0c",
            "41aceabecac9409ca3cd650811e5b81c",
            "5a2b742a85db450980d791c0d30ec0bd",
            "95f476e89c704ea2b99117c533506201",
            "67040281464e48f29e7bb370c7994cc3",
            "1756413d3140403a8b76e05a0e866375",
            "5af73d4418724958af448bb859c5104f",
            "4b8ceab0cbf144be98d10b01fb4c6401",
            "3fbd04438ff14c56b54242a5270f7abb",
            "e8b95ef0e41c47a4a1144699015e17fd",
            "bf2ddee8d91e41698fda46f6fea7de6b",
            "82eade6e25264c058e9a3e00e8a291a0",
            "c9d8794770314d9f9477af9179f02cee",
            "6d320e968b5a41dcb994108cc4d95e50",
            "06f88296a85a4161b62436df3bdbe371",
            "524f7dc765484bc1bde0936c51a13fcf",
            "5c3a8f89501747de8a2d87347077af33",
            "8230507bb71d4e8fb7f1a79cf5e31036"
          ]
        },
        "id": "qE__24JAckLS",
        "outputId": "11f6162e-37b5-47ec-dd7f-76f26a0b3bb2"
      },
      "execution_count": 19,
      "outputs": [
        {
          "output_type": "display_data",
          "data": {
            "text/plain": [
              "Tab(children=(HTML(value='<div class=\"jp-RenderedHTMLCommon jp-RenderedHTML jp-mod-trusted jp-OutputArea-outpu…"
            ],
            "application/vnd.jupyter.widget-view+json": {
              "version_major": 2,
              "version_minor": 0,
              "model_id": "ef35542d83fd4a6eb38d062367658a23"
            }
          },
          "metadata": {
            "application/vnd.jupyter.widget-view+json": {
              "colab": {
                "custom_widget_manager": {
                  "url": "https://ssl.gstatic.com/colaboratory-static/widgets/colab-cdn-widget-manager/a8874ba6619b6106/manager.min.js"
                }
              }
            }
          }
        }
      ]
    },
    {
      "cell_type": "code",
      "execution_count": 4,
      "metadata": {
        "id": "2HbtL8r4TiKb"
      },
      "outputs": [],
      "source": [
        "# All Function Definitions with Dask Delayed Decorator to perform parallel Computing\n",
        "\n",
        "@delayed(nout=3)\n",
        "def register_images_delayed():\n",
        "    import boto3\n",
        "    import itk\n",
        "    import icon_registration\n",
        "    import icon_registration.itk_wrapper as itk_wrapper\n",
        "    import icon_registration.pretrained_models as pretrained_models\n",
        "    from os.path import exists\n",
        "\n",
        "    if 1:\n",
        "        image_A = 'image_preprocessed.nii.gz'\n",
        "        image_B = 'atlas_image.nii.gz'\n",
        "        if (exists(image_A) and exists(image_B)) == False:\n",
        "          s3          = boto3.resource(\"s3\")\n",
        "          bucket_name = 'oaisample1'\n",
        "          bucket      = s3.Bucket(bucket_name)\n",
        "\n",
        "          s3.Bucket(bucket_name).download_file(image_A, image_A)\n",
        "          s3.Bucket(bucket_name).download_file(image_B, image_B)\n",
        "    else:\n",
        "        image_A = './OAIData/image_preprocessed.nii.gz'\n",
        "        image_B = './OAIData/atlas_image.nii.gz'\n",
        "\n",
        "    image_A = itk.imread(image_A, itk.D)\n",
        "    image_B = itk.imread(image_B, itk.D)\n",
        "\n",
        "    model = pretrained_models.OAI_knees_gradICON_model()\n",
        "    model.to('cpu')\n",
        "\n",
        "    # Register the images\n",
        "    phi_AB, phi_BA = itk_wrapper.register_pair(model, image_A, image_B)\n",
        "    return itk.dict_from_transform(phi_AB), itk.dict_from_image(image_A), itk.dict_from_image(image_B)\n",
        "\n",
        "@delayed(nout=1)\n",
        "def deform_probmap_FC_delayed(phi_AB, image_A, image_B):\n",
        "    import itk\n",
        "    import boto3\n",
        "\n",
        "    if 1:\n",
        "        s3          = boto3.resource(\"s3\")\n",
        "        bucket_name = 'oaisample1'\n",
        "        bucket      = s3.Bucket(bucket_name)\n",
        "        fc_prob_file = 'FC_probmap.nii.gz'\n",
        "        s3.Bucket(bucket_name).download_file(fc_prob_file, fc_prob_file)\n",
        "\n",
        "    phi_AB1  = itk.transform_from_dict(phi_AB)\n",
        "    \n",
        "    def set_parameters(phi_AB, phi_AB1):\n",
        "        for i in range(len(phi_AB)-1):\n",
        "            transform1 = phi_AB1.GetNthTransform(i)\n",
        "\n",
        "            fp = phi_AB[i+1]['fixedParameters']\n",
        "            o1 = transform1.GetFixedParameters()\n",
        "            o1.SetSize(fp.shape[0])\n",
        "            for j, v in enumerate(fp):\n",
        "                o1.SetElement(j, v)\n",
        "            transform1.SetFixedParameters(o1)\n",
        "\n",
        "            p = phi_AB[i+1]['parameters']\n",
        "            o2 = transform1.GetParameters()\n",
        "            o2.SetSize(p.shape[0])\n",
        "            for j, v in enumerate(p):\n",
        "                o2.SetElement(j, v)\n",
        "            transform1.SetParameters(o2)\n",
        "\n",
        "    set_parameters(phi_AB, phi_AB1)\n",
        "    image_A = itk.image_from_dict(image_A)\n",
        "    image_B = itk.image_from_dict(image_B)\n",
        "\n",
        "    interpolator = itk.LinearInterpolateImageFunction.New(image_A)\n",
        "    \n",
        "    prob_file = 'FC_probmap.nii.gz'\n",
        "    prob = itk.imread(prob_file, itk.D)\n",
        "\n",
        "    warped_image = itk.resample_image_filter(prob, \n",
        "       transform=phi_AB1, \n",
        "       interpolator=interpolator,\n",
        "       size=itk.size(image_B),\n",
        "       output_spacing=itk.spacing(image_B),\n",
        "       output_direction=image_B.GetDirection(),\n",
        "       output_origin=image_B.GetOrigin()\n",
        "    )\n",
        "\n",
        "    output_dict = itk.dict_from_image(warped_image)\n",
        "    return output_dict\n",
        "  \n",
        "@delayed\n",
        "def deform_probmap_delayed(phi_AB, image_A, image_B, image_type ='FC'):\n",
        "    import itk\n",
        "    import boto3\n",
        "\n",
        "    if 1:\n",
        "        s3          = boto3.resource(\"s3\")\n",
        "        bucket_name = 'oaisample1'\n",
        "        bucket      = s3.Bucket(bucket_name)\n",
        "        fc_prob_file = str(image_type)+'_probmap.nii.gz'\n",
        "        s3.Bucket(bucket_name).download_file(fc_prob_file, fc_prob_file)\n",
        "\n",
        "    phi_AB1  = itk.transform_from_dict(phi_AB)\n",
        "    \n",
        "    def set_parameters(phi_AB, phi_AB1):\n",
        "        for i in range(len(phi_AB)-1):\n",
        "            transform1 = phi_AB1.GetNthTransform(i)\n",
        "\n",
        "            fp = phi_AB[i+1]['fixedParameters']\n",
        "            o1 = transform1.GetFixedParameters()\n",
        "            o1.SetSize(fp.shape[0])\n",
        "            for j, v in enumerate(fp):\n",
        "                o1.SetElement(j, v)\n",
        "            transform1.SetFixedParameters(o1)\n",
        "\n",
        "            p = phi_AB[i+1]['parameters']\n",
        "            o2 = transform1.GetParameters()\n",
        "            o2.SetSize(p.shape[0])\n",
        "            for j, v in enumerate(p):\n",
        "                o2.SetElement(j, v)\n",
        "            transform1.SetParameters(o2)\n",
        "\n",
        "    set_parameters(phi_AB, phi_AB1)\n",
        "    image_A = itk.image_from_dict(image_A)\n",
        "    image_B = itk.image_from_dict(image_B)\n",
        "\n",
        "    interpolator = itk.LinearInterpolateImageFunction.New(image_A)\n",
        "    \n",
        "    prob_file = str(image_type)+'_probmap.nii.gz'\n",
        "    prob = itk.imread(prob_file, itk.D)\n",
        "\n",
        "    warped_image = itk.resample_image_filter(prob, \n",
        "       transform=phi_AB1, \n",
        "       interpolator=interpolator,\n",
        "       size=itk.size(image_B),\n",
        "       output_spacing=itk.spacing(image_B),\n",
        "       output_direction=image_B.GetDirection(),\n",
        "       output_origin=image_B.GetOrigin()\n",
        "    )\n",
        "\n",
        "    output_dict = itk.dict_from_image(warped_image)\n",
        "    return output_dict\n",
        "    \n",
        "\n",
        "@delayed(nout=1)\n",
        "def get_thickness(warped_image, mesh_type):\n",
        "    import itk\n",
        "    import vtk\n",
        "    import numpy as np\n",
        "    from oai_analysis_2 import mesh_processing as mp\n",
        "\n",
        "    def get_itk_mesh(vtk_mesh):\n",
        "        Dimension = 3\n",
        "        PixelType = itk.D\n",
        "        \n",
        "        # Get points array from VTK mesh\n",
        "        points = vtk_mesh.GetPoints().GetData()\n",
        "        points_numpy = np.array(points).flatten()#.astype('float32')\n",
        "            \n",
        "        polys = vtk_mesh.GetPolys().GetData()\n",
        "        polys_numpy = np.array(polys).flatten()\n",
        "\n",
        "        # Triangle Mesh\n",
        "        vtk_cells_count = vtk_mesh.GetNumberOfPolys()\n",
        "        polys_numpy = np.reshape(polys_numpy, [vtk_cells_count, Dimension+1])\n",
        "\n",
        "        # Extracting only the points by removing first column that denotes the VTK cell type\n",
        "        polys_numpy = polys_numpy[:, 1:]\n",
        "        polys_numpy = polys_numpy.flatten().astype(np.uint64)\n",
        "\n",
        "        # Get point data from VTK mesh to insert in ITK Mesh\n",
        "        point_data_numpy = np.array(vtk_mesh.GetPointData().GetScalars())#.astype('float64')\n",
        "        \n",
        "        # Get cell data from VTK mesh to insert in ITK Mesh\n",
        "        cell_data_numpy = np.array(vtk_mesh.GetCellData().GetScalars())#.astype('float64')\n",
        "        \n",
        "        MeshType = itk.Mesh[PixelType, Dimension]\n",
        "        itk_mesh = MeshType.New()\n",
        "        \n",
        "        itk_mesh.SetPoints(itk.vector_container_from_array(points_numpy))\n",
        "        itk_mesh.SetCellsArray(itk.vector_container_from_array(polys_numpy), itk.CommonEnums.CellGeometry_TRIANGLE_CELL)\n",
        "        itk_mesh.SetPointData(itk.vector_container_from_array(point_data_numpy))\n",
        "        itk_mesh.SetCellData(itk.vector_container_from_array(cell_data_numpy))    \n",
        "        return itk_mesh\n",
        "\n",
        "    warped_image = itk.image_from_dict(warped_image)\n",
        "    distance_inner, distance_outer = mp.get_thickness_mesh(warped_image, mesh_type=mesh_type)\n",
        "    \n",
        "    polys = distance_inner.GetPolys().GetData()\n",
        "    polys_numpy = np.array(polys).flatten()\n",
        "\n",
        "    distance_inner_itk = get_itk_mesh(distance_inner)\n",
        "    distance_inner_itk_dict = itk.dict_from_mesh(distance_inner_itk)\n",
        "\n",
        "    return distance_inner_itk_dict"
      ]
    },
    {
      "cell_type": "code",
      "source": [
        "# For checking if vtk import works properly\n",
        "\n",
        "@delayed\n",
        "def check_vtk():\n",
        "  import vtk\n",
        "  return vtk.__version__\n",
        "\n",
        "@delayed\n",
        "def check_skimage():\n",
        "  import skimage\n",
        "  return skimage.__version__\n",
        "\n",
        "t1 = check_skimage()\n",
        "output_result = compute(t1)\n",
        "print(output_result)"
      ],
      "metadata": {
        "colab": {
          "base_uri": "https://localhost:8080/"
        },
        "id": "t6irlumR7ctq",
        "outputId": "9e1f17df-3050-4462-b196-3569b8abaf4b"
      },
      "execution_count": 21,
      "outputs": [
        {
          "output_type": "stream",
          "name": "stdout",
          "text": [
            "('0.18.3',)\n"
          ]
        }
      ]
    },
    {
      "cell_type": "code",
      "execution_count": 8,
      "metadata": {
        "id": "snuntUuOBLqV",
        "colab": {
          "base_uri": "https://localhost:8080/"
        },
        "outputId": "663f29ae-b412-495d-bc20-cd6f64eaf95c"
      },
      "outputs": [
        {
          "output_type": "stream",
          "name": "stderr",
          "text": [
            "distributed.client - WARNING - Couldn't gather 2 keys, rescheduling {'get_thickness-ec6d2aa6-59b9-4349-aab2-eff9acb2564a': ('tls://10.0.4.47:33463',), 'get_thickness-83f6a420-d020-47b4-a2fe-09f8ed7a81a7': ('tls://10.0.4.47:33463',)}\n"
          ]
        }
      ],
      "source": [
        "# Main execution block\n",
        "\n",
        "phi_AB, image_A, image_B = register_images_delayed()\n",
        "deformed_fc = deform_probmap_delayed(phi_AB, image_A, image_B, 'FC')\n",
        "deformed_tc = deform_probmap_delayed(phi_AB, image_A, image_B, 'TC')\n",
        "\n",
        "thickness_fc = get_thickness(deformed_fc, 'FC')\n",
        "thickness_tc = get_thickness(deformed_tc, 'TC')\n",
        "\n",
        "result = [thickness_fc, thickness_tc]\n",
        "output_result = compute(*result)"
      ]
    },
    {
      "cell_type": "code",
      "source": [
        "# Visualize Dask Computation Graph\n",
        "\n",
        "visualize(*result)"
      ],
      "metadata": {
        "id": "qI8mWKz8RTAx",
        "outputId": "a370a6e5-b3de-4fab-e253-6491d7d022cd",
        "colab": {
          "base_uri": "https://localhost:8080/",
          "height": 1000
        }
      },
      "execution_count": 13,
      "outputs": [
        {
          "output_type": "execute_result",
          "data": {
            "text/plain": [
              "<IPython.core.display.Image object>"
            ],
            "image/png": "[encoded data removed]"
          },
          "metadata": {},
          "execution_count": 13
        }
      ]
    },
    {
      "cell_type": "code",
      "source": [
        "# Write the meshes as vtk files\n",
        "\n",
        "m1 = itk.mesh_from_dict(output_result[0])\n",
        "m2 = itk.mesh_from_dict(output_result[1])\n",
        "\n",
        "itk.meshwrite(m1, 'm1.vtk')\n",
        "itk.meshwrite(m2, 'm2.vtk')"
      ],
      "metadata": {
        "id": "Qszhkwfrx2ar"
      },
      "execution_count": 10,
      "outputs": []
    },
    {
      "cell_type": "code",
      "source": [
        "# Read the meshes for viewing\n",
        "\n",
        "v1 = vtk.vtkPolyDataReader()\n",
        "v1.SetFileName('m1.vtk')\n",
        "v1.Update()\n",
        "m1 = v1.GetOutput()\n",
        "\n",
        "v2 = vtk.vtkPolyDataReader()\n",
        "v2.SetFileName('m2.vtk')\n",
        "v2.Update()\n",
        "m2 = v2.GetOutput()"
      ],
      "metadata": {
        "id": "_c_VmhNIyCPT"
      },
      "execution_count": 11,
      "outputs": []
    },
    {
      "cell_type": "code",
      "source": [
        "#Visualize the meshes\n",
        "\n",
        "from google.colab import output\n",
        "output.enable_custom_widget_manager()\n",
        "\n",
        "itkwidgets.view(geometries=[m1])"
      ],
      "metadata": {
        "colab": {
          "base_uri": "https://localhost:8080/",
          "height": 717,
          "referenced_widgets": [
            "00a6b63103ea40cb97280c5226da49ec",
            "856173aca43d43d5a2affc843effc3bc"
          ]
        },
        "id": "ICt28TFryR9s",
        "outputId": "1c75c2c3-120e-4b3c-ebb5-cde0351e0972"
      },
      "execution_count": 12,
      "outputs": [
        {
          "output_type": "display_data",
          "data": {
            "text/plain": [
              "Viewer(geometries=[{'vtkClass': 'vtkPolyData', 'points': {'vtkClass': 'vtkPoints', 'name': '_points', 'numberO…"
            ],
            "application/vnd.jupyter.widget-view+json": {
              "version_major": 2,
              "version_minor": 0,
              "model_id": "00a6b63103ea40cb97280c5226da49ec"
            }
          },
          "metadata": {
            "application/vnd.jupyter.widget-view+json": {
              "colab": {
                "custom_widget_manager": {
                  "url": "https://ssl.gstatic.com/colaboratory-static/widgets/colab-cdn-widget-manager/a8874ba6619b6106/manager.min.js"
                }
              }
            }
          }
        }
      ]
    },
    {
      "cell_type": "code",
      "source": [
        "from google.colab import output\n",
        "output.enable_custom_widget_manager()\n",
        "\n",
        "itkwidgets.view(geometries=[m2])"
      ],
      "metadata": {
        "colab": {
          "base_uri": "https://localhost:8080/",
          "height": 717,
          "referenced_widgets": [
            "a94aac452f134317b546f25e3e8ea65c",
            "4193a5dee9b243b899733baac0bc46be"
          ]
        },
        "id": "-rDaCgo5yfKX",
        "outputId": "943632bf-a1ca-4616-95a3-f54c0dcdbca0"
      },
      "execution_count": 12,
      "outputs": [
        {
          "output_type": "display_data",
          "data": {
            "text/plain": [
              "Viewer(geometries=[{'vtkClass': 'vtkPolyData', 'points': {'vtkClass': 'vtkPoints', 'name': '_points', 'numberO…"
            ],
            "application/vnd.jupyter.widget-view+json": {
              "version_major": 2,
              "version_minor": 0,
              "model_id": "a94aac452f134317b546f25e3e8ea65c"
            }
          },
          "metadata": {
            "application/vnd.jupyter.widget-view+json": {
              "colab": {
                "custom_widget_manager": {
                  "url": "https://ssl.gstatic.com/colaboratory-static/widgets/colab-cdn-widget-manager/a8874ba6619b6106/manager.min.js"
                }
              }
            }
          }
        }
      ]
    }
  ],
  "metadata": {
    "accelerator": "GPU",
    "colab": {
      "collapsed_sections": [],
      "name": "DaskComputationCoiled.ipynb",
      "provenance": [],
      "include_colab_link": true
    },
    "kernelspec": {
      "display_name": "Python 3",
      "name": "python3"
    },
    "language_info": {
      "name": "python"
    },
    "widgets": {
      "application/vnd.jupyter.widget-state+json": {
        "0fdf3ebec30d4459a90be4314731236d": {
          "model_module": "@jupyter-widgets/output",
          "model_name": "OutputModel",
          "model_module_version": "1.0.0",
          "state": {
            "_dom_classes": [],
            "_model_module": "@jupyter-widgets/output",
            "_model_module_version": "1.0.0",
            "_model_name": "OutputModel",
            "_view_count": null,
            "_view_module": "@jupyter-widgets/output",
            "_view_module_version": "1.0.0",
            "_view_name": "OutputView",
            "layout": "IPY_MODEL_c511b4eef0e74cd98b84c8c4e9b2cda5",
            "msg_id": "",
            "outputs": [
              {
                "output_type": "display_data",
                "data": {
                  "text/plain": "\u001b[32m⠧\u001b[0m \u001b[1;32mCreating Cluster. This might take a few minutes...\u001b[0m\n",
                  "text/html": "<pre style=\"white-space:pre;overflow-x:auto;line-height:normal;font-family:Menlo,'DejaVu Sans Mono',consolas,'Courier New',monospace\"><span style=\"color: #008000; text-decoration-color: #008000\">⠧</span> <span style=\"color: #008000; text-decoration-color: #008000; font-weight: bold\">Creating Cluster. This might take a few minutes...</span>\n</pre>\n"
                },
                "metadata": {}
              }
            ]
          }
        },
        "c511b4eef0e74cd98b84c8c4e9b2cda5": {
          "model_module": "@jupyter-widgets/base",
          "model_name": "LayoutModel",
          "model_module_version": "1.2.0",
          "state": {
            "_model_module": "@jupyter-widgets/base",
            "_model_module_version": "1.2.0",
            "_model_name": "LayoutModel",
            "_view_count": null,
            "_view_module": "@jupyter-widgets/base",
            "_view_module_version": "1.2.0",
            "_view_name": "LayoutView",
            "align_content": null,
            "align_items": null,
            "align_self": null,
            "border": null,
            "bottom": null,
            "display": null,
            "flex": null,
            "flex_flow": null,
            "grid_area": null,
            "grid_auto_columns": null,
            "grid_auto_flow": null,
            "grid_auto_rows": null,
            "grid_column": null,
            "grid_gap": null,
            "grid_row": null,
            "grid_template_areas": null,
            "grid_template_columns": null,
            "grid_template_rows": null,
            "height": null,
            "justify_content": null,
            "justify_items": null,
            "left": null,
            "margin": null,
            "max_height": null,
            "max_width": null,
            "min_height": null,
            "min_width": null,
            "object_fit": null,
            "object_position": null,
            "order": null,
            "overflow": null,
            "overflow_x": null,
            "overflow_y": null,
            "padding": null,
            "right": null,
            "top": null,
            "visibility": null,
            "width": null
          }
        },
        "ef35542d83fd4a6eb38d062367658a23": {
          "model_module": "@jupyter-widgets/controls",
          "model_name": "TabModel",
          "model_module_version": "1.5.0",
          "state": {
            "_dom_classes": [],
            "_model_module": "@jupyter-widgets/controls",
            "_model_module_version": "1.5.0",
            "_model_name": "TabModel",
            "_titles": {
              "0": "Status",
              "1": "Scaling"
            },
            "_view_count": null,
            "_view_module": "@jupyter-widgets/controls",
            "_view_module_version": "1.5.0",
            "_view_name": "TabView",
            "box_style": "",
            "children": [
              "IPY_MODEL_7c6a6eaedaf1455e9e4ce6e9bb2fc7b2",
              "IPY_MODEL_35f0646f5ded451d99e92a7c74e9486e"
            ],
            "layout": "IPY_MODEL_04433edc426a4ba99ba1d3a937f42d15",
            "selected_index": 0
          }
        },
        "7c6a6eaedaf1455e9e4ce6e9bb2fc7b2": {
          "model_module": "@jupyter-widgets/controls",
          "model_name": "HTMLModel",
          "model_module_version": "1.5.0",
          "state": {
            "_dom_classes": [],
            "_model_module": "@jupyter-widgets/controls",
            "_model_module_version": "1.5.0",
            "_model_name": "HTMLModel",
            "_view_count": null,
            "_view_module": "@jupyter-widgets/controls",
            "_view_module_version": "1.5.0",
            "_view_name": "HTMLView",
            "description": "",
            "description_tooltip": null,
            "layout": "IPY_MODEL_54ee4db13cab4eebada9fe0ebc9dba3c",
            "placeholder": "​",
            "style": "IPY_MODEL_e58a8323c0b64d82a5fa75377cf46e50",
            "value": "<div class=\"jp-RenderedHTMLCommon jp-RenderedHTML jp-mod-trusted jp-OutputArea-output\">\n    <div style=\"width: 24px; height: 24px; background-color: #e1e1e1; border: 3px solid #9D9D9D; border-radius: 5px; position: absolute;\">\n    </div>\n    <div style=\"margin-left: 48px;\">\n        <h3 style=\"margin-bottom: 0px; margin-top: 0px;\">Cluster</h3>\n        <p style=\"color: #9D9D9D; margin-bottom: 0px;\">oai-processing</p>\n        <table style=\"width: 100%; text-align: left;\">\n            <tr>\n                <td style=\"text-align: left;\">\n                    <strong>Dashboard:</strong> <a href=\"http://3.80.217.99:8787\" target=\"_blank\">http://3.80.217.99:8787</a>\n                </td>\n                <td style=\"text-align: left;\">\n                    <strong>Workers:</strong> 2\n                </td>\n            </tr>\n            <tr>\n                <td style=\"text-align: left;\">\n                    <strong>Total threads:</strong> 16\n                </td>\n                <td style=\"text-align: left;\">\n                    <strong>Total memory:</strong> 61.48 GiB\n                </td>\n            </tr>\n            \n        </table>\n\n        <details>\n            <summary style=\"margin-bottom: 20px;\">\n                <h3 style=\"display: inline;\">Scheduler Info</h3>\n            </summary>\n\n            <div style=\"\">\n    <div>\n        <div style=\"width: 24px; height: 24px; background-color: #FFF7E5; border: 3px solid #FF6132; border-radius: 5px; position: absolute;\"> </div>\n        <div style=\"margin-left: 48px;\">\n            <h3 style=\"margin-bottom: 0px;\">Scheduler</h3>\n            <p style=\"color: #9D9D9D; margin-bottom: 0px;\">Scheduler-0760b654-375f-4759-af1f-7ce3779130c3</p>\n            <table style=\"width: 100%; text-align: left;\">\n                <tr>\n                    <td style=\"text-align: left;\">\n                        <strong>Comm:</strong> tls://10.0.0.85:8786\n                    </td>\n                    <td style=\"text-align: left;\">\n                        <strong>Workers:</strong> 2\n                    </td>\n                </tr>\n                <tr>\n                    <td style=\"text-align: left;\">\n                        <strong>Dashboard:</strong> <a href=\"http://10.0.0.85:8787/status\" target=\"_blank\">http://10.0.0.85:8787/status</a>\n                    </td>\n                    <td style=\"text-align: left;\">\n                        <strong>Total threads:</strong> 16\n                    </td>\n                </tr>\n                <tr>\n                    <td style=\"text-align: left;\">\n                        <strong>Started:</strong> 9 minutes ago\n                    </td>\n                    <td style=\"text-align: left;\">\n                        <strong>Total memory:</strong> 61.48 GiB\n                    </td>\n                </tr>\n            </table>\n        </div>\n    </div>\n\n    <details style=\"margin-left: 48px;\">\n        <summary style=\"margin-bottom: 20px;\">\n            <h3 style=\"display: inline;\">Workers</h3>\n        </summary>\n\n        \n        <div style=\"margin-bottom: 20px;\">\n            <div style=\"width: 24px; height: 24px; background-color: #DBF5FF; border: 3px solid #4CC9FF; border-radius: 5px; position: absolute;\"> </div>\n            <div style=\"margin-left: 48px;\">\n            <details>\n                <summary>\n                    <h4 style=\"margin-bottom: 0px; display: inline;\">Worker: coiled-dask-pranjal09-152383-worker-7fd143b21f</h4>\n                </summary>\n                <table style=\"width: 100%; text-align: left;\">\n                    <tr>\n                        <td style=\"text-align: left;\">\n                            <strong>Comm: </strong> tls://10.0.0.218:34367\n                        </td>\n                        <td style=\"text-align: left;\">\n                            <strong>Total threads: </strong> 8\n                        </td>\n                    </tr>\n                    <tr>\n                        <td style=\"text-align: left;\">\n                            <strong>Dashboard: </strong> <a href=\"http://10.0.0.218:44941/status\" target=\"_blank\">http://10.0.0.218:44941/status</a>\n                        </td>\n                        <td style=\"text-align: left;\">\n                            <strong>Memory: </strong> 30.74 GiB\n                        </td>\n                    </tr>\n                    <tr>\n                        <td style=\"text-align: left;\">\n                            <strong>Nanny: </strong> tls://10.0.0.218:32795\n                        </td>\n                        <td style=\"text-align: left;\"></td>\n                    </tr>\n                    <tr>\n                        <td colspan=\"2\" style=\"text-align: left;\">\n                            <strong>Local directory: </strong> /dask-worker-space/worker-2h63xzwp\n                        </td>\n                    </tr>\n\n                    \n\n                    \n\n                </table>\n            </details>\n            </div>\n        </div>\n        \n        <div style=\"margin-bottom: 20px;\">\n            <div style=\"width: 24px; height: 24px; background-color: #DBF5FF; border: 3px solid #4CC9FF; border-radius: 5px; position: absolute;\"> </div>\n            <div style=\"margin-left: 48px;\">\n            <details>\n                <summary>\n                    <h4 style=\"margin-bottom: 0px; display: inline;\">Worker: coiled-dask-pranjal09-152383-worker-f46a11c2fc</h4>\n                </summary>\n                <table style=\"width: 100%; text-align: left;\">\n                    <tr>\n                        <td style=\"text-align: left;\">\n                            <strong>Comm: </strong> tls://10.0.4.47:33463\n                        </td>\n                        <td style=\"text-align: left;\">\n                            <strong>Total threads: </strong> 8\n                        </td>\n                    </tr>\n                    <tr>\n                        <td style=\"text-align: left;\">\n                            <strong>Dashboard: </strong> <a href=\"http://10.0.4.47:37427/status\" target=\"_blank\">http://10.0.4.47:37427/status</a>\n                        </td>\n                        <td style=\"text-align: left;\">\n                            <strong>Memory: </strong> 30.74 GiB\n                        </td>\n                    </tr>\n                    <tr>\n                        <td style=\"text-align: left;\">\n                            <strong>Nanny: </strong> tls://10.0.4.47:35227\n                        </td>\n                        <td style=\"text-align: left;\"></td>\n                    </tr>\n                    <tr>\n                        <td colspan=\"2\" style=\"text-align: left;\">\n                            <strong>Local directory: </strong> /dask-worker-space/worker-n62u0x3u\n                        </td>\n                    </tr>\n\n                    \n\n                    \n\n                </table>\n            </details>\n            </div>\n        </div>\n        \n\n    </details>\n</div>\n\n        </details>\n    </div>\n</div>"
          }
        },
        "35f0646f5ded451d99e92a7c74e9486e": {
          "model_module": "@jupyter-widgets/controls",
          "model_name": "VBoxModel",
          "model_module_version": "1.5.0",
          "state": {
            "_dom_classes": [],
            "_model_module": "@jupyter-widgets/controls",
            "_model_module_version": "1.5.0",
            "_model_name": "VBoxModel",
            "_view_count": null,
            "_view_module": "@jupyter-widgets/controls",
            "_view_module_version": "1.5.0",
            "_view_name": "VBoxView",
            "box_style": "",
            "children": [
              "IPY_MODEL_89cfc99bacb3424983f0127b1065c98b",
              "IPY_MODEL_9e81c59ecf804e56af1c69f30fda8cf9"
            ],
            "layout": "IPY_MODEL_641ae4f0ec3a4d78858476edec985aa0"
          }
        },
        "04433edc426a4ba99ba1d3a937f42d15": {
          "model_module": "@jupyter-widgets/base",
          "model_name": "LayoutModel",
          "model_module_version": "1.2.0",
          "state": {
            "_model_module": "@jupyter-widgets/base",
            "_model_module_version": "1.2.0",
            "_model_name": "LayoutModel",
            "_view_count": null,
            "_view_module": "@jupyter-widgets/base",
            "_view_module_version": "1.2.0",
            "_view_name": "LayoutView",
            "align_content": null,
            "align_items": null,
            "align_self": null,
            "border": null,
            "bottom": null,
            "display": null,
            "flex": null,
            "flex_flow": null,
            "grid_area": null,
            "grid_auto_columns": null,
            "grid_auto_flow": null,
            "grid_auto_rows": null,
            "grid_column": null,
            "grid_gap": null,
            "grid_row": null,
            "grid_template_areas": null,
            "grid_template_columns": null,
            "grid_template_rows": null,
            "height": null,
            "justify_content": null,
            "justify_items": null,
            "left": null,
            "margin": null,
            "max_height": null,
            "max_width": null,
            "min_height": null,
            "min_width": null,
            "object_fit": null,
            "object_position": null,
            "order": null,
            "overflow": null,
            "overflow_x": null,
            "overflow_y": null,
            "padding": null,
            "right": null,
            "top": null,
            "visibility": null,
            "width": null
          }
        },
        "54ee4db13cab4eebada9fe0ebc9dba3c": {
          "model_module": "@jupyter-widgets/base",
          "model_name": "LayoutModel",
          "model_module_version": "1.2.0",
          "state": {
            "_model_module": "@jupyter-widgets/base",
            "_model_module_version": "1.2.0",
            "_model_name": "LayoutModel",
            "_view_count": null,
            "_view_module": "@jupyter-widgets/base",
            "_view_module_version": "1.2.0",
            "_view_name": "LayoutView",
            "align_content": null,
            "align_items": null,
            "align_self": null,
            "border": null,
            "bottom": null,
            "display": null,
            "flex": null,
            "flex_flow": null,
            "grid_area": null,
            "grid_auto_columns": null,
            "grid_auto_flow": null,
            "grid_auto_rows": null,
            "grid_column": null,
            "grid_gap": null,
            "grid_row": null,
            "grid_template_areas": null,
            "grid_template_columns": null,
            "grid_template_rows": null,
            "height": null,
            "justify_content": null,
            "justify_items": null,
            "left": null,
            "margin": null,
            "max_height": null,
            "max_width": null,
            "min_height": null,
            "min_width": null,
            "object_fit": null,
            "object_position": null,
            "order": null,
            "overflow": null,
            "overflow_x": null,
            "overflow_y": null,
            "padding": null,
            "right": null,
            "top": null,
            "visibility": null,
            "width": null
          }
        },
        "e58a8323c0b64d82a5fa75377cf46e50": {
          "model_module": "@jupyter-widgets/controls",
          "model_name": "DescriptionStyleModel",
          "model_module_version": "1.5.0",
          "state": {
            "_model_module": "@jupyter-widgets/controls",
            "_model_module_version": "1.5.0",
            "_model_name": "DescriptionStyleModel",
            "_view_count": null,
            "_view_module": "@jupyter-widgets/base",
            "_view_module_version": "1.2.0",
            "_view_name": "StyleView",
            "description_width": ""
          }
        },
        "89cfc99bacb3424983f0127b1065c98b": {
          "model_module": "@jupyter-widgets/controls",
          "model_name": "HTMLModel",
          "model_module_version": "1.5.0",
          "state": {
            "_dom_classes": [],
            "_model_module": "@jupyter-widgets/controls",
            "_model_module_version": "1.5.0",
            "_model_name": "HTMLModel",
            "_view_count": null,
            "_view_module": "@jupyter-widgets/controls",
            "_view_module_version": "1.5.0",
            "_view_name": "HTMLView",
            "description": "",
            "description_tooltip": null,
            "layout": "IPY_MODEL_57cb38340f6f4d3ab264f2d2632dea0c",
            "placeholder": "​",
            "style": "IPY_MODEL_41aceabecac9409ca3cd650811e5b81c",
            "value": "\n        <table>\n            <tr><td style=\"text-align: left;\">Scaling mode: Manual</td></tr>\n            <tr><td style=\"text-align: left;\">Workers: 2</td></tr>\n        </table>\n        "
          }
        },
        "9e81c59ecf804e56af1c69f30fda8cf9": {
          "model_module": "@jupyter-widgets/controls",
          "model_name": "AccordionModel",
          "model_module_version": "1.5.0",
          "state": {
            "_dom_classes": [],
            "_model_module": "@jupyter-widgets/controls",
            "_model_module_version": "1.5.0",
            "_model_name": "AccordionModel",
            "_titles": {
              "0": "Manual Scaling",
              "1": "Adaptive Scaling"
            },
            "_view_count": null,
            "_view_module": "@jupyter-widgets/controls",
            "_view_module_version": "1.5.0",
            "_view_name": "AccordionView",
            "box_style": "",
            "children": [
              "IPY_MODEL_5a2b742a85db450980d791c0d30ec0bd",
              "IPY_MODEL_95f476e89c704ea2b99117c533506201"
            ],
            "layout": "IPY_MODEL_67040281464e48f29e7bb370c7994cc3",
            "selected_index": null
          }
        },
        "641ae4f0ec3a4d78858476edec985aa0": {
          "model_module": "@jupyter-widgets/base",
          "model_name": "LayoutModel",
          "model_module_version": "1.2.0",
          "state": {
            "_model_module": "@jupyter-widgets/base",
            "_model_module_version": "1.2.0",
            "_model_name": "LayoutModel",
            "_view_count": null,
            "_view_module": "@jupyter-widgets/base",
            "_view_module_version": "1.2.0",
            "_view_name": "LayoutView",
            "align_content": null,
            "align_items": null,
            "align_self": null,
            "border": null,
            "bottom": null,
            "display": null,
            "flex": null,
            "flex_flow": null,
            "grid_area": null,
            "grid_auto_columns": null,
            "grid_auto_flow": null,
            "grid_auto_rows": null,
            "grid_column": null,
            "grid_gap": null,
            "grid_row": null,
            "grid_template_areas": null,
            "grid_template_columns": null,
            "grid_template_rows": null,
            "height": null,
            "justify_content": null,
            "justify_items": null,
            "left": null,
            "margin": null,
            "max_height": null,
            "max_width": null,
            "min_height": null,
            "min_width": null,
            "object_fit": null,
            "object_position": null,
            "order": null,
            "overflow": null,
            "overflow_x": null,
            "overflow_y": null,
            "padding": null,
            "right": null,
            "top": null,
            "visibility": null,
            "width": null
          }
        },
        "57cb38340f6f4d3ab264f2d2632dea0c": {
          "model_module": "@jupyter-widgets/base",
          "model_name": "LayoutModel",
          "model_module_version": "1.2.0",
          "state": {
            "_model_module": "@jupyter-widgets/base",
            "_model_module_version": "1.2.0",
            "_model_name": "LayoutModel",
            "_view_count": null,
            "_view_module": "@jupyter-widgets/base",
            "_view_module_version": "1.2.0",
            "_view_name": "LayoutView",
            "align_content": null,
            "align_items": null,
            "align_self": null,
            "border": null,
            "bottom": null,
            "display": null,
            "flex": null,
            "flex_flow": null,
            "grid_area": null,
            "grid_auto_columns": null,
            "grid_auto_flow": null,
            "grid_auto_rows": null,
            "grid_column": null,
            "grid_gap": null,
            "grid_row": null,
            "grid_template_areas": null,
            "grid_template_columns": null,
            "grid_template_rows": null,
            "height": null,
            "justify_content": null,
            "justify_items": null,
            "left": null,
            "margin": null,
            "max_height": null,
            "max_width": null,
            "min_height": null,
            "min_width": null,
            "object_fit": null,
            "object_position": null,
            "order": null,
            "overflow": null,
            "overflow_x": null,
            "overflow_y": null,
            "padding": null,
            "right": null,
            "top": null,
            "visibility": null,
            "width": null
          }
        },
        "41aceabecac9409ca3cd650811e5b81c": {
          "model_module": "@jupyter-widgets/controls",
          "model_name": "DescriptionStyleModel",
          "model_module_version": "1.5.0",
          "state": {
            "_model_module": "@jupyter-widgets/controls",
            "_model_module_version": "1.5.0",
            "_model_name": "DescriptionStyleModel",
            "_view_count": null,
            "_view_module": "@jupyter-widgets/base",
            "_view_module_version": "1.2.0",
            "_view_name": "StyleView",
            "description_width": ""
          }
        },
        "5a2b742a85db450980d791c0d30ec0bd": {
          "model_module": "@jupyter-widgets/controls",
          "model_name": "HBoxModel",
          "model_module_version": "1.5.0",
          "state": {
            "_dom_classes": [],
            "_model_module": "@jupyter-widgets/controls",
            "_model_module_version": "1.5.0",
            "_model_name": "HBoxModel",
            "_view_count": null,
            "_view_module": "@jupyter-widgets/controls",
            "_view_module_version": "1.5.0",
            "_view_name": "HBoxView",
            "box_style": "",
            "children": [
              "IPY_MODEL_1756413d3140403a8b76e05a0e866375",
              "IPY_MODEL_5af73d4418724958af448bb859c5104f"
            ],
            "layout": "IPY_MODEL_4b8ceab0cbf144be98d10b01fb4c6401"
          }
        },
        "95f476e89c704ea2b99117c533506201": {
          "model_module": "@jupyter-widgets/controls",
          "model_name": "HBoxModel",
          "model_module_version": "1.5.0",
          "state": {
            "_dom_classes": [],
            "_model_module": "@jupyter-widgets/controls",
            "_model_module_version": "1.5.0",
            "_model_name": "HBoxModel",
            "_view_count": null,
            "_view_module": "@jupyter-widgets/controls",
            "_view_module_version": "1.5.0",
            "_view_name": "HBoxView",
            "box_style": "",
            "children": [
              "IPY_MODEL_3fbd04438ff14c56b54242a5270f7abb",
              "IPY_MODEL_e8b95ef0e41c47a4a1144699015e17fd",
              "IPY_MODEL_bf2ddee8d91e41698fda46f6fea7de6b"
            ],
            "layout": "IPY_MODEL_82eade6e25264c058e9a3e00e8a291a0"
          }
        },
        "67040281464e48f29e7bb370c7994cc3": {
          "model_module": "@jupyter-widgets/base",
          "model_name": "LayoutModel",
          "model_module_version": "1.2.0",
          "state": {
            "_model_module": "@jupyter-widgets/base",
            "_model_module_version": "1.2.0",
            "_model_name": "LayoutModel",
            "_view_count": null,
            "_view_module": "@jupyter-widgets/base",
            "_view_module_version": "1.2.0",
            "_view_name": "LayoutView",
            "align_content": null,
            "align_items": null,
            "align_self": null,
            "border": null,
            "bottom": null,
            "display": null,
            "flex": null,
            "flex_flow": null,
            "grid_area": null,
            "grid_auto_columns": null,
            "grid_auto_flow": null,
            "grid_auto_rows": null,
            "grid_column": null,
            "grid_gap": null,
            "grid_row": null,
            "grid_template_areas": null,
            "grid_template_columns": null,
            "grid_template_rows": null,
            "height": null,
            "justify_content": null,
            "justify_items": null,
            "left": null,
            "margin": null,
            "max_height": null,
            "max_width": null,
            "min_height": null,
            "min_width": "500px",
            "object_fit": null,
            "object_position": null,
            "order": null,
            "overflow": null,
            "overflow_x": null,
            "overflow_y": null,
            "padding": null,
            "right": null,
            "top": null,
            "visibility": null,
            "width": null
          }
        },
        "1756413d3140403a8b76e05a0e866375": {
          "model_module": "@jupyter-widgets/controls",
          "model_name": "IntTextModel",
          "model_module_version": "1.5.0",
          "state": {
            "_dom_classes": [],
            "_model_module": "@jupyter-widgets/controls",
            "_model_module_version": "1.5.0",
            "_model_name": "IntTextModel",
            "_view_count": null,
            "_view_module": "@jupyter-widgets/controls",
            "_view_module_version": "1.5.0",
            "_view_name": "IntTextView",
            "continuous_update": false,
            "description": "Workers",
            "description_tooltip": null,
            "disabled": false,
            "layout": "IPY_MODEL_c9d8794770314d9f9477af9179f02cee",
            "step": 1,
            "style": "IPY_MODEL_6d320e968b5a41dcb994108cc4d95e50",
            "value": 0
          }
        },
        "5af73d4418724958af448bb859c5104f": {
          "model_module": "@jupyter-widgets/controls",
          "model_name": "ButtonModel",
          "model_module_version": "1.5.0",
          "state": {
            "_dom_classes": [],
            "_model_module": "@jupyter-widgets/controls",
            "_model_module_version": "1.5.0",
            "_model_name": "ButtonModel",
            "_view_count": null,
            "_view_module": "@jupyter-widgets/controls",
            "_view_module_version": "1.5.0",
            "_view_name": "ButtonView",
            "button_style": "",
            "description": "Scale",
            "disabled": false,
            "icon": "",
            "layout": "IPY_MODEL_c9d8794770314d9f9477af9179f02cee",
            "style": "IPY_MODEL_06f88296a85a4161b62436df3bdbe371",
            "tooltip": ""
          }
        },
        "4b8ceab0cbf144be98d10b01fb4c6401": {
          "model_module": "@jupyter-widgets/base",
          "model_name": "LayoutModel",
          "model_module_version": "1.2.0",
          "state": {
            "_model_module": "@jupyter-widgets/base",
            "_model_module_version": "1.2.0",
            "_model_name": "LayoutModel",
            "_view_count": null,
            "_view_module": "@jupyter-widgets/base",
            "_view_module_version": "1.2.0",
            "_view_name": "LayoutView",
            "align_content": null,
            "align_items": null,
            "align_self": null,
            "border": null,
            "bottom": null,
            "display": null,
            "flex": null,
            "flex_flow": null,
            "grid_area": null,
            "grid_auto_columns": null,
            "grid_auto_flow": null,
            "grid_auto_rows": null,
            "grid_column": null,
            "grid_gap": null,
            "grid_row": null,
            "grid_template_areas": null,
            "grid_template_columns": null,
            "grid_template_rows": null,
            "height": null,
            "justify_content": null,
            "justify_items": null,
            "left": null,
            "margin": null,
            "max_height": null,
            "max_width": null,
            "min_height": null,
            "min_width": null,
            "object_fit": null,
            "object_position": null,
            "order": null,
            "overflow": null,
            "overflow_x": null,
            "overflow_y": null,
            "padding": null,
            "right": null,
            "top": null,
            "visibility": null,
            "width": null
          }
        },
        "3fbd04438ff14c56b54242a5270f7abb": {
          "model_module": "@jupyter-widgets/controls",
          "model_name": "IntTextModel",
          "model_module_version": "1.5.0",
          "state": {
            "_dom_classes": [],
            "_model_module": "@jupyter-widgets/controls",
            "_model_module_version": "1.5.0",
            "_model_name": "IntTextModel",
            "_view_count": null,
            "_view_module": "@jupyter-widgets/controls",
            "_view_module_version": "1.5.0",
            "_view_name": "IntTextView",
            "continuous_update": false,
            "description": "Minimum",
            "description_tooltip": null,
            "disabled": false,
            "layout": "IPY_MODEL_c9d8794770314d9f9477af9179f02cee",
            "step": 1,
            "style": "IPY_MODEL_524f7dc765484bc1bde0936c51a13fcf",
            "value": 0
          }
        },
        "e8b95ef0e41c47a4a1144699015e17fd": {
          "model_module": "@jupyter-widgets/controls",
          "model_name": "IntTextModel",
          "model_module_version": "1.5.0",
          "state": {
            "_dom_classes": [],
            "_model_module": "@jupyter-widgets/controls",
            "_model_module_version": "1.5.0",
            "_model_name": "IntTextModel",
            "_view_count": null,
            "_view_module": "@jupyter-widgets/controls",
            "_view_module_version": "1.5.0",
            "_view_name": "IntTextView",
            "continuous_update": false,
            "description": "Maximum",
            "description_tooltip": null,
            "disabled": false,
            "layout": "IPY_MODEL_c9d8794770314d9f9477af9179f02cee",
            "step": 1,
            "style": "IPY_MODEL_5c3a8f89501747de8a2d87347077af33",
            "value": 0
          }
        },
        "bf2ddee8d91e41698fda46f6fea7de6b": {
          "model_module": "@jupyter-widgets/controls",
          "model_name": "ButtonModel",
          "model_module_version": "1.5.0",
          "state": {
            "_dom_classes": [],
            "_model_module": "@jupyter-widgets/controls",
            "_model_module_version": "1.5.0",
            "_model_name": "ButtonModel",
            "_view_count": null,
            "_view_module": "@jupyter-widgets/controls",
            "_view_module_version": "1.5.0",
            "_view_name": "ButtonView",
            "button_style": "",
            "description": "Adapt",
            "disabled": false,
            "icon": "",
            "layout": "IPY_MODEL_c9d8794770314d9f9477af9179f02cee",
            "style": "IPY_MODEL_8230507bb71d4e8fb7f1a79cf5e31036",
            "tooltip": ""
          }
        },
        "82eade6e25264c058e9a3e00e8a291a0": {
          "model_module": "@jupyter-widgets/base",
          "model_name": "LayoutModel",
          "model_module_version": "1.2.0",
          "state": {
            "_model_module": "@jupyter-widgets/base",
            "_model_module_version": "1.2.0",
            "_model_name": "LayoutModel",
            "_view_count": null,
            "_view_module": "@jupyter-widgets/base",
            "_view_module_version": "1.2.0",
            "_view_name": "LayoutView",
            "align_content": null,
            "align_items": null,
            "align_self": null,
            "border": null,
            "bottom": null,
            "display": null,
            "flex": null,
            "flex_flow": null,
            "grid_area": null,
            "grid_auto_columns": null,
            "grid_auto_flow": null,
            "grid_auto_rows": null,
            "grid_column": null,
            "grid_gap": null,
            "grid_row": null,
            "grid_template_areas": null,
            "grid_template_columns": null,
            "grid_template_rows": null,
            "height": null,
            "justify_content": null,
            "justify_items": null,
            "left": null,
            "margin": null,
            "max_height": null,
            "max_width": null,
            "min_height": null,
            "min_width": null,
            "object_fit": null,
            "object_position": null,
            "order": null,
            "overflow": null,
            "overflow_x": null,
            "overflow_y": null,
            "padding": null,
            "right": null,
            "top": null,
            "visibility": null,
            "width": null
          }
        },
        "c9d8794770314d9f9477af9179f02cee": {
          "model_module": "@jupyter-widgets/base",
          "model_name": "LayoutModel",
          "model_module_version": "1.2.0",
          "state": {
            "_model_module": "@jupyter-widgets/base",
            "_model_module_version": "1.2.0",
            "_model_name": "LayoutModel",
            "_view_count": null,
            "_view_module": "@jupyter-widgets/base",
            "_view_module_version": "1.2.0",
            "_view_name": "LayoutView",
            "align_content": null,
            "align_items": null,
            "align_self": null,
            "border": null,
            "bottom": null,
            "display": null,
            "flex": null,
            "flex_flow": null,
            "grid_area": null,
            "grid_auto_columns": null,
            "grid_auto_flow": null,
            "grid_auto_rows": null,
            "grid_column": null,
            "grid_gap": null,
            "grid_row": null,
            "grid_template_areas": null,
            "grid_template_columns": null,
            "grid_template_rows": null,
            "height": null,
            "justify_content": null,
            "justify_items": null,
            "left": null,
            "margin": null,
            "max_height": null,
            "max_width": null,
            "min_height": null,
            "min_width": null,
            "object_fit": null,
            "object_position": null,
            "order": null,
            "overflow": null,
            "overflow_x": null,
            "overflow_y": null,
            "padding": null,
            "right": null,
            "top": null,
            "visibility": null,
            "width": "150px"
          }
        },
        "6d320e968b5a41dcb994108cc4d95e50": {
          "model_module": "@jupyter-widgets/controls",
          "model_name": "DescriptionStyleModel",
          "model_module_version": "1.5.0",
          "state": {
            "_model_module": "@jupyter-widgets/controls",
            "_model_module_version": "1.5.0",
            "_model_name": "DescriptionStyleModel",
            "_view_count": null,
            "_view_module": "@jupyter-widgets/base",
            "_view_module_version": "1.2.0",
            "_view_name": "StyleView",
            "description_width": ""
          }
        },
        "06f88296a85a4161b62436df3bdbe371": {
          "model_module": "@jupyter-widgets/controls",
          "model_name": "ButtonStyleModel",
          "model_module_version": "1.5.0",
          "state": {
            "_model_module": "@jupyter-widgets/controls",
            "_model_module_version": "1.5.0",
            "_model_name": "ButtonStyleModel",
            "_view_count": null,
            "_view_module": "@jupyter-widgets/base",
            "_view_module_version": "1.2.0",
            "_view_name": "StyleView",
            "button_color": null,
            "font_weight": ""
          }
        },
        "524f7dc765484bc1bde0936c51a13fcf": {
          "model_module": "@jupyter-widgets/controls",
          "model_name": "DescriptionStyleModel",
          "model_module_version": "1.5.0",
          "state": {
            "_model_module": "@jupyter-widgets/controls",
            "_model_module_version": "1.5.0",
            "_model_name": "DescriptionStyleModel",
            "_view_count": null,
            "_view_module": "@jupyter-widgets/base",
            "_view_module_version": "1.2.0",
            "_view_name": "StyleView",
            "description_width": ""
          }
        },
        "5c3a8f89501747de8a2d87347077af33": {
          "model_module": "@jupyter-widgets/controls",
          "model_name": "DescriptionStyleModel",
          "model_module_version": "1.5.0",
          "state": {
            "_model_module": "@jupyter-widgets/controls",
            "_model_module_version": "1.5.0",
            "_model_name": "DescriptionStyleModel",
            "_view_count": null,
            "_view_module": "@jupyter-widgets/base",
            "_view_module_version": "1.2.0",
            "_view_name": "StyleView",
            "description_width": ""
          }
        },
        "8230507bb71d4e8fb7f1a79cf5e31036": {
          "model_module": "@jupyter-widgets/controls",
          "model_name": "ButtonStyleModel",
          "model_module_version": "1.5.0",
          "state": {
            "_model_module": "@jupyter-widgets/controls",
            "_model_module_version": "1.5.0",
            "_model_name": "ButtonStyleModel",
            "_view_count": null,
            "_view_module": "@jupyter-widgets/base",
            "_view_module_version": "1.2.0",
            "_view_name": "StyleView",
            "button_color": null,
            "font_weight": ""
          }
        },
        "00a6b63103ea40cb97280c5226da49ec": {
          "model_module": "itkwidgets",
          "model_name": "ViewerModel",
          "model_module_version": "^0.32.1",
          "state": {
            "_custom_cmap": null,
            "_dom_classes": [],
            "_downsampling": false,
            "_largest_roi": {
              "shape": [
                2,
                3
              ],
              "dtype": "float64"
            },
            "_model_module": "itkwidgets",
            "_model_module_version": "^0.32.1",
            "_model_name": "ViewerModel",
            "_rendering_image": false,
            "_reset_crop_requested": false,
            "_scale_factors": {
              "shape": [
                3
              ],
              "dtype": "uint8"
            },
            "_view_count": null,
            "_view_module": "itkwidgets",
            "_view_module_version": "^0.32.1",
            "_view_name": "ViewerView",
            "annotations": true,
            "axes": false,
            "background": [
              1,
              1,
              1
            ],
            "blend_mode": "composite",
            "camera": {
              "shape": [
                3,
                3
              ],
              "dtype": "float32"
            },
            "channels": null,
            "clicked_slice_point": null,
            "cmap": null,
            "geometries": [
              {
                "vtkClass": "vtkPolyData",
                "points": {
                  "vtkClass": "vtkPoints",
                  "name": "_points",
                  "numberOfComponents": 3,
                  "dataType": "Float32Array",
                  "size": 161451
                },
                "polys": {
                  "vtkClass": "vtkCellArray",
                  "name": "_polys",
                  "numberOfComponents": 1,
                  "size": 421696,
                  "dataType": "Uint32Array"
                },
                "pointData": {
                  "vtkClass": "vtkDataSetAttributes",
                  "activeScalars": 0,
                  "arrays": [
                    {
                      "data": {
                        "vtkClass": "vtkDataArray",
                        "name": "PointScalarData",
                        "numberOfComponents": 1,
                        "size": 53818,
                        "dataType": "Float64Array"
                      }
                    }
                  ]
                },
                "cellData": {
                  "vtkClass": "vtkDataSetAttributes",
                  "activeScalars": 0,
                  "arrays": [
                    {
                      "data": {
                        "vtkClass": "vtkDataArray",
                        "name": "CellScalarData",
                        "numberOfComponents": 1,
                        "size": 105425,
                        "dataType": "Float64Array"
                      }
                    }
                  ]
                },
                "metadata": {
                  "name": "Geometry 0"
                }
              }
            ],
            "geometry_colors": {
              "shape": [
                1,
                3
              ],
              "dtype": "float32"
            },
            "geometry_opacities": {
              "shape": [
                1
              ],
              "dtype": "float32"
            },
            "gradient_opacity": 0.22,
            "interpolation": true,
            "label_image_blend": 0.5,
            "label_image_names": null,
            "label_image_weights": null,
            "layout": "IPY_MODEL_856173aca43d43d5a2affc843effc3bc",
            "lut": "glasbey",
            "mode": "v",
            "opacity_gaussians": null,
            "point_set_colors": {
              "shape": [
                0,
                3
              ],
              "dtype": "float32"
            },
            "point_set_opacities": {
              "shape": [
                0
              ],
              "dtype": "float32"
            },
            "point_set_representations": [],
            "point_set_sizes": {
              "shape": [
                0
              ],
              "dtype": "uint8"
            },
            "point_sets": [],
            "rendered_image": null,
            "rendered_label_image": null,
            "roi": {
              "shape": [
                2,
                3
              ],
              "dtype": "float64"
            },
            "rotate": false,
            "sample_distance": 0.25,
            "select_roi": false,
            "shadow": true,
            "slicing_planes": false,
            "ui_collapsed": false,
            "units": "",
            "vmax": null,
            "vmin": null,
            "x_slice": null,
            "y_slice": null,
            "z_slice": null
          }
        },
        "856173aca43d43d5a2affc843effc3bc": {
          "model_module": "@jupyter-widgets/base",
          "model_name": "LayoutModel",
          "model_module_version": "1.2.0",
          "state": {
            "_model_module": "@jupyter-widgets/base",
            "_model_module_version": "1.2.0",
            "_model_name": "LayoutModel",
            "_view_count": null,
            "_view_module": "@jupyter-widgets/base",
            "_view_module_version": "1.2.0",
            "_view_name": "LayoutView",
            "align_content": null,
            "align_items": null,
            "align_self": null,
            "border": null,
            "bottom": null,
            "display": null,
            "flex": null,
            "flex_flow": null,
            "grid_area": null,
            "grid_auto_columns": null,
            "grid_auto_flow": null,
            "grid_auto_rows": null,
            "grid_column": null,
            "grid_gap": null,
            "grid_row": null,
            "grid_template_areas": null,
            "grid_template_columns": null,
            "grid_template_rows": null,
            "height": null,
            "justify_content": null,
            "justify_items": null,
            "left": null,
            "margin": null,
            "max_height": null,
            "max_width": null,
            "min_height": null,
            "min_width": null,
            "object_fit": null,
            "object_position": null,
            "order": null,
            "overflow": null,
            "overflow_x": null,
            "overflow_y": null,
            "padding": null,
            "right": null,
            "top": null,
            "visibility": null,
            "width": null
          }
        },
        "a94aac452f134317b546f25e3e8ea65c": {
          "model_module": "itkwidgets",
          "model_name": "ViewerModel",
          "model_module_version": "^0.32.1",
          "state": {
            "_custom_cmap": null,
            "_dom_classes": [],
            "_downsampling": false,
            "_largest_roi": {
              "shape": [
                2,
                3
              ],
              "dtype": "float64"
            },
            "_model_module": "itkwidgets",
            "_model_module_version": "^0.32.1",
            "_model_name": "ViewerModel",
            "_rendering_image": false,
            "_reset_crop_requested": false,
            "_scale_factors": {
              "shape": [
                3
              ],
              "dtype": "uint8"
            },
            "_view_count": null,
            "_view_module": "itkwidgets",
            "_view_module_version": "^0.32.1",
            "_view_name": "ViewerView",
            "annotations": true,
            "axes": false,
            "background": [
              1,
              1,
              1
            ],
            "blend_mode": "composite",
            "camera": {
              "shape": [
                3,
                3
              ],
              "dtype": "float32"
            },
            "channels": null,
            "clicked_slice_point": null,
            "cmap": null,
            "geometries": [
              {
                "vtkClass": "vtkPolyData",
                "points": {
                  "vtkClass": "vtkPoints",
                  "name": "_points",
                  "numberOfComponents": 3,
                  "dataType": "Float32Array",
                  "size": 49761
                },
                "polys": {
                  "vtkClass": "vtkCellArray",
                  "name": "_polys",
                  "numberOfComponents": 1,
                  "size": 128896,
                  "dataType": "Uint32Array"
                },
                "pointData": {
                  "vtkClass": "vtkDataSetAttributes",
                  "activeScalars": 0,
                  "arrays": [
                    {
                      "data": {
                        "vtkClass": "vtkDataArray",
                        "name": "PointScalarData",
                        "numberOfComponents": 1,
                        "size": 16588,
                        "dataType": "Float64Array"
                      }
                    }
                  ]
                },
                "cellData": {
                  "vtkClass": "vtkDataSetAttributes",
                  "activeScalars": 0,
                  "arrays": [
                    {
                      "data": {
                        "vtkClass": "vtkDataArray",
                        "name": "CellScalarData",
                        "numberOfComponents": 1,
                        "size": 32225,
                        "dataType": "Float64Array"
                      }
                    }
                  ]
                },
                "metadata": {
                  "name": "Geometry 0"
                }
              }
            ],
            "geometry_colors": {
              "shape": [
                1,
                3
              ],
              "dtype": "float32"
            },
            "geometry_opacities": {
              "shape": [
                1
              ],
              "dtype": "float32"
            },
            "gradient_opacity": 0.22,
            "interpolation": true,
            "label_image_blend": 0.5,
            "label_image_names": null,
            "label_image_weights": null,
            "layout": "IPY_MODEL_4193a5dee9b243b899733baac0bc46be",
            "lut": "glasbey",
            "mode": "v",
            "opacity_gaussians": null,
            "point_set_colors": {
              "shape": [
                0,
                3
              ],
              "dtype": "float32"
            },
            "point_set_opacities": {
              "shape": [
                0
              ],
              "dtype": "float32"
            },
            "point_set_representations": [],
            "point_set_sizes": {
              "shape": [
                0
              ],
              "dtype": "uint8"
            },
            "point_sets": [],
            "rendered_image": null,
            "rendered_label_image": null,
            "roi": {
              "shape": [
                2,
                3
              ],
              "dtype": "float64"
            },
            "rotate": false,
            "sample_distance": 0.25,
            "select_roi": false,
            "shadow": true,
            "slicing_planes": false,
            "ui_collapsed": false,
            "units": "",
            "vmax": null,
            "vmin": null,
            "x_slice": null,
            "y_slice": null,
            "z_slice": null
          }
        },
        "4193a5dee9b243b899733baac0bc46be": {
          "model_module": "@jupyter-widgets/base",
          "model_name": "LayoutModel",
          "model_module_version": "1.2.0",
          "state": {
            "_model_module": "@jupyter-widgets/base",
            "_model_module_version": "1.2.0",
            "_model_name": "LayoutModel",
            "_view_count": null,
            "_view_module": "@jupyter-widgets/base",
            "_view_module_version": "1.2.0",
            "_view_name": "LayoutView",
            "align_content": null,
            "align_items": null,
            "align_self": null,
            "border": null,
            "bottom": null,
            "display": null,
            "flex": null,
            "flex_flow": null,
            "grid_area": null,
            "grid_auto_columns": null,
            "grid_auto_flow": null,
            "grid_auto_rows": null,
            "grid_column": null,
            "grid_gap": null,
            "grid_row": null,
            "grid_template_areas": null,
            "grid_template_columns": null,
            "grid_template_rows": null,
            "height": null,
            "justify_content": null,
            "justify_items": null,
            "left": null,
            "margin": null,
            "max_height": null,
            "max_width": null,
            "min_height": null,
            "min_width": null,
            "object_fit": null,
            "object_position": null,
            "order": null,
            "overflow": null,
            "overflow_x": null,
            "overflow_y": null,
            "padding": null,
            "right": null,
            "top": null,
            "visibility": null,
            "width": null
          }
        }
      }
    }
  },
  "nbformat": 4,
  "nbformat_minor": 0
}