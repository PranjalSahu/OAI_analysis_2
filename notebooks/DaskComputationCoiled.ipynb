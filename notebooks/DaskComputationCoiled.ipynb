{
  "cells": [
    {
      "cell_type": "markdown",
      "metadata": {
        "id": "view-in-github",
        "colab_type": "text"
      },
      "source": [
        "<a href=\"https://colab.research.google.com/github/PranjalSahu/OAI_analysis_2/blob/pranjal/notebooks/DaskComputationCoiled.ipynb\" target=\"_parent\"><img src=\"https://colab.research.google.com/assets/colab-badge.svg\" alt=\"Open In Colab\"/></a>"
      ]
    },
    {
      "cell_type": "code",
      "execution_count": null,
      "metadata": {
        "id": "8VnZ6zuBOtp3"
      },
      "outputs": [],
      "source": [
        "# Install packages\n",
        "\n",
        "# Remember to Restart runtime after installation\n",
        "\n",
        "\n",
        "!pip install itk==5.3rc4\n",
        "!pip install vtk\n",
        "!pip install itkwidgets\n",
        "!pip install icon-registration==0.3.4\n",
        "#!pip install \"dask[complete]\"\n",
        "#!pip install coiled dask distributed\n",
        "!pip install tornado==6.1\n",
        "!pip install coiled\n",
        "!pip install torch\n",
        "!pip install jupyter\n",
        "!pip install girder_client\n",
        "!pip install git+https://github.com/uncbiag/mermaid.git\n",
        "!pip install git+https://github.com/uncbiag/easyreg.git\n",
        "!pip install git+https://github.com/PranjalSahu/OAI_analysis_2.git#egg=oai_package"
      ]
    },
    {
      "cell_type": "code",
      "execution_count": 2,
      "metadata": {
        "id": "0w5y-3zBOxkY"
      },
      "outputs": [],
      "source": [
        "# All Imports\n",
        "\n",
        "import numpy as np\n",
        "import itk\n",
        "import vtk\n",
        "import itkwidgets\n",
        "import icon_registration\n",
        "import icon_registration.itk_wrapper as itk_wrapper\n",
        "import icon_registration.pretrained_models as pretrained_models\n",
        "from oai_analysis_2 import mesh_processing as mp\n",
        "\n",
        "import os\n",
        "#os.environ[\"CUDA_VISIBLE_DEVICES\"]=\"\"\n",
        "\n",
        "import boto3\n",
        "import coiled\n",
        "import dask\n",
        "from dask import delayed, compute, visualize\n",
        "from dask.distributed import Client, progress, LocalCluster"
      ]
    },
    {
      "cell_type": "code",
      "execution_count": null,
      "metadata": {
        "id": "D-E-5gV6KX8E"
      },
      "outputs": [],
      "source": [
        "# Create the environment\n",
        "\n",
        "if False:\n",
        "  coiled.create_software_environment(\n",
        "    name=\"oai5\",\n",
        "    pip=\"coiled_requirements\",\n",
        "  )\n",
        "  # coiled.create_software_environment(\n",
        "  #   name=\"oai4\",\n",
        "  #   container=\"pranjalsahu/pranjal-sahu-oai4:cf409eeb-435c-4976-afd4-6a5118d6b683\",\n",
        "  # )"
      ]
    },
    {
      "cell_type": "code",
      "source": [
        "# To create a software environment using docker with open gl installed\n",
        "coiled.create_software_environment(\n",
        "    name=\"oai5_gl1\",\n",
        "    container=\"pranjalsahu/pranjal-sahu-oai5:latest\",\n",
        ")"
      ],
      "metadata": {
        "colab": {
          "base_uri": "https://localhost:8080/"
        },
        "id": "O-pxKPFD2Ld9",
        "outputId": "200ab110-9409-4468-ecaa-e417e592c6b0"
      },
      "execution_count": 13,
      "outputs": [
        {
          "output_type": "stream",
          "name": "stdout",
          "text": [
            "Creating new software environment\n",
            "Creating container-only software environment\n",
            "Successfully saved software environment build\n"
          ]
        }
      ]
    },
    {
      "cell_type": "code",
      "execution_count": 14,
      "metadata": {
        "id": "2wQIfgkLSMRy",
        "colab": {
          "base_uri": "https://localhost:8080/",
          "height": 138,
          "referenced_widgets": [
            "1d7198edc9f340ad82d210fc2613c257",
            "e210848f27b9487b8dbf5f3e7176aa57"
          ]
        },
        "outputId": "0317dac7-607b-4d7e-cf5a-64038e56923e"
      },
      "outputs": [
        {
          "output_type": "display_data",
          "data": {
            "text/plain": [
              "Output()"
            ],
            "application/vnd.jupyter.widget-view+json": {
              "version_major": 2,
              "version_minor": 0,
              "model_id": "1d7198edc9f340ad82d210fc2613c257"
            }
          },
          "metadata": {}
        },
        {
          "output_type": "stream",
          "name": "stdout",
          "text": [
            "Found software environment build\n",
            "Created fw rule: inbound [8786-8787] [0.0.0.0/0] []\n",
            "Created FW rules: coiled-dask-pranjal09-151807-firewall\n",
            "Created fw rule: cluster [0-65535] [None] [coiled-dask-pranjal09-151807-firewall -> coiled-dask-pranjal09-151807-firewall]\n",
            "Created FW rules: coiled-dask-pranjal09-151807-cluster-firewall\n",
            "Created fw rule: cluster [0-65535] [None] [coiled-dask-pranjal09-151807-cluster-firewall -> coiled-dask-pranjal09-151807-cluster-firewall]\n",
            "Created scheduler VM: coiled-dask-pranjal09-151807-scheduler (type: t3a.medium, ip: ['50.17.92.228'])\n"
          ]
        },
        {
          "output_type": "display_data",
          "data": {
            "text/plain": [
              ""
            ],
            "text/html": [
              "<pre style=\"white-space:pre;overflow-x:auto;line-height:normal;font-family:Menlo,'DejaVu Sans Mono',consolas,'Courier New',monospace\"></pre>\n"
            ]
          },
          "metadata": {}
        }
      ],
      "source": [
        "# Create Dask Client. This will also spawn dask worker and scheduler\n",
        "\n",
        "use_coiled = True\n",
        "\n",
        "if use_coiled:\n",
        "  name = None\n",
        "  cluster = coiled.Cluster(n_workers=2,\n",
        "                         worker_cpu=8,\n",
        "                         worker_memory='31G',\n",
        "                         name=name,\n",
        "                         software='pranjal-sahu/oai5_gl1')\n",
        "  client = dask.distributed.Client(cluster, \n",
        "                                   serializers=['pickle', 'dask'],\n",
        "                                   deserializers=['pickle', 'dask'])\n",
        "  client\n",
        "else:\n",
        "  cluster = LocalCluster(processes=False)\n",
        "  client = Client(cluster)\n",
        "  client"
      ]
    },
    {
      "cell_type": "code",
      "execution_count": 15,
      "metadata": {
        "colab": {
          "base_uri": "https://localhost:8080/",
          "height": 258,
          "referenced_widgets": [
            "d0613bd0a14c4238b6ff2ed1cd1134b0",
            "486462b2a8a34cfea76c28859678c534",
            "bab36f74dd59490c85b968e379213d76",
            "d284d08203cf4f5c984b01525bd0e623",
            "ff6570e0984348f6a1f05af921b7cf21",
            "1080abc58f83429bbc87922550516633",
            "fa5ae6ca20e1499dbeb54fc1048bcf62",
            "b5d666c997484d39a028773ab4d93507",
            "d87967f55e3b454ba34bdb891e46b6ef",
            "740be4e410df483daad1a7c99f327b8c",
            "0c29d90fbfa3455bb58c390af2a09ed5",
            "dc868cdf00e340a2a8745b3e7c350326",
            "730801fff89f4681bb962d0f6f271e78",
            "8e8cb910f9b947fbba8a14ed7f604cce",
            "1154bd6d53e34bc88e7e73364ff277f6",
            "8208c667edae4cd1a4fc6a383eed96cc",
            "0c7e6a2aad7e4443ac26a36eb3be257f",
            "0ea3788bf0f54a71be1d0e30926a1377",
            "afb9a9dc61ea4010ad67cd5ddd84c2b6",
            "3f857cba2f51499bb2212dc66859fd46",
            "dcc32ade02804a88a2df07183ecce055",
            "a8c3350344fb4b3fa8fc1899089ea180",
            "417e28c7a78e495c8e36ec088e15c5c1",
            "237d399fbdb44d4b877b0f581d97101b",
            "2a1ffe3f718442b6a210154e0e3bd213",
            "7a37cf037a4b4d6a95020ab8409f2a71",
            "71d68ee1663d4bb2b164f6098bd8ce12"
          ]
        },
        "id": "esArE3u-9xIr",
        "outputId": "cced92f1-a82f-4aee-dc53-9e756dbeae81"
      },
      "outputs": [
        {
          "output_type": "display_data",
          "data": {
            "text/plain": [
              "Tab(children=(HTML(value='<div class=\"jp-RenderedHTMLCommon jp-RenderedHTML jp-mod-trusted jp-OutputArea-outpu…"
            ],
            "application/vnd.jupyter.widget-view+json": {
              "version_major": 2,
              "version_minor": 0,
              "model_id": "d0613bd0a14c4238b6ff2ed1cd1134b0"
            }
          },
          "metadata": {}
        }
      ],
      "source": [
        "cluster"
      ]
    },
    {
      "cell_type": "code",
      "execution_count": null,
      "metadata": {
        "id": "T_a0m5vPJynp"
      },
      "outputs": [],
      "source": [
        "#client.close()\n",
        "#cluster.close()"
      ]
    },
    {
      "cell_type": "code",
      "execution_count": null,
      "metadata": {
        "colab": {
          "base_uri": "https://localhost:8080/"
        },
        "id": "7RYZtcl0Wo0n",
        "outputId": "74b4f35c-96fb-47b7-d417-006b5bb187f6"
      },
      "outputs": [
        {
          "name": "stdout",
          "output_type": "stream",
          "text": [
            "Local metadata does not exists. Falling back to download.\n",
            "\u001b[?25l[####################################]  74.74M/74.74M  100%  atlas_image.nii.gz          \u001b[?25h\n",
            "\u001b[?25l[####################################]  76.70M/76.70M  100%  FC_probmap.nii.gz          \u001b[?25h\n",
            "\u001b[?25l[####################################]  27.96M/27.96M  100%  image_preprocessed.nii.gz          \u001b[?25h\n",
            "\u001b[?25l[####################################]  76.66M/76.66M  100%  TC_probmap.nii.gz          \u001b[?25h\n"
          ]
        }
      ],
      "source": [
        "# Download the relevant files such as input image, atlas image, segmented TC and FC maps\n",
        "\n",
        "!girder-client --api-url https://data.kitware.com/api/v1 localsync 621a5d784acac99f426c143b OAIData"
      ]
    },
    {
      "cell_type": "code",
      "execution_count": 16,
      "metadata": {
        "id": "2HbtL8r4TiKb"
      },
      "outputs": [],
      "source": [
        "# All Function Definitions with Dask Delayed Decorator to perform parallel Computing\n",
        "\n",
        "#@delayed(nout=2)\n",
        "def read_images(image_preprocessed, atlas_image):\n",
        "    image_A = itk.imread(image_preprocessed, itk.D)\n",
        "    image_B = itk.imread(atlas_image, itk.D)\n",
        "\n",
        "    fc_prob_file = './OAIData/FC_probmap.nii.gz'\n",
        "    FC_prob = itk.imread(fc_prob_file)\n",
        "\n",
        "    tc_prob_file = './OAIData/TC_probmap.nii.gz'\n",
        "    TC_prob = itk.imread(tc_prob_file)\n",
        "\n",
        "    return image_A, image_B, FC_prob, TC_prob\n",
        "\n",
        "@delayed(nout=3)\n",
        "def register_images_delayed():\n",
        "    import boto3\n",
        "    import itk\n",
        "    import icon_registration\n",
        "    import icon_registration.itk_wrapper as itk_wrapper\n",
        "    import icon_registration.pretrained_models as pretrained_models\n",
        "\n",
        "    if 1:\n",
        "        s3          = boto3.resource(\"s3\")\n",
        "        bucket_name = 'oaisample1'\n",
        "        bucket      = s3.Bucket(bucket_name)\n",
        "        image_A = 'image_preprocessed.nii.gz'\n",
        "        image_B = 'atlas_image.nii.gz'\n",
        "        s3.Bucket(bucket_name).download_file(image_A, image_A)\n",
        "        s3.Bucket(bucket_name).download_file(image_B, image_B)\n",
        "    else:\n",
        "        image_A = './OAIData/image_preprocessed.nii.gz'\n",
        "        image_B = './OAIData/atlas_image.nii.gz'\n",
        "\n",
        "    image_A = itk.imread(image_A, itk.D)\n",
        "    image_B = itk.imread(image_B, itk.D)\n",
        "\n",
        "    model = pretrained_models.OAI_knees_gradICON_model()\n",
        "    model.to('cpu')\n",
        "\n",
        "    # Register the images\n",
        "    phi_AB, phi_BA = itk_wrapper.register_pair(model, image_A, image_B)\n",
        "    return itk.dict_from_transform(phi_AB), itk.dict_from_image(image_A), itk.dict_from_image(image_B)\n",
        "\n",
        "@delayed(nout=1)\n",
        "def deform_probmap_FC_delayed(phi_AB, image_A, image_B):\n",
        "    import itk\n",
        "    import boto3\n",
        "\n",
        "    if 1:\n",
        "        s3          = boto3.resource(\"s3\")\n",
        "        bucket_name = 'oaisample1'\n",
        "        bucket      = s3.Bucket(bucket_name)\n",
        "        fc_prob_file = 'FC_probmap.nii.gz'\n",
        "        s3.Bucket(bucket_name).download_file(fc_prob_file, fc_prob_file)\n",
        "\n",
        "    phi_AB1  = itk.transform_from_dict(phi_AB)\n",
        "    \n",
        "    def set_parameters(phi_AB, phi_AB1):\n",
        "        for i in range(len(phi_AB)-1):\n",
        "            transform1 = phi_AB1.GetNthTransform(i)\n",
        "\n",
        "            fp = phi_AB[i+1]['fixedParameters']\n",
        "            o1 = transform1.GetFixedParameters()\n",
        "            o1.SetSize(fp.shape[0])\n",
        "            for j, v in enumerate(fp):\n",
        "                o1.SetElement(j, v)\n",
        "            transform1.SetFixedParameters(o1)\n",
        "\n",
        "            p = phi_AB[i+1]['parameters']\n",
        "            o2 = transform1.GetParameters()\n",
        "            o2.SetSize(p.shape[0])\n",
        "            for j, v in enumerate(p):\n",
        "                o2.SetElement(j, v)\n",
        "            transform1.SetParameters(o2)\n",
        "\n",
        "    set_parameters(phi_AB, phi_AB1)\n",
        "    image_A = itk.image_from_dict(image_A)\n",
        "    image_B = itk.image_from_dict(image_B)\n",
        "\n",
        "    interpolator = itk.LinearInterpolateImageFunction.New(image_A)\n",
        "    \n",
        "    prob_file = 'FC_probmap.nii.gz'\n",
        "    prob = itk.imread(prob_file, itk.D)\n",
        "\n",
        "    warped_image = itk.resample_image_filter(prob, \n",
        "       transform=phi_AB1, \n",
        "       interpolator=interpolator,\n",
        "       size=itk.size(image_B),\n",
        "       output_spacing=itk.spacing(image_B),\n",
        "       output_direction=image_B.GetDirection(),\n",
        "       output_origin=image_B.GetOrigin()\n",
        "    )\n",
        "\n",
        "    output_dict = itk.dict_from_image(warped_image)\n",
        "    return output_dict\n",
        "  \n",
        "@delayed\n",
        "def deform_probmap_TC_delayed(phi_AB, image_A, image_B):\n",
        "    import itk\n",
        "    import boto3\n",
        "\n",
        "    if 1:\n",
        "        s3          = boto3.resource(\"s3\")\n",
        "        bucket_name = 'oaisample1'\n",
        "        bucket      = s3.Bucket(bucket_name)\n",
        "        fc_prob_file = 'TC_probmap.nii.gz'\n",
        "        s3.Bucket(bucket_name).download_file(fc_prob_file, fc_prob_file)\n",
        "\n",
        "    phi_AB1  = itk.transform_from_dict(phi_AB)\n",
        "    \n",
        "    def set_parameters(phi_AB, phi_AB1):\n",
        "        for i in range(len(phi_AB)-1):\n",
        "            transform1 = phi_AB1.GetNthTransform(i)\n",
        "\n",
        "            fp = phi_AB[i+1]['fixedParameters']\n",
        "            o1 = transform1.GetFixedParameters()\n",
        "            o1.SetSize(fp.shape[0])\n",
        "            for j, v in enumerate(fp):\n",
        "                o1.SetElement(j, v)\n",
        "            transform1.SetFixedParameters(o1)\n",
        "\n",
        "            p = phi_AB[i+1]['parameters']\n",
        "            o2 = transform1.GetParameters()\n",
        "            o2.SetSize(p.shape[0])\n",
        "            for j, v in enumerate(p):\n",
        "                o2.SetElement(j, v)\n",
        "            transform1.SetParameters(o2)\n",
        "\n",
        "    set_parameters(phi_AB, phi_AB1)\n",
        "    image_A = itk.image_from_dict(image_A)\n",
        "    image_B = itk.image_from_dict(image_B)\n",
        "\n",
        "    interpolator = itk.LinearInterpolateImageFunction.New(image_A)\n",
        "    \n",
        "    prob_file = 'TC_probmap.nii.gz'\n",
        "    prob = itk.imread(prob_file, itk.D)\n",
        "\n",
        "    warped_image = itk.resample_image_filter(prob, \n",
        "       transform=phi_AB1, \n",
        "       interpolator=interpolator,\n",
        "       size=itk.size(image_B),\n",
        "       output_spacing=itk.spacing(image_B),\n",
        "       output_direction=image_B.GetDirection(),\n",
        "       output_origin=image_B.GetOrigin()\n",
        "    )\n",
        "\n",
        "    output_dict = itk.dict_from_image(warped_image)\n",
        "    return output_dict\n",
        "  \n",
        "\n",
        "@delayed\n",
        "def deform_probmap_TC(phi_AB, image_A, image_B, TC_prob):\n",
        "    #import itkConfig\n",
        "    #itkConfig.LazyLoading = False\n",
        "    #import itk\n",
        "    #tc_prob_file = './OAIData/TC_probmap.nii.gz'\n",
        "    #TC_prob = itk.imread(tc_prob_file)\n",
        "\n",
        "    interpolator = itk.LinearInterpolateImageFunction.New(image_A)\n",
        "    warped_image_TC = itk.resample_image_filter(TC_prob, \n",
        "        transform=phi_AB, \n",
        "        interpolator=interpolator,\n",
        "        size=itk.size(image_B),\n",
        "        output_spacing=itk.spacing(image_B),\n",
        "        output_direction=image_B.GetDirection(),\n",
        "        output_origin=image_B.GetOrigin()\n",
        "    )\n",
        "\n",
        "    return warped_image_TC\n",
        "\n",
        "# Convert from VTK Mesh to ITK Mesh to make it serializable\n",
        "def get_itk_mesh(vtk_mesh):\n",
        "    #import itkConfig\n",
        "    #itkConfig.LazyLoading = False\n",
        "    #import itk\n",
        "\n",
        "    Dimension = 3\n",
        "    PixelType = itk.D\n",
        "    \n",
        "    MeshType = itk.Mesh[PixelType, Dimension]\n",
        "    itk_mesh = MeshType.New()\n",
        "    \n",
        "    # Get points array from VTK mesh\n",
        "    points = vtk_mesh.GetPoints().GetData()\n",
        "    points_numpy = np.array(points).flatten().astype('float32')\n",
        "        \n",
        "    polys = vtk_mesh.GetPolys().GetData()\n",
        "    polys_numpy = np.array(polys).flatten()\n",
        "\n",
        "    # Triangle Mesh\n",
        "    vtk_cells_count = vtk_mesh.GetNumberOfPolys()\n",
        "    polys_numpy = np.reshape(polys_numpy, [vtk_cells_count, Dimension+1])\n",
        "\n",
        "    # Extracting only the points by removing first column that denotes the VTK cell type\n",
        "    polys_numpy = polys_numpy[:, 1:]\n",
        "    polys_numpy = polys_numpy.flatten().astype(np.uint64)\n",
        "\n",
        "    # Get point data from VTK mesh to insert in ITK Mesh\n",
        "    point_data_numpy = np.array(vtk_mesh.GetPointData().GetScalars())#.astype('float64')\n",
        "    \n",
        "    # Get cell data from VTK mesh to insert in ITK Mesh\n",
        "    cell_data_numpy = np.array(vtk_mesh.GetCellData().GetScalars())#.astype('float64')\n",
        "    \n",
        "    itk_mesh.SetPoints(itk.vector_container_from_array(points_numpy))\n",
        "    itk_mesh.SetCellsArray(itk.vector_container_from_array(polys_numpy), itk.CommonEnums.CellGeometry_TRIANGLE_CELL)\n",
        "    itk_mesh.SetPointData(itk.vector_container_from_array(point_data_numpy))\n",
        "    itk_mesh.SetCellData(itk.vector_container_from_array(cell_data_numpy))    \n",
        "    return itk_mesh\n",
        "    \n",
        "@delayed\n",
        "def get_thickness_FC(warped_image_FC):\n",
        "    import itk\n",
        "    from oai_analysis_2 import mesh_processing as mp\n",
        "\n",
        "    warped_image_FC = itk.image_from_dict(warped_image_FC)\n",
        "    distance_inner_FC, distance_outer_FC = mp.get_thickness_mesh(warped_image_FC, mesh_type='FC')\n",
        "    distance_inner_FC = get_itk_mesh(distance_inner_FC)\n",
        "    distance_inner_FC = itk.dict_from_mesh(distance_inner_FC)\n",
        "    return distance_inner_FC\n",
        "\n",
        "@delayed(nout=1)\n",
        "def get_thickness_TC(warped_image_TC):\n",
        "    import itk\n",
        "    import vtk\n",
        "    import numpy as np\n",
        "    from oai_analysis_2 import mesh_processing as mp\n",
        "\n",
        "    def get_itk_mesh(vtk_mesh):\n",
        "        Dimension = 3\n",
        "        PixelType = itk.D\n",
        "        \n",
        "        MeshType = itk.Mesh[PixelType, Dimension]\n",
        "        itk_mesh = MeshType.New()\n",
        "        \n",
        "        # Get points array from VTK mesh\n",
        "        points = vtk_mesh.GetPoints().GetData()\n",
        "        points_numpy = np.array(points).flatten().astype('float32')\n",
        "            \n",
        "        polys = vtk_mesh.GetPolys().GetData()\n",
        "        polys_numpy = np.array(polys).flatten()\n",
        "\n",
        "        # Triangle Mesh\n",
        "        vtk_cells_count = vtk_mesh.GetNumberOfPolys()\n",
        "        polys_numpy = np.reshape(polys_numpy, [vtk_cells_count, Dimension+1])\n",
        "\n",
        "        # Extracting only the points by removing first column that denotes the VTK cell type\n",
        "        polys_numpy = polys_numpy[:, 1:]\n",
        "        polys_numpy = polys_numpy.flatten().astype(np.uint64)\n",
        "\n",
        "        # Get point data from VTK mesh to insert in ITK Mesh\n",
        "        point_data_numpy = np.array(vtk_mesh.GetPointData().GetScalars())#.astype('float64')\n",
        "        \n",
        "        # Get cell data from VTK mesh to insert in ITK Mesh\n",
        "        cell_data_numpy = np.array(vtk_mesh.GetCellData().GetScalars())#.astype('float64')\n",
        "        \n",
        "        itk_mesh.SetPoints(itk.vector_container_from_array(points_numpy))\n",
        "        itk_mesh.SetCellsArray(itk.vector_container_from_array(polys_numpy), itk.CommonEnums.CellGeometry_TRIANGLE_CELL)\n",
        "        itk_mesh.SetPointData(itk.vector_container_from_array(point_data_numpy))\n",
        "        itk_mesh.SetCellData(itk.vector_container_from_array(cell_data_numpy))    \n",
        "        return itk_mesh\n",
        "\n",
        "    warped_image_TC = itk.image_from_dict(warped_image_TC)\n",
        "    distance_inner_TC, distance_outer_TC = mp.get_thickness_mesh(warped_image_TC, mesh_type='TC')\n",
        "    distance_inner_TC = get_itk_mesh(distance_inner_TC)\n",
        "    distance_inner_TC = itk.dict_from_mesh(distance_inner_TC)\n",
        "    return distance_inner_TC\n",
        "\n",
        "#@delayed(nout=2)\n",
        "def get_paths():\n",
        "    import numpy as np\n",
        "    import itk\n",
        "    import vtk\n",
        "    import itkwidgets\n",
        "    import icon_registration\n",
        "    import icon_registration.itk_wrapper as itk_wrapper\n",
        "    import icon_registration.pretrained_models as pretrained_models\n",
        "    from oai_analysis_2 import mesh_processing as mp\n",
        "\n",
        "    image_preprocessed = \"./OAIData/image_preprocessed.nii.gz\"\n",
        "    atlas_image = \"./OAIData/atlas_image.nii.gz\"\n",
        "\n",
        "    return image_preprocessed, atlas_image\n",
        "\n",
        "#@delayed\n",
        "def only_register_images(image_A, image_B):\n",
        "  #import itkConfig\n",
        "  #itkConfig.LazyLoading = False\n",
        "  #import itk\n",
        "  import numpy as np\n",
        "  import itk\n",
        "  import vtk\n",
        "  import itkwidgets\n",
        "  import icon_registration\n",
        "  import icon_registration.itk_wrapper as itk_wrapper\n",
        "  import icon_registration.pretrained_models as pretrained_models\n",
        "  from oai_analysis_2 import mesh_processing as mp\n",
        "\n",
        "  phi_AB  = register_images(image_A=image_A, image_B=image_B)\n",
        "  return phi_AB\n",
        "\n",
        "@delayed\n",
        "def import_all():\n",
        "  import numpy as np\n",
        "  #import itkConfig\n",
        "  #itkConfig.LazyLoading = False\n",
        "  import itk\n",
        "  import vtk\n",
        "  import itkwidgets\n",
        "  import icon_registration\n",
        "  import icon_registration.itk_wrapper as itk_wrapper\n",
        "  import icon_registration.pretrained_models as pretrained_models\n",
        "  from oai_analysis_2 import mesh_processing as mp\n",
        "\n",
        "  return True"
      ]
    },
    {
      "cell_type": "code",
      "source": [
        "import vtk\n",
        "vtk.__version__"
      ],
      "metadata": {
        "colab": {
          "base_uri": "https://localhost:8080/",
          "height": 35
        },
        "id": "6Xgiytnn7ipx",
        "outputId": "27e70187-e5e0-4ea8-df90-3cbe8802087d"
      },
      "execution_count": 18,
      "outputs": [
        {
          "output_type": "execute_result",
          "data": {
            "text/plain": [
              "'9.1.0'"
            ],
            "application/vnd.google.colaboratory.intrinsic+json": {
              "type": "string"
            }
          },
          "metadata": {},
          "execution_count": 18
        }
      ]
    },
    {
      "cell_type": "code",
      "source": [
        "@delayed\n",
        "def check_vtk():\n",
        "  import vtk\n",
        "  return vtk.__version__\n"
      ],
      "metadata": {
        "id": "t6irlumR7ctq"
      },
      "execution_count": 19,
      "outputs": []
    },
    {
      "cell_type": "code",
      "source": [
        "t1 = check_vtk()\n",
        "output_result = compute(t1)\n",
        "print(output_result)"
      ],
      "metadata": {
        "colab": {
          "base_uri": "https://localhost:8080/"
        },
        "id": "NFTeWpPk7pMX",
        "outputId": "01ee6583-0e68-4c19-ea3e-c34466989ebe"
      },
      "execution_count": 21,
      "outputs": [
        {
          "output_type": "stream",
          "name": "stdout",
          "text": [
            "('9.1.0',)\n"
          ]
        }
      ]
    },
    {
      "cell_type": "code",
      "execution_count": 10,
      "metadata": {
        "colab": {
          "base_uri": "https://localhost:8080/",
          "height": 414
        },
        "id": "snuntUuOBLqV",
        "outputId": "d7609c4c-1146-4519-a2ea-b25fb2fe2c66"
      },
      "outputs": [
        {
          "output_type": "error",
          "ename": "ImportError",
          "evalue": "ignored",
          "traceback": [
            "\u001b[0;31m---------------------------------------------------------------------------\u001b[0m",
            "\u001b[0;31mImportError\u001b[0m                               Traceback (most recent call last)",
            "\u001b[0;32m<ipython-input-10-3dae0a946c7a>\u001b[0m in \u001b[0;36m<module>\u001b[0;34m()\u001b[0m\n\u001b[1;32m      8\u001b[0m \u001b[0mresult\u001b[0m \u001b[0;34m=\u001b[0m \u001b[0mthickness_tc\u001b[0m\u001b[0;34m\u001b[0m\u001b[0;34m\u001b[0m\u001b[0m\n\u001b[1;32m      9\u001b[0m \u001b[0;31m#result = #[deformed_fc]\u001b[0m\u001b[0;34m\u001b[0m\u001b[0;34m\u001b[0m\u001b[0;34m\u001b[0m\u001b[0m\n\u001b[0;32m---> 10\u001b[0;31m \u001b[0moutput_result\u001b[0m \u001b[0;34m=\u001b[0m \u001b[0mcompute\u001b[0m\u001b[0;34m(\u001b[0m\u001b[0;34m*\u001b[0m\u001b[0mresult\u001b[0m\u001b[0;34m)\u001b[0m\u001b[0;34m\u001b[0m\u001b[0;34m\u001b[0m\u001b[0m\n\u001b[0m\u001b[1;32m     11\u001b[0m \u001b[0;31m#print(output_result)\u001b[0m\u001b[0;34m\u001b[0m\u001b[0;34m\u001b[0m\u001b[0;34m\u001b[0m\u001b[0m\n",
            "\u001b[0;32m/usr/local/lib/python3.7/dist-packages/dask/base.py\u001b[0m in \u001b[0;36mcompute\u001b[0;34m(traverse, optimize_graph, scheduler, get, *args, **kwargs)\u001b[0m\n\u001b[1;32m    571\u001b[0m         \u001b[0mpostcomputes\u001b[0m\u001b[0;34m.\u001b[0m\u001b[0mappend\u001b[0m\u001b[0;34m(\u001b[0m\u001b[0mx\u001b[0m\u001b[0;34m.\u001b[0m\u001b[0m__dask_postcompute__\u001b[0m\u001b[0;34m(\u001b[0m\u001b[0;34m)\u001b[0m\u001b[0;34m)\u001b[0m\u001b[0;34m\u001b[0m\u001b[0;34m\u001b[0m\u001b[0m\n\u001b[1;32m    572\u001b[0m \u001b[0;34m\u001b[0m\u001b[0m\n\u001b[0;32m--> 573\u001b[0;31m     \u001b[0mresults\u001b[0m \u001b[0;34m=\u001b[0m \u001b[0mschedule\u001b[0m\u001b[0;34m(\u001b[0m\u001b[0mdsk\u001b[0m\u001b[0;34m,\u001b[0m \u001b[0mkeys\u001b[0m\u001b[0;34m,\u001b[0m \u001b[0;34m**\u001b[0m\u001b[0mkwargs\u001b[0m\u001b[0;34m)\u001b[0m\u001b[0;34m\u001b[0m\u001b[0;34m\u001b[0m\u001b[0m\n\u001b[0m\u001b[1;32m    574\u001b[0m     \u001b[0;32mreturn\u001b[0m \u001b[0mrepack\u001b[0m\u001b[0;34m(\u001b[0m\u001b[0;34m[\u001b[0m\u001b[0mf\u001b[0m\u001b[0;34m(\u001b[0m\u001b[0mr\u001b[0m\u001b[0;34m,\u001b[0m \u001b[0;34m*\u001b[0m\u001b[0ma\u001b[0m\u001b[0;34m)\u001b[0m \u001b[0;32mfor\u001b[0m \u001b[0mr\u001b[0m\u001b[0;34m,\u001b[0m \u001b[0;34m(\u001b[0m\u001b[0mf\u001b[0m\u001b[0;34m,\u001b[0m \u001b[0ma\u001b[0m\u001b[0;34m)\u001b[0m \u001b[0;32min\u001b[0m \u001b[0mzip\u001b[0m\u001b[0;34m(\u001b[0m\u001b[0mresults\u001b[0m\u001b[0;34m,\u001b[0m \u001b[0mpostcomputes\u001b[0m\u001b[0;34m)\u001b[0m\u001b[0;34m]\u001b[0m\u001b[0;34m)\u001b[0m\u001b[0;34m\u001b[0m\u001b[0;34m\u001b[0m\u001b[0m\n\u001b[1;32m    575\u001b[0m \u001b[0;34m\u001b[0m\u001b[0m\n",
            "\u001b[0;32m/usr/local/lib/python3.7/dist-packages/distributed/client.py\u001b[0m in \u001b[0;36mget\u001b[0;34m(self, dsk, keys, workers, allow_other_workers, resources, sync, asynchronous, direct, retries, priority, fifo_timeout, actors, **kwargs)\u001b[0m\n\u001b[1;32m   2992\u001b[0m                     \u001b[0mshould_rejoin\u001b[0m \u001b[0;34m=\u001b[0m \u001b[0;32mFalse\u001b[0m\u001b[0;34m\u001b[0m\u001b[0;34m\u001b[0m\u001b[0m\n\u001b[1;32m   2993\u001b[0m             \u001b[0;32mtry\u001b[0m\u001b[0;34m:\u001b[0m\u001b[0;34m\u001b[0m\u001b[0;34m\u001b[0m\u001b[0m\n\u001b[0;32m-> 2994\u001b[0;31m                 \u001b[0mresults\u001b[0m \u001b[0;34m=\u001b[0m \u001b[0mself\u001b[0m\u001b[0;34m.\u001b[0m\u001b[0mgather\u001b[0m\u001b[0;34m(\u001b[0m\u001b[0mpacked\u001b[0m\u001b[0;34m,\u001b[0m \u001b[0masynchronous\u001b[0m\u001b[0;34m=\u001b[0m\u001b[0masynchronous\u001b[0m\u001b[0;34m,\u001b[0m \u001b[0mdirect\u001b[0m\u001b[0;34m=\u001b[0m\u001b[0mdirect\u001b[0m\u001b[0;34m)\u001b[0m\u001b[0;34m\u001b[0m\u001b[0;34m\u001b[0m\u001b[0m\n\u001b[0m\u001b[1;32m   2995\u001b[0m             \u001b[0;32mfinally\u001b[0m\u001b[0;34m:\u001b[0m\u001b[0;34m\u001b[0m\u001b[0;34m\u001b[0m\u001b[0m\n\u001b[1;32m   2996\u001b[0m                 \u001b[0;32mfor\u001b[0m \u001b[0mf\u001b[0m \u001b[0;32min\u001b[0m \u001b[0mfutures\u001b[0m\u001b[0;34m.\u001b[0m\u001b[0mvalues\u001b[0m\u001b[0;34m(\u001b[0m\u001b[0;34m)\u001b[0m\u001b[0;34m:\u001b[0m\u001b[0;34m\u001b[0m\u001b[0;34m\u001b[0m\u001b[0m\n",
            "\u001b[0;32m/usr/local/lib/python3.7/dist-packages/distributed/client.py\u001b[0m in \u001b[0;36mgather\u001b[0;34m(self, futures, errors, direct, asynchronous)\u001b[0m\n\u001b[1;32m   2150\u001b[0m                 \u001b[0mdirect\u001b[0m\u001b[0;34m=\u001b[0m\u001b[0mdirect\u001b[0m\u001b[0;34m,\u001b[0m\u001b[0;34m\u001b[0m\u001b[0;34m\u001b[0m\u001b[0m\n\u001b[1;32m   2151\u001b[0m                 \u001b[0mlocal_worker\u001b[0m\u001b[0;34m=\u001b[0m\u001b[0mlocal_worker\u001b[0m\u001b[0;34m,\u001b[0m\u001b[0;34m\u001b[0m\u001b[0;34m\u001b[0m\u001b[0m\n\u001b[0;32m-> 2152\u001b[0;31m                 \u001b[0masynchronous\u001b[0m\u001b[0;34m=\u001b[0m\u001b[0masynchronous\u001b[0m\u001b[0;34m,\u001b[0m\u001b[0;34m\u001b[0m\u001b[0;34m\u001b[0m\u001b[0m\n\u001b[0m\u001b[1;32m   2153\u001b[0m             )\n\u001b[1;32m   2154\u001b[0m \u001b[0;34m\u001b[0m\u001b[0m\n",
            "\u001b[0;32m/usr/local/lib/python3.7/dist-packages/distributed/utils.py\u001b[0m in \u001b[0;36msync\u001b[0;34m(self, func, asynchronous, callback_timeout, *args, **kwargs)\u001b[0m\n\u001b[1;32m    308\u001b[0m         \u001b[0;32melse\u001b[0m\u001b[0;34m:\u001b[0m\u001b[0;34m\u001b[0m\u001b[0;34m\u001b[0m\u001b[0m\n\u001b[1;32m    309\u001b[0m             return sync(\n\u001b[0;32m--> 310\u001b[0;31m                 \u001b[0mself\u001b[0m\u001b[0;34m.\u001b[0m\u001b[0mloop\u001b[0m\u001b[0;34m,\u001b[0m \u001b[0mfunc\u001b[0m\u001b[0;34m,\u001b[0m \u001b[0;34m*\u001b[0m\u001b[0margs\u001b[0m\u001b[0;34m,\u001b[0m \u001b[0mcallback_timeout\u001b[0m\u001b[0;34m=\u001b[0m\u001b[0mcallback_timeout\u001b[0m\u001b[0;34m,\u001b[0m \u001b[0;34m**\u001b[0m\u001b[0mkwargs\u001b[0m\u001b[0;34m\u001b[0m\u001b[0;34m\u001b[0m\u001b[0m\n\u001b[0m\u001b[1;32m    311\u001b[0m             )\n\u001b[1;32m    312\u001b[0m \u001b[0;34m\u001b[0m\u001b[0m\n",
            "\u001b[0;32m/usr/local/lib/python3.7/dist-packages/distributed/utils.py\u001b[0m in \u001b[0;36msync\u001b[0;34m(loop, func, callback_timeout, *args, **kwargs)\u001b[0m\n\u001b[1;32m    374\u001b[0m     \u001b[0;32mif\u001b[0m \u001b[0merror\u001b[0m\u001b[0;34m:\u001b[0m\u001b[0;34m\u001b[0m\u001b[0;34m\u001b[0m\u001b[0m\n\u001b[1;32m    375\u001b[0m         \u001b[0mtyp\u001b[0m\u001b[0;34m,\u001b[0m \u001b[0mexc\u001b[0m\u001b[0;34m,\u001b[0m \u001b[0mtb\u001b[0m \u001b[0;34m=\u001b[0m \u001b[0merror\u001b[0m\u001b[0;34m\u001b[0m\u001b[0;34m\u001b[0m\u001b[0m\n\u001b[0;32m--> 376\u001b[0;31m         \u001b[0;32mraise\u001b[0m \u001b[0mexc\u001b[0m\u001b[0;34m.\u001b[0m\u001b[0mwith_traceback\u001b[0m\u001b[0;34m(\u001b[0m\u001b[0mtb\u001b[0m\u001b[0;34m)\u001b[0m\u001b[0;34m\u001b[0m\u001b[0;34m\u001b[0m\u001b[0m\n\u001b[0m\u001b[1;32m    377\u001b[0m     \u001b[0;32melse\u001b[0m\u001b[0;34m:\u001b[0m\u001b[0;34m\u001b[0m\u001b[0;34m\u001b[0m\u001b[0m\n\u001b[1;32m    378\u001b[0m         \u001b[0;32mreturn\u001b[0m \u001b[0mresult\u001b[0m\u001b[0;34m\u001b[0m\u001b[0;34m\u001b[0m\u001b[0m\n",
            "\u001b[0;32m/usr/local/lib/python3.7/dist-packages/distributed/utils.py\u001b[0m in \u001b[0;36mf\u001b[0;34m()\u001b[0m\n\u001b[1;32m    347\u001b[0m                 \u001b[0mfuture\u001b[0m \u001b[0;34m=\u001b[0m \u001b[0masyncio\u001b[0m\u001b[0;34m.\u001b[0m\u001b[0mwait_for\u001b[0m\u001b[0;34m(\u001b[0m\u001b[0mfuture\u001b[0m\u001b[0;34m,\u001b[0m \u001b[0mcallback_timeout\u001b[0m\u001b[0;34m)\u001b[0m\u001b[0;34m\u001b[0m\u001b[0;34m\u001b[0m\u001b[0m\n\u001b[1;32m    348\u001b[0m             \u001b[0mfuture\u001b[0m \u001b[0;34m=\u001b[0m \u001b[0masyncio\u001b[0m\u001b[0;34m.\u001b[0m\u001b[0mensure_future\u001b[0m\u001b[0;34m(\u001b[0m\u001b[0mfuture\u001b[0m\u001b[0;34m)\u001b[0m\u001b[0;34m\u001b[0m\u001b[0;34m\u001b[0m\u001b[0m\n\u001b[0;32m--> 349\u001b[0;31m             \u001b[0mresult\u001b[0m \u001b[0;34m=\u001b[0m \u001b[0;32myield\u001b[0m \u001b[0mfuture\u001b[0m\u001b[0;34m\u001b[0m\u001b[0;34m\u001b[0m\u001b[0m\n\u001b[0m\u001b[1;32m    350\u001b[0m         \u001b[0;32mexcept\u001b[0m \u001b[0mException\u001b[0m\u001b[0;34m:\u001b[0m\u001b[0;34m\u001b[0m\u001b[0;34m\u001b[0m\u001b[0m\n\u001b[1;32m    351\u001b[0m             \u001b[0merror\u001b[0m \u001b[0;34m=\u001b[0m \u001b[0msys\u001b[0m\u001b[0;34m.\u001b[0m\u001b[0mexc_info\u001b[0m\u001b[0;34m(\u001b[0m\u001b[0;34m)\u001b[0m\u001b[0;34m\u001b[0m\u001b[0;34m\u001b[0m\u001b[0m\n",
            "\u001b[0;32m/usr/local/lib/python3.7/dist-packages/tornado/gen.py\u001b[0m in \u001b[0;36mrun\u001b[0;34m(self)\u001b[0m\n\u001b[1;32m    760\u001b[0m \u001b[0;34m\u001b[0m\u001b[0m\n\u001b[1;32m    761\u001b[0m                     \u001b[0;32mtry\u001b[0m\u001b[0;34m:\u001b[0m\u001b[0;34m\u001b[0m\u001b[0;34m\u001b[0m\u001b[0m\n\u001b[0;32m--> 762\u001b[0;31m                         \u001b[0mvalue\u001b[0m \u001b[0;34m=\u001b[0m \u001b[0mfuture\u001b[0m\u001b[0;34m.\u001b[0m\u001b[0mresult\u001b[0m\u001b[0;34m(\u001b[0m\u001b[0;34m)\u001b[0m\u001b[0;34m\u001b[0m\u001b[0;34m\u001b[0m\u001b[0m\n\u001b[0m\u001b[1;32m    763\u001b[0m                     \u001b[0;32mexcept\u001b[0m \u001b[0mException\u001b[0m\u001b[0;34m:\u001b[0m\u001b[0;34m\u001b[0m\u001b[0;34m\u001b[0m\u001b[0m\n\u001b[1;32m    764\u001b[0m                         \u001b[0mexc_info\u001b[0m \u001b[0;34m=\u001b[0m \u001b[0msys\u001b[0m\u001b[0;34m.\u001b[0m\u001b[0mexc_info\u001b[0m\u001b[0;34m(\u001b[0m\u001b[0;34m)\u001b[0m\u001b[0;34m\u001b[0m\u001b[0;34m\u001b[0m\u001b[0m\n",
            "\u001b[0;32m/usr/local/lib/python3.7/dist-packages/distributed/client.py\u001b[0m in \u001b[0;36m_gather\u001b[0;34m(self, futures, errors, direct, local_worker)\u001b[0m\n\u001b[1;32m   2007\u001b[0m                             \u001b[0mexc\u001b[0m \u001b[0;34m=\u001b[0m \u001b[0mCancelledError\u001b[0m\u001b[0;34m(\u001b[0m\u001b[0mkey\u001b[0m\u001b[0;34m)\u001b[0m\u001b[0;34m\u001b[0m\u001b[0;34m\u001b[0m\u001b[0m\n\u001b[1;32m   2008\u001b[0m                         \u001b[0;32melse\u001b[0m\u001b[0;34m:\u001b[0m\u001b[0;34m\u001b[0m\u001b[0;34m\u001b[0m\u001b[0m\n\u001b[0;32m-> 2009\u001b[0;31m                             \u001b[0;32mraise\u001b[0m \u001b[0mexception\u001b[0m\u001b[0;34m.\u001b[0m\u001b[0mwith_traceback\u001b[0m\u001b[0;34m(\u001b[0m\u001b[0mtraceback\u001b[0m\u001b[0;34m)\u001b[0m\u001b[0;34m\u001b[0m\u001b[0;34m\u001b[0m\u001b[0m\n\u001b[0m\u001b[1;32m   2010\u001b[0m                         \u001b[0;32mraise\u001b[0m \u001b[0mexc\u001b[0m\u001b[0;34m\u001b[0m\u001b[0;34m\u001b[0m\u001b[0m\n\u001b[1;32m   2011\u001b[0m                     \u001b[0;32mif\u001b[0m \u001b[0merrors\u001b[0m \u001b[0;34m==\u001b[0m \u001b[0;34m\"skip\"\u001b[0m\u001b[0;34m:\u001b[0m\u001b[0;34m\u001b[0m\u001b[0;34m\u001b[0m\u001b[0m\n",
            "\u001b[0;32m<ipython-input-9-9423abe1baf8>\u001b[0m in \u001b[0;36mget_thickness_TC\u001b[0;34m()\u001b[0m\n\u001b[1;32m    224\u001b[0m \u001b[0;32mdef\u001b[0m \u001b[0mget_thickness_TC\u001b[0m\u001b[0;34m(\u001b[0m\u001b[0mwarped_image_TC\u001b[0m\u001b[0;34m)\u001b[0m\u001b[0;34m:\u001b[0m\u001b[0;34m\u001b[0m\u001b[0;34m\u001b[0m\u001b[0m\n\u001b[1;32m    225\u001b[0m     \u001b[0;32mimport\u001b[0m \u001b[0mitk\u001b[0m\u001b[0;34m\u001b[0m\u001b[0;34m\u001b[0m\u001b[0m\n\u001b[0;32m--> 226\u001b[0;31m     \u001b[0;32mimport\u001b[0m \u001b[0mvtk\u001b[0m\u001b[0;34m\u001b[0m\u001b[0;34m\u001b[0m\u001b[0m\n\u001b[0m\u001b[1;32m    227\u001b[0m     \u001b[0;32mimport\u001b[0m \u001b[0mnumpy\u001b[0m \u001b[0;32mas\u001b[0m \u001b[0mnp\u001b[0m\u001b[0;34m\u001b[0m\u001b[0;34m\u001b[0m\u001b[0m\n\u001b[1;32m    228\u001b[0m     \u001b[0;32mfrom\u001b[0m \u001b[0moai_analysis_2\u001b[0m \u001b[0;32mimport\u001b[0m \u001b[0mmesh_processing\u001b[0m \u001b[0;32mas\u001b[0m \u001b[0mmp\u001b[0m\u001b[0;34m\u001b[0m\u001b[0;34m\u001b[0m\u001b[0m\n",
            "\u001b[0;32m/opt/conda/envs/coiled/lib/python3.7/site-packages/vtk.py\u001b[0m in \u001b[0;36m<module>\u001b[0;34m()\u001b[0m\n",
            "\u001b[0;32m/opt/conda/envs/coiled/lib/python3.7/importlib/__init__.py\u001b[0m in \u001b[0;36mimport_module\u001b[0;34m()\u001b[0m\n",
            "\u001b[0;32m/opt/conda/envs/coiled/lib/python3.7/site-packages/vtkmodules/all.py\u001b[0m in \u001b[0;36m<module>\u001b[0;34m()\u001b[0m\n",
            "\u001b[0;31mImportError\u001b[0m: libGL.so.1: cannot open shared object file: No such file or directory",
            "",
            "\u001b[0;31m---------------------------------------------------------------------------\u001b[0;32m\nNOTE: If your import is failing due to a missing package, you can\nmanually install dependencies using either !pip or !apt.\n\nTo view examples of installing some common dependencies, click the\n\"Open Examples\" button below.\n\u001b[0;31m---------------------------------------------------------------------------\u001b[0m\n"
          ],
          "errorDetails": {
            "actions": [
              {
                "action": "open_url",
                "actionText": "Open Examples",
                "url": "/notebooks/snippets/importing_libraries.ipynb"
              }
            ]
          }
        }
      ],
      "source": [
        "phi_AB, image_A, image_B = register_images_delayed()\n",
        "deformed_fc = deform_probmap_FC_delayed(phi_AB, image_A, image_B)\n",
        "deformed_tc = deform_probmap_TC_delayed(phi_AB, image_A, image_B)\n",
        "\n",
        "#thickness_fc = get_thickness_FC(deformed_fc)\n",
        "thickness_tc = get_thickness_TC(deformed_tc)\n",
        "\n",
        "result = thickness_tc\n",
        "#result = #[deformed_fc]\n",
        "output_result = compute(*result)\n",
        "#print(output_result)"
      ]
    },
    {
      "cell_type": "code",
      "source": [
        "# Read File from S3 from Dask workers inside the EC2 instances\n",
        "# Now finish the pipeline\n",
        "\n",
        "@delayed\n",
        "def show_contents_s3_bucket_a(bucket_name, filename):\n",
        "  import boto3\n",
        "  import itk\n",
        "\n",
        "  s3     = boto3.resource(\"s3\")\n",
        "  bucket = s3.Bucket(bucket_name)\n",
        "\n",
        "  #all_objects = []\n",
        "  #for obj in bucket.objects.all():\n",
        "  #  all_objects.append(str(obj.key))\n",
        "  #all_files = \",\".join(all_objects)\n",
        "\n",
        "  s3.Bucket(bucket_name).download_file(filename, filename)\n",
        "  itk_image = itk.imread(filename)\n",
        "  return itk_image.shape\n",
        "\n",
        "bucket_name = 'oaisample1'\n",
        "filename    = 'atlas_image.nii.gz'\n",
        "output_str  = show_contents_s3_bucket_a(bucket_name, filename)\n",
        "\n",
        "l = compute(output_str)\n",
        "print(l)"
      ],
      "metadata": {
        "id": "6MikIq2-6vfH"
      },
      "execution_count": null,
      "outputs": []
    },
    {
      "cell_type": "code",
      "execution_count": 49,
      "metadata": {
        "colab": {
          "base_uri": "https://localhost:8080/"
        },
        "id": "8lqJbjg941Rt",
        "outputId": "5a9633dd-89b4-4ac8-fcd5-899e9078dca3"
      },
      "outputs": [
        {
          "output_type": "stream",
          "name": "stdout",
          "text": [
            "({'imageType': {'dimension': 3, 'componentType': 'float64', 'pixelType': 'Scalar', 'components': 1}, 'origin': (0.0, 0.0, 0.0), 'spacing': (0.3645833432674408, 0.3645833432674408, 0.7000101208686829), 'size': (384, 384, 160), 'direction': array([[-0.,  0., -1.],\n",
            "       [ 1., -0.,  0.],\n",
            "       [ 0., -1.,  0.]]), 'data': NDArrayITKBase([[[0., 0., 0., ..., 0., 0., 0.],\n",
            "                 [0., 0., 0., ..., 0., 0., 0.],\n",
            "                 [0., 0., 0., ..., 0., 0., 0.],\n",
            "                 ...,\n",
            "                 [0., 0., 0., ..., 0., 0., 0.],\n",
            "                 [0., 0., 0., ..., 0., 0., 0.],\n",
            "                 [0., 0., 0., ..., 0., 0., 0.]],\n",
            "\n",
            "                [[0., 0., 0., ..., 0., 0., 0.],\n",
            "                 [0., 0., 0., ..., 0., 0., 0.],\n",
            "                 [0., 0., 0., ..., 0., 0., 0.],\n",
            "                 ...,\n",
            "                 [0., 0., 0., ..., 0., 0., 0.],\n",
            "                 [0., 0., 0., ..., 0., 0., 0.],\n",
            "                 [0., 0., 0., ..., 0., 0., 0.]],\n",
            "\n",
            "                [[0., 0., 0., ..., 0., 0., 0.],\n",
            "                 [0., 0., 0., ..., 0., 0., 0.],\n",
            "                 [0., 0., 0., ..., 0., 0., 0.],\n",
            "                 ...,\n",
            "                 [0., 0., 0., ..., 0., 0., 0.],\n",
            "                 [0., 0., 0., ..., 0., 0., 0.],\n",
            "                 [0., 0., 0., ..., 0., 0., 0.]],\n",
            "\n",
            "                ...,\n",
            "\n",
            "                [[0., 0., 0., ..., 0., 0., 0.],\n",
            "                 [0., 0., 0., ..., 0., 0., 0.],\n",
            "                 [0., 0., 0., ..., 0., 0., 0.],\n",
            "                 ...,\n",
            "                 [0., 0., 0., ..., 0., 0., 0.],\n",
            "                 [0., 0., 0., ..., 0., 0., 0.],\n",
            "                 [0., 0., 0., ..., 0., 0., 0.]],\n",
            "\n",
            "                [[0., 0., 0., ..., 0., 0., 0.],\n",
            "                 [0., 0., 0., ..., 0., 0., 0.],\n",
            "                 [0., 0., 0., ..., 0., 0., 0.],\n",
            "                 ...,\n",
            "                 [0., 0., 0., ..., 0., 0., 0.],\n",
            "                 [0., 0., 0., ..., 0., 0., 0.],\n",
            "                 [0., 0., 0., ..., 0., 0., 0.]],\n",
            "\n",
            "                [[0., 0., 0., ..., 0., 0., 0.],\n",
            "                 [0., 0., 0., ..., 0., 0., 0.],\n",
            "                 [0., 0., 0., ..., 0., 0., 0.],\n",
            "                 ...,\n",
            "                 [0., 0., 0., ..., 0., 0., 0.],\n",
            "                 [0., 0., 0., ..., 0., 0., 0.],\n",
            "                 [0., 0., 0., ..., 0., 0., 0.]]])}, {'imageType': {'dimension': 3, 'componentType': 'float64', 'pixelType': 'Scalar', 'components': 1}, 'origin': (0.0, 0.0, 0.0), 'spacing': (0.3645833432674408, 0.3645833432674408, 0.7000101208686829), 'size': (384, 384, 160), 'direction': array([[-0.,  0., -1.],\n",
            "       [ 1., -0.,  0.],\n",
            "       [ 0., -1.,  0.]]), 'data': NDArrayITKBase([[[0., 0., 0., ..., 0., 0., 0.],\n",
            "                 [0., 0., 0., ..., 0., 0., 0.],\n",
            "                 [0., 0., 0., ..., 0., 0., 0.],\n",
            "                 ...,\n",
            "                 [0., 0., 0., ..., 0., 0., 0.],\n",
            "                 [0., 0., 0., ..., 0., 0., 0.],\n",
            "                 [0., 0., 0., ..., 0., 0., 0.]],\n",
            "\n",
            "                [[0., 0., 0., ..., 0., 0., 0.],\n",
            "                 [0., 0., 0., ..., 0., 0., 0.],\n",
            "                 [0., 0., 0., ..., 0., 0., 0.],\n",
            "                 ...,\n",
            "                 [0., 0., 0., ..., 0., 0., 0.],\n",
            "                 [0., 0., 0., ..., 0., 0., 0.],\n",
            "                 [0., 0., 0., ..., 0., 0., 0.]],\n",
            "\n",
            "                [[0., 0., 0., ..., 0., 0., 0.],\n",
            "                 [0., 0., 0., ..., 0., 0., 0.],\n",
            "                 [0., 0., 0., ..., 0., 0., 0.],\n",
            "                 ...,\n",
            "                 [0., 0., 0., ..., 0., 0., 0.],\n",
            "                 [0., 0., 0., ..., 0., 0., 0.],\n",
            "                 [0., 0., 0., ..., 0., 0., 0.]],\n",
            "\n",
            "                ...,\n",
            "\n",
            "                [[0., 0., 0., ..., 0., 0., 0.],\n",
            "                 [0., 0., 0., ..., 0., 0., 0.],\n",
            "                 [0., 0., 0., ..., 0., 0., 0.],\n",
            "                 ...,\n",
            "                 [0., 0., 0., ..., 0., 0., 0.],\n",
            "                 [0., 0., 0., ..., 0., 0., 0.],\n",
            "                 [0., 0., 0., ..., 0., 0., 0.]],\n",
            "\n",
            "                [[0., 0., 0., ..., 0., 0., 0.],\n",
            "                 [0., 0., 0., ..., 0., 0., 0.],\n",
            "                 [0., 0., 0., ..., 0., 0., 0.],\n",
            "                 ...,\n",
            "                 [0., 0., 0., ..., 0., 0., 0.],\n",
            "                 [0., 0., 0., ..., 0., 0., 0.],\n",
            "                 [0., 0., 0., ..., 0., 0., 0.]],\n",
            "\n",
            "                [[0., 0., 0., ..., 0., 0., 0.],\n",
            "                 [0., 0., 0., ..., 0., 0., 0.],\n",
            "                 [0., 0., 0., ..., 0., 0., 0.],\n",
            "                 ...,\n",
            "                 [0., 0., 0., ..., 0., 0., 0.],\n",
            "                 [0., 0., 0., ..., 0., 0., 0.],\n",
            "                 [0., 0., 0., ..., 0., 0., 0.]]])})\n"
          ]
        }
      ],
      "source": [
        "# For fetching files from S3\n",
        "\n",
        "import boto3\n",
        "s3 = boto3.resource(\"s3\")\n",
        "\n",
        "def show_contents_s3_bucket(bucket_name):\n",
        "  import boto3\n",
        "\n",
        "  s3     = boto3.resource(\"s3\")\n",
        "  bucket = s3.Bucket(bucket_name)\n",
        "\n",
        "  all_objects = []\n",
        "  for obj in bucket.objects.all():\n",
        "    all_objects.append(str(obj.key))\n",
        "  \n",
        "  return \",\".join(all_objects)\n",
        "\n",
        "#print(f'filename : {obj.key} ')\n",
        "#s3.Bucket(bucket_name).download_file(obj.key, './OAIData1/'+obj.key)\n",
        "    \n",
        "bucket_name = 'oaisample1'\n",
        "show_contents_s3_bucket(bucket_name)"
      ]
    },
    {
      "cell_type": "code",
      "execution_count": null,
      "metadata": {
        "id": "oXCzeEypiNYm"
      },
      "outputs": [],
      "source": [
        "d1      = itk.dict_from_transform(phi_AB)\n",
        "phi_AB1 = itk.transform_from_dict(d1)\n",
        "\n",
        "#print(phi_AB1.GetNthTransform(1)[\"parameters\"])\n",
        "#print(td1)"
      ]
    },
    {
      "cell_type": "code",
      "execution_count": null,
      "metadata": {
        "colab": {
          "base_uri": "https://localhost:8080/"
        },
        "id": "aokzPA2kg_7N",
        "outputId": "e3d45b0f-568e-4fc6-c68e-bd4693231e1c"
      },
      "outputs": [
        {
          "data": {
            "text/plain": [
              "3"
            ]
          },
          "execution_count": 53,
          "metadata": {},
          "output_type": "execute_result"
        }
      ],
      "source": [
        "pt1 = phi_AB.GetNthTransform(0)#.GetTransformTypeAsString()\n",
        "pt1.GetFixedParameters().Size()"
      ]
    },
    {
      "cell_type": "code",
      "execution_count": null,
      "metadata": {
        "id": "EqxFLKdbgYq6"
      },
      "outputs": [],
      "source": [
        "# Code to create right transform\n",
        "\n",
        "for i in range(phi_AB.GetNumberOfTransforms()):\n",
        "  transform0 = phi_AB.GetNthTransform(i)\n",
        "  transform1 = phi_AB1.GetNthTransform(i)\n",
        "\n",
        "  o1 = transform1.GetFixedParameters()\n",
        "  o1.SetSize(transform0['fixedParameters'].shape[0])\n",
        "  for j, v in enumerate(transform0['fixedParameters']):\n",
        "      o1.SetElement(j, v)\n",
        "  transform1.SetFixedParameters(o1)\n",
        "\n",
        "  o2 = transform1.GetParameters()\n",
        "  o2.SetSize(transform0['parameters'].shape[0])\n",
        "  for j, v in enumerate(transform0['parameters']):\n",
        "      o2.SetElement(j, v)\n",
        "  transform1.SetParameters(o2)"
      ]
    },
    {
      "cell_type": "code",
      "execution_count": null,
      "metadata": {
        "colab": {
          "base_uri": "https://localhost:8080/"
        },
        "id": "fxm2-ekug74d",
        "outputId": "15160714-5049-453b-f666-49e6e80bc86e"
      },
      "outputs": [
        {
          "data": {
            "text/plain": [
              "<itk.itkTransformBasePython.itkTransformD33; proxy of <Swig Object of type 'itkTransformD33 *' at 0x7fa306063360> >"
            ]
          },
          "execution_count": 59,
          "metadata": {},
          "output_type": "execute_result"
        }
      ],
      "source": [
        "#itk.dict_from_transform(phi_AB1)\n",
        "phi_AB1.GetNthTransform(1)"
      ]
    },
    {
      "cell_type": "code",
      "execution_count": null,
      "metadata": {
        "colab": {
          "base_uri": "https://localhost:8080/"
        },
        "id": "gXc7o4y6bAA0",
        "outputId": "eacd4328-dc09-4d99-d33e-43699c2e2ba2"
      },
      "outputs": [
        {
          "name": "stdout",
          "output_type": "stream",
          "text": [
            "[{'name': '', 'numberOfTransforms': 1, 'parametersValueType': 'float64', 'inDimension': 3, 'outDimension': 3, 'transformName': 'DisplacementFieldTransform', 'transformType': 'D33', 'parameters': array([], dtype=float64), 'fixedParameters': array([0., 0., 0., 0., 0., 0., 0., 0., 0., 0., 0., 0., 0., 0., 0., 0., 0.,\n",
            "       0.]), 'numberOfParameters': 0, 'numberOfFixedParameters': 18}]\n"
          ]
        }
      ],
      "source": [
        "transform1 = phi_AB1.GetNthTransform(1)\n",
        "d1 = itk.dict_from_transform(transform1)\n",
        "print(d1)\n",
        "#print(transform1)"
      ]
    },
    {
      "cell_type": "code",
      "execution_count": null,
      "metadata": {
        "id": "nqnNqEurcxwz"
      },
      "outputs": [],
      "source": [
        "phi_AB1_dis = phi_AB1.GetNthTransform(1)"
      ]
    },
    {
      "cell_type": "code",
      "execution_count": null,
      "metadata": {
        "colab": {
          "base_uri": "https://localhost:8080/"
        },
        "id": "hxUUKXg0c4u6",
        "outputId": "d3ca6ed3-ea2a-4eab-d6b9-6eb6dfe4ccdb"
      },
      "outputs": [
        {
          "name": "stdout",
          "output_type": "stream",
          "text": [
            "[{'name': '', 'numberOfTransforms': 1, 'parametersValueType': 'float64', 'inDimension': 3, 'outDimension': 3, 'transformName': 'DisplacementFieldTransform', 'transformType': 'D33', 'parameters': array([], dtype=float64), 'fixedParameters': array([0., 0., 0., 0., 0., 0., 0., 0., 0., 0., 0., 0., 0., 0., 0., 0., 0.,\n",
            "       0.]), 'numberOfParameters': 0, 'numberOfFixedParameters': 18}]\n"
          ]
        }
      ],
      "source": [
        "print(itk.dict_from_transform(phi_AB1_dis))"
      ]
    },
    {
      "cell_type": "code",
      "execution_count": null,
      "metadata": {
        "colab": {
          "base_uri": "https://localhost:8080/"
        },
        "id": "t1mGvxsee7uY",
        "outputId": "779f01d7-a50c-46cb-d1e5-2e808335f4a7"
      },
      "outputs": [
        {
          "data": {
            "text/plain": [
              "[{'fixedParameters': array([192., 192.,  80.,   0.,   0.,   0.,   1.,   1.,   1.,   1.,   0.,\n",
              "           0.,   0.,   1.,   0.,   0.,   0.,   1.]),\n",
              "  'inDimension': 3,\n",
              "  'name': '',\n",
              "  'numberOfFixedParameters': 18,\n",
              "  'numberOfParameters': 8847360,\n",
              "  'numberOfTransforms': 1,\n",
              "  'outDimension': 3,\n",
              "  'parameters': array([-1.55766129, -1.21581364, -0.17686807, ...,  0.61738586,\n",
              "          2.51548004,  9.465065  ]),\n",
              "  'parametersValueType': 'float64',\n",
              "  'transformName': 'DisplacementFieldTransform',\n",
              "  'transformType': 'D33'}]"
            ]
          },
          "execution_count": 33,
          "metadata": {},
          "output_type": "execute_result"
        }
      ],
      "source": [
        "itk.dict_from_transform(phi_AB1_dis)"
      ]
    },
    {
      "cell_type": "code",
      "execution_count": null,
      "metadata": {
        "id": "VSu7RC9ScUTT"
      },
      "outputs": [],
      "source": [
        "# o2 = phi_AB1_dis.GetFixedParameters()\n",
        "# print(o2.Size())\n",
        "\n",
        "o2 = phi_AB1_dis.GetParameters()\n",
        "o2.SetSize(d1[0]['parameters'].shape[0])\n",
        "for j, v in enumerate(d1[0]['parameters']):\n",
        "    o2.SetElement(j, v)\n",
        "phi_AB1_dis.SetParameters(o2)\n",
        "\n",
        "o1 = phi_AB1_dis.GetFixedParameters()\n",
        "o1.SetSize(d1[0]['fixedParameters'].shape[0])\n",
        "for j, v in enumerate(d1[0]['fixedParameters']):\n",
        "    o1.SetElement(j, v)\n",
        "phi_AB1_dis.SetFixedParameters(o1)"
      ]
    },
    {
      "cell_type": "code",
      "execution_count": null,
      "metadata": {
        "colab": {
          "base_uri": "https://localhost:8080/"
        },
        "id": "N7GOkuc0egwa",
        "outputId": "2e362da0-9216-452b-9030-6433be561fda"
      },
      "outputs": [
        {
          "data": {
            "text/plain": [
              "[{'fixedParameters': array([0., 0., 0., 0., 0., 0., 0., 0., 0., 0., 0., 0., 0., 0., 0., 0., 0.,\n",
              "         0.]),\n",
              "  'inDimension': 3,\n",
              "  'name': '',\n",
              "  'numberOfFixedParameters': 18,\n",
              "  'numberOfParameters': 0,\n",
              "  'numberOfTransforms': 1,\n",
              "  'outDimension': 3,\n",
              "  'parameters': array([], dtype=float64),\n",
              "  'parametersValueType': 'float64',\n",
              "  'transformName': 'DisplacementFieldTransform',\n",
              "  'transformType': 'D33'}]"
            ]
          },
          "execution_count": 40,
          "metadata": {},
          "output_type": "execute_result"
        }
      ],
      "source": [
        "itk.dict_from_transform(phi_AB1_dis)"
      ]
    },
    {
      "cell_type": "code",
      "execution_count": null,
      "metadata": {
        "colab": {
          "base_uri": "https://localhost:8080/"
        },
        "id": "rA9VE4D7dTuS",
        "outputId": "f1c45e5a-82f1-4393-c610-9d9ec9bd9ad7"
      },
      "outputs": [
        {
          "data": {
            "text/plain": [
              "[{'fixedParameters': array([192., 192.,  80.,   0.,   0.,   0.,   1.,   1.,   1.,   1.,   0.,\n",
              "           0.,   0.,   1.,   0.,   0.,   0.,   1.]),\n",
              "  'inDimension': 3,\n",
              "  'name': '',\n",
              "  'numberOfFixedParameters': 18,\n",
              "  'numberOfParameters': 8847360,\n",
              "  'numberOfTransforms': 1,\n",
              "  'outDimension': 3,\n",
              "  'parameters': array([-1.55766129, -1.21581364, -0.17686807, ...,  0.61738586,\n",
              "          2.51548004,  9.465065  ]),\n",
              "  'parametersValueType': 'float64',\n",
              "  'transformName': 'DisplacementFieldTransform',\n",
              "  'transformType': 'D33'}]"
            ]
          },
          "execution_count": 28,
          "metadata": {},
          "output_type": "execute_result"
        }
      ],
      "source": [
        "itk.dict_from_transform(phi_AB1_dis)"
      ]
    },
    {
      "cell_type": "code",
      "execution_count": null,
      "metadata": {
        "colab": {
          "base_uri": "https://localhost:8080/",
          "height": 329
        },
        "id": "nBhsns89d8wE",
        "outputId": "e20ee6a0-026c-4bf6-9035-85358c25db24"
      },
      "outputs": [
        {
          "ename": "AttributeError",
          "evalue": "ignored",
          "output_type": "error",
          "traceback": [
            "\u001b[0;31m---------------------------------------------------------------------------\u001b[0m",
            "\u001b[0;31mAttributeError\u001b[0m                            Traceback (most recent call last)",
            "\u001b[0;32m<ipython-input-29-e7b1df14f003>\u001b[0m in \u001b[0;36m<module>\u001b[0;34m()\u001b[0m\n\u001b[0;32m----> 1\u001b[0;31m \u001b[0mphi_AB1_dis1\u001b[0m \u001b[0;34m=\u001b[0m \u001b[0mitk\u001b[0m\u001b[0;34m.\u001b[0m\u001b[0mtransform_from_dict\u001b[0m\u001b[0;34m(\u001b[0m\u001b[0mitk\u001b[0m\u001b[0;34m.\u001b[0m\u001b[0mdict_from_transform\u001b[0m\u001b[0;34m(\u001b[0m\u001b[0mphi_AB1_dis\u001b[0m\u001b[0;34m)\u001b[0m\u001b[0;34m)\u001b[0m\u001b[0;34m\u001b[0m\u001b[0;34m\u001b[0m\u001b[0m\n\u001b[0m\u001b[1;32m      2\u001b[0m \u001b[0mprint\u001b[0m\u001b[0;34m(\u001b[0m\u001b[0mphi_AB1_dis1\u001b[0m\u001b[0;34m)\u001b[0m\u001b[0;34m\u001b[0m\u001b[0;34m\u001b[0m\u001b[0m\n",
            "\u001b[0;32m/usr/local/lib/python3.7/dist-packages/itk/support/extras.py\u001b[0m in \u001b[0;36mtransform_from_dict\u001b[0;34m(transform_dict)\u001b[0m\n\u001b[1;32m   1148\u001b[0m         \u001b[0;31m# because that way we can handle future extensions easily.\u001b[0m\u001b[0;34m\u001b[0m\u001b[0;34m\u001b[0m\u001b[0;34m\u001b[0m\u001b[0m\n\u001b[1;32m   1149\u001b[0m         \u001b[0mtransform_template\u001b[0m \u001b[0;34m=\u001b[0m \u001b[0mgetattr\u001b[0m\u001b[0;34m(\u001b[0m\u001b[0mitk\u001b[0m\u001b[0;34m,\u001b[0m \u001b[0mtransform_dict\u001b[0m\u001b[0;34m[\u001b[0m\u001b[0;36m0\u001b[0m\u001b[0;34m]\u001b[0m\u001b[0;34m[\u001b[0m\u001b[0;34m\"transformName\"\u001b[0m\u001b[0;34m]\u001b[0m\u001b[0;34m)\u001b[0m\u001b[0;34m\u001b[0m\u001b[0;34m\u001b[0m\u001b[0m\n\u001b[0;32m-> 1150\u001b[0;31m         \u001b[0mtransform\u001b[0m \u001b[0;34m=\u001b[0m \u001b[0mgetattr\u001b[0m\u001b[0;34m(\u001b[0m\u001b[0mtransform_template\u001b[0m\u001b[0;34m,\u001b[0m \u001b[0mtransform_dict\u001b[0m\u001b[0;34m[\u001b[0m\u001b[0;36m0\u001b[0m\u001b[0;34m]\u001b[0m\u001b[0;34m[\u001b[0m\u001b[0;34m\"transformType\"\u001b[0m\u001b[0;34m]\u001b[0m\u001b[0;34m)\u001b[0m\u001b[0;34m.\u001b[0m\u001b[0mNew\u001b[0m\u001b[0;34m(\u001b[0m\u001b[0;34m)\u001b[0m\u001b[0;34m\u001b[0m\u001b[0;34m\u001b[0m\u001b[0m\n\u001b[0m\u001b[1;32m   1151\u001b[0m         \u001b[0mtransform\u001b[0m\u001b[0;34m.\u001b[0m\u001b[0mSetObjectName\u001b[0m\u001b[0;34m(\u001b[0m\u001b[0mtransform_dict\u001b[0m\u001b[0;34m[\u001b[0m\u001b[0;36m0\u001b[0m\u001b[0;34m]\u001b[0m\u001b[0;34m[\u001b[0m\u001b[0;34m\"name\"\u001b[0m\u001b[0;34m]\u001b[0m\u001b[0;34m)\u001b[0m\u001b[0;34m\u001b[0m\u001b[0;34m\u001b[0m\u001b[0m\n\u001b[1;32m   1152\u001b[0m         \u001b[0mset_parameters\u001b[0m\u001b[0;34m(\u001b[0m\u001b[0mtransform\u001b[0m\u001b[0;34m,\u001b[0m \u001b[0mtransform_dict\u001b[0m\u001b[0;34m[\u001b[0m\u001b[0;36m0\u001b[0m\u001b[0;34m]\u001b[0m\u001b[0;34m[\u001b[0m\u001b[0;34m\"parameters\"\u001b[0m\u001b[0;34m]\u001b[0m\u001b[0;34m,\u001b[0m \u001b[0mtransform_dict\u001b[0m\u001b[0;34m[\u001b[0m\u001b[0;36m0\u001b[0m\u001b[0;34m]\u001b[0m\u001b[0;34m[\u001b[0m\u001b[0;34m\"fixedParameters\"\u001b[0m\u001b[0;34m]\u001b[0m\u001b[0;34m)\u001b[0m\u001b[0;34m\u001b[0m\u001b[0;34m\u001b[0m\u001b[0m\n",
            "\u001b[0;32m/usr/local/lib/python3.7/dist-packages/itk/support/template_class.py\u001b[0m in \u001b[0;36m__getattr__\u001b[0;34m(self, attr)\u001b[0m\n\u001b[1;32m    536\u001b[0m         \u001b[0;34m\"\"\"Support for lazy loading.\"\"\"\u001b[0m\u001b[0;34m\u001b[0m\u001b[0;34m\u001b[0m\u001b[0m\n\u001b[1;32m    537\u001b[0m         \u001b[0mself\u001b[0m\u001b[0;34m.\u001b[0m\u001b[0m_LoadModules\u001b[0m\u001b[0;34m(\u001b[0m\u001b[0;34m)\u001b[0m\u001b[0;34m\u001b[0m\u001b[0;34m\u001b[0m\u001b[0m\n\u001b[0;32m--> 538\u001b[0;31m         \u001b[0;32mreturn\u001b[0m \u001b[0mobject\u001b[0m\u001b[0;34m.\u001b[0m\u001b[0m__getattribute__\u001b[0m\u001b[0;34m(\u001b[0m\u001b[0mself\u001b[0m\u001b[0;34m,\u001b[0m \u001b[0mattr\u001b[0m\u001b[0;34m)\u001b[0m\u001b[0;34m\u001b[0m\u001b[0;34m\u001b[0m\u001b[0m\n\u001b[0m\u001b[1;32m    539\u001b[0m \u001b[0;34m\u001b[0m\u001b[0m\n\u001b[1;32m    540\u001b[0m     \u001b[0;32mdef\u001b[0m \u001b[0m_LoadModules\u001b[0m\u001b[0;34m(\u001b[0m\u001b[0mself\u001b[0m\u001b[0;34m)\u001b[0m \u001b[0;34m->\u001b[0m \u001b[0;32mNone\u001b[0m\u001b[0;34m:\u001b[0m\u001b[0;34m\u001b[0m\u001b[0;34m\u001b[0m\u001b[0m\n",
            "\u001b[0;31mAttributeError\u001b[0m: 'itkTemplate' object has no attribute 'D33'"
          ]
        }
      ],
      "source": [
        "phi_AB1_dis1 = itk.transform_from_dict(itk.dict_from_transform(phi_AB1_dis))\n",
        "print(phi_AB1_dis1)"
      ]
    },
    {
      "cell_type": "code",
      "execution_count": null,
      "metadata": {
        "id": "R1i2sj1sbSfl"
      },
      "outputs": [],
      "source": [
        "import pickle\n",
        "pickle.dump(d1, open(\"transform_object.pkl\", \"wb\")) "
      ]
    },
    {
      "cell_type": "code",
      "execution_count": null,
      "metadata": {
        "colab": {
          "base_uri": "https://localhost:8080/"
        },
        "id": "n-9YIHJ5a3AX",
        "outputId": "db7ea824-fa2a-4798-fedb-44d4407c6a1c"
      },
      "outputs": [
        {
          "name": "stdout",
          "output_type": "stream",
          "text": [
            "[0. 0. 0. 0. 0. 0. 0. 0. 0. 0. 0. 0. 0. 0. 0. 0. 0. 0.]\n"
          ]
        }
      ],
      "source": [
        "print(phi_AB1.GetNthTransform(1)[\"fixedParameters\"])"
      ]
    },
    {
      "cell_type": "code",
      "execution_count": null,
      "metadata": {
        "colab": {
          "base_uri": "https://localhost:8080/"
        },
        "id": "36L0jvSniGK6",
        "outputId": "8dd5d8ab-711c-4d1a-ea9f-92174d3e5ee0"
      },
      "outputs": [
        {
          "name": "stdout",
          "output_type": "stream",
          "text": [
            "[192. 192.  80.   0.   0.   0.   1.   1.   1.   1.   0.   0.   0.   1.\n",
            "   0.   0.   0.   1.]\n"
          ]
        }
      ],
      "source": [
        "print(phi_AB.GetNthTransform(1)[\"fixedParameters\"])"
      ]
    },
    {
      "cell_type": "code",
      "execution_count": null,
      "metadata": {
        "colab": {
          "base_uri": "https://localhost:8080/"
        },
        "id": "Tk6s1buzjVCY",
        "outputId": "f999be0c-b39c-4882-d8bd-721621c37051"
      },
      "outputs": [
        {
          "name": "stdout",
          "output_type": "stream",
          "text": [
            "[-1.55766129 -1.21581364 -0.17686807 ...  0.61738586  2.51548004\n",
            "  9.465065  ]\n",
            "[-0.55766129 -0.21581364  0.82313193 ...  1.61738586  3.51548004\n",
            " 10.465065  ]\n"
          ]
        }
      ],
      "source": [
        "temp1 = phi_AB1.GetNthTransform(1)\n",
        "print(temp1[\"parameters\"])\n",
        "temp1[\"parameters\"] = phi_AB.GetNthTransform(1)[\"parameters\"]+1\n",
        "print(temp1[\"parameters\"])"
      ]
    },
    {
      "cell_type": "code",
      "execution_count": null,
      "metadata": {
        "id": "SgwCk3O1kI3h"
      },
      "outputs": [],
      "source": [
        "itk.dict_from_transform(phi_AB1)"
      ]
    },
    {
      "cell_type": "code",
      "execution_count": null,
      "metadata": {
        "id": "b21yc9jGj7-V"
      },
      "outputs": [],
      "source": [
        "itk.dict_from_transform(phi_AB)"
      ]
    },
    {
      "cell_type": "code",
      "execution_count": null,
      "metadata": {
        "colab": {
          "base_uri": "https://localhost:8080/"
        },
        "id": "YzZLycI7h5Ro",
        "outputId": "633e40ea-1878-4f15-c1d9-1fd5d94659a7"
      },
      "outputs": [
        {
          "name": "stdout",
          "output_type": "stream",
          "text": [
            "[-1.55766129 -1.21581364 -0.17686807 ...  0.61738586  2.51548004\n",
            "  9.465065  ]\n"
          ]
        }
      ],
      "source": [
        "print(phi_AB.GetNthTransform(1)[\"parameters\"])"
      ]
    },
    {
      "cell_type": "code",
      "execution_count": null,
      "metadata": {
        "id": "AggW6qERJ26R"
      },
      "outputs": [],
      "source": [
        "deformed_fc = deform_probmap_FC_delayed(phi_AB, image_A, image_B)"
      ]
    },
    {
      "cell_type": "code",
      "execution_count": null,
      "metadata": {
        "id": "3kMAjypVd7id"
      },
      "outputs": [],
      "source": [
        "phi_AB1 = itk.transform_from_dict(d1)"
      ]
    },
    {
      "cell_type": "code",
      "execution_count": null,
      "metadata": {
        "colab": {
          "base_uri": "https://localhost:8080/"
        },
        "id": "23FkZkOWhtlX",
        "outputId": "9fb7ec11-ad3f-4895-c187-984ab1d939c7"
      },
      "outputs": [
        {
          "name": "stdout",
          "output_type": "stream",
          "text": [
            "[]\n"
          ]
        }
      ],
      "source": [
        "phi_AB1[\"fixedParameters\"]\n",
        "print(phi_AB[\"fixedParameters\"])"
      ]
    },
    {
      "cell_type": "code",
      "execution_count": null,
      "metadata": {
        "colab": {
          "base_uri": "https://localhost:8080/"
        },
        "id": "GahX9qYKeCID",
        "outputId": "4658fb44-a5d4-4122-bcc1-8c9a49af0a67"
      },
      "outputs": [
        {
          "name": "stdout",
          "output_type": "stream",
          "text": [
            "CompositeTransform (0x8307c20)\n",
            "  RTTI typeinfo:   itk::CompositeTransform<double, 3u>\n",
            "  Reference Count: 1\n",
            "  Modified Time: 1031\n",
            "  Debug: Off\n",
            "  Object Name: \n",
            "  Observers: \n",
            "    none\n",
            "  Transforms in queue, from begin to end:\n",
            "  >>>>>>>>>\n",
            "  CenteredAffineTransform (0xc363900)\n",
            "    RTTI typeinfo:   itk::CenteredAffineTransform<double, 3u>\n",
            "    Reference Count: 1\n",
            "    Modified Time: 1022\n",
            "    Debug: Off\n",
            "    Object Name: \n",
            "    Observers: \n",
            "      none\n",
            "    Matrix: \n",
            "      1 0 0 \n",
            "      0 1 0 \n",
            "      0 0 1 \n",
            "    Offset: [0, 0, 0]\n",
            "    Center: [0, 0, 0]\n",
            "    Translation: [0, 0, 0]\n",
            "    Inverse: \n",
            "      1 0 0 \n",
            "      0 1 0 \n",
            "      0 0 1 \n",
            "    Singular: 0\n",
            "  >>>>>>>>>\n",
            "  DisplacementFieldTransform (0x7b405a0)\n",
            "    RTTI typeinfo:   itk::DisplacementFieldTransform<double, 3u>\n",
            "    Reference Count: 1\n",
            "    Modified Time: 1024\n",
            "    Debug: Off\n",
            "    Object Name: \n",
            "    Observers: \n",
            "      none\n",
            "    DisplacementField: (null)\n",
            "    InverseDisplacementField: (null)\n",
            "    Interpolator: \n",
            "      VectorLinearInterpolateImageFunction (0x3601f360)\n",
            "        RTTI typeinfo:   itk::VectorLinearInterpolateImageFunction<itk::Image<itk::Vector<double, 3u>, 3u>, double>\n",
            "        Reference Count: 1\n",
            "        Modified Time: 1025\n",
            "        Debug: Off\n",
            "        Object Name: \n",
            "        Observers: \n",
            "          none\n",
            "        InputImage: 0\n",
            "        StartIndex: [0, 0, 0]\n",
            "        EndIndex: [0, 0, 0]\n",
            "        StartContinuousIndex: [0, 0, 0]\n",
            "        EndContinuousIndex: [0, 0, 0]\n",
            "    InverseInterpolator: \n",
            "      VectorLinearInterpolateImageFunction (0x3601f400)\n",
            "        RTTI typeinfo:   itk::VectorLinearInterpolateImageFunction<itk::Image<itk::Vector<double, 3u>, 3u>, double>\n",
            "        Reference Count: 1\n",
            "        Modified Time: 1026\n",
            "        Debug: Off\n",
            "        Object Name: \n",
            "        Observers: \n",
            "          none\n",
            "        InputImage: 0\n",
            "        StartIndex: [0, 0, 0]\n",
            "        EndIndex: [0, 0, 0]\n",
            "        StartContinuousIndex: [0, 0, 0]\n",
            "        EndContinuousIndex: [0, 0, 0]\n",
            "    DisplacementFieldSetTime: 0\n",
            "    m_IdentityJacobian: [1, 0, 0]\n",
            "[0, 1, 0]\n",
            "[0, 0, 1]\n",
            "\n",
            "     CoordinateTolerance: 1e-06\n",
            "     DirectionTolerance: 1e-06\n",
            "  >>>>>>>>>\n",
            "  CenteredAffineTransform (0xc363780)\n",
            "    RTTI typeinfo:   itk::CenteredAffineTransform<double, 3u>\n",
            "    Reference Count: 1\n",
            "    Modified Time: 1027\n",
            "    Debug: Off\n",
            "    Object Name: \n",
            "    Observers: \n",
            "      none\n",
            "    Matrix: \n",
            "      1 0 0 \n",
            "      0 1 0 \n",
            "      0 0 1 \n",
            "    Offset: [0, 0, 0]\n",
            "    Center: [0, 0, 0]\n",
            "    Translation: [0, 0, 0]\n",
            "    Inverse: \n",
            "      1 0 0 \n",
            "      0 1 0 \n",
            "      0 0 1 \n",
            "    Singular: 0\n",
            "  End of MultiTransform.\n",
            "<<<<<<<<<<\n",
            "  TransformsToOptimizeFlags, begin() to end(): \n",
            "    1 1 1 \n",
            "  TransformsToOptimize in queue, from begin to end:\n",
            "  End of TransformsToOptimizeQueue.\n",
            "<<<<<<<<<<\n",
            "  End of CompositeTransform.\n",
            "<<<<<<<<<<\n",
            "\n"
          ]
        }
      ],
      "source": [
        "print(phi_AB1)"
      ]
    },
    {
      "cell_type": "code",
      "execution_count": null,
      "metadata": {
        "id": "KnnPVmUgdzBQ"
      },
      "outputs": [],
      "source": [
        "d1 = itk.dict_from_transform(phi_AB)"
      ]
    },
    {
      "cell_type": "code",
      "execution_count": null,
      "metadata": {
        "id": "LiaCLDdVds07"
      },
      "outputs": [],
      "source": [
        "print(phi_AB)"
      ]
    },
    {
      "cell_type": "code",
      "execution_count": null,
      "metadata": {
        "id": "OeGQvP5oM0rm"
      },
      "outputs": [],
      "source": [
        "d1"
      ]
    },
    {
      "cell_type": "code",
      "execution_count": null,
      "metadata": {
        "id": "WafSZY7MKWqO"
      },
      "outputs": [],
      "source": [
        "d1 = itk.dict_from_transform(phi_AB)\n",
        "phi_AB1 = itk.transform_from_dict(d1)\n",
        "\n",
        "print(phi_AB1)"
      ]
    },
    {
      "cell_type": "code",
      "execution_count": null,
      "metadata": {
        "id": "TbzlXlKONPVm"
      },
      "outputs": [],
      "source": [
        "phi_AB1_fixed_params = phi_AB1.GetNthTransform(0)#['fixedParameters']\n",
        "print(phi_AB1_fixed_params[\"fixedParameters\"])\n",
        "\n",
        "phi_AB_fixed_params = phi_AB.GetNthTransform(0)#['fixedParameters']\n",
        "print(phi_AB_fixed_params[\"fixedParameters\"])\n",
        "\n",
        "#print(phi_AB1_fixed_params.GetFixedParameters())"
      ]
    },
    {
      "cell_type": "code",
      "execution_count": null,
      "metadata": {
        "colab": {
          "base_uri": "https://localhost:8080/",
          "height": 381
        },
        "id": "nrqDAxzqQs_V",
        "outputId": "df54c541-0fd8-4442-fbaf-9614bbbf9ac6"
      },
      "outputs": [
        {
          "ename": "ModuleNotFoundError",
          "evalue": "ignored",
          "output_type": "error",
          "traceback": [
            "\u001b[0;31m---------------------------------------------------------------------------\u001b[0m",
            "\u001b[0;31mModuleNotFoundError\u001b[0m                       Traceback (most recent call last)",
            "\u001b[0;32m<ipython-input-1-28ac62ca86d0>\u001b[0m in \u001b[0;36m<module>\u001b[0;34m()\u001b[0m\n\u001b[0;32m----> 1\u001b[0;31m \u001b[0;32mimport\u001b[0m \u001b[0mitk\u001b[0m\u001b[0;34m\u001b[0m\u001b[0;34m\u001b[0m\u001b[0m\n\u001b[0m\u001b[1;32m      2\u001b[0m \u001b[0;32mimport\u001b[0m \u001b[0mnumpy\u001b[0m \u001b[0;32mas\u001b[0m \u001b[0mnp\u001b[0m\u001b[0;34m\u001b[0m\u001b[0;34m\u001b[0m\u001b[0m\n\u001b[1;32m      3\u001b[0m \u001b[0;32mimport\u001b[0m \u001b[0mpickle\u001b[0m\u001b[0;34m\u001b[0m\u001b[0;34m\u001b[0m\u001b[0m\n\u001b[1;32m      4\u001b[0m \u001b[0;34m\u001b[0m\u001b[0m\n\u001b[1;32m      5\u001b[0m \u001b[0mDimension\u001b[0m \u001b[0;34m=\u001b[0m \u001b[0;36m3\u001b[0m\u001b[0;34m\u001b[0m\u001b[0;34m\u001b[0m\u001b[0m\n",
            "\u001b[0;31mModuleNotFoundError\u001b[0m: No module named 'itk'",
            "",
            "\u001b[0;31m---------------------------------------------------------------------------\u001b[0;32m\nNOTE: If your import is failing due to a missing package, you can\nmanually install dependencies using either !pip or !apt.\n\nTo view examples of installing some common dependencies, click the\n\"Open Examples\" button below.\n\u001b[0;31m---------------------------------------------------------------------------\u001b[0m\n"
          ]
        }
      ],
      "source": [
        "import itk\n",
        "import numpy as np\n",
        "import pickle\n",
        "\n",
        "Dimension = 3\n",
        "PixelType = itk.D\n",
        "\n",
        "# List of Transforms to test\n",
        "transforms_to_test = [itk.DisplacementFieldTransform[PixelType, Dimension]]#[itk.AffineTransform[PixelType, Dimension], itk.DisplacementFieldTransform[PixelType, Dimension], itk.BSplineTransform[PixelType, Dimension, 3], itk.QuaternionRigidTransform[PixelType]]\n",
        "\n",
        "keys_to_test1 = [\"name\", \"parametersValueType\", \"transformName\", \"transformType\", \"inDimension\", \"outDimension\", \"numberOfParameters\", \"numberOfFixedParameters\"]\n",
        "keys_to_test2 = [\"parameters\", \"fixedParameters\"]\n",
        "\n",
        "transform_object_list = []\n",
        "for i, transform_type in enumerate(transforms_to_test):\n",
        "    print(transform_type)\n",
        "\n",
        "    transform = transform_type.New()\n",
        "    transform.SetObjectName(\"transform\"+str(i))\n",
        "    print(transform.GetObjectName())\n",
        "\n",
        "    fixedParameters = np.random.rand(3, 3, 2).flatten()\n",
        "    print(transform.GetFixedParameters().Size())\n",
        "\n",
        "    #print(fixedParameters.dtype)\n",
        "    transform[\"fixedParameters\"] = fixedParameters\n",
        "\n",
        "    #print(transform[\"fixedParameters\"])\n",
        "\n",
        "    # Check the serialization\n",
        "    serialize_deserialize = pickle.loads(pickle.dumps(transform))\n",
        "\n",
        "    #print(serialize_deserialize)\n",
        "    # # Test all the attributes\n",
        "    for k in keys_to_test1:\n",
        "        assert serialize_deserialize[k] == transform[k]\n",
        "\n",
        "    # # Test all the parameters\n",
        "    for k in keys_to_test2:\n",
        "        print(k)\n",
        "        print(serialize_deserialize[k])\n",
        "        print(transform[k])\n",
        "        assert np.array_equal(serialize_deserialize[k], transform[k])\n",
        "\n",
        "    transform.SetFixedParameters(transform.GetFixedParameters())\n",
        "    #transform[\"fixedParameters\"] = fixedParameters#transform.GetFixedParameters()\n",
        "    #print(transform)\n",
        "    # transform_object_list.append(transform)\n",
        "\n",
        "print('Individual Transforms Test Done')"
      ]
    },
    {
      "cell_type": "code",
      "execution_count": null,
      "metadata": {
        "id": "1eW0If1hRmIg"
      },
      "outputs": [],
      "source": [
        "transform.SetFixedParameters"
      ]
    },
    {
      "cell_type": "code",
      "execution_count": null,
      "metadata": {
        "id": "tztMFgs3QxVT"
      },
      "outputs": [],
      "source": [
        "t1 = transform_object_list[1]\n",
        "print(t1[\"fixedParameters\"])"
      ]
    },
    {
      "cell_type": "code",
      "execution_count": null,
      "metadata": {
        "id": "55FBR5LMNjKN"
      },
      "outputs": [],
      "source": [
        "transform_template = getattr(itk, 'DisplacementFieldTransform')\n",
        "transform_template"
      ]
    },
    {
      "cell_type": "code",
      "execution_count": null,
      "metadata": {
        "id": "U-tAi3ECN14T"
      },
      "outputs": [],
      "source": [
        "a = np.array([3, 3])\n",
        "print(a.shape)\n",
        "print(np.random.rand(*a))"
      ]
    },
    {
      "cell_type": "code",
      "execution_count": null,
      "metadata": {
        "id": "WSZ2PUWYB0vy"
      },
      "outputs": [],
      "source": [
        "output_result = compute(result)\n",
        "print(output_result)"
      ]
    },
    {
      "cell_type": "code",
      "execution_count": null,
      "metadata": {
        "id": "XDJkXRHs-7FN"
      },
      "outputs": [],
      "source": [
        "img_np = np.random.rand(5, 5)\n",
        "print(img_np.shape)\n",
        "\n",
        "img = itk.image_from_array(img_np)\n",
        "print(img.shape)"
      ]
    },
    {
      "cell_type": "code",
      "execution_count": null,
      "metadata": {
        "id": "A87IIQ4tcwvQ"
      },
      "outputs": [],
      "source": [
        "# Create a test mesh\n",
        "\n",
        "m = itk.Mesh.F3.New()\n",
        "p = np.random.rand(5, 3).astype('float32')\n",
        "print(p.shape, p.dtype)\n",
        "m.SetPoints(itk.vector_container_from_array(p.flatten()))\n",
        "\n",
        "#md = itk.dict_from_mesh(m)\n",
        "#print(md)"
      ]
    },
    {
      "cell_type": "code",
      "execution_count": null,
      "metadata": {
        "id": "LO0weghb_KIm"
      },
      "outputs": [],
      "source": [
        "@delayed\n",
        "def perform_sum1(img_temp):\n",
        "  import itk\n",
        "  mesh = itk.mesh_from_dict(img_temp)\n",
        "  return img_temp['dimension']\n",
        "\n",
        "  #return np.sum(img_temp['points'])\n",
        "  #return itk.di\n",
        "  #import itkConfig\n",
        "  #itkConfig.LazyLoading = False\n",
        "  #import itk\n",
        "  #return itk.image_from_array(img_temp)\n",
        "  #a = np.array(img_temp)\n",
        "  #return a#np.sum(img_temp)"
      ]
    },
    {
      "cell_type": "code",
      "execution_count": null,
      "metadata": {
        "id": "19uaqQxfXFGZ"
      },
      "outputs": [],
      "source": [
        "# Create Dask Computation Graph\n",
        "\n",
        "result = []\n",
        "\n",
        "#import_done = import_all()\n",
        "image_preprocessed, atlas_image   = get_paths()\n",
        "\n",
        "image_A, image_B, FC_prob, TC_prob  = read_images(image_preprocessed, atlas_image)\n",
        "phi_AB            = only_register_images(image_A, image_B)\n",
        "\n",
        "warped_image_FC = deform_probmap_FC(phi_AB, image_A, image_B, FC_prob)\n",
        "warped_image_TC = deform_probmap_TC(phi_AB, image_A, image_B, TC_prob)\n",
        "\n",
        "thickness_FC = get_thickness_FC(warped_image_FC)\n",
        "thickness_TC = get_thickness_TC(warped_image_TC)\n",
        "\n",
        "result.append(thickness_FC)\n",
        "result.append(thickness_TC)"
      ]
    },
    {
      "cell_type": "code",
      "execution_count": null,
      "metadata": {
        "id": "TAkwQu9Emm_-"
      },
      "outputs": [],
      "source": [
        "numParam = deform_probmap_FC_paramA(phi_AB)\n"
      ]
    },
    {
      "cell_type": "code",
      "execution_count": null,
      "metadata": {
        "id": "9-jWMZxT_S-0"
      },
      "outputs": [],
      "source": [
        "m1 = itk.dict_from_mesh(m)\n",
        "sumImg = perform_sum1(m1)"
      ]
    },
    {
      "cell_type": "code",
      "execution_count": null,
      "metadata": {
        "id": "PzSIRcHff1BP"
      },
      "outputs": [],
      "source": [
        "#cluster.close()"
      ]
    },
    {
      "cell_type": "code",
      "execution_count": null,
      "metadata": {
        "id": "7B9giaonXGfA"
      },
      "outputs": [],
      "source": [
        "# Visualize Dask Computation Graph\n",
        "\n",
        "visualize(sumImg)"
      ]
    },
    {
      "cell_type": "code",
      "execution_count": null,
      "metadata": {
        "id": "06pW5urcXIzF"
      },
      "outputs": [],
      "source": [
        "# Perform computation\n",
        "#%%time\n",
        "l = compute(sumImg)"
      ]
    },
    {
      "cell_type": "code",
      "execution_count": null,
      "metadata": {
        "id": "wBmRAP-Dlwpe"
      },
      "outputs": [],
      "source": [
        "print(l)"
      ]
    },
    {
      "cell_type": "code",
      "execution_count": null,
      "metadata": {
        "id": "oW-DKEDbFfIM"
      },
      "outputs": [],
      "source": [
        "import pickle\n",
        "import cloudpickle\n",
        "a = itk.image_from_array(img_np)\n",
        "b = cloudpickle.loads(pickle.dumps(a))\n",
        "print(b)"
      ]
    },
    {
      "cell_type": "code",
      "execution_count": null,
      "metadata": {
        "id": "TQwypZ4tHEZW"
      },
      "outputs": [],
      "source": [
        "!pip install cloudpickle"
      ]
    },
    {
      "cell_type": "code",
      "execution_count": null,
      "metadata": {
        "id": "K6S0ee-zGwa-"
      },
      "outputs": [],
      "source": [
        ""
      ]
    },
    {
      "cell_type": "markdown",
      "metadata": {
        "id": "4MlwDE5nXo4C"
      },
      "source": [
        "![DaskProgress](https://user-images.githubusercontent.com/1044135/163692457-40a41395-3d83-4928-9445-528cd025a7b9.png)\n"
      ]
    },
    {
      "cell_type": "code",
      "execution_count": null,
      "metadata": {
        "id": "EGoH_Yv4XwN-"
      },
      "outputs": [],
      "source": [
        "# Write the result meshes\n",
        "\n",
        "distance_inner_FC = l[0]\n",
        "distance_inner_TC = l[1]\n",
        "\n",
        "itk.meshwrite(distance_inner_FC, 'itk_distance_inner_FC.vtk')\n",
        "itk.meshwrite(distance_inner_TC, 'itk_distance_inner_TC.vtk')"
      ]
    },
    {
      "cell_type": "code",
      "execution_count": null,
      "metadata": {
        "id": "NyM5dBpSX2D6"
      },
      "outputs": [],
      "source": [
        "# Visualize the meshes with thickness as cell data\n",
        "\n",
        "# To enable running the itkwidgets window on colab\n",
        "from google.colab import output\n",
        "output.enable_custom_widget_manager()\n",
        "\n",
        "a1 = vtk.vtkPolyDataReader()\n",
        "a1.SetFileName('itk_distance_inner_FC.vtk')\n",
        "a1.Update()\n",
        "distance_inner_FC = a1.GetOutput()\n",
        "\n",
        "itkwidgets.view(geometries=[distance_inner_FC])"
      ]
    }
  ],
  "metadata": {
    "accelerator": "GPU",
    "colab": {
      "collapsed_sections": [],
      "name": "DaskComputationCoiled.ipynb",
      "provenance": [],
      "include_colab_link": true
    },
    "kernelspec": {
      "display_name": "Python 3",
      "name": "python3"
    },
    "language_info": {
      "name": "python"
    },
    "widgets": {
      "application/vnd.jupyter.widget-state+json": {
        "1d7198edc9f340ad82d210fc2613c257": {
          "model_module": "@jupyter-widgets/output",
          "model_name": "OutputModel",
          "model_module_version": "1.0.0",
          "state": {
            "_dom_classes": [],
            "_model_module": "@jupyter-widgets/output",
            "_model_module_version": "1.0.0",
            "_model_name": "OutputModel",
            "_view_count": null,
            "_view_module": "@jupyter-widgets/output",
            "_view_module_version": "1.0.0",
            "_view_name": "OutputView",
            "layout": "IPY_MODEL_e210848f27b9487b8dbf5f3e7176aa57",
            "msg_id": "",
            "outputs": [
              {
                "output_type": "display_data",
                "data": {
                  "text/plain": "\u001b[32m⠦\u001b[0m \u001b[1;32mCreating Cluster. This might take a few minutes...\u001b[0m\n",
                  "text/html": "<pre style=\"white-space:pre;overflow-x:auto;line-height:normal;font-family:Menlo,'DejaVu Sans Mono',consolas,'Courier New',monospace\"><span style=\"color: #008000; text-decoration-color: #008000\">⠦</span> <span style=\"color: #008000; text-decoration-color: #008000; font-weight: bold\">Creating Cluster. This might take a few minutes...</span>\n</pre>\n"
                },
                "metadata": {}
              }
            ]
          }
        },
        "e210848f27b9487b8dbf5f3e7176aa57": {
          "model_module": "@jupyter-widgets/base",
          "model_name": "LayoutModel",
          "model_module_version": "1.2.0",
          "state": {
            "_model_module": "@jupyter-widgets/base",
            "_model_module_version": "1.2.0",
            "_model_name": "LayoutModel",
            "_view_count": null,
            "_view_module": "@jupyter-widgets/base",
            "_view_module_version": "1.2.0",
            "_view_name": "LayoutView",
            "align_content": null,
            "align_items": null,
            "align_self": null,
            "border": null,
            "bottom": null,
            "display": null,
            "flex": null,
            "flex_flow": null,
            "grid_area": null,
            "grid_auto_columns": null,
            "grid_auto_flow": null,
            "grid_auto_rows": null,
            "grid_column": null,
            "grid_gap": null,
            "grid_row": null,
            "grid_template_areas": null,
            "grid_template_columns": null,
            "grid_template_rows": null,
            "height": null,
            "justify_content": null,
            "justify_items": null,
            "left": null,
            "margin": null,
            "max_height": null,
            "max_width": null,
            "min_height": null,
            "min_width": null,
            "object_fit": null,
            "object_position": null,
            "order": null,
            "overflow": null,
            "overflow_x": null,
            "overflow_y": null,
            "padding": null,
            "right": null,
            "top": null,
            "visibility": null,
            "width": null
          }
        },
        "d0613bd0a14c4238b6ff2ed1cd1134b0": {
          "model_module": "@jupyter-widgets/controls",
          "model_name": "TabModel",
          "model_module_version": "1.5.0",
          "state": {
            "_dom_classes": [],
            "_model_module": "@jupyter-widgets/controls",
            "_model_module_version": "1.5.0",
            "_model_name": "TabModel",
            "_titles": {
              "0": "Status",
              "1": "Scaling"
            },
            "_view_count": null,
            "_view_module": "@jupyter-widgets/controls",
            "_view_module_version": "1.5.0",
            "_view_name": "TabView",
            "box_style": "",
            "children": [
              "IPY_MODEL_486462b2a8a34cfea76c28859678c534",
              "IPY_MODEL_bab36f74dd59490c85b968e379213d76"
            ],
            "layout": "IPY_MODEL_d284d08203cf4f5c984b01525bd0e623",
            "selected_index": 0
          }
        },
        "486462b2a8a34cfea76c28859678c534": {
          "model_module": "@jupyter-widgets/controls",
          "model_name": "HTMLModel",
          "model_module_version": "1.5.0",
          "state": {
            "_dom_classes": [],
            "_model_module": "@jupyter-widgets/controls",
            "_model_module_version": "1.5.0",
            "_model_name": "HTMLModel",
            "_view_count": null,
            "_view_module": "@jupyter-widgets/controls",
            "_view_module_version": "1.5.0",
            "_view_name": "HTMLView",
            "description": "",
            "description_tooltip": null,
            "layout": "IPY_MODEL_ff6570e0984348f6a1f05af921b7cf21",
            "placeholder": "​",
            "style": "IPY_MODEL_1080abc58f83429bbc87922550516633",
            "value": "<div class=\"jp-RenderedHTMLCommon jp-RenderedHTML jp-mod-trusted jp-OutputArea-output\">\n    <div style=\"width: 24px; height: 24px; background-color: #e1e1e1; border: 3px solid #9D9D9D; border-radius: 5px; position: absolute;\">\n    </div>\n    <div style=\"margin-left: 48px;\">\n        <h3 style=\"margin-bottom: 0px; margin-top: 0px;\">Cluster</h3>\n        <p style=\"color: #9D9D9D; margin-bottom: 0px;\">pranjal-sahu-9f584091-7</p>\n        <table style=\"width: 100%; text-align: left;\">\n            <tr>\n                <td style=\"text-align: left;\">\n                    <strong>Dashboard:</strong> <a href=\"http://50.17.92.228:8787\" target=\"_blank\">http://50.17.92.228:8787</a>\n                </td>\n                <td style=\"text-align: left;\">\n                    <strong>Workers:</strong> 2\n                </td>\n            </tr>\n            <tr>\n                <td style=\"text-align: left;\">\n                    <strong>Total threads:</strong> 16\n                </td>\n                <td style=\"text-align: left;\">\n                    <strong>Total memory:</strong> 61.48 GiB\n                </td>\n            </tr>\n            \n        </table>\n\n        <details>\n            <summary style=\"margin-bottom: 20px;\">\n                <h3 style=\"display: inline;\">Scheduler Info</h3>\n            </summary>\n\n            <div style=\"\">\n    <div>\n        <div style=\"width: 24px; height: 24px; background-color: #FFF7E5; border: 3px solid #FF6132; border-radius: 5px; position: absolute;\"> </div>\n        <div style=\"margin-left: 48px;\">\n            <h3 style=\"margin-bottom: 0px;\">Scheduler</h3>\n            <p style=\"color: #9D9D9D; margin-bottom: 0px;\">Scheduler-32f50ed2-6bdb-40be-8bb5-6afd71fa5c14</p>\n            <table style=\"width: 100%; text-align: left;\">\n                <tr>\n                    <td style=\"text-align: left;\">\n                        <strong>Comm:</strong> tls://10.0.14.164:8786\n                    </td>\n                    <td style=\"text-align: left;\">\n                        <strong>Workers:</strong> 2\n                    </td>\n                </tr>\n                <tr>\n                    <td style=\"text-align: left;\">\n                        <strong>Dashboard:</strong> <a href=\"http://10.0.14.164:8787/status\" target=\"_blank\">http://10.0.14.164:8787/status</a>\n                    </td>\n                    <td style=\"text-align: left;\">\n                        <strong>Total threads:</strong> 16\n                    </td>\n                </tr>\n                <tr>\n                    <td style=\"text-align: left;\">\n                        <strong>Started:</strong> 2 minutes ago\n                    </td>\n                    <td style=\"text-align: left;\">\n                        <strong>Total memory:</strong> 61.48 GiB\n                    </td>\n                </tr>\n            </table>\n        </div>\n    </div>\n\n    <details style=\"margin-left: 48px;\">\n        <summary style=\"margin-bottom: 20px;\">\n            <h3 style=\"display: inline;\">Workers</h3>\n        </summary>\n\n        \n        <div style=\"margin-bottom: 20px;\">\n            <div style=\"width: 24px; height: 24px; background-color: #DBF5FF; border: 3px solid #4CC9FF; border-radius: 5px; position: absolute;\"> </div>\n            <div style=\"margin-left: 48px;\">\n            <details>\n                <summary>\n                    <h4 style=\"margin-bottom: 0px; display: inline;\">Worker: coiled-dask-pranjal09-151807-worker-732d3bbf3a</h4>\n                </summary>\n                <table style=\"width: 100%; text-align: left;\">\n                    <tr>\n                        <td style=\"text-align: left;\">\n                            <strong>Comm: </strong> tls://10.0.15.161:37047\n                        </td>\n                        <td style=\"text-align: left;\">\n                            <strong>Total threads: </strong> 8\n                        </td>\n                    </tr>\n                    <tr>\n                        <td style=\"text-align: left;\">\n                            <strong>Dashboard: </strong> <a href=\"http://10.0.15.161:35659/status\" target=\"_blank\">http://10.0.15.161:35659/status</a>\n                        </td>\n                        <td style=\"text-align: left;\">\n                            <strong>Memory: </strong> 30.74 GiB\n                        </td>\n                    </tr>\n                    <tr>\n                        <td style=\"text-align: left;\">\n                            <strong>Nanny: </strong> tls://10.0.15.161:39379\n                        </td>\n                        <td style=\"text-align: left;\"></td>\n                    </tr>\n                    <tr>\n                        <td colspan=\"2\" style=\"text-align: left;\">\n                            <strong>Local directory: </strong> /dask-worker-space/worker-eve7k7le\n                        </td>\n                    </tr>\n\n                    \n\n                    \n\n                </table>\n            </details>\n            </div>\n        </div>\n        \n        <div style=\"margin-bottom: 20px;\">\n            <div style=\"width: 24px; height: 24px; background-color: #DBF5FF; border: 3px solid #4CC9FF; border-radius: 5px; position: absolute;\"> </div>\n            <div style=\"margin-left: 48px;\">\n            <details>\n                <summary>\n                    <h4 style=\"margin-bottom: 0px; display: inline;\">Worker: coiled-dask-pranjal09-151807-worker-ca9ff8d447</h4>\n                </summary>\n                <table style=\"width: 100%; text-align: left;\">\n                    <tr>\n                        <td style=\"text-align: left;\">\n                            <strong>Comm: </strong> tls://10.0.4.64:45365\n                        </td>\n                        <td style=\"text-align: left;\">\n                            <strong>Total threads: </strong> 8\n                        </td>\n                    </tr>\n                    <tr>\n                        <td style=\"text-align: left;\">\n                            <strong>Dashboard: </strong> <a href=\"http://10.0.4.64:44835/status\" target=\"_blank\">http://10.0.4.64:44835/status</a>\n                        </td>\n                        <td style=\"text-align: left;\">\n                            <strong>Memory: </strong> 30.74 GiB\n                        </td>\n                    </tr>\n                    <tr>\n                        <td style=\"text-align: left;\">\n                            <strong>Nanny: </strong> tls://10.0.4.64:33893\n                        </td>\n                        <td style=\"text-align: left;\"></td>\n                    </tr>\n                    <tr>\n                        <td colspan=\"2\" style=\"text-align: left;\">\n                            <strong>Local directory: </strong> /dask-worker-space/worker-7p2pf4gb\n                        </td>\n                    </tr>\n\n                    \n\n                    \n\n                </table>\n            </details>\n            </div>\n        </div>\n        \n\n    </details>\n</div>\n\n        </details>\n    </div>\n</div>"
          }
        },
        "bab36f74dd59490c85b968e379213d76": {
          "model_module": "@jupyter-widgets/controls",
          "model_name": "VBoxModel",
          "model_module_version": "1.5.0",
          "state": {
            "_dom_classes": [],
            "_model_module": "@jupyter-widgets/controls",
            "_model_module_version": "1.5.0",
            "_model_name": "VBoxModel",
            "_view_count": null,
            "_view_module": "@jupyter-widgets/controls",
            "_view_module_version": "1.5.0",
            "_view_name": "VBoxView",
            "box_style": "",
            "children": [
              "IPY_MODEL_fa5ae6ca20e1499dbeb54fc1048bcf62",
              "IPY_MODEL_b5d666c997484d39a028773ab4d93507"
            ],
            "layout": "IPY_MODEL_d87967f55e3b454ba34bdb891e46b6ef"
          }
        },
        "d284d08203cf4f5c984b01525bd0e623": {
          "model_module": "@jupyter-widgets/base",
          "model_name": "LayoutModel",
          "model_module_version": "1.2.0",
          "state": {
            "_model_module": "@jupyter-widgets/base",
            "_model_module_version": "1.2.0",
            "_model_name": "LayoutModel",
            "_view_count": null,
            "_view_module": "@jupyter-widgets/base",
            "_view_module_version": "1.2.0",
            "_view_name": "LayoutView",
            "align_content": null,
            "align_items": null,
            "align_self": null,
            "border": null,
            "bottom": null,
            "display": null,
            "flex": null,
            "flex_flow": null,
            "grid_area": null,
            "grid_auto_columns": null,
            "grid_auto_flow": null,
            "grid_auto_rows": null,
            "grid_column": null,
            "grid_gap": null,
            "grid_row": null,
            "grid_template_areas": null,
            "grid_template_columns": null,
            "grid_template_rows": null,
            "height": null,
            "justify_content": null,
            "justify_items": null,
            "left": null,
            "margin": null,
            "max_height": null,
            "max_width": null,
            "min_height": null,
            "min_width": null,
            "object_fit": null,
            "object_position": null,
            "order": null,
            "overflow": null,
            "overflow_x": null,
            "overflow_y": null,
            "padding": null,
            "right": null,
            "top": null,
            "visibility": null,
            "width": null
          }
        },
        "ff6570e0984348f6a1f05af921b7cf21": {
          "model_module": "@jupyter-widgets/base",
          "model_name": "LayoutModel",
          "model_module_version": "1.2.0",
          "state": {
            "_model_module": "@jupyter-widgets/base",
            "_model_module_version": "1.2.0",
            "_model_name": "LayoutModel",
            "_view_count": null,
            "_view_module": "@jupyter-widgets/base",
            "_view_module_version": "1.2.0",
            "_view_name": "LayoutView",
            "align_content": null,
            "align_items": null,
            "align_self": null,
            "border": null,
            "bottom": null,
            "display": null,
            "flex": null,
            "flex_flow": null,
            "grid_area": null,
            "grid_auto_columns": null,
            "grid_auto_flow": null,
            "grid_auto_rows": null,
            "grid_column": null,
            "grid_gap": null,
            "grid_row": null,
            "grid_template_areas": null,
            "grid_template_columns": null,
            "grid_template_rows": null,
            "height": null,
            "justify_content": null,
            "justify_items": null,
            "left": null,
            "margin": null,
            "max_height": null,
            "max_width": null,
            "min_height": null,
            "min_width": null,
            "object_fit": null,
            "object_position": null,
            "order": null,
            "overflow": null,
            "overflow_x": null,
            "overflow_y": null,
            "padding": null,
            "right": null,
            "top": null,
            "visibility": null,
            "width": null
          }
        },
        "1080abc58f83429bbc87922550516633": {
          "model_module": "@jupyter-widgets/controls",
          "model_name": "DescriptionStyleModel",
          "model_module_version": "1.5.0",
          "state": {
            "_model_module": "@jupyter-widgets/controls",
            "_model_module_version": "1.5.0",
            "_model_name": "DescriptionStyleModel",
            "_view_count": null,
            "_view_module": "@jupyter-widgets/base",
            "_view_module_version": "1.2.0",
            "_view_name": "StyleView",
            "description_width": ""
          }
        },
        "fa5ae6ca20e1499dbeb54fc1048bcf62": {
          "model_module": "@jupyter-widgets/controls",
          "model_name": "HTMLModel",
          "model_module_version": "1.5.0",
          "state": {
            "_dom_classes": [],
            "_model_module": "@jupyter-widgets/controls",
            "_model_module_version": "1.5.0",
            "_model_name": "HTMLModel",
            "_view_count": null,
            "_view_module": "@jupyter-widgets/controls",
            "_view_module_version": "1.5.0",
            "_view_name": "HTMLView",
            "description": "",
            "description_tooltip": null,
            "layout": "IPY_MODEL_740be4e410df483daad1a7c99f327b8c",
            "placeholder": "​",
            "style": "IPY_MODEL_0c29d90fbfa3455bb58c390af2a09ed5",
            "value": "\n        <table>\n            <tr><td style=\"text-align: left;\">Scaling mode: Manual</td></tr>\n            <tr><td style=\"text-align: left;\">Workers: 2</td></tr>\n        </table>\n        "
          }
        },
        "b5d666c997484d39a028773ab4d93507": {
          "model_module": "@jupyter-widgets/controls",
          "model_name": "AccordionModel",
          "model_module_version": "1.5.0",
          "state": {
            "_dom_classes": [],
            "_model_module": "@jupyter-widgets/controls",
            "_model_module_version": "1.5.0",
            "_model_name": "AccordionModel",
            "_titles": {
              "0": "Manual Scaling",
              "1": "Adaptive Scaling"
            },
            "_view_count": null,
            "_view_module": "@jupyter-widgets/controls",
            "_view_module_version": "1.5.0",
            "_view_name": "AccordionView",
            "box_style": "",
            "children": [
              "IPY_MODEL_dc868cdf00e340a2a8745b3e7c350326",
              "IPY_MODEL_730801fff89f4681bb962d0f6f271e78"
            ],
            "layout": "IPY_MODEL_8e8cb910f9b947fbba8a14ed7f604cce",
            "selected_index": null
          }
        },
        "d87967f55e3b454ba34bdb891e46b6ef": {
          "model_module": "@jupyter-widgets/base",
          "model_name": "LayoutModel",
          "model_module_version": "1.2.0",
          "state": {
            "_model_module": "@jupyter-widgets/base",
            "_model_module_version": "1.2.0",
            "_model_name": "LayoutModel",
            "_view_count": null,
            "_view_module": "@jupyter-widgets/base",
            "_view_module_version": "1.2.0",
            "_view_name": "LayoutView",
            "align_content": null,
            "align_items": null,
            "align_self": null,
            "border": null,
            "bottom": null,
            "display": null,
            "flex": null,
            "flex_flow": null,
            "grid_area": null,
            "grid_auto_columns": null,
            "grid_auto_flow": null,
            "grid_auto_rows": null,
            "grid_column": null,
            "grid_gap": null,
            "grid_row": null,
            "grid_template_areas": null,
            "grid_template_columns": null,
            "grid_template_rows": null,
            "height": null,
            "justify_content": null,
            "justify_items": null,
            "left": null,
            "margin": null,
            "max_height": null,
            "max_width": null,
            "min_height": null,
            "min_width": null,
            "object_fit": null,
            "object_position": null,
            "order": null,
            "overflow": null,
            "overflow_x": null,
            "overflow_y": null,
            "padding": null,
            "right": null,
            "top": null,
            "visibility": null,
            "width": null
          }
        },
        "740be4e410df483daad1a7c99f327b8c": {
          "model_module": "@jupyter-widgets/base",
          "model_name": "LayoutModel",
          "model_module_version": "1.2.0",
          "state": {
            "_model_module": "@jupyter-widgets/base",
            "_model_module_version": "1.2.0",
            "_model_name": "LayoutModel",
            "_view_count": null,
            "_view_module": "@jupyter-widgets/base",
            "_view_module_version": "1.2.0",
            "_view_name": "LayoutView",
            "align_content": null,
            "align_items": null,
            "align_self": null,
            "border": null,
            "bottom": null,
            "display": null,
            "flex": null,
            "flex_flow": null,
            "grid_area": null,
            "grid_auto_columns": null,
            "grid_auto_flow": null,
            "grid_auto_rows": null,
            "grid_column": null,
            "grid_gap": null,
            "grid_row": null,
            "grid_template_areas": null,
            "grid_template_columns": null,
            "grid_template_rows": null,
            "height": null,
            "justify_content": null,
            "justify_items": null,
            "left": null,
            "margin": null,
            "max_height": null,
            "max_width": null,
            "min_height": null,
            "min_width": null,
            "object_fit": null,
            "object_position": null,
            "order": null,
            "overflow": null,
            "overflow_x": null,
            "overflow_y": null,
            "padding": null,
            "right": null,
            "top": null,
            "visibility": null,
            "width": null
          }
        },
        "0c29d90fbfa3455bb58c390af2a09ed5": {
          "model_module": "@jupyter-widgets/controls",
          "model_name": "DescriptionStyleModel",
          "model_module_version": "1.5.0",
          "state": {
            "_model_module": "@jupyter-widgets/controls",
            "_model_module_version": "1.5.0",
            "_model_name": "DescriptionStyleModel",
            "_view_count": null,
            "_view_module": "@jupyter-widgets/base",
            "_view_module_version": "1.2.0",
            "_view_name": "StyleView",
            "description_width": ""
          }
        },
        "dc868cdf00e340a2a8745b3e7c350326": {
          "model_module": "@jupyter-widgets/controls",
          "model_name": "HBoxModel",
          "model_module_version": "1.5.0",
          "state": {
            "_dom_classes": [],
            "_model_module": "@jupyter-widgets/controls",
            "_model_module_version": "1.5.0",
            "_model_name": "HBoxModel",
            "_view_count": null,
            "_view_module": "@jupyter-widgets/controls",
            "_view_module_version": "1.5.0",
            "_view_name": "HBoxView",
            "box_style": "",
            "children": [
              "IPY_MODEL_1154bd6d53e34bc88e7e73364ff277f6",
              "IPY_MODEL_8208c667edae4cd1a4fc6a383eed96cc"
            ],
            "layout": "IPY_MODEL_0c7e6a2aad7e4443ac26a36eb3be257f"
          }
        },
        "730801fff89f4681bb962d0f6f271e78": {
          "model_module": "@jupyter-widgets/controls",
          "model_name": "HBoxModel",
          "model_module_version": "1.5.0",
          "state": {
            "_dom_classes": [],
            "_model_module": "@jupyter-widgets/controls",
            "_model_module_version": "1.5.0",
            "_model_name": "HBoxModel",
            "_view_count": null,
            "_view_module": "@jupyter-widgets/controls",
            "_view_module_version": "1.5.0",
            "_view_name": "HBoxView",
            "box_style": "",
            "children": [
              "IPY_MODEL_0ea3788bf0f54a71be1d0e30926a1377",
              "IPY_MODEL_afb9a9dc61ea4010ad67cd5ddd84c2b6",
              "IPY_MODEL_3f857cba2f51499bb2212dc66859fd46"
            ],
            "layout": "IPY_MODEL_dcc32ade02804a88a2df07183ecce055"
          }
        },
        "8e8cb910f9b947fbba8a14ed7f604cce": {
          "model_module": "@jupyter-widgets/base",
          "model_name": "LayoutModel",
          "model_module_version": "1.2.0",
          "state": {
            "_model_module": "@jupyter-widgets/base",
            "_model_module_version": "1.2.0",
            "_model_name": "LayoutModel",
            "_view_count": null,
            "_view_module": "@jupyter-widgets/base",
            "_view_module_version": "1.2.0",
            "_view_name": "LayoutView",
            "align_content": null,
            "align_items": null,
            "align_self": null,
            "border": null,
            "bottom": null,
            "display": null,
            "flex": null,
            "flex_flow": null,
            "grid_area": null,
            "grid_auto_columns": null,
            "grid_auto_flow": null,
            "grid_auto_rows": null,
            "grid_column": null,
            "grid_gap": null,
            "grid_row": null,
            "grid_template_areas": null,
            "grid_template_columns": null,
            "grid_template_rows": null,
            "height": null,
            "justify_content": null,
            "justify_items": null,
            "left": null,
            "margin": null,
            "max_height": null,
            "max_width": null,
            "min_height": null,
            "min_width": "500px",
            "object_fit": null,
            "object_position": null,
            "order": null,
            "overflow": null,
            "overflow_x": null,
            "overflow_y": null,
            "padding": null,
            "right": null,
            "top": null,
            "visibility": null,
            "width": null
          }
        },
        "1154bd6d53e34bc88e7e73364ff277f6": {
          "model_module": "@jupyter-widgets/controls",
          "model_name": "IntTextModel",
          "model_module_version": "1.5.0",
          "state": {
            "_dom_classes": [],
            "_model_module": "@jupyter-widgets/controls",
            "_model_module_version": "1.5.0",
            "_model_name": "IntTextModel",
            "_view_count": null,
            "_view_module": "@jupyter-widgets/controls",
            "_view_module_version": "1.5.0",
            "_view_name": "IntTextView",
            "continuous_update": false,
            "description": "Workers",
            "description_tooltip": null,
            "disabled": false,
            "layout": "IPY_MODEL_a8c3350344fb4b3fa8fc1899089ea180",
            "step": 1,
            "style": "IPY_MODEL_417e28c7a78e495c8e36ec088e15c5c1",
            "value": 0
          }
        },
        "8208c667edae4cd1a4fc6a383eed96cc": {
          "model_module": "@jupyter-widgets/controls",
          "model_name": "ButtonModel",
          "model_module_version": "1.5.0",
          "state": {
            "_dom_classes": [],
            "_model_module": "@jupyter-widgets/controls",
            "_model_module_version": "1.5.0",
            "_model_name": "ButtonModel",
            "_view_count": null,
            "_view_module": "@jupyter-widgets/controls",
            "_view_module_version": "1.5.0",
            "_view_name": "ButtonView",
            "button_style": "",
            "description": "Scale",
            "disabled": false,
            "icon": "",
            "layout": "IPY_MODEL_a8c3350344fb4b3fa8fc1899089ea180",
            "style": "IPY_MODEL_237d399fbdb44d4b877b0f581d97101b",
            "tooltip": ""
          }
        },
        "0c7e6a2aad7e4443ac26a36eb3be257f": {
          "model_module": "@jupyter-widgets/base",
          "model_name": "LayoutModel",
          "model_module_version": "1.2.0",
          "state": {
            "_model_module": "@jupyter-widgets/base",
            "_model_module_version": "1.2.0",
            "_model_name": "LayoutModel",
            "_view_count": null,
            "_view_module": "@jupyter-widgets/base",
            "_view_module_version": "1.2.0",
            "_view_name": "LayoutView",
            "align_content": null,
            "align_items": null,
            "align_self": null,
            "border": null,
            "bottom": null,
            "display": null,
            "flex": null,
            "flex_flow": null,
            "grid_area": null,
            "grid_auto_columns": null,
            "grid_auto_flow": null,
            "grid_auto_rows": null,
            "grid_column": null,
            "grid_gap": null,
            "grid_row": null,
            "grid_template_areas": null,
            "grid_template_columns": null,
            "grid_template_rows": null,
            "height": null,
            "justify_content": null,
            "justify_items": null,
            "left": null,
            "margin": null,
            "max_height": null,
            "max_width": null,
            "min_height": null,
            "min_width": null,
            "object_fit": null,
            "object_position": null,
            "order": null,
            "overflow": null,
            "overflow_x": null,
            "overflow_y": null,
            "padding": null,
            "right": null,
            "top": null,
            "visibility": null,
            "width": null
          }
        },
        "0ea3788bf0f54a71be1d0e30926a1377": {
          "model_module": "@jupyter-widgets/controls",
          "model_name": "IntTextModel",
          "model_module_version": "1.5.0",
          "state": {
            "_dom_classes": [],
            "_model_module": "@jupyter-widgets/controls",
            "_model_module_version": "1.5.0",
            "_model_name": "IntTextModel",
            "_view_count": null,
            "_view_module": "@jupyter-widgets/controls",
            "_view_module_version": "1.5.0",
            "_view_name": "IntTextView",
            "continuous_update": false,
            "description": "Minimum",
            "description_tooltip": null,
            "disabled": false,
            "layout": "IPY_MODEL_a8c3350344fb4b3fa8fc1899089ea180",
            "step": 1,
            "style": "IPY_MODEL_2a1ffe3f718442b6a210154e0e3bd213",
            "value": 0
          }
        },
        "afb9a9dc61ea4010ad67cd5ddd84c2b6": {
          "model_module": "@jupyter-widgets/controls",
          "model_name": "IntTextModel",
          "model_module_version": "1.5.0",
          "state": {
            "_dom_classes": [],
            "_model_module": "@jupyter-widgets/controls",
            "_model_module_version": "1.5.0",
            "_model_name": "IntTextModel",
            "_view_count": null,
            "_view_module": "@jupyter-widgets/controls",
            "_view_module_version": "1.5.0",
            "_view_name": "IntTextView",
            "continuous_update": false,
            "description": "Maximum",
            "description_tooltip": null,
            "disabled": false,
            "layout": "IPY_MODEL_a8c3350344fb4b3fa8fc1899089ea180",
            "step": 1,
            "style": "IPY_MODEL_7a37cf037a4b4d6a95020ab8409f2a71",
            "value": 0
          }
        },
        "3f857cba2f51499bb2212dc66859fd46": {
          "model_module": "@jupyter-widgets/controls",
          "model_name": "ButtonModel",
          "model_module_version": "1.5.0",
          "state": {
            "_dom_classes": [],
            "_model_module": "@jupyter-widgets/controls",
            "_model_module_version": "1.5.0",
            "_model_name": "ButtonModel",
            "_view_count": null,
            "_view_module": "@jupyter-widgets/controls",
            "_view_module_version": "1.5.0",
            "_view_name": "ButtonView",
            "button_style": "",
            "description": "Adapt",
            "disabled": false,
            "icon": "",
            "layout": "IPY_MODEL_a8c3350344fb4b3fa8fc1899089ea180",
            "style": "IPY_MODEL_71d68ee1663d4bb2b164f6098bd8ce12",
            "tooltip": ""
          }
        },
        "dcc32ade02804a88a2df07183ecce055": {
          "model_module": "@jupyter-widgets/base",
          "model_name": "LayoutModel",
          "model_module_version": "1.2.0",
          "state": {
            "_model_module": "@jupyter-widgets/base",
            "_model_module_version": "1.2.0",
            "_model_name": "LayoutModel",
            "_view_count": null,
            "_view_module": "@jupyter-widgets/base",
            "_view_module_version": "1.2.0",
            "_view_name": "LayoutView",
            "align_content": null,
            "align_items": null,
            "align_self": null,
            "border": null,
            "bottom": null,
            "display": null,
            "flex": null,
            "flex_flow": null,
            "grid_area": null,
            "grid_auto_columns": null,
            "grid_auto_flow": null,
            "grid_auto_rows": null,
            "grid_column": null,
            "grid_gap": null,
            "grid_row": null,
            "grid_template_areas": null,
            "grid_template_columns": null,
            "grid_template_rows": null,
            "height": null,
            "justify_content": null,
            "justify_items": null,
            "left": null,
            "margin": null,
            "max_height": null,
            "max_width": null,
            "min_height": null,
            "min_width": null,
            "object_fit": null,
            "object_position": null,
            "order": null,
            "overflow": null,
            "overflow_x": null,
            "overflow_y": null,
            "padding": null,
            "right": null,
            "top": null,
            "visibility": null,
            "width": null
          }
        },
        "a8c3350344fb4b3fa8fc1899089ea180": {
          "model_module": "@jupyter-widgets/base",
          "model_name": "LayoutModel",
          "model_module_version": "1.2.0",
          "state": {
            "_model_module": "@jupyter-widgets/base",
            "_model_module_version": "1.2.0",
            "_model_name": "LayoutModel",
            "_view_count": null,
            "_view_module": "@jupyter-widgets/base",
            "_view_module_version": "1.2.0",
            "_view_name": "LayoutView",
            "align_content": null,
            "align_items": null,
            "align_self": null,
            "border": null,
            "bottom": null,
            "display": null,
            "flex": null,
            "flex_flow": null,
            "grid_area": null,
            "grid_auto_columns": null,
            "grid_auto_flow": null,
            "grid_auto_rows": null,
            "grid_column": null,
            "grid_gap": null,
            "grid_row": null,
            "grid_template_areas": null,
            "grid_template_columns": null,
            "grid_template_rows": null,
            "height": null,
            "justify_content": null,
            "justify_items": null,
            "left": null,
            "margin": null,
            "max_height": null,
            "max_width": null,
            "min_height": null,
            "min_width": null,
            "object_fit": null,
            "object_position": null,
            "order": null,
            "overflow": null,
            "overflow_x": null,
            "overflow_y": null,
            "padding": null,
            "right": null,
            "top": null,
            "visibility": null,
            "width": "150px"
          }
        },
        "417e28c7a78e495c8e36ec088e15c5c1": {
          "model_module": "@jupyter-widgets/controls",
          "model_name": "DescriptionStyleModel",
          "model_module_version": "1.5.0",
          "state": {
            "_model_module": "@jupyter-widgets/controls",
            "_model_module_version": "1.5.0",
            "_model_name": "DescriptionStyleModel",
            "_view_count": null,
            "_view_module": "@jupyter-widgets/base",
            "_view_module_version": "1.2.0",
            "_view_name": "StyleView",
            "description_width": ""
          }
        },
        "237d399fbdb44d4b877b0f581d97101b": {
          "model_module": "@jupyter-widgets/controls",
          "model_name": "ButtonStyleModel",
          "model_module_version": "1.5.0",
          "state": {
            "_model_module": "@jupyter-widgets/controls",
            "_model_module_version": "1.5.0",
            "_model_name": "ButtonStyleModel",
            "_view_count": null,
            "_view_module": "@jupyter-widgets/base",
            "_view_module_version": "1.2.0",
            "_view_name": "StyleView",
            "button_color": null,
            "font_weight": ""
          }
        },
        "2a1ffe3f718442b6a210154e0e3bd213": {
          "model_module": "@jupyter-widgets/controls",
          "model_name": "DescriptionStyleModel",
          "model_module_version": "1.5.0",
          "state": {
            "_model_module": "@jupyter-widgets/controls",
            "_model_module_version": "1.5.0",
            "_model_name": "DescriptionStyleModel",
            "_view_count": null,
            "_view_module": "@jupyter-widgets/base",
            "_view_module_version": "1.2.0",
            "_view_name": "StyleView",
            "description_width": ""
          }
        },
        "7a37cf037a4b4d6a95020ab8409f2a71": {
          "model_module": "@jupyter-widgets/controls",
          "model_name": "DescriptionStyleModel",
          "model_module_version": "1.5.0",
          "state": {
            "_model_module": "@jupyter-widgets/controls",
            "_model_module_version": "1.5.0",
            "_model_name": "DescriptionStyleModel",
            "_view_count": null,
            "_view_module": "@jupyter-widgets/base",
            "_view_module_version": "1.2.0",
            "_view_name": "StyleView",
            "description_width": ""
          }
        },
        "71d68ee1663d4bb2b164f6098bd8ce12": {
          "model_module": "@jupyter-widgets/controls",
          "model_name": "ButtonStyleModel",
          "model_module_version": "1.5.0",
          "state": {
            "_model_module": "@jupyter-widgets/controls",
            "_model_module_version": "1.5.0",
            "_model_name": "ButtonStyleModel",
            "_view_count": null,
            "_view_module": "@jupyter-widgets/base",
            "_view_module_version": "1.2.0",
            "_view_name": "StyleView",
            "button_color": null,
            "font_weight": ""
          }
        }
      }
    }
  },
  "nbformat": 4,
  "nbformat_minor": 0
}