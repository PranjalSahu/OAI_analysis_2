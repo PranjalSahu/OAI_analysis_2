{
  "cells": [
    {
      "cell_type": "markdown",
      "metadata": {
        "id": "view-in-github",
        "colab_type": "text"
      },
      "source": [
        "<a href=\"https://colab.research.google.com/github/PranjalSahu/OAI_analysis_2/blob/pranjal/notebooks/DaskComputationCoiled.ipynb\" target=\"_parent\"><img src=\"https://colab.research.google.com/assets/colab-badge.svg\" alt=\"Open In Colab\"/></a>"
      ]
    },
    {
      "cell_type": "code",
      "execution_count": null,
      "metadata": {
        "id": "8VnZ6zuBOtp3"
      },
      "outputs": [],
      "source": [
        "# Install packages\n",
        "\n",
        "# Remember to Restart runtime after installation\n",
        "\n",
        "\n",
        "!pip install itk==5.3rc4\n",
        "!pip install vtk\n",
        "!pip install itkwidgets\n",
        "!pip install icon-registration==0.3.4\n",
        "!pip install tornado==6.1\n",
        "!pip install coiled\n",
        "!pip install torch\n",
        "!pip install jupyter\n",
        "!pip install girder_client\n",
        "!pip install git+https://github.com/uncbiag/mermaid.git\n",
        "!pip install git+https://github.com/uncbiag/easyreg.git\n",
        "!pip install git+https://github.com/PranjalSahu/OAI_analysis_2.git#egg=oai_package"
      ]
    },
    {
      "cell_type": "code",
      "execution_count": 1,
      "metadata": {
        "id": "0w5y-3zBOxkY"
      },
      "outputs": [],
      "source": [
        "# All Imports\n",
        "\n",
        "import numpy as np\n",
        "import itk\n",
        "import vtk\n",
        "import itkwidgets\n",
        "import icon_registration\n",
        "import icon_registration.itk_wrapper as itk_wrapper\n",
        "import icon_registration.pretrained_models as pretrained_models\n",
        "from oai_analysis_2 import mesh_processing as mp\n",
        "\n",
        "import os\n",
        "os.environ[\"CUDA_VISIBLE_DEVICES\"]=\"\"\n",
        "\n",
        "import boto3\n",
        "import coiled\n",
        "import dask\n",
        "from dask import delayed, compute, visualize\n",
        "from dask.distributed import Client, progress, LocalCluster"
      ]
    },
    {
      "cell_type": "code",
      "execution_count": null,
      "metadata": {
        "id": "D-E-5gV6KX8E"
      },
      "outputs": [],
      "source": [
        "# Create the environment\n",
        "\n",
        "if False:\n",
        "  coiled.create_software_environment(\n",
        "    name=\"oai6\",\n",
        "    pip=\"coiled_requirements.txt\",\n",
        "  )\n",
        "  # coiled.create_software_environment(\n",
        "  #   name=\"oai4\",\n",
        "  #   container=\"pranjalsahu/pranjal-sahu-oai4:cf409eeb-435c-4976-afd4-6a5118d6b683\",\n",
        "  # )"
      ]
    },
    {
      "cell_type": "code",
      "source": [
        "# To create a software environment using docker with open gl installed\n",
        "# coiled.create_software_environment(\n",
        "#     name=\"oai6\",\n",
        "#     container=\"pranjalsahu/pranjal-sahu-oai6:latest\",\n",
        "# )"
      ],
      "metadata": {
        "colab": {
          "base_uri": "https://localhost:8080/",
          "height": 69
        },
        "id": "O-pxKPFD2Ld9",
        "outputId": "4b8d4dcc-2b5b-491d-d531-bfedad3ee87b"
      },
      "execution_count": null,
      "outputs": [
        {
          "output_type": "stream",
          "name": "stdout",
          "text": [
            "Creating new software environment\n",
            "Creating container-only software environment\n",
            "Successfully saved software environment build\n"
          ]
        }
      ]
    },
    {
      "cell_type": "code",
      "execution_count": 2,
      "metadata": {
        "id": "2wQIfgkLSMRy",
        "colab": {
          "base_uri": "https://localhost:8080/",
          "height": 269,
          "referenced_widgets": [
            "e51eeb0ecde64ab0b9b327340a3f982a",
            "ab21a5371c984caebfccb1b828a3af9b"
          ]
        },
        "outputId": "54413581-bf12-4504-f95e-b90fbdd460da"
      },
      "outputs": [
        {
          "output_type": "display_data",
          "data": {
            "text/plain": [
              "\u001b[31mInvalid Coiled token encountered. You can create new tokens and manage your existing ones at \u001b[0m\n",
              "\u001b[4;31mhttps://cloud.coiled.io/profile.\u001b[0m\n",
              "\n"
            ],
            "text/html": [
              "<pre style=\"white-space:pre;overflow-x:auto;line-height:normal;font-family:Menlo,'DejaVu Sans Mono',consolas,'Courier New',monospace\"><span style=\"color: #800000; text-decoration-color: #800000\">Invalid Coiled token encountered. You can create new tokens and manage your existing ones at </span>\n",
              "<span style=\"color: #800000; text-decoration-color: #800000; text-decoration: underline\">https://cloud.coiled.io/profile.</span>\n",
              "\n",
              "</pre>\n"
            ]
          },
          "metadata": {}
        },
        {
          "output_type": "display_data",
          "data": {
            "text/plain": [
              "Please login to \u001b[4;94mhttps://cloud.coiled.io/profile\u001b[0m to get your token\n"
            ],
            "text/html": [
              "<pre style=\"white-space:pre;overflow-x:auto;line-height:normal;font-family:Menlo,'DejaVu Sans Mono',consolas,'Courier New',monospace\">Please login to <span style=\"color: #0000ff; text-decoration-color: #0000ff; text-decoration: underline\">https://cloud.coiled.io/profile</span> to get your token\n",
              "</pre>\n"
            ]
          },
          "metadata": {}
        },
        {
          "name": "stdout",
          "output_type": "stream",
          "text": [
            "Token: ··········\n"
          ]
        },
        {
          "output_type": "display_data",
          "data": {
            "text/plain": [
              "\u001b[32mAuthentication successful\u001b[0m\n"
            ],
            "text/html": [
              "<pre style=\"white-space:pre;overflow-x:auto;line-height:normal;font-family:Menlo,'DejaVu Sans Mono',consolas,'Courier New',monospace\"><span style=\"color: #008000; text-decoration-color: #008000\">Authentication successful</span>\n",
              "</pre>\n"
            ]
          },
          "metadata": {}
        },
        {
          "name": "stdout",
          "output_type": "stream",
          "text": [
            "Save credentials for next time? [Y/n]: Y\n"
          ]
        },
        {
          "output_type": "display_data",
          "data": {
            "text/plain": [
              "Credentials have been saved at \u001b[34m/root/.config/dask/\u001b[0m\u001b[34mcoiled.yaml\u001b[0m\n"
            ],
            "text/html": [
              "<pre style=\"white-space:pre;overflow-x:auto;line-height:normal;font-family:Menlo,'DejaVu Sans Mono',consolas,'Courier New',monospace\">Credentials have been saved at <span style=\"color: #000080; text-decoration-color: #000080\">/root/.config/dask/coiled.yaml</span>\n",
              "</pre>\n"
            ]
          },
          "metadata": {}
        },
        {
          "output_type": "display_data",
          "data": {
            "text/plain": [
              "Output()"
            ],
            "application/vnd.jupyter.widget-view+json": {
              "version_major": 2,
              "version_minor": 0,
              "model_id": "e51eeb0ecde64ab0b9b327340a3f982a"
            }
          },
          "metadata": {}
        },
        {
          "output_type": "stream",
          "name": "stdout",
          "text": [
            "Found software environment build\n",
            "Created fw rule: inbound [8786-8787] [0.0.0.0/0] []\n",
            "Created FW rules: coiled-dask-pranjal09-152302-firewall\n",
            "Created fw rule: cluster [0-65535] [None] [coiled-dask-pranjal09-152302-firewall -> coiled-dask-pranjal09-152302-firewall]\n",
            "Created FW rules: coiled-dask-pranjal09-152302-cluster-firewall\n",
            "Created fw rule: cluster [0-65535] [None] [coiled-dask-pranjal09-152302-cluster-firewall -> coiled-dask-pranjal09-152302-cluster-firewall]\n",
            "Created scheduler VM: coiled-dask-pranjal09-152302-scheduler (type: t3a.medium, ip: ['18.205.18.178'])\n"
          ]
        },
        {
          "output_type": "display_data",
          "data": {
            "text/plain": [
              ""
            ],
            "text/html": [
              "<pre style=\"white-space:pre;overflow-x:auto;line-height:normal;font-family:Menlo,'DejaVu Sans Mono',consolas,'Courier New',monospace\"></pre>\n"
            ]
          },
          "metadata": {}
        }
      ],
      "source": [
        "# Create Dask Client. This will also spawn dask worker and scheduler\n",
        "\n",
        "use_coiled = True\n",
        "\n",
        "if use_coiled:\n",
        "  name = 'oai-processing'\n",
        "  cluster = coiled.Cluster(n_workers=2,\n",
        "                         worker_cpu=8,\n",
        "                         worker_memory='31G',\n",
        "                         name=name,\n",
        "                         software='pranjal-sahu/oai6')\n",
        "  client = dask.distributed.Client(cluster, \n",
        "                                   serializers=['pickle', 'dask'],\n",
        "                                   deserializers=['pickle', 'dask'])\n",
        "  client\n",
        "else:\n",
        "  cluster = LocalCluster(processes=False)\n",
        "  client = Client(cluster)\n",
        "  client"
      ]
    },
    {
      "cell_type": "code",
      "source": [
        "cluster"
      ],
      "metadata": {
        "colab": {
          "base_uri": "https://localhost:8080/",
          "height": 258,
          "referenced_widgets": [
            "c2c60df1b0a54d528377fa787a374f9e",
            "de62a8dd630741099da2898b0314244b",
            "b213eb6e0c8a47259961527287cddc75",
            "b90ac6b7fe974386aced293e295f81b9",
            "b370bd9693f8429daa70ace329ae3b1a",
            "a76015bac6314a318e8faa28a5355d14",
            "c996fac1f3b44c12b8ce1b5a53a1d057",
            "f6f6d8dc221342c2a5fc46bc3dbab294",
            "c19e793169274cfc91e36e55d596d3de",
            "cd2ee5639c3a460cb170f841fe339472",
            "e543bc722b7848d98c4c59f39112ec39",
            "8e47b6ec63b04dcbaac4183d317afba0",
            "7c332cedd57e42b385663b577e26cfe1",
            "49263dc00e384fe8ba729813dcaf41d9",
            "a5162cd741c54507944a018ad99c0597",
            "8e8efe2eac134f9e971b30d947124b64",
            "d69d13e984794ec384a8d8227fa1d898",
            "ab22328078df4cbe86cd3be645fb851d",
            "0aabda11e5734772ac133522fe84f057",
            "3ddb125734c54442b7b150b248e49d49",
            "c7a470d3113a494fa2dede5c9e01d7b3",
            "e8b441f7ae1243fd861e5a670e2abb4b",
            "17bd9f1569804b22ac790f766c65f80c",
            "205f19f3ee7c41399989eaeaa318b685",
            "801f4af8c1cf41808ed201bea4c57f41",
            "1620887f4b444f48a6e456a8920d414c",
            "967f46d4cf734cbcb12d6a2f7773f170"
          ]
        },
        "id": "qE__24JAckLS",
        "outputId": "f1789c60-b99e-4cdd-8078-18403b9bd6ac"
      },
      "execution_count": 3,
      "outputs": [
        {
          "output_type": "display_data",
          "data": {
            "text/plain": [
              "Tab(children=(HTML(value='<div class=\"jp-RenderedHTMLCommon jp-RenderedHTML jp-mod-trusted jp-OutputArea-outpu…"
            ],
            "application/vnd.jupyter.widget-view+json": {
              "version_major": 2,
              "version_minor": 0,
              "model_id": "c2c60df1b0a54d528377fa787a374f9e"
            }
          },
          "metadata": {}
        }
      ]
    },
    {
      "cell_type": "code",
      "execution_count": 4,
      "metadata": {
        "id": "2HbtL8r4TiKb"
      },
      "outputs": [],
      "source": [
        "# All Function Definitions with Dask Delayed Decorator to perform parallel Computing\n",
        "\n",
        "@delayed(nout=3)\n",
        "def register_images_delayed():\n",
        "    import boto3\n",
        "    import itk\n",
        "    import icon_registration\n",
        "    import icon_registration.itk_wrapper as itk_wrapper\n",
        "    import icon_registration.pretrained_models as pretrained_models\n",
        "    from os.path import exists\n",
        "\n",
        "    if 1:\n",
        "        image_A = 'image_preprocessed.nii.gz'\n",
        "        image_B = 'atlas_image.nii.gz'\n",
        "        if (exists(image_A) and exists(image_B)) == False:\n",
        "          s3          = boto3.resource(\"s3\")\n",
        "          bucket_name = 'oaisample1'\n",
        "          bucket      = s3.Bucket(bucket_name)\n",
        "\n",
        "          s3.Bucket(bucket_name).download_file(image_A, image_A)\n",
        "          s3.Bucket(bucket_name).download_file(image_B, image_B)\n",
        "    else:\n",
        "        image_A = './OAIData/image_preprocessed.nii.gz'\n",
        "        image_B = './OAIData/atlas_image.nii.gz'\n",
        "\n",
        "    image_A = itk.imread(image_A, itk.D)\n",
        "    image_B = itk.imread(image_B, itk.D)\n",
        "\n",
        "    model = pretrained_models.OAI_knees_gradICON_model()\n",
        "    model.to('cpu')\n",
        "\n",
        "    # Register the images\n",
        "    phi_AB, phi_BA = itk_wrapper.register_pair(model, image_A, image_B)\n",
        "    return itk.dict_from_transform(phi_AB), itk.dict_from_image(image_A), itk.dict_from_image(image_B)\n",
        "\n",
        "@delayed(nout=1)\n",
        "def deform_probmap_FC_delayed(phi_AB, image_A, image_B):\n",
        "    import itk\n",
        "    import boto3\n",
        "\n",
        "    if 1:\n",
        "        s3          = boto3.resource(\"s3\")\n",
        "        bucket_name = 'oaisample1'\n",
        "        bucket      = s3.Bucket(bucket_name)\n",
        "        fc_prob_file = 'FC_probmap.nii.gz'\n",
        "        s3.Bucket(bucket_name).download_file(fc_prob_file, fc_prob_file)\n",
        "\n",
        "    phi_AB1  = itk.transform_from_dict(phi_AB)\n",
        "    \n",
        "    def set_parameters(phi_AB, phi_AB1):\n",
        "        for i in range(len(phi_AB)-1):\n",
        "            transform1 = phi_AB1.GetNthTransform(i)\n",
        "\n",
        "            fp = phi_AB[i+1]['fixedParameters']\n",
        "            o1 = transform1.GetFixedParameters()\n",
        "            o1.SetSize(fp.shape[0])\n",
        "            for j, v in enumerate(fp):\n",
        "                o1.SetElement(j, v)\n",
        "            transform1.SetFixedParameters(o1)\n",
        "\n",
        "            p = phi_AB[i+1]['parameters']\n",
        "            o2 = transform1.GetParameters()\n",
        "            o2.SetSize(p.shape[0])\n",
        "            for j, v in enumerate(p):\n",
        "                o2.SetElement(j, v)\n",
        "            transform1.SetParameters(o2)\n",
        "\n",
        "    set_parameters(phi_AB, phi_AB1)\n",
        "    image_A = itk.image_from_dict(image_A)\n",
        "    image_B = itk.image_from_dict(image_B)\n",
        "\n",
        "    interpolator = itk.LinearInterpolateImageFunction.New(image_A)\n",
        "    \n",
        "    prob_file = 'FC_probmap.nii.gz'\n",
        "    prob = itk.imread(prob_file, itk.D)\n",
        "\n",
        "    warped_image = itk.resample_image_filter(prob, \n",
        "       transform=phi_AB1, \n",
        "       interpolator=interpolator,\n",
        "       size=itk.size(image_B),\n",
        "       output_spacing=itk.spacing(image_B),\n",
        "       output_direction=image_B.GetDirection(),\n",
        "       output_origin=image_B.GetOrigin()\n",
        "    )\n",
        "\n",
        "    output_dict = itk.dict_from_image(warped_image)\n",
        "    return output_dict\n",
        "  \n",
        "@delayed\n",
        "def deform_probmap_delayed(phi_AB, image_A, image_B, image_type ='FC'):\n",
        "    import itk\n",
        "    import boto3\n",
        "\n",
        "    if 1:\n",
        "        s3          = boto3.resource(\"s3\")\n",
        "        bucket_name = 'oaisample1'\n",
        "        bucket      = s3.Bucket(bucket_name)\n",
        "        fc_prob_file = str(image_type)+'_probmap.nii.gz'\n",
        "        s3.Bucket(bucket_name).download_file(fc_prob_file, fc_prob_file)\n",
        "\n",
        "    phi_AB1  = itk.transform_from_dict(phi_AB)\n",
        "    \n",
        "    def set_parameters(phi_AB, phi_AB1):\n",
        "        for i in range(len(phi_AB)-1):\n",
        "            transform1 = phi_AB1.GetNthTransform(i)\n",
        "\n",
        "            fp = phi_AB[i+1]['fixedParameters']\n",
        "            o1 = transform1.GetFixedParameters()\n",
        "            o1.SetSize(fp.shape[0])\n",
        "            for j, v in enumerate(fp):\n",
        "                o1.SetElement(j, v)\n",
        "            transform1.SetFixedParameters(o1)\n",
        "\n",
        "            p = phi_AB[i+1]['parameters']\n",
        "            o2 = transform1.GetParameters()\n",
        "            o2.SetSize(p.shape[0])\n",
        "            for j, v in enumerate(p):\n",
        "                o2.SetElement(j, v)\n",
        "            transform1.SetParameters(o2)\n",
        "\n",
        "    set_parameters(phi_AB, phi_AB1)\n",
        "    image_A = itk.image_from_dict(image_A)\n",
        "    image_B = itk.image_from_dict(image_B)\n",
        "\n",
        "    interpolator = itk.LinearInterpolateImageFunction.New(image_A)\n",
        "    \n",
        "    prob_file = str(image_type)+'_probmap.nii.gz'\n",
        "    prob = itk.imread(prob_file, itk.D)\n",
        "\n",
        "    warped_image = itk.resample_image_filter(prob, \n",
        "       transform=phi_AB1, \n",
        "       interpolator=interpolator,\n",
        "       size=itk.size(image_B),\n",
        "       output_spacing=itk.spacing(image_B),\n",
        "       output_direction=image_B.GetDirection(),\n",
        "       output_origin=image_B.GetOrigin()\n",
        "    )\n",
        "\n",
        "    output_dict = itk.dict_from_image(warped_image)\n",
        "    return output_dict\n",
        "    \n",
        "\n",
        "@delayed(nout=1)\n",
        "def get_thickness(warped_image, mesh_type):\n",
        "    import itk\n",
        "    import vtk\n",
        "    import numpy as np\n",
        "    from oai_analysis_2 import mesh_processing as mp\n",
        "\n",
        "    def get_itk_mesh(vtk_mesh):\n",
        "        Dimension = 3\n",
        "        PixelType = itk.D\n",
        "        \n",
        "        # Get points array from VTK mesh\n",
        "        points = vtk_mesh.GetPoints().GetData()\n",
        "        points_numpy = np.array(points).flatten()#.astype('float32')\n",
        "            \n",
        "        polys = vtk_mesh.GetPolys().GetData()\n",
        "        polys_numpy = np.array(polys).flatten()\n",
        "\n",
        "        # Triangle Mesh\n",
        "        vtk_cells_count = vtk_mesh.GetNumberOfPolys()\n",
        "        polys_numpy = np.reshape(polys_numpy, [vtk_cells_count, Dimension+1])\n",
        "\n",
        "        # Extracting only the points by removing first column that denotes the VTK cell type\n",
        "        polys_numpy = polys_numpy[:, 1:]\n",
        "        polys_numpy = polys_numpy.flatten().astype(np.uint64)\n",
        "\n",
        "        # Get point data from VTK mesh to insert in ITK Mesh\n",
        "        point_data_numpy = np.array(vtk_mesh.GetPointData().GetScalars())#.astype('float64')\n",
        "        \n",
        "        # Get cell data from VTK mesh to insert in ITK Mesh\n",
        "        cell_data_numpy = np.array(vtk_mesh.GetCellData().GetScalars())#.astype('float64')\n",
        "        \n",
        "        MeshType = itk.Mesh[PixelType, Dimension]\n",
        "        itk_mesh = MeshType.New()\n",
        "        \n",
        "        itk_mesh.SetPoints(itk.vector_container_from_array(points_numpy))\n",
        "        itk_mesh.SetCellsArray(itk.vector_container_from_array(polys_numpy), itk.CommonEnums.CellGeometry_TRIANGLE_CELL)\n",
        "        itk_mesh.SetPointData(itk.vector_container_from_array(point_data_numpy))\n",
        "        itk_mesh.SetCellData(itk.vector_container_from_array(cell_data_numpy))    \n",
        "        return itk_mesh\n",
        "\n",
        "    warped_image = itk.image_from_dict(warped_image)\n",
        "    distance_inner, distance_outer = mp.get_thickness_mesh(warped_image, mesh_type=mesh_type)\n",
        "    \n",
        "    polys = distance_inner.GetPolys().GetData()\n",
        "    polys_numpy = np.array(polys).flatten()\n",
        "\n",
        "    distance_inner_itk = get_itk_mesh(distance_inner)\n",
        "    distance_inner_itk_dict = itk.dict_from_mesh(distance_inner_itk)\n",
        "\n",
        "    return distance_inner_itk_dict"
      ]
    },
    {
      "cell_type": "code",
      "source": [
        "# For checking if vtk import works properly\n",
        "\n",
        "@delayed\n",
        "def check_vtk():\n",
        "  import vtk\n",
        "  return vtk.__version__\n",
        "\n",
        "@delayed\n",
        "def check_skimage():\n",
        "  import skimage\n",
        "  return skimage.__version__\n",
        "\n",
        "t1 = check_skimage()\n",
        "output_result = compute(t1)\n",
        "print(output_result)"
      ],
      "metadata": {
        "colab": {
          "base_uri": "https://localhost:8080/"
        },
        "id": "t6irlumR7ctq",
        "outputId": "9ad16c8a-a014-4da0-d5b4-674fde5d71c2"
      },
      "execution_count": 6,
      "outputs": [
        {
          "output_type": "stream",
          "name": "stdout",
          "text": [
            "('0.18.3',)\n"
          ]
        }
      ]
    },
    {
      "cell_type": "code",
      "execution_count": 5,
      "metadata": {
        "id": "snuntUuOBLqV"
      },
      "outputs": [],
      "source": [
        "# Main execution block\n",
        "\n",
        "phi_AB, image_A, image_B = register_images_delayed()\n",
        "deformed_fc = deform_probmap_delayed(phi_AB, image_A, image_B, 'FC')\n",
        "deformed_tc = deform_probmap_delayed(phi_AB, image_A, image_B, 'TC')\n",
        "\n",
        "thickness_fc = get_thickness(deformed_fc, 'FC')\n",
        "thickness_tc = get_thickness(deformed_tc, 'TC')\n",
        "\n",
        "result = [thickness_fc, thickness_tc]\n",
        "output_result = compute(*result)"
      ]
    },
    {
      "cell_type": "code",
      "source": [
        "# Write the meshes as vtk files\n",
        "\n",
        "m1 = itk.mesh_from_dict(output_result[0])\n",
        "m2 = itk.mesh_from_dict(output_result[1])\n",
        "\n",
        "itk.meshwrite(m1, 'm1.vtk')\n",
        "itk.meshwrite(m2, 'm2.vtk')"
      ],
      "metadata": {
        "id": "Qszhkwfrx2ar"
      },
      "execution_count": 8,
      "outputs": []
    },
    {
      "cell_type": "code",
      "source": [
        "# Read the meshes for viewing\n",
        "\n",
        "v1 = vtk.vtkPolyDataReader()\n",
        "v1.SetFileName('m1.vtk')\n",
        "v1.Update()\n",
        "m1 = v1.GetOutput()\n",
        "\n",
        "v2 = vtk.vtkPolyDataReader()\n",
        "v2.SetFileName('m2.vtk')\n",
        "v2.Update()\n",
        "m2 = v2.GetOutput()"
      ],
      "metadata": {
        "id": "_c_VmhNIyCPT"
      },
      "execution_count": 9,
      "outputs": []
    },
    {
      "cell_type": "code",
      "source": [
        "#Visualize the meshes\n",
        "\n",
        "from google.colab import output\n",
        "output.enable_custom_widget_manager()\n",
        "\n",
        "itkwidgets.view(geometries=[m1])"
      ],
      "metadata": {
        "id": "ICt28TFryR9s",
        "outputId": "1c75c2c3-120e-4b3c-ebb5-cde0351e0972",
        "colab": {
          "base_uri": "https://localhost:8080/",
          "height": 717,
          "referenced_widgets": [
            "00a6b63103ea40cb97280c5226da49ec",
            "856173aca43d43d5a2affc843effc3bc"
          ]
        }
      },
      "execution_count": 12,
      "outputs": [
        {
          "output_type": "display_data",
          "data": {
            "text/plain": [
              "Viewer(geometries=[{'vtkClass': 'vtkPolyData', 'points': {'vtkClass': 'vtkPoints', 'name': '_points', 'numberO…"
            ],
            "application/vnd.jupyter.widget-view+json": {
              "version_major": 2,
              "version_minor": 0,
              "model_id": "00a6b63103ea40cb97280c5226da49ec"
            }
          },
          "metadata": {
            "application/vnd.jupyter.widget-view+json": {
              "colab": {
                "custom_widget_manager": {
                  "url": "https://ssl.gstatic.com/colaboratory-static/widgets/colab-cdn-widget-manager/a8874ba6619b6106/manager.min.js"
                }
              }
            }
          }
        }
      ]
    },
    {
      "cell_type": "code",
      "source": [
        "from google.colab import output\n",
        "output.enable_custom_widget_manager()\n",
        "\n",
        "itkwidgets.view(geometries=[m2])"
      ],
      "metadata": {
        "id": "-rDaCgo5yfKX",
        "outputId": "550d97b9-bdb1-4644-d346-665980715f51",
        "colab": {
          "base_uri": "https://localhost:8080/",
          "height": 717,
          "referenced_widgets": [
            "68419b31071c4543ae473cac3ff112dc",
            "c16d972c836548378f41ba6d7d2b3508"
          ]
        }
      },
      "execution_count": 13,
      "outputs": [
        {
          "output_type": "display_data",
          "data": {
            "text/plain": [
              "Viewer(geometries=[{'vtkClass': 'vtkPolyData', 'points': {'vtkClass': 'vtkPoints', 'name': '_points', 'numberO…"
            ],
            "application/vnd.jupyter.widget-view+json": {
              "version_major": 2,
              "version_minor": 0,
              "model_id": "68419b31071c4543ae473cac3ff112dc"
            }
          },
          "metadata": {
            "application/vnd.jupyter.widget-view+json": {
              "colab": {
                "custom_widget_manager": {
                  "url": "https://ssl.gstatic.com/colaboratory-static/widgets/colab-cdn-widget-manager/a8874ba6619b6106/manager.min.js"
                }
              }
            }
          }
        }
      ]
    },
    {
      "cell_type": "code",
      "source": [
        "print(output_result[0])"
      ],
      "metadata": {
        "id": "-wJxNT5dxxlD",
        "outputId": "3df47029-1018-4e66-a863-a7f60ce5cd7a",
        "colab": {
          "base_uri": "https://localhost:8080/"
        }
      },
      "execution_count": 6,
      "outputs": [
        {
          "output_type": "stream",
          "name": "stdout",
          "text": [
            "{'meshType': {'dimension': 3, 'pointComponentType': 'float32', 'pointPixelComponentType': 'float64', 'pointPixelType': 'Scalar', 'pointPixelComponents': 1, 'cellComponentType': 'uint64', 'cellPixelComponentType': 'float64', 'cellPixelType': 'Scalar', 'cellPixelComponents': 1}, 'name': '', 'dimension': 3, 'numberOfPoints': 53817, 'points': array([ 37.8637  ,  60.23388 ,  25.446142, ..., 108.68055 ,  70.23877 ,\n",
            "        79.72421 ], dtype=float32), 'numberOfPointPixels': 53817, 'pointData': array([1.74878212, 1.67078605, 1.66551152, ..., 2.36368776, 2.29536417,\n",
            "       2.36456746]), 'numberOfCells': 105424, 'cells': array([    2,     3,     0, ..., 53665, 53816, 53677], dtype=uint64), 'numberOfCellPixels': 105424, 'cellData': array([6.93819017e-310, 6.93819029e-310, 0.00000000e+000, ...,\n",
            "       2.28569055e+000, 2.34110133e+000, 2.35534012e+000]), 'cellBufferSize': 527120}\n"
          ]
        }
      ]
    },
    {
      "cell_type": "code",
      "source": [
        "print(output_result[1])"
      ],
      "metadata": {
        "id": "KBfSihz5xz9_",
        "outputId": "9cc401b0-a8f6-4f39-e094-0352addd0970",
        "colab": {
          "base_uri": "https://localhost:8080/"
        }
      },
      "execution_count": 7,
      "outputs": [
        {
          "output_type": "stream",
          "name": "stdout",
          "text": [
            "{'meshType': {'dimension': 3, 'pointComponentType': 'float32', 'pointPixelComponentType': 'float64', 'pointPixelType': 'Scalar', 'pointPixelComponents': 1, 'cellComponentType': 'uint64', 'cellPixelComponentType': 'float64', 'cellPixelType': 'Scalar', 'cellPixelComponents': 1}, 'name': '', 'dimension': 3, 'numberOfPoints': 16587, 'points': array([ 55.538155,  91.491844,  64.33265 , ..., 104.95681 ,  93.99789 ,\n",
            "        34.300396], dtype=float32), 'numberOfPointPixels': 16587, 'pointData': array([0.16583272, 0.        , 0.        , ..., 0.        , 0.10137601,\n",
            "       0.        ]), 'numberOfCells': 32224, 'cells': array([    2,     3,     0, ..., 16584, 16586, 16585], dtype=uint64), 'numberOfCellPixels': 32224, 'cellData': array([6.93830579e-310, 6.93797936e-310, 0.00000000e+000, ...,\n",
            "       9.22310260e-002, 3.37920043e-002, 3.44735188e-002]), 'cellBufferSize': 161120}\n"
          ]
        }
      ]
    },
    {
      "cell_type": "code",
      "source": [
        "print(output_result[0])"
      ],
      "metadata": {
        "colab": {
          "base_uri": "https://localhost:8080/"
        },
        "id": "Y3u-2PdJxkEy",
        "outputId": "c77aee5a-59e8-406f-d68c-97c2213b4923"
      },
      "execution_count": 12,
      "outputs": [
        {
          "output_type": "stream",
          "name": "stdout",
          "text": [
            "{'meshType': {'dimension': 3, 'pointComponentType': 'float32', 'pointPixelComponentType': 'float64', 'pointPixelType': 'Scalar', 'pointPixelComponents': 1, 'cellComponentType': 'uint64', 'cellPixelComponentType': 'float64', 'cellPixelType': 'Scalar', 'cellPixelComponents': 1}, 'name': '', 'dimension': 3, 'numberOfPoints': 53817, 'points': array([ 37.8637  ,  60.23388 ,  25.446142, ..., 108.68055 ,  70.23877 ,\n",
            "        79.72421 ], dtype=float32), 'numberOfPointPixels': 53817, 'pointData': array([1.74878212, 1.67078605, 1.66551152, ..., 2.36368776, 2.29536417,\n",
            "       2.36456746]), 'numberOfCells': 105423, 'cells': array([140430899505328, 140430870483440,               0, ...,\n",
            "                 53665,           53816,           53677], dtype=uint64), 'numberOfCellPixels': 105423, 'cellData': array([1.6981816 , 1.7401333 , 1.70809747, ..., 2.28569055, 2.34110133,\n",
            "       2.35534012]), 'cellBufferSize': 527115}\n"
          ]
        }
      ]
    },
    {
      "cell_type": "code",
      "source": [
        "print(output_result[1])"
      ],
      "metadata": {
        "colab": {
          "base_uri": "https://localhost:8080/"
        },
        "id": "E4BqPb-7xgqM",
        "outputId": "35172812-0ce7-44fe-d6ea-e30cc1ba4d61"
      },
      "execution_count": 13,
      "outputs": [
        {
          "output_type": "stream",
          "name": "stdout",
          "text": [
            "{'meshType': {'dimension': 3, 'pointComponentType': 'float32', 'pointPixelComponentType': 'float64', 'pointPixelType': 'Scalar', 'pointPixelComponents': 1, 'cellComponentType': 'uint64', 'cellPixelComponentType': 'float64', 'cellPixelType': 'Scalar', 'cellPixelComponents': 1}, 'name': '', 'dimension': 3, 'numberOfPoints': 16587, 'points': array([ 55.538155,  91.491844,  64.33265 , ..., 104.95681 ,  93.99789 ,\n",
            "        34.300396], dtype=float32), 'numberOfPointPixels': 16587, 'pointData': array([0.16583272, 0.        , 0.        , ..., 0.        , 0.10137601,\n",
            "       0.        ]), 'numberOfCells': 32224, 'cells': array([    2,     3,     0, ..., 16584, 16586, 16585], dtype=uint64), 'numberOfCellPixels': 32224, 'cellData': array([6.93800665e-310, 6.93800578e-310, 0.00000000e+000, ...,\n",
            "       9.22310260e-002, 3.37920043e-002, 3.44735188e-002]), 'cellBufferSize': 161120}\n"
          ]
        }
      ]
    },
    {
      "cell_type": "code",
      "source": [
        "# 140396274906288, 140396248231168"
      ],
      "metadata": {
        "id": "GADioqT9sZqR"
      },
      "execution_count": null,
      "outputs": []
    },
    {
      "cell_type": "code",
      "source": [
        "cells_array = output_result[0]#['cells']\n",
        "print(cells_array.shape[0])\n",
        "cells_array = np.reshape(cells_array, [32224, 5])\n",
        "print(cells_array.shape)"
      ],
      "metadata": {
        "colab": {
          "base_uri": "https://localhost:8080/"
        },
        "id": "Cdp5sOO5lQi-",
        "outputId": "7af3c201-59d9-4645-c907-be905065406a"
      },
      "execution_count": null,
      "outputs": [
        {
          "output_type": "stream",
          "name": "stdout",
          "text": [
            "161120\n",
            "(32224, 5)\n"
          ]
        }
      ]
    },
    {
      "cell_type": "code",
      "source": [
        "np.save('c1.npy', cells_array)"
      ],
      "metadata": {
        "id": "t8LDdsaPq7LZ"
      },
      "execution_count": null,
      "outputs": []
    },
    {
      "cell_type": "code",
      "source": [
        "for k in range(10):\n",
        "  print(cells_array[k])"
      ],
      "metadata": {
        "colab": {
          "base_uri": "https://localhost:8080/"
        },
        "id": "ZTsi-8Ixlz_9",
        "outputId": "0918981e-758b-4836-b15c-40f025e4f954"
      },
      "execution_count": null,
      "outputs": [
        {
          "output_type": "stream",
          "name": "stdout",
          "text": [
            "[140396274906288 140396248231168               0               0\n",
            "               2]\n",
            "[2 3 2 3 0]\n",
            "[2 3 4 3 2]\n",
            "[2 3 5 3 4]\n",
            "[2 3 6 5 4]\n",
            "[2 3 7 5 6]\n",
            "[2 3 8 7 6]\n",
            "[ 2  3  9 10 11]\n",
            "[ 2  3 11 12  9]\n",
            "[ 2  3 12 13 14]\n"
          ]
        }
      ]
    },
    {
      "cell_type": "markdown",
      "metadata": {
        "id": "4MlwDE5nXo4C"
      },
      "source": [
        "![DaskProgress](https://user-images.githubusercontent.com/1044135/163692457-40a41395-3d83-4928-9445-528cd025a7b9.png)\n"
      ]
    }
  ],
  "metadata": {
    "accelerator": "GPU",
    "colab": {
      "collapsed_sections": [],
      "name": "DaskComputationCoiled.ipynb",
      "provenance": [],
      "include_colab_link": true
    },
    "kernelspec": {
      "display_name": "Python 3",
      "name": "python3"
    },
    "language_info": {
      "name": "python"
    },
    "widgets": {
      "application/vnd.jupyter.widget-state+json": {
        "e51eeb0ecde64ab0b9b327340a3f982a": {
          "model_module": "@jupyter-widgets/output",
          "model_name": "OutputModel",
          "model_module_version": "1.0.0",
          "state": {
            "_dom_classes": [],
            "_model_module": "@jupyter-widgets/output",
            "_model_module_version": "1.0.0",
            "_model_name": "OutputModel",
            "_view_count": null,
            "_view_module": "@jupyter-widgets/output",
            "_view_module_version": "1.0.0",
            "_view_name": "OutputView",
            "layout": "IPY_MODEL_ab21a5371c984caebfccb1b828a3af9b",
            "msg_id": "",
            "outputs": [
              {
                "output_type": "display_data",
                "data": {
                  "text/plain": "\u001b[32m⠏\u001b[0m \u001b[1;32mCreating Cluster. This might take a few minutes...\u001b[0m\n",
                  "text/html": "<pre style=\"white-space:pre;overflow-x:auto;line-height:normal;font-family:Menlo,'DejaVu Sans Mono',consolas,'Courier New',monospace\"><span style=\"color: #008000; text-decoration-color: #008000\">⠏</span> <span style=\"color: #008000; text-decoration-color: #008000; font-weight: bold\">Creating Cluster. This might take a few minutes...</span>\n</pre>\n"
                },
                "metadata": {}
              }
            ]
          }
        },
        "ab21a5371c984caebfccb1b828a3af9b": {
          "model_module": "@jupyter-widgets/base",
          "model_name": "LayoutModel",
          "model_module_version": "1.2.0",
          "state": {
            "_model_module": "@jupyter-widgets/base",
            "_model_module_version": "1.2.0",
            "_model_name": "LayoutModel",
            "_view_count": null,
            "_view_module": "@jupyter-widgets/base",
            "_view_module_version": "1.2.0",
            "_view_name": "LayoutView",
            "align_content": null,
            "align_items": null,
            "align_self": null,
            "border": null,
            "bottom": null,
            "display": null,
            "flex": null,
            "flex_flow": null,
            "grid_area": null,
            "grid_auto_columns": null,
            "grid_auto_flow": null,
            "grid_auto_rows": null,
            "grid_column": null,
            "grid_gap": null,
            "grid_row": null,
            "grid_template_areas": null,
            "grid_template_columns": null,
            "grid_template_rows": null,
            "height": null,
            "justify_content": null,
            "justify_items": null,
            "left": null,
            "margin": null,
            "max_height": null,
            "max_width": null,
            "min_height": null,
            "min_width": null,
            "object_fit": null,
            "object_position": null,
            "order": null,
            "overflow": null,
            "overflow_x": null,
            "overflow_y": null,
            "padding": null,
            "right": null,
            "top": null,
            "visibility": null,
            "width": null
          }
        },
        "c2c60df1b0a54d528377fa787a374f9e": {
          "model_module": "@jupyter-widgets/controls",
          "model_name": "TabModel",
          "model_module_version": "1.5.0",
          "state": {
            "_dom_classes": [],
            "_model_module": "@jupyter-widgets/controls",
            "_model_module_version": "1.5.0",
            "_model_name": "TabModel",
            "_titles": {
              "0": "Status",
              "1": "Scaling"
            },
            "_view_count": null,
            "_view_module": "@jupyter-widgets/controls",
            "_view_module_version": "1.5.0",
            "_view_name": "TabView",
            "box_style": "",
            "children": [
              "IPY_MODEL_de62a8dd630741099da2898b0314244b",
              "IPY_MODEL_b213eb6e0c8a47259961527287cddc75"
            ],
            "layout": "IPY_MODEL_b90ac6b7fe974386aced293e295f81b9",
            "selected_index": 0
          }
        },
        "de62a8dd630741099da2898b0314244b": {
          "model_module": "@jupyter-widgets/controls",
          "model_name": "HTMLModel",
          "model_module_version": "1.5.0",
          "state": {
            "_dom_classes": [],
            "_model_module": "@jupyter-widgets/controls",
            "_model_module_version": "1.5.0",
            "_model_name": "HTMLModel",
            "_view_count": null,
            "_view_module": "@jupyter-widgets/controls",
            "_view_module_version": "1.5.0",
            "_view_name": "HTMLView",
            "description": "",
            "description_tooltip": null,
            "layout": "IPY_MODEL_b370bd9693f8429daa70ace329ae3b1a",
            "placeholder": "​",
            "style": "IPY_MODEL_a76015bac6314a318e8faa28a5355d14",
            "value": "<div class=\"jp-RenderedHTMLCommon jp-RenderedHTML jp-mod-trusted jp-OutputArea-output\">\n    <div style=\"width: 24px; height: 24px; background-color: #e1e1e1; border: 3px solid #9D9D9D; border-radius: 5px; position: absolute;\">\n    </div>\n    <div style=\"margin-left: 48px;\">\n        <h3 style=\"margin-bottom: 0px; margin-top: 0px;\">Cluster</h3>\n        <p style=\"color: #9D9D9D; margin-bottom: 0px;\">oai-processing</p>\n        <table style=\"width: 100%; text-align: left;\">\n            <tr>\n                <td style=\"text-align: left;\">\n                    <strong>Dashboard:</strong> <a href=\"http://18.205.18.178:8787\" target=\"_blank\">http://18.205.18.178:8787</a>\n                </td>\n                <td style=\"text-align: left;\">\n                    <strong>Workers:</strong> 2\n                </td>\n            </tr>\n            <tr>\n                <td style=\"text-align: left;\">\n                    <strong>Total threads:</strong> 16\n                </td>\n                <td style=\"text-align: left;\">\n                    <strong>Total memory:</strong> 61.48 GiB\n                </td>\n            </tr>\n            \n        </table>\n\n        <details>\n            <summary style=\"margin-bottom: 20px;\">\n                <h3 style=\"display: inline;\">Scheduler Info</h3>\n            </summary>\n\n            <div style=\"\">\n    <div>\n        <div style=\"width: 24px; height: 24px; background-color: #FFF7E5; border: 3px solid #FF6132; border-radius: 5px; position: absolute;\"> </div>\n        <div style=\"margin-left: 48px;\">\n            <h3 style=\"margin-bottom: 0px;\">Scheduler</h3>\n            <p style=\"color: #9D9D9D; margin-bottom: 0px;\">Scheduler-e487a7f6-c915-42e1-adcf-bd1005f31bea</p>\n            <table style=\"width: 100%; text-align: left;\">\n                <tr>\n                    <td style=\"text-align: left;\">\n                        <strong>Comm:</strong> tls://10.0.4.29:8786\n                    </td>\n                    <td style=\"text-align: left;\">\n                        <strong>Workers:</strong> 2\n                    </td>\n                </tr>\n                <tr>\n                    <td style=\"text-align: left;\">\n                        <strong>Dashboard:</strong> <a href=\"http://10.0.4.29:8787/status\" target=\"_blank\">http://10.0.4.29:8787/status</a>\n                    </td>\n                    <td style=\"text-align: left;\">\n                        <strong>Total threads:</strong> 16\n                    </td>\n                </tr>\n                <tr>\n                    <td style=\"text-align: left;\">\n                        <strong>Started:</strong> 24 minutes ago\n                    </td>\n                    <td style=\"text-align: left;\">\n                        <strong>Total memory:</strong> 61.48 GiB\n                    </td>\n                </tr>\n            </table>\n        </div>\n    </div>\n\n    <details style=\"margin-left: 48px;\">\n        <summary style=\"margin-bottom: 20px;\">\n            <h3 style=\"display: inline;\">Workers</h3>\n        </summary>\n\n        \n        <div style=\"margin-bottom: 20px;\">\n            <div style=\"width: 24px; height: 24px; background-color: #DBF5FF; border: 3px solid #4CC9FF; border-radius: 5px; position: absolute;\"> </div>\n            <div style=\"margin-left: 48px;\">\n            <details>\n                <summary>\n                    <h4 style=\"margin-bottom: 0px; display: inline;\">Worker: coiled-dask-pranjal09-152302-worker-a3956c8179</h4>\n                </summary>\n                <table style=\"width: 100%; text-align: left;\">\n                    <tr>\n                        <td style=\"text-align: left;\">\n                            <strong>Comm: </strong> tls://10.0.0.88:39359\n                        </td>\n                        <td style=\"text-align: left;\">\n                            <strong>Total threads: </strong> 8\n                        </td>\n                    </tr>\n                    <tr>\n                        <td style=\"text-align: left;\">\n                            <strong>Dashboard: </strong> <a href=\"http://10.0.0.88:37491/status\" target=\"_blank\">http://10.0.0.88:37491/status</a>\n                        </td>\n                        <td style=\"text-align: left;\">\n                            <strong>Memory: </strong> 30.74 GiB\n                        </td>\n                    </tr>\n                    <tr>\n                        <td style=\"text-align: left;\">\n                            <strong>Nanny: </strong> tls://10.0.0.88:41397\n                        </td>\n                        <td style=\"text-align: left;\"></td>\n                    </tr>\n                    <tr>\n                        <td colspan=\"2\" style=\"text-align: left;\">\n                            <strong>Local directory: </strong> /dask-worker-space/worker-_w16ueny\n                        </td>\n                    </tr>\n\n                    \n\n                    \n\n                </table>\n            </details>\n            </div>\n        </div>\n        \n        <div style=\"margin-bottom: 20px;\">\n            <div style=\"width: 24px; height: 24px; background-color: #DBF5FF; border: 3px solid #4CC9FF; border-radius: 5px; position: absolute;\"> </div>\n            <div style=\"margin-left: 48px;\">\n            <details>\n                <summary>\n                    <h4 style=\"margin-bottom: 0px; display: inline;\">Worker: coiled-dask-pranjal09-152302-worker-de633c3037</h4>\n                </summary>\n                <table style=\"width: 100%; text-align: left;\">\n                    <tr>\n                        <td style=\"text-align: left;\">\n                            <strong>Comm: </strong> tls://10.0.7.134:36527\n                        </td>\n                        <td style=\"text-align: left;\">\n                            <strong>Total threads: </strong> 8\n                        </td>\n                    </tr>\n                    <tr>\n                        <td style=\"text-align: left;\">\n                            <strong>Dashboard: </strong> <a href=\"http://10.0.7.134:37743/status\" target=\"_blank\">http://10.0.7.134:37743/status</a>\n                        </td>\n                        <td style=\"text-align: left;\">\n                            <strong>Memory: </strong> 30.74 GiB\n                        </td>\n                    </tr>\n                    <tr>\n                        <td style=\"text-align: left;\">\n                            <strong>Nanny: </strong> tls://10.0.7.134:32953\n                        </td>\n                        <td style=\"text-align: left;\"></td>\n                    </tr>\n                    <tr>\n                        <td colspan=\"2\" style=\"text-align: left;\">\n                            <strong>Local directory: </strong> /dask-worker-space/worker-z6lekaih\n                        </td>\n                    </tr>\n\n                    \n\n                    \n\n                </table>\n            </details>\n            </div>\n        </div>\n        \n\n    </details>\n</div>\n\n        </details>\n    </div>\n</div>"
          }
        },
        "b213eb6e0c8a47259961527287cddc75": {
          "model_module": "@jupyter-widgets/controls",
          "model_name": "VBoxModel",
          "model_module_version": "1.5.0",
          "state": {
            "_dom_classes": [],
            "_model_module": "@jupyter-widgets/controls",
            "_model_module_version": "1.5.0",
            "_model_name": "VBoxModel",
            "_view_count": null,
            "_view_module": "@jupyter-widgets/controls",
            "_view_module_version": "1.5.0",
            "_view_name": "VBoxView",
            "box_style": "",
            "children": [
              "IPY_MODEL_c996fac1f3b44c12b8ce1b5a53a1d057",
              "IPY_MODEL_f6f6d8dc221342c2a5fc46bc3dbab294"
            ],
            "layout": "IPY_MODEL_c19e793169274cfc91e36e55d596d3de"
          }
        },
        "b90ac6b7fe974386aced293e295f81b9": {
          "model_module": "@jupyter-widgets/base",
          "model_name": "LayoutModel",
          "model_module_version": "1.2.0",
          "state": {
            "_model_module": "@jupyter-widgets/base",
            "_model_module_version": "1.2.0",
            "_model_name": "LayoutModel",
            "_view_count": null,
            "_view_module": "@jupyter-widgets/base",
            "_view_module_version": "1.2.0",
            "_view_name": "LayoutView",
            "align_content": null,
            "align_items": null,
            "align_self": null,
            "border": null,
            "bottom": null,
            "display": null,
            "flex": null,
            "flex_flow": null,
            "grid_area": null,
            "grid_auto_columns": null,
            "grid_auto_flow": null,
            "grid_auto_rows": null,
            "grid_column": null,
            "grid_gap": null,
            "grid_row": null,
            "grid_template_areas": null,
            "grid_template_columns": null,
            "grid_template_rows": null,
            "height": null,
            "justify_content": null,
            "justify_items": null,
            "left": null,
            "margin": null,
            "max_height": null,
            "max_width": null,
            "min_height": null,
            "min_width": null,
            "object_fit": null,
            "object_position": null,
            "order": null,
            "overflow": null,
            "overflow_x": null,
            "overflow_y": null,
            "padding": null,
            "right": null,
            "top": null,
            "visibility": null,
            "width": null
          }
        },
        "b370bd9693f8429daa70ace329ae3b1a": {
          "model_module": "@jupyter-widgets/base",
          "model_name": "LayoutModel",
          "model_module_version": "1.2.0",
          "state": {
            "_model_module": "@jupyter-widgets/base",
            "_model_module_version": "1.2.0",
            "_model_name": "LayoutModel",
            "_view_count": null,
            "_view_module": "@jupyter-widgets/base",
            "_view_module_version": "1.2.0",
            "_view_name": "LayoutView",
            "align_content": null,
            "align_items": null,
            "align_self": null,
            "border": null,
            "bottom": null,
            "display": null,
            "flex": null,
            "flex_flow": null,
            "grid_area": null,
            "grid_auto_columns": null,
            "grid_auto_flow": null,
            "grid_auto_rows": null,
            "grid_column": null,
            "grid_gap": null,
            "grid_row": null,
            "grid_template_areas": null,
            "grid_template_columns": null,
            "grid_template_rows": null,
            "height": null,
            "justify_content": null,
            "justify_items": null,
            "left": null,
            "margin": null,
            "max_height": null,
            "max_width": null,
            "min_height": null,
            "min_width": null,
            "object_fit": null,
            "object_position": null,
            "order": null,
            "overflow": null,
            "overflow_x": null,
            "overflow_y": null,
            "padding": null,
            "right": null,
            "top": null,
            "visibility": null,
            "width": null
          }
        },
        "a76015bac6314a318e8faa28a5355d14": {
          "model_module": "@jupyter-widgets/controls",
          "model_name": "DescriptionStyleModel",
          "model_module_version": "1.5.0",
          "state": {
            "_model_module": "@jupyter-widgets/controls",
            "_model_module_version": "1.5.0",
            "_model_name": "DescriptionStyleModel",
            "_view_count": null,
            "_view_module": "@jupyter-widgets/base",
            "_view_module_version": "1.2.0",
            "_view_name": "StyleView",
            "description_width": ""
          }
        },
        "c996fac1f3b44c12b8ce1b5a53a1d057": {
          "model_module": "@jupyter-widgets/controls",
          "model_name": "HTMLModel",
          "model_module_version": "1.5.0",
          "state": {
            "_dom_classes": [],
            "_model_module": "@jupyter-widgets/controls",
            "_model_module_version": "1.5.0",
            "_model_name": "HTMLModel",
            "_view_count": null,
            "_view_module": "@jupyter-widgets/controls",
            "_view_module_version": "1.5.0",
            "_view_name": "HTMLView",
            "description": "",
            "description_tooltip": null,
            "layout": "IPY_MODEL_cd2ee5639c3a460cb170f841fe339472",
            "placeholder": "​",
            "style": "IPY_MODEL_e543bc722b7848d98c4c59f39112ec39",
            "value": "\n        <table>\n            <tr><td style=\"text-align: left;\">Scaling mode: Manual</td></tr>\n            <tr><td style=\"text-align: left;\">Workers: 2</td></tr>\n        </table>\n        "
          }
        },
        "f6f6d8dc221342c2a5fc46bc3dbab294": {
          "model_module": "@jupyter-widgets/controls",
          "model_name": "AccordionModel",
          "model_module_version": "1.5.0",
          "state": {
            "_dom_classes": [],
            "_model_module": "@jupyter-widgets/controls",
            "_model_module_version": "1.5.0",
            "_model_name": "AccordionModel",
            "_titles": {
              "0": "Manual Scaling",
              "1": "Adaptive Scaling"
            },
            "_view_count": null,
            "_view_module": "@jupyter-widgets/controls",
            "_view_module_version": "1.5.0",
            "_view_name": "AccordionView",
            "box_style": "",
            "children": [
              "IPY_MODEL_8e47b6ec63b04dcbaac4183d317afba0",
              "IPY_MODEL_7c332cedd57e42b385663b577e26cfe1"
            ],
            "layout": "IPY_MODEL_49263dc00e384fe8ba729813dcaf41d9",
            "selected_index": null
          }
        },
        "c19e793169274cfc91e36e55d596d3de": {
          "model_module": "@jupyter-widgets/base",
          "model_name": "LayoutModel",
          "model_module_version": "1.2.0",
          "state": {
            "_model_module": "@jupyter-widgets/base",
            "_model_module_version": "1.2.0",
            "_model_name": "LayoutModel",
            "_view_count": null,
            "_view_module": "@jupyter-widgets/base",
            "_view_module_version": "1.2.0",
            "_view_name": "LayoutView",
            "align_content": null,
            "align_items": null,
            "align_self": null,
            "border": null,
            "bottom": null,
            "display": null,
            "flex": null,
            "flex_flow": null,
            "grid_area": null,
            "grid_auto_columns": null,
            "grid_auto_flow": null,
            "grid_auto_rows": null,
            "grid_column": null,
            "grid_gap": null,
            "grid_row": null,
            "grid_template_areas": null,
            "grid_template_columns": null,
            "grid_template_rows": null,
            "height": null,
            "justify_content": null,
            "justify_items": null,
            "left": null,
            "margin": null,
            "max_height": null,
            "max_width": null,
            "min_height": null,
            "min_width": null,
            "object_fit": null,
            "object_position": null,
            "order": null,
            "overflow": null,
            "overflow_x": null,
            "overflow_y": null,
            "padding": null,
            "right": null,
            "top": null,
            "visibility": null,
            "width": null
          }
        },
        "cd2ee5639c3a460cb170f841fe339472": {
          "model_module": "@jupyter-widgets/base",
          "model_name": "LayoutModel",
          "model_module_version": "1.2.0",
          "state": {
            "_model_module": "@jupyter-widgets/base",
            "_model_module_version": "1.2.0",
            "_model_name": "LayoutModel",
            "_view_count": null,
            "_view_module": "@jupyter-widgets/base",
            "_view_module_version": "1.2.0",
            "_view_name": "LayoutView",
            "align_content": null,
            "align_items": null,
            "align_self": null,
            "border": null,
            "bottom": null,
            "display": null,
            "flex": null,
            "flex_flow": null,
            "grid_area": null,
            "grid_auto_columns": null,
            "grid_auto_flow": null,
            "grid_auto_rows": null,
            "grid_column": null,
            "grid_gap": null,
            "grid_row": null,
            "grid_template_areas": null,
            "grid_template_columns": null,
            "grid_template_rows": null,
            "height": null,
            "justify_content": null,
            "justify_items": null,
            "left": null,
            "margin": null,
            "max_height": null,
            "max_width": null,
            "min_height": null,
            "min_width": null,
            "object_fit": null,
            "object_position": null,
            "order": null,
            "overflow": null,
            "overflow_x": null,
            "overflow_y": null,
            "padding": null,
            "right": null,
            "top": null,
            "visibility": null,
            "width": null
          }
        },
        "e543bc722b7848d98c4c59f39112ec39": {
          "model_module": "@jupyter-widgets/controls",
          "model_name": "DescriptionStyleModel",
          "model_module_version": "1.5.0",
          "state": {
            "_model_module": "@jupyter-widgets/controls",
            "_model_module_version": "1.5.0",
            "_model_name": "DescriptionStyleModel",
            "_view_count": null,
            "_view_module": "@jupyter-widgets/base",
            "_view_module_version": "1.2.0",
            "_view_name": "StyleView",
            "description_width": ""
          }
        },
        "8e47b6ec63b04dcbaac4183d317afba0": {
          "model_module": "@jupyter-widgets/controls",
          "model_name": "HBoxModel",
          "model_module_version": "1.5.0",
          "state": {
            "_dom_classes": [],
            "_model_module": "@jupyter-widgets/controls",
            "_model_module_version": "1.5.0",
            "_model_name": "HBoxModel",
            "_view_count": null,
            "_view_module": "@jupyter-widgets/controls",
            "_view_module_version": "1.5.0",
            "_view_name": "HBoxView",
            "box_style": "",
            "children": [
              "IPY_MODEL_a5162cd741c54507944a018ad99c0597",
              "IPY_MODEL_8e8efe2eac134f9e971b30d947124b64"
            ],
            "layout": "IPY_MODEL_d69d13e984794ec384a8d8227fa1d898"
          }
        },
        "7c332cedd57e42b385663b577e26cfe1": {
          "model_module": "@jupyter-widgets/controls",
          "model_name": "HBoxModel",
          "model_module_version": "1.5.0",
          "state": {
            "_dom_classes": [],
            "_model_module": "@jupyter-widgets/controls",
            "_model_module_version": "1.5.0",
            "_model_name": "HBoxModel",
            "_view_count": null,
            "_view_module": "@jupyter-widgets/controls",
            "_view_module_version": "1.5.0",
            "_view_name": "HBoxView",
            "box_style": "",
            "children": [
              "IPY_MODEL_ab22328078df4cbe86cd3be645fb851d",
              "IPY_MODEL_0aabda11e5734772ac133522fe84f057",
              "IPY_MODEL_3ddb125734c54442b7b150b248e49d49"
            ],
            "layout": "IPY_MODEL_c7a470d3113a494fa2dede5c9e01d7b3"
          }
        },
        "49263dc00e384fe8ba729813dcaf41d9": {
          "model_module": "@jupyter-widgets/base",
          "model_name": "LayoutModel",
          "model_module_version": "1.2.0",
          "state": {
            "_model_module": "@jupyter-widgets/base",
            "_model_module_version": "1.2.0",
            "_model_name": "LayoutModel",
            "_view_count": null,
            "_view_module": "@jupyter-widgets/base",
            "_view_module_version": "1.2.0",
            "_view_name": "LayoutView",
            "align_content": null,
            "align_items": null,
            "align_self": null,
            "border": null,
            "bottom": null,
            "display": null,
            "flex": null,
            "flex_flow": null,
            "grid_area": null,
            "grid_auto_columns": null,
            "grid_auto_flow": null,
            "grid_auto_rows": null,
            "grid_column": null,
            "grid_gap": null,
            "grid_row": null,
            "grid_template_areas": null,
            "grid_template_columns": null,
            "grid_template_rows": null,
            "height": null,
            "justify_content": null,
            "justify_items": null,
            "left": null,
            "margin": null,
            "max_height": null,
            "max_width": null,
            "min_height": null,
            "min_width": "500px",
            "object_fit": null,
            "object_position": null,
            "order": null,
            "overflow": null,
            "overflow_x": null,
            "overflow_y": null,
            "padding": null,
            "right": null,
            "top": null,
            "visibility": null,
            "width": null
          }
        },
        "a5162cd741c54507944a018ad99c0597": {
          "model_module": "@jupyter-widgets/controls",
          "model_name": "IntTextModel",
          "model_module_version": "1.5.0",
          "state": {
            "_dom_classes": [],
            "_model_module": "@jupyter-widgets/controls",
            "_model_module_version": "1.5.0",
            "_model_name": "IntTextModel",
            "_view_count": null,
            "_view_module": "@jupyter-widgets/controls",
            "_view_module_version": "1.5.0",
            "_view_name": "IntTextView",
            "continuous_update": false,
            "description": "Workers",
            "description_tooltip": null,
            "disabled": false,
            "layout": "IPY_MODEL_e8b441f7ae1243fd861e5a670e2abb4b",
            "step": 1,
            "style": "IPY_MODEL_17bd9f1569804b22ac790f766c65f80c",
            "value": 0
          }
        },
        "8e8efe2eac134f9e971b30d947124b64": {
          "model_module": "@jupyter-widgets/controls",
          "model_name": "ButtonModel",
          "model_module_version": "1.5.0",
          "state": {
            "_dom_classes": [],
            "_model_module": "@jupyter-widgets/controls",
            "_model_module_version": "1.5.0",
            "_model_name": "ButtonModel",
            "_view_count": null,
            "_view_module": "@jupyter-widgets/controls",
            "_view_module_version": "1.5.0",
            "_view_name": "ButtonView",
            "button_style": "",
            "description": "Scale",
            "disabled": false,
            "icon": "",
            "layout": "IPY_MODEL_e8b441f7ae1243fd861e5a670e2abb4b",
            "style": "IPY_MODEL_205f19f3ee7c41399989eaeaa318b685",
            "tooltip": ""
          }
        },
        "d69d13e984794ec384a8d8227fa1d898": {
          "model_module": "@jupyter-widgets/base",
          "model_name": "LayoutModel",
          "model_module_version": "1.2.0",
          "state": {
            "_model_module": "@jupyter-widgets/base",
            "_model_module_version": "1.2.0",
            "_model_name": "LayoutModel",
            "_view_count": null,
            "_view_module": "@jupyter-widgets/base",
            "_view_module_version": "1.2.0",
            "_view_name": "LayoutView",
            "align_content": null,
            "align_items": null,
            "align_self": null,
            "border": null,
            "bottom": null,
            "display": null,
            "flex": null,
            "flex_flow": null,
            "grid_area": null,
            "grid_auto_columns": null,
            "grid_auto_flow": null,
            "grid_auto_rows": null,
            "grid_column": null,
            "grid_gap": null,
            "grid_row": null,
            "grid_template_areas": null,
            "grid_template_columns": null,
            "grid_template_rows": null,
            "height": null,
            "justify_content": null,
            "justify_items": null,
            "left": null,
            "margin": null,
            "max_height": null,
            "max_width": null,
            "min_height": null,
            "min_width": null,
            "object_fit": null,
            "object_position": null,
            "order": null,
            "overflow": null,
            "overflow_x": null,
            "overflow_y": null,
            "padding": null,
            "right": null,
            "top": null,
            "visibility": null,
            "width": null
          }
        },
        "ab22328078df4cbe86cd3be645fb851d": {
          "model_module": "@jupyter-widgets/controls",
          "model_name": "IntTextModel",
          "model_module_version": "1.5.0",
          "state": {
            "_dom_classes": [],
            "_model_module": "@jupyter-widgets/controls",
            "_model_module_version": "1.5.0",
            "_model_name": "IntTextModel",
            "_view_count": null,
            "_view_module": "@jupyter-widgets/controls",
            "_view_module_version": "1.5.0",
            "_view_name": "IntTextView",
            "continuous_update": false,
            "description": "Minimum",
            "description_tooltip": null,
            "disabled": false,
            "layout": "IPY_MODEL_e8b441f7ae1243fd861e5a670e2abb4b",
            "step": 1,
            "style": "IPY_MODEL_801f4af8c1cf41808ed201bea4c57f41",
            "value": 0
          }
        },
        "0aabda11e5734772ac133522fe84f057": {
          "model_module": "@jupyter-widgets/controls",
          "model_name": "IntTextModel",
          "model_module_version": "1.5.0",
          "state": {
            "_dom_classes": [],
            "_model_module": "@jupyter-widgets/controls",
            "_model_module_version": "1.5.0",
            "_model_name": "IntTextModel",
            "_view_count": null,
            "_view_module": "@jupyter-widgets/controls",
            "_view_module_version": "1.5.0",
            "_view_name": "IntTextView",
            "continuous_update": false,
            "description": "Maximum",
            "description_tooltip": null,
            "disabled": false,
            "layout": "IPY_MODEL_e8b441f7ae1243fd861e5a670e2abb4b",
            "step": 1,
            "style": "IPY_MODEL_1620887f4b444f48a6e456a8920d414c",
            "value": 0
          }
        },
        "3ddb125734c54442b7b150b248e49d49": {
          "model_module": "@jupyter-widgets/controls",
          "model_name": "ButtonModel",
          "model_module_version": "1.5.0",
          "state": {
            "_dom_classes": [],
            "_model_module": "@jupyter-widgets/controls",
            "_model_module_version": "1.5.0",
            "_model_name": "ButtonModel",
            "_view_count": null,
            "_view_module": "@jupyter-widgets/controls",
            "_view_module_version": "1.5.0",
            "_view_name": "ButtonView",
            "button_style": "",
            "description": "Adapt",
            "disabled": false,
            "icon": "",
            "layout": "IPY_MODEL_e8b441f7ae1243fd861e5a670e2abb4b",
            "style": "IPY_MODEL_967f46d4cf734cbcb12d6a2f7773f170",
            "tooltip": ""
          }
        },
        "c7a470d3113a494fa2dede5c9e01d7b3": {
          "model_module": "@jupyter-widgets/base",
          "model_name": "LayoutModel",
          "model_module_version": "1.2.0",
          "state": {
            "_model_module": "@jupyter-widgets/base",
            "_model_module_version": "1.2.0",
            "_model_name": "LayoutModel",
            "_view_count": null,
            "_view_module": "@jupyter-widgets/base",
            "_view_module_version": "1.2.0",
            "_view_name": "LayoutView",
            "align_content": null,
            "align_items": null,
            "align_self": null,
            "border": null,
            "bottom": null,
            "display": null,
            "flex": null,
            "flex_flow": null,
            "grid_area": null,
            "grid_auto_columns": null,
            "grid_auto_flow": null,
            "grid_auto_rows": null,
            "grid_column": null,
            "grid_gap": null,
            "grid_row": null,
            "grid_template_areas": null,
            "grid_template_columns": null,
            "grid_template_rows": null,
            "height": null,
            "justify_content": null,
            "justify_items": null,
            "left": null,
            "margin": null,
            "max_height": null,
            "max_width": null,
            "min_height": null,
            "min_width": null,
            "object_fit": null,
            "object_position": null,
            "order": null,
            "overflow": null,
            "overflow_x": null,
            "overflow_y": null,
            "padding": null,
            "right": null,
            "top": null,
            "visibility": null,
            "width": null
          }
        },
        "e8b441f7ae1243fd861e5a670e2abb4b": {
          "model_module": "@jupyter-widgets/base",
          "model_name": "LayoutModel",
          "model_module_version": "1.2.0",
          "state": {
            "_model_module": "@jupyter-widgets/base",
            "_model_module_version": "1.2.0",
            "_model_name": "LayoutModel",
            "_view_count": null,
            "_view_module": "@jupyter-widgets/base",
            "_view_module_version": "1.2.0",
            "_view_name": "LayoutView",
            "align_content": null,
            "align_items": null,
            "align_self": null,
            "border": null,
            "bottom": null,
            "display": null,
            "flex": null,
            "flex_flow": null,
            "grid_area": null,
            "grid_auto_columns": null,
            "grid_auto_flow": null,
            "grid_auto_rows": null,
            "grid_column": null,
            "grid_gap": null,
            "grid_row": null,
            "grid_template_areas": null,
            "grid_template_columns": null,
            "grid_template_rows": null,
            "height": null,
            "justify_content": null,
            "justify_items": null,
            "left": null,
            "margin": null,
            "max_height": null,
            "max_width": null,
            "min_height": null,
            "min_width": null,
            "object_fit": null,
            "object_position": null,
            "order": null,
            "overflow": null,
            "overflow_x": null,
            "overflow_y": null,
            "padding": null,
            "right": null,
            "top": null,
            "visibility": null,
            "width": "150px"
          }
        },
        "17bd9f1569804b22ac790f766c65f80c": {
          "model_module": "@jupyter-widgets/controls",
          "model_name": "DescriptionStyleModel",
          "model_module_version": "1.5.0",
          "state": {
            "_model_module": "@jupyter-widgets/controls",
            "_model_module_version": "1.5.0",
            "_model_name": "DescriptionStyleModel",
            "_view_count": null,
            "_view_module": "@jupyter-widgets/base",
            "_view_module_version": "1.2.0",
            "_view_name": "StyleView",
            "description_width": ""
          }
        },
        "205f19f3ee7c41399989eaeaa318b685": {
          "model_module": "@jupyter-widgets/controls",
          "model_name": "ButtonStyleModel",
          "model_module_version": "1.5.0",
          "state": {
            "_model_module": "@jupyter-widgets/controls",
            "_model_module_version": "1.5.0",
            "_model_name": "ButtonStyleModel",
            "_view_count": null,
            "_view_module": "@jupyter-widgets/base",
            "_view_module_version": "1.2.0",
            "_view_name": "StyleView",
            "button_color": null,
            "font_weight": ""
          }
        },
        "801f4af8c1cf41808ed201bea4c57f41": {
          "model_module": "@jupyter-widgets/controls",
          "model_name": "DescriptionStyleModel",
          "model_module_version": "1.5.0",
          "state": {
            "_model_module": "@jupyter-widgets/controls",
            "_model_module_version": "1.5.0",
            "_model_name": "DescriptionStyleModel",
            "_view_count": null,
            "_view_module": "@jupyter-widgets/base",
            "_view_module_version": "1.2.0",
            "_view_name": "StyleView",
            "description_width": ""
          }
        },
        "1620887f4b444f48a6e456a8920d414c": {
          "model_module": "@jupyter-widgets/controls",
          "model_name": "DescriptionStyleModel",
          "model_module_version": "1.5.0",
          "state": {
            "_model_module": "@jupyter-widgets/controls",
            "_model_module_version": "1.5.0",
            "_model_name": "DescriptionStyleModel",
            "_view_count": null,
            "_view_module": "@jupyter-widgets/base",
            "_view_module_version": "1.2.0",
            "_view_name": "StyleView",
            "description_width": ""
          }
        },
        "967f46d4cf734cbcb12d6a2f7773f170": {
          "model_module": "@jupyter-widgets/controls",
          "model_name": "ButtonStyleModel",
          "model_module_version": "1.5.0",
          "state": {
            "_model_module": "@jupyter-widgets/controls",
            "_model_module_version": "1.5.0",
            "_model_name": "ButtonStyleModel",
            "_view_count": null,
            "_view_module": "@jupyter-widgets/base",
            "_view_module_version": "1.2.0",
            "_view_name": "StyleView",
            "button_color": null,
            "font_weight": ""
          }
        },
        "00a6b63103ea40cb97280c5226da49ec": {
          "model_module": "itkwidgets",
          "model_name": "ViewerModel",
          "model_module_version": "^0.32.1",
          "state": {
            "_custom_cmap": null,
            "_dom_classes": [],
            "_downsampling": false,
            "_largest_roi": {
              "shape": [
                2,
                3
              ],
              "dtype": "float64"
            },
            "_model_module": "itkwidgets",
            "_model_module_version": "^0.32.1",
            "_model_name": "ViewerModel",
            "_rendering_image": false,
            "_reset_crop_requested": false,
            "_scale_factors": {
              "shape": [
                3
              ],
              "dtype": "uint8"
            },
            "_view_count": null,
            "_view_module": "itkwidgets",
            "_view_module_version": "^0.32.1",
            "_view_name": "ViewerView",
            "annotations": true,
            "axes": false,
            "background": [
              1,
              1,
              1
            ],
            "blend_mode": "composite",
            "camera": {
              "shape": [
                3,
                3
              ],
              "dtype": "float32"
            },
            "channels": null,
            "clicked_slice_point": null,
            "cmap": null,
            "geometries": [
              {
                "vtkClass": "vtkPolyData",
                "points": {
                  "vtkClass": "vtkPoints",
                  "name": "_points",
                  "numberOfComponents": 3,
                  "dataType": "Float32Array",
                  "size": 161451
                },
                "polys": {
                  "vtkClass": "vtkCellArray",
                  "name": "_polys",
                  "numberOfComponents": 1,
                  "size": 421696,
                  "dataType": "Uint32Array"
                },
                "pointData": {
                  "vtkClass": "vtkDataSetAttributes",
                  "activeScalars": 0,
                  "arrays": [
                    {
                      "data": {
                        "vtkClass": "vtkDataArray",
                        "name": "PointScalarData",
                        "numberOfComponents": 1,
                        "size": 53818,
                        "dataType": "Float64Array"
                      }
                    }
                  ]
                },
                "cellData": {
                  "vtkClass": "vtkDataSetAttributes",
                  "activeScalars": 0,
                  "arrays": [
                    {
                      "data": {
                        "vtkClass": "vtkDataArray",
                        "name": "CellScalarData",
                        "numberOfComponents": 1,
                        "size": 105425,
                        "dataType": "Float64Array"
                      }
                    }
                  ]
                },
                "metadata": {
                  "name": "Geometry 0"
                }
              }
            ],
            "geometry_colors": {
              "shape": [
                1,
                3
              ],
              "dtype": "float32"
            },
            "geometry_opacities": {
              "shape": [
                1
              ],
              "dtype": "float32"
            },
            "gradient_opacity": 0.22,
            "interpolation": true,
            "label_image_blend": 0.5,
            "label_image_names": null,
            "label_image_weights": null,
            "layout": "IPY_MODEL_856173aca43d43d5a2affc843effc3bc",
            "lut": "glasbey",
            "mode": "v",
            "opacity_gaussians": null,
            "point_set_colors": {
              "shape": [
                0,
                3
              ],
              "dtype": "float32"
            },
            "point_set_opacities": {
              "shape": [
                0
              ],
              "dtype": "float32"
            },
            "point_set_representations": [],
            "point_set_sizes": {
              "shape": [
                0
              ],
              "dtype": "uint8"
            },
            "point_sets": [],
            "rendered_image": null,
            "rendered_label_image": null,
            "roi": {
              "shape": [
                2,
                3
              ],
              "dtype": "float64"
            },
            "rotate": false,
            "sample_distance": 0.25,
            "select_roi": false,
            "shadow": true,
            "slicing_planes": false,
            "ui_collapsed": false,
            "units": "",
            "vmax": null,
            "vmin": null,
            "x_slice": null,
            "y_slice": null,
            "z_slice": null
          }
        },
        "856173aca43d43d5a2affc843effc3bc": {
          "model_module": "@jupyter-widgets/base",
          "model_name": "LayoutModel",
          "model_module_version": "1.2.0",
          "state": {
            "_model_module": "@jupyter-widgets/base",
            "_model_module_version": "1.2.0",
            "_model_name": "LayoutModel",
            "_view_count": null,
            "_view_module": "@jupyter-widgets/base",
            "_view_module_version": "1.2.0",
            "_view_name": "LayoutView",
            "align_content": null,
            "align_items": null,
            "align_self": null,
            "border": null,
            "bottom": null,
            "display": null,
            "flex": null,
            "flex_flow": null,
            "grid_area": null,
            "grid_auto_columns": null,
            "grid_auto_flow": null,
            "grid_auto_rows": null,
            "grid_column": null,
            "grid_gap": null,
            "grid_row": null,
            "grid_template_areas": null,
            "grid_template_columns": null,
            "grid_template_rows": null,
            "height": null,
            "justify_content": null,
            "justify_items": null,
            "left": null,
            "margin": null,
            "max_height": null,
            "max_width": null,
            "min_height": null,
            "min_width": null,
            "object_fit": null,
            "object_position": null,
            "order": null,
            "overflow": null,
            "overflow_x": null,
            "overflow_y": null,
            "padding": null,
            "right": null,
            "top": null,
            "visibility": null,
            "width": null
          }
        },
        "68419b31071c4543ae473cac3ff112dc": {
          "model_module": "itkwidgets",
          "model_name": "ViewerModel",
          "model_module_version": "^0.32.1",
          "state": {
            "_custom_cmap": null,
            "_dom_classes": [],
            "_downsampling": false,
            "_largest_roi": {
              "shape": [
                2,
                3
              ],
              "dtype": "float64"
            },
            "_model_module": "itkwidgets",
            "_model_module_version": "^0.32.1",
            "_model_name": "ViewerModel",
            "_rendering_image": false,
            "_reset_crop_requested": false,
            "_scale_factors": {
              "shape": [
                3
              ],
              "dtype": "uint8"
            },
            "_view_count": null,
            "_view_module": "itkwidgets",
            "_view_module_version": "^0.32.1",
            "_view_name": "ViewerView",
            "annotations": true,
            "axes": false,
            "background": [
              1,
              1,
              1
            ],
            "blend_mode": "composite",
            "camera": {
              "shape": [
                3,
                3
              ],
              "dtype": "float32"
            },
            "channels": null,
            "clicked_slice_point": null,
            "cmap": null,
            "geometries": [
              {
                "vtkClass": "vtkPolyData",
                "points": {
                  "vtkClass": "vtkPoints",
                  "name": "_points",
                  "numberOfComponents": 3,
                  "dataType": "Float32Array",
                  "size": 49761
                },
                "polys": {
                  "vtkClass": "vtkCellArray",
                  "name": "_polys",
                  "numberOfComponents": 1,
                  "size": 128896,
                  "dataType": "Uint32Array"
                },
                "pointData": {
                  "vtkClass": "vtkDataSetAttributes",
                  "activeScalars": 0,
                  "arrays": [
                    {
                      "data": {
                        "vtkClass": "vtkDataArray",
                        "name": "PointScalarData",
                        "numberOfComponents": 1,
                        "size": 16588,
                        "dataType": "Float64Array"
                      }
                    }
                  ]
                },
                "cellData": {
                  "vtkClass": "vtkDataSetAttributes",
                  "activeScalars": 0,
                  "arrays": [
                    {
                      "data": {
                        "vtkClass": "vtkDataArray",
                        "name": "CellScalarData",
                        "numberOfComponents": 1,
                        "size": 32225,
                        "dataType": "Float64Array"
                      }
                    }
                  ]
                },
                "metadata": {
                  "name": "Geometry 0"
                }
              }
            ],
            "geometry_colors": {
              "shape": [
                1,
                3
              ],
              "dtype": "float32"
            },
            "geometry_opacities": {
              "shape": [
                1
              ],
              "dtype": "float32"
            },
            "gradient_opacity": 0.22,
            "interpolation": true,
            "label_image_blend": 0.5,
            "label_image_names": null,
            "label_image_weights": null,
            "layout": "IPY_MODEL_c16d972c836548378f41ba6d7d2b3508",
            "lut": "glasbey",
            "mode": "v",
            "opacity_gaussians": null,
            "point_set_colors": {
              "shape": [
                0,
                3
              ],
              "dtype": "float32"
            },
            "point_set_opacities": {
              "shape": [
                0
              ],
              "dtype": "float32"
            },
            "point_set_representations": [],
            "point_set_sizes": {
              "shape": [
                0
              ],
              "dtype": "uint8"
            },
            "point_sets": [],
            "rendered_image": null,
            "rendered_label_image": null,
            "roi": {
              "shape": [
                2,
                3
              ],
              "dtype": "float64"
            },
            "rotate": false,
            "sample_distance": 0.25,
            "select_roi": false,
            "shadow": true,
            "slicing_planes": false,
            "ui_collapsed": false,
            "units": "",
            "vmax": null,
            "vmin": null,
            "x_slice": null,
            "y_slice": null,
            "z_slice": null
          }
        },
        "c16d972c836548378f41ba6d7d2b3508": {
          "model_module": "@jupyter-widgets/base",
          "model_name": "LayoutModel",
          "model_module_version": "1.2.0",
          "state": {
            "_model_module": "@jupyter-widgets/base",
            "_model_module_version": "1.2.0",
            "_model_name": "LayoutModel",
            "_view_count": null,
            "_view_module": "@jupyter-widgets/base",
            "_view_module_version": "1.2.0",
            "_view_name": "LayoutView",
            "align_content": null,
            "align_items": null,
            "align_self": null,
            "border": null,
            "bottom": null,
            "display": null,
            "flex": null,
            "flex_flow": null,
            "grid_area": null,
            "grid_auto_columns": null,
            "grid_auto_flow": null,
            "grid_auto_rows": null,
            "grid_column": null,
            "grid_gap": null,
            "grid_row": null,
            "grid_template_areas": null,
            "grid_template_columns": null,
            "grid_template_rows": null,
            "height": null,
            "justify_content": null,
            "justify_items": null,
            "left": null,
            "margin": null,
            "max_height": null,
            "max_width": null,
            "min_height": null,
            "min_width": null,
            "object_fit": null,
            "object_position": null,
            "order": null,
            "overflow": null,
            "overflow_x": null,
            "overflow_y": null,
            "padding": null,
            "right": null,
            "top": null,
            "visibility": null,
            "width": null
          }
        }
      }
    }
  },
  "nbformat": 4,
  "nbformat_minor": 0
}