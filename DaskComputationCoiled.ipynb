{
  "cells": [
    {
      "cell_type": "markdown",
      "metadata": {
        "id": "view-in-github",
        "colab_type": "text"
      },
      "source": [
        "<a href=\"https://colab.research.google.com/github/PranjalSahu/OAI_analysis_2/blob/pranjal/DaskComputationCoiled.ipynb\" target=\"_parent\"><img src=\"https://colab.research.google.com/assets/colab-badge.svg\" alt=\"Open In Colab\"/></a>"
      ]
    },
    {
      "cell_type": "code",
      "execution_count": null,
      "metadata": {
        "id": "8VnZ6zuBOtp3"
      },
      "outputs": [],
      "source": [
        "# Install packages\n",
        "\n",
        "# Remember to Restart runtime after installation\n",
        "\n",
        "!pip install pandas==1.4.2 \n",
        "!pip install itk==5.3rc4\n",
        "!pip install vtk\n",
        "!pip install itkwidgets\n",
        "!pip install icon-registration==0.3.4\n",
        "#!pip install \"dask[complete]\"\n",
        "#!pip install coiled dask distributed\n",
        "!pip install tornado==6.1\n",
        "!pip install coiled\n",
        "!pip install torch\n",
        "!pip install jupyter\n",
        "!pip install girder_client\n",
        "!pip install git+https://github.com/uncbiag/mermaid.git\n",
        "!pip install git+https://github.com/uncbiag/easyreg.git\n",
        "!pip install git+https://github.com/PranjalSahu/OAI_analysis_2.git#egg=oai_package"
      ]
    },
    {
      "cell_type": "code",
      "execution_count": null,
      "metadata": {
        "id": "0w5y-3zBOxkY"
      },
      "outputs": [],
      "source": [
        "# All Imports\n",
        "\n",
        "import numpy as np\n",
        "import itk\n",
        "import vtk\n",
        "import itkwidgets\n",
        "import icon_registration\n",
        "import icon_registration.itk_wrapper as itk_wrapper\n",
        "import icon_registration.pretrained_models as pretrained_models\n",
        "from oai_analysis_2 import mesh_processing as mp\n",
        "\n",
        "import os\n",
        "#os.environ[\"CUDA_VISIBLE_DEVICES\"]=\"\"\n",
        "\n",
        "import boto3\n",
        "import coiled\n",
        "import dask\n",
        "from dask import delayed, compute, visualize\n",
        "from dask.distributed import Client, progress, LocalCluster"
      ]
    },
    {
      "cell_type": "code",
      "source": [
        "# For creating GPU instances\n",
        "# Start with a docker container and then install the rest of packages\n",
        "# coiled.create_software_environment(\n",
        "#     name=\"gpu-test\",\n",
        "#     container=\"gpuci/miniconda-cuda:11.2-runtime-ubuntu20.04\",\n",
        "#     pip=\"coiled_requirements.txt\",\n",
        "# )\n",
        "\n",
        "# coiled.create_software_environment(\n",
        "#     name=\"gpu-test2\",\n",
        "#     container=\"pranjalsahu/pranjal-sahu-gpu-test1\",\n",
        "# )\n",
        "\n",
        "# coiled.create_software_environment(\n",
        "#     name=\"gpu-test1\",\n",
        "#     container=\"gpuci/miniconda-cuda:10.2-runtime-ubuntu18.04\",\n",
        "#     conda={\n",
        "#         \"channels\": [\"conda-forge\", \"rapidsai\", \"defaults\"],\n",
        "#         \"dependencies\": [\"dask\", \"dask-cuda\", \"cupy\", \"cudatoolkit=10.2\"],\n",
        "#     },\n",
        "#     pip=\"coiled_requirements.txt\"\n",
        "# )\n"
      ],
      "metadata": {
        "colab": {
          "base_uri": "https://localhost:8080/"
        },
        "id": "2-V8SNeISyHT",
        "outputId": "fdf10346-932f-4faa-a9ae-1f995b1142ca"
      },
      "execution_count": null,
      "outputs": [
        {
          "output_type": "stream",
          "name": "stdout",
          "text": [
            "Creating new software environment\n",
            "Creating container-only software environment\n",
            "Successfully saved software environment build\n"
          ]
        }
      ]
    },
    {
      "cell_type": "code",
      "execution_count": null,
      "metadata": {
        "id": "D-E-5gV6KX8E"
      },
      "outputs": [],
      "source": [
        "# Create the environment\n",
        "\n",
        "if False:\n",
        "  coiled.create_software_environment(\n",
        "    name=\"oai6\",\n",
        "    pip=\"coiled_requirements.txt\",\n",
        "  )\n",
        "  # coiled.create_software_environment(\n",
        "  #   name=\"oai4\",\n",
        "  #   container=\"pranjalsahu/pranjal-sahu-oai4:cf409eeb-435c-4976-afd4-6a5118d6b683\",\n",
        "  # )"
      ]
    },
    {
      "cell_type": "code",
      "source": [
        "# To create a software environment using docker with open gl installed\n",
        "# coiled.create_software_environment(\n",
        "#     name=\"oai6\",\n",
        "#     container=\"pranjalsahu/pranjal-sahu-oai6:latest\",\n",
        "# )"
      ],
      "metadata": {
        "colab": {
          "base_uri": "https://localhost:8080/",
          "height": 69
        },
        "id": "O-pxKPFD2Ld9",
        "outputId": "4b8d4dcc-2b5b-491d-d531-bfedad3ee87b"
      },
      "execution_count": null,
      "outputs": [
        {
          "output_type": "stream",
          "name": "stdout",
          "text": [
            "Creating new software environment\n",
            "Creating container-only software environment\n",
            "Successfully saved software environment build\n"
          ]
        }
      ]
    },
    {
      "cell_type": "code",
      "execution_count": null,
      "metadata": {
        "id": "2wQIfgkLSMRy",
        "colab": {
          "base_uri": "https://localhost:8080/",
          "height": 330,
          "referenced_widgets": [
            "efbdf373f0a34b8bb4b2168509b3d451",
            "4207533d5b4f4b6bb4885079601a66b3"
          ]
        },
        "outputId": "27b59672-7bb9-4bbb-93c8-5122656941c3"
      },
      "outputs": [
        {
          "output_type": "display_data",
          "data": {
            "text/plain": [
              "Output()"
            ],
            "application/vnd.jupyter.widget-view+json": {
              "version_major": 2,
              "version_minor": 0,
              "model_id": "efbdf373f0a34b8bb4b2168509b3d451"
            }
          },
          "metadata": {}
        },
        {
          "output_type": "stream",
          "name": "stdout",
          "text": [
            "Found software environment build\n",
            "Created fw rule: inbound [8786-8787] [0.0.0.0/0] []\n",
            "Created FW rules: coiled-dask-pranjal09-152057-firewall\n",
            "Created fw rule: cluster [0-65535] [None] [coiled-dask-pranjal09-152057-firewall -> coiled-dask-pranjal09-152057-firewall]\n",
            "Created FW rules: coiled-dask-pranjal09-152057-cluster-firewall\n",
            "Created fw rule: cluster [0-65535] [None] [coiled-dask-pranjal09-152057-cluster-firewall -> coiled-dask-pranjal09-152057-cluster-firewall]\n",
            "Created scheduler VM: coiled-dask-pranjal09-152057-scheduler (type: t3a.medium, ip: ['54.196.128.174'])\n"
          ]
        },
        {
          "output_type": "display_data",
          "data": {
            "text/plain": [
              ""
            ],
            "text/html": [
              "<pre style=\"white-space:pre;overflow-x:auto;line-height:normal;font-family:Menlo,'DejaVu Sans Mono',consolas,'Courier New',monospace\"></pre>\n"
            ]
          },
          "metadata": {}
        },
        {
          "output_type": "stream",
          "name": "stderr",
          "text": [
            "Mismatched versions found\n",
            "\n",
            "+-------------+----------------+----------------+----------------+\n",
            "| Package     | client         | scheduler      | workers        |\n",
            "+-------------+----------------+----------------+----------------+\n",
            "| dask        | 2022.02.0      | 2022.03.0      | 2022.03.0      |\n",
            "| distributed | 2022.02.0      | 2022.3.0       | 2022.3.0       |\n",
            "| lz4         | None           | 4.0.0          | 4.0.0          |\n",
            "| pandas      | 1.3.5          | 1.4.2          | 1.4.2          |\n",
            "| python      | 3.7.13.final.0 | 3.9.12.final.0 | 3.9.12.final.0 |\n",
            "+-------------+----------------+----------------+----------------+\n"
          ]
        }
      ],
      "source": [
        "# Create Dask Client. This will also spawn dask worker and scheduler\n",
        "\n",
        "use_coiled = True\n",
        "\n",
        "if use_coiled:\n",
        "  name = 'oai-processing'\n",
        "  cluster = coiled.Cluster(n_workers=2,\n",
        "                         worker_cpu=8,\n",
        "                         worker_memory='31G',\n",
        "                         name=name,\n",
        "                         worker_gpu=1,\n",
        "                         worker_class=\"dask_cuda.CUDAWorker\",\n",
        "                         software='pranjal-sahu/gpu-test2')\n",
        "  client = dask.distributed.Client(cluster, \n",
        "                                   serializers=['pickle', 'dask'],\n",
        "                                   deserializers=['pickle', 'dask'])\n",
        "  client\n",
        "else:\n",
        "  cluster = LocalCluster(processes=False)\n",
        "  client = Client(cluster)\n",
        "  client"
      ]
    },
    {
      "cell_type": "code",
      "source": [
        "cluster.close()"
      ],
      "metadata": {
        "id": "qE__24JAckLS",
        "colab": {
          "base_uri": "https://localhost:8080/",
          "height": 33
        },
        "outputId": "31171852-fd41-45cd-dcdf-6d3cc9165204"
      },
      "execution_count": null,
      "outputs": [
        {
          "output_type": "display_data",
          "data": {
            "text/plain": [
              "\u001b[32mCluster deleted successfully.\u001b[0m\n"
            ],
            "text/html": [
              "<pre style=\"white-space:pre;overflow-x:auto;line-height:normal;font-family:Menlo,'DejaVu Sans Mono',consolas,'Courier New',monospace\"><span style=\"color: #008000; text-decoration-color: #008000\">Cluster deleted successfully.</span>\n",
              "</pre>\n"
            ]
          },
          "metadata": {}
        }
      ]
    },
    {
      "cell_type": "code",
      "execution_count": null,
      "metadata": {
        "id": "T_a0m5vPJynp"
      },
      "outputs": [],
      "source": [
        "@delayed\n",
        "def test_gpu():\n",
        "    import numpy as np\n",
        "    import cupy as cp\n",
        "\n",
        "    x = cp.arange(6).reshape(2, 3).astype(\"f\")\n",
        "    return cp.asnumpy(x.sum())\n",
        "\n",
        "\n",
        "#client = Client(cluster)\n",
        "#f = client.submit(test_gpu)\n",
        "#f.result()"
      ]
    },
    {
      "cell_type": "code",
      "source": [
        "r1 = [test_gpu()]\n",
        "compute(r1)"
      ],
      "metadata": {
        "colab": {
          "base_uri": "https://localhost:8080/",
          "height": 747
        },
        "id": "A74d7pyll1WS",
        "outputId": "62928bbd-8623-42fe-ebbe-1997b2313097"
      },
      "execution_count": null,
      "outputs": [
        {
          "output_type": "stream",
          "name": "stderr",
          "text": [
            "distributed.protocol.pickle - INFO - Failed to deserialize b'\\x80\\x05\\x95\\xfa\\x03\\x00\\x00\\x00\\x00\\x00\\x00\\x8c\\x16tblib.pickling_support\\x94\\x8c\\x12unpickle_exception\\x94\\x93\\x94(\\x8c\\x08builtins\\x94\\x8c\\tTypeError\\x94\\x93\\x94\\x8c\\'an integer is required (got type bytes)\\x94\\x85\\x94Nh\\x00\\x8c\\x12unpickle_traceback\\x94\\x93\\x94\\x8c\\x05tblib\\x94\\x8c\\x05Frame\\x94\\x93\\x94)\\x81\\x94}\\x94(\\x8c\\x08f_locals\\x94}\\x94\\x8c\\tf_globals\\x94}\\x94(\\x8c\\x08__name__\\x94\\x8c\\x12distributed.worker\\x94\\x8c\\x08__file__\\x94\\x8cH/opt/conda/envs/coiled/lib/python3.9/site-packages/distributed/worker.py\\x94u\\x8c\\x06f_code\\x94h\\n\\x8c\\x04Code\\x94\\x93\\x94)\\x81\\x94}\\x94(\\x8c\\x0bco_filename\\x94h\\x16\\x8c\\x07co_name\\x94\\x8c\\x17_maybe_deserialize_task\\x94\\x8c\\x0bco_argcount\\x94K\\x00\\x8c\\x11co_kwonlyargcount\\x94K\\x00\\x8c\\x0bco_varnames\\x94)\\x8c\\nco_nlocals\\x94K\\x00\\x8c\\x0cco_stacksize\\x94K\\x00\\x8c\\x08co_flags\\x94K@\\x8c\\x0eco_firstlineno\\x94K\\x00ub\\x8c\\x08f_lineno\\x94M\\x14\\rubM\\t\\rh\\n\\x8c\\tTraceback\\x94\\x93\\x94)\\x81\\x94}\\x94(\\x8c\\x08tb_frame\\x94h\\x0c)\\x81\\x94}\\x94(h\\x0f}\\x94h\\x11}\\x94(h\\x13h\\x14h\\x15h\\x16uh\\x17h\\x19)\\x81\\x94}\\x94(h\\x1ch\\x16h\\x1d\\x8c\\x0c_deserialize\\x94h\\x1fK\\x00h K\\x00h!)h\"K\\x00h#K\\x00h$K@h%K\\x00ubh&MX\\x10ub\\x8c\\ttb_lineno\\x94MX\\x10\\x8c\\x07tb_next\\x94h()\\x81\\x94}\\x94(h+h\\x0c)\\x81\\x94}\\x94(h\\x0f}\\x94h\\x11}\\x94(h\\x13h\\x14h\\x15h\\x16uh\\x17h\\x19)\\x81\\x94}\\x94(h\\x1ch\\x16h\\x1d\\x8c\\x0eloads_function\\x94h\\x1fK\\x00h K\\x00h!)h\"K\\x00h#K\\x00h$K@h%K\\x00ubh&MO\\x10ubh3MO\\x10h4h()\\x81\\x94}\\x94(h+h\\x0c)\\x81\\x94}\\x94(h\\x0f}\\x94h\\x11}\\x94(h\\x13\\x8c\\x1bdistributed.protocol.pickle\\x94h\\x15\\x8cQ/opt/conda/envs/coiled/lib/python3.9/site-packages/distributed/protocol/pickle.py\\x94uh\\x17h\\x19)\\x81\\x94}\\x94(h\\x1chEh\\x1d\\x8c\\x05loads\\x94h\\x1fK\\x00h K\\x00h!)h\"K\\x00h#K\\x00h$K@h%K\\x00ubh&KEubh3KBububub\\x87\\x94R\\x94t\\x94R\\x94.'\n",
            "Traceback (most recent call last):\n",
            "  File \"/usr/local/lib/python3.7/dist-packages/distributed/protocol/pickle.py\", line 75, in loads\n",
            "    return pickle.loads(x)\n",
            "ValueError: unsupported pickle protocol: 5\n",
            "distributed.protocol.pickle - INFO - Failed to deserialize b'\\x80\\x05\\x95\\xb7\\x01\\x00\\x00\\x00\\x00\\x00\\x00\\x8c\\x16tblib.pickling_support\\x94\\x8c\\x12unpickle_traceback\\x94\\x93\\x94\\x8c\\x05tblib\\x94\\x8c\\x05Frame\\x94\\x93\\x94)\\x81\\x94}\\x94(\\x8c\\x08f_locals\\x94}\\x94\\x8c\\tf_globals\\x94}\\x94(\\x8c\\x08__name__\\x94\\x8c\\x1bdistributed.protocol.pickle\\x94\\x8c\\x08__file__\\x94\\x8cQ/opt/conda/envs/coiled/lib/python3.9/site-packages/distributed/protocol/pickle.py\\x94u\\x8c\\x06f_code\\x94h\\x03\\x8c\\x04Code\\x94\\x93\\x94)\\x81\\x94}\\x94(\\x8c\\x0bco_filename\\x94h\\x0f\\x8c\\x07co_name\\x94\\x8c\\x05loads\\x94\\x8c\\x0bco_argcount\\x94K\\x00\\x8c\\x11co_kwonlyargcount\\x94K\\x00\\x8c\\x0bco_varnames\\x94)\\x8c\\nco_nlocals\\x94K\\x00\\x8c\\x0cco_stacksize\\x94K\\x00\\x8c\\x08co_flags\\x94K@\\x8c\\x0eco_firstlineno\\x94K\\x00ub\\x8c\\x08f_lineno\\x94KEubKBN\\x87\\x94R\\x94.'\n",
            "Traceback (most recent call last):\n",
            "  File \"/usr/local/lib/python3.7/dist-packages/distributed/protocol/pickle.py\", line 75, in loads\n",
            "    return pickle.loads(x)\n",
            "ValueError: unsupported pickle protocol: 5\n",
            "distributed.client - ERROR - unsupported pickle protocol: 5\n",
            "Traceback (most recent call last):\n",
            "  File \"/usr/local/lib/python3.7/dist-packages/distributed/client.py\", line 1402, in _handle_report\n",
            "    result = handler(**msg)\n",
            "  File \"/usr/local/lib/python3.7/dist-packages/distributed/client.py\", line 1444, in _handle_task_erred\n",
            "    state.set_error(exception, traceback)\n",
            "  File \"/usr/local/lib/python3.7/dist-packages/distributed/client.py\", line 565, in set_error\n",
            "    _, exception, traceback = clean_exception(exception, traceback)\n",
            "  File \"/usr/local/lib/python3.7/dist-packages/distributed/core.py\", line 1248, in clean_exception\n",
            "    traceback = protocol.pickle.loads(traceback)\n",
            "  File \"/usr/local/lib/python3.7/dist-packages/distributed/protocol/pickle.py\", line 75, in loads\n",
            "    return pickle.loads(x)\n",
            "ValueError: unsupported pickle protocol: 5\n"
          ]
        },
        {
          "output_type": "error",
          "ename": "KeyboardInterrupt",
          "evalue": "ignored",
          "traceback": [
            "\u001b[0;31m---------------------------------------------------------------------------\u001b[0m",
            "\u001b[0;31mKeyboardInterrupt\u001b[0m                         Traceback (most recent call last)",
            "\u001b[0;32m<ipython-input-18-85e1bfee002a>\u001b[0m in \u001b[0;36m<module>\u001b[0;34m()\u001b[0m\n\u001b[1;32m      1\u001b[0m \u001b[0mr1\u001b[0m \u001b[0;34m=\u001b[0m \u001b[0;34m[\u001b[0m\u001b[0mtest_gpu\u001b[0m\u001b[0;34m(\u001b[0m\u001b[0;34m)\u001b[0m\u001b[0;34m]\u001b[0m\u001b[0;34m\u001b[0m\u001b[0;34m\u001b[0m\u001b[0m\n\u001b[0;32m----> 2\u001b[0;31m \u001b[0mcompute\u001b[0m\u001b[0;34m(\u001b[0m\u001b[0mr1\u001b[0m\u001b[0;34m)\u001b[0m\u001b[0;34m\u001b[0m\u001b[0;34m\u001b[0m\u001b[0m\n\u001b[0m",
            "\u001b[0;32m/usr/local/lib/python3.7/dist-packages/dask/base.py\u001b[0m in \u001b[0;36mcompute\u001b[0;34m(traverse, optimize_graph, scheduler, get, *args, **kwargs)\u001b[0m\n\u001b[1;32m    571\u001b[0m         \u001b[0mpostcomputes\u001b[0m\u001b[0;34m.\u001b[0m\u001b[0mappend\u001b[0m\u001b[0;34m(\u001b[0m\u001b[0mx\u001b[0m\u001b[0;34m.\u001b[0m\u001b[0m__dask_postcompute__\u001b[0m\u001b[0;34m(\u001b[0m\u001b[0;34m)\u001b[0m\u001b[0;34m)\u001b[0m\u001b[0;34m\u001b[0m\u001b[0;34m\u001b[0m\u001b[0m\n\u001b[1;32m    572\u001b[0m \u001b[0;34m\u001b[0m\u001b[0m\n\u001b[0;32m--> 573\u001b[0;31m     \u001b[0mresults\u001b[0m \u001b[0;34m=\u001b[0m \u001b[0mschedule\u001b[0m\u001b[0;34m(\u001b[0m\u001b[0mdsk\u001b[0m\u001b[0;34m,\u001b[0m \u001b[0mkeys\u001b[0m\u001b[0;34m,\u001b[0m \u001b[0;34m**\u001b[0m\u001b[0mkwargs\u001b[0m\u001b[0;34m)\u001b[0m\u001b[0;34m\u001b[0m\u001b[0;34m\u001b[0m\u001b[0m\n\u001b[0m\u001b[1;32m    574\u001b[0m     \u001b[0;32mreturn\u001b[0m \u001b[0mrepack\u001b[0m\u001b[0;34m(\u001b[0m\u001b[0;34m[\u001b[0m\u001b[0mf\u001b[0m\u001b[0;34m(\u001b[0m\u001b[0mr\u001b[0m\u001b[0;34m,\u001b[0m \u001b[0;34m*\u001b[0m\u001b[0ma\u001b[0m\u001b[0;34m)\u001b[0m \u001b[0;32mfor\u001b[0m \u001b[0mr\u001b[0m\u001b[0;34m,\u001b[0m \u001b[0;34m(\u001b[0m\u001b[0mf\u001b[0m\u001b[0;34m,\u001b[0m \u001b[0ma\u001b[0m\u001b[0;34m)\u001b[0m \u001b[0;32min\u001b[0m \u001b[0mzip\u001b[0m\u001b[0;34m(\u001b[0m\u001b[0mresults\u001b[0m\u001b[0;34m,\u001b[0m \u001b[0mpostcomputes\u001b[0m\u001b[0;34m)\u001b[0m\u001b[0;34m]\u001b[0m\u001b[0;34m)\u001b[0m\u001b[0;34m\u001b[0m\u001b[0;34m\u001b[0m\u001b[0m\n\u001b[1;32m    575\u001b[0m \u001b[0;34m\u001b[0m\u001b[0m\n",
            "\u001b[0;32m/usr/local/lib/python3.7/dist-packages/distributed/client.py\u001b[0m in \u001b[0;36mget\u001b[0;34m(self, dsk, keys, workers, allow_other_workers, resources, sync, asynchronous, direct, retries, priority, fifo_timeout, actors, **kwargs)\u001b[0m\n\u001b[1;32m   2992\u001b[0m                     \u001b[0mshould_rejoin\u001b[0m \u001b[0;34m=\u001b[0m \u001b[0;32mFalse\u001b[0m\u001b[0;34m\u001b[0m\u001b[0;34m\u001b[0m\u001b[0m\n\u001b[1;32m   2993\u001b[0m             \u001b[0;32mtry\u001b[0m\u001b[0;34m:\u001b[0m\u001b[0;34m\u001b[0m\u001b[0;34m\u001b[0m\u001b[0m\n\u001b[0;32m-> 2994\u001b[0;31m                 \u001b[0mresults\u001b[0m \u001b[0;34m=\u001b[0m \u001b[0mself\u001b[0m\u001b[0;34m.\u001b[0m\u001b[0mgather\u001b[0m\u001b[0;34m(\u001b[0m\u001b[0mpacked\u001b[0m\u001b[0;34m,\u001b[0m \u001b[0masynchronous\u001b[0m\u001b[0;34m=\u001b[0m\u001b[0masynchronous\u001b[0m\u001b[0;34m,\u001b[0m \u001b[0mdirect\u001b[0m\u001b[0;34m=\u001b[0m\u001b[0mdirect\u001b[0m\u001b[0;34m)\u001b[0m\u001b[0;34m\u001b[0m\u001b[0;34m\u001b[0m\u001b[0m\n\u001b[0m\u001b[1;32m   2995\u001b[0m             \u001b[0;32mfinally\u001b[0m\u001b[0;34m:\u001b[0m\u001b[0;34m\u001b[0m\u001b[0;34m\u001b[0m\u001b[0m\n\u001b[1;32m   2996\u001b[0m                 \u001b[0;32mfor\u001b[0m \u001b[0mf\u001b[0m \u001b[0;32min\u001b[0m \u001b[0mfutures\u001b[0m\u001b[0;34m.\u001b[0m\u001b[0mvalues\u001b[0m\u001b[0;34m(\u001b[0m\u001b[0;34m)\u001b[0m\u001b[0;34m:\u001b[0m\u001b[0;34m\u001b[0m\u001b[0;34m\u001b[0m\u001b[0m\n",
            "\u001b[0;32m/usr/local/lib/python3.7/dist-packages/distributed/client.py\u001b[0m in \u001b[0;36mgather\u001b[0;34m(self, futures, errors, direct, asynchronous)\u001b[0m\n\u001b[1;32m   2150\u001b[0m                 \u001b[0mdirect\u001b[0m\u001b[0;34m=\u001b[0m\u001b[0mdirect\u001b[0m\u001b[0;34m,\u001b[0m\u001b[0;34m\u001b[0m\u001b[0;34m\u001b[0m\u001b[0m\n\u001b[1;32m   2151\u001b[0m                 \u001b[0mlocal_worker\u001b[0m\u001b[0;34m=\u001b[0m\u001b[0mlocal_worker\u001b[0m\u001b[0;34m,\u001b[0m\u001b[0;34m\u001b[0m\u001b[0;34m\u001b[0m\u001b[0m\n\u001b[0;32m-> 2152\u001b[0;31m                 \u001b[0masynchronous\u001b[0m\u001b[0;34m=\u001b[0m\u001b[0masynchronous\u001b[0m\u001b[0;34m,\u001b[0m\u001b[0;34m\u001b[0m\u001b[0;34m\u001b[0m\u001b[0m\n\u001b[0m\u001b[1;32m   2153\u001b[0m             )\n\u001b[1;32m   2154\u001b[0m \u001b[0;34m\u001b[0m\u001b[0m\n",
            "\u001b[0;32m/usr/local/lib/python3.7/dist-packages/distributed/utils.py\u001b[0m in \u001b[0;36msync\u001b[0;34m(self, func, asynchronous, callback_timeout, *args, **kwargs)\u001b[0m\n\u001b[1;32m    308\u001b[0m         \u001b[0;32melse\u001b[0m\u001b[0;34m:\u001b[0m\u001b[0;34m\u001b[0m\u001b[0;34m\u001b[0m\u001b[0m\n\u001b[1;32m    309\u001b[0m             return sync(\n\u001b[0;32m--> 310\u001b[0;31m                 \u001b[0mself\u001b[0m\u001b[0;34m.\u001b[0m\u001b[0mloop\u001b[0m\u001b[0;34m,\u001b[0m \u001b[0mfunc\u001b[0m\u001b[0;34m,\u001b[0m \u001b[0;34m*\u001b[0m\u001b[0margs\u001b[0m\u001b[0;34m,\u001b[0m \u001b[0mcallback_timeout\u001b[0m\u001b[0;34m=\u001b[0m\u001b[0mcallback_timeout\u001b[0m\u001b[0;34m,\u001b[0m \u001b[0;34m**\u001b[0m\u001b[0mkwargs\u001b[0m\u001b[0;34m\u001b[0m\u001b[0;34m\u001b[0m\u001b[0m\n\u001b[0m\u001b[1;32m    311\u001b[0m             )\n\u001b[1;32m    312\u001b[0m \u001b[0;34m\u001b[0m\u001b[0m\n",
            "\u001b[0;32m/usr/local/lib/python3.7/dist-packages/distributed/utils.py\u001b[0m in \u001b[0;36msync\u001b[0;34m(loop, func, callback_timeout, *args, **kwargs)\u001b[0m\n\u001b[1;32m    370\u001b[0m     \u001b[0;32melse\u001b[0m\u001b[0;34m:\u001b[0m\u001b[0;34m\u001b[0m\u001b[0;34m\u001b[0m\u001b[0m\n\u001b[1;32m    371\u001b[0m         \u001b[0;32mwhile\u001b[0m \u001b[0;32mnot\u001b[0m \u001b[0me\u001b[0m\u001b[0;34m.\u001b[0m\u001b[0mis_set\u001b[0m\u001b[0;34m(\u001b[0m\u001b[0;34m)\u001b[0m\u001b[0;34m:\u001b[0m\u001b[0;34m\u001b[0m\u001b[0;34m\u001b[0m\u001b[0m\n\u001b[0;32m--> 372\u001b[0;31m             \u001b[0mwait\u001b[0m\u001b[0;34m(\u001b[0m\u001b[0;36m10\u001b[0m\u001b[0;34m)\u001b[0m\u001b[0;34m\u001b[0m\u001b[0;34m\u001b[0m\u001b[0m\n\u001b[0m\u001b[1;32m    373\u001b[0m \u001b[0;34m\u001b[0m\u001b[0m\n\u001b[1;32m    374\u001b[0m     \u001b[0;32mif\u001b[0m \u001b[0merror\u001b[0m\u001b[0;34m:\u001b[0m\u001b[0;34m\u001b[0m\u001b[0;34m\u001b[0m\u001b[0m\n",
            "\u001b[0;32m/usr/local/lib/python3.7/dist-packages/distributed/utils.py\u001b[0m in \u001b[0;36mwait\u001b[0;34m(timeout)\u001b[0m\n\u001b[1;32m    359\u001b[0m     \u001b[0;32mdef\u001b[0m \u001b[0mwait\u001b[0m\u001b[0;34m(\u001b[0m\u001b[0mtimeout\u001b[0m\u001b[0;34m)\u001b[0m\u001b[0;34m:\u001b[0m\u001b[0;34m\u001b[0m\u001b[0;34m\u001b[0m\u001b[0m\n\u001b[1;32m    360\u001b[0m         \u001b[0;32mtry\u001b[0m\u001b[0;34m:\u001b[0m\u001b[0;34m\u001b[0m\u001b[0;34m\u001b[0m\u001b[0m\n\u001b[0;32m--> 361\u001b[0;31m             \u001b[0;32mreturn\u001b[0m \u001b[0me\u001b[0m\u001b[0;34m.\u001b[0m\u001b[0mwait\u001b[0m\u001b[0;34m(\u001b[0m\u001b[0mtimeout\u001b[0m\u001b[0;34m)\u001b[0m\u001b[0;34m\u001b[0m\u001b[0;34m\u001b[0m\u001b[0m\n\u001b[0m\u001b[1;32m    362\u001b[0m         \u001b[0;32mexcept\u001b[0m \u001b[0mKeyboardInterrupt\u001b[0m\u001b[0;34m:\u001b[0m\u001b[0;34m\u001b[0m\u001b[0;34m\u001b[0m\u001b[0m\n\u001b[1;32m    363\u001b[0m             \u001b[0mloop\u001b[0m\u001b[0;34m.\u001b[0m\u001b[0madd_callback\u001b[0m\u001b[0;34m(\u001b[0m\u001b[0mcancel\u001b[0m\u001b[0;34m)\u001b[0m\u001b[0;34m\u001b[0m\u001b[0;34m\u001b[0m\u001b[0m\n",
            "\u001b[0;32m/usr/lib/python3.7/threading.py\u001b[0m in \u001b[0;36mwait\u001b[0;34m(self, timeout)\u001b[0m\n\u001b[1;32m    550\u001b[0m             \u001b[0msignaled\u001b[0m \u001b[0;34m=\u001b[0m \u001b[0mself\u001b[0m\u001b[0;34m.\u001b[0m\u001b[0m_flag\u001b[0m\u001b[0;34m\u001b[0m\u001b[0;34m\u001b[0m\u001b[0m\n\u001b[1;32m    551\u001b[0m             \u001b[0;32mif\u001b[0m \u001b[0;32mnot\u001b[0m \u001b[0msignaled\u001b[0m\u001b[0;34m:\u001b[0m\u001b[0;34m\u001b[0m\u001b[0;34m\u001b[0m\u001b[0m\n\u001b[0;32m--> 552\u001b[0;31m                 \u001b[0msignaled\u001b[0m \u001b[0;34m=\u001b[0m \u001b[0mself\u001b[0m\u001b[0;34m.\u001b[0m\u001b[0m_cond\u001b[0m\u001b[0;34m.\u001b[0m\u001b[0mwait\u001b[0m\u001b[0;34m(\u001b[0m\u001b[0mtimeout\u001b[0m\u001b[0;34m)\u001b[0m\u001b[0;34m\u001b[0m\u001b[0;34m\u001b[0m\u001b[0m\n\u001b[0m\u001b[1;32m    553\u001b[0m             \u001b[0;32mreturn\u001b[0m \u001b[0msignaled\u001b[0m\u001b[0;34m\u001b[0m\u001b[0;34m\u001b[0m\u001b[0m\n\u001b[1;32m    554\u001b[0m \u001b[0;34m\u001b[0m\u001b[0m\n",
            "\u001b[0;32m/usr/lib/python3.7/threading.py\u001b[0m in \u001b[0;36mwait\u001b[0;34m(self, timeout)\u001b[0m\n\u001b[1;32m    298\u001b[0m             \u001b[0;32melse\u001b[0m\u001b[0;34m:\u001b[0m\u001b[0;34m\u001b[0m\u001b[0;34m\u001b[0m\u001b[0m\n\u001b[1;32m    299\u001b[0m                 \u001b[0;32mif\u001b[0m \u001b[0mtimeout\u001b[0m \u001b[0;34m>\u001b[0m \u001b[0;36m0\u001b[0m\u001b[0;34m:\u001b[0m\u001b[0;34m\u001b[0m\u001b[0;34m\u001b[0m\u001b[0m\n\u001b[0;32m--> 300\u001b[0;31m                     \u001b[0mgotit\u001b[0m \u001b[0;34m=\u001b[0m \u001b[0mwaiter\u001b[0m\u001b[0;34m.\u001b[0m\u001b[0macquire\u001b[0m\u001b[0;34m(\u001b[0m\u001b[0;32mTrue\u001b[0m\u001b[0;34m,\u001b[0m \u001b[0mtimeout\u001b[0m\u001b[0;34m)\u001b[0m\u001b[0;34m\u001b[0m\u001b[0;34m\u001b[0m\u001b[0m\n\u001b[0m\u001b[1;32m    301\u001b[0m                 \u001b[0;32melse\u001b[0m\u001b[0;34m:\u001b[0m\u001b[0;34m\u001b[0m\u001b[0;34m\u001b[0m\u001b[0m\n\u001b[1;32m    302\u001b[0m                     \u001b[0mgotit\u001b[0m \u001b[0;34m=\u001b[0m \u001b[0mwaiter\u001b[0m\u001b[0;34m.\u001b[0m\u001b[0macquire\u001b[0m\u001b[0;34m(\u001b[0m\u001b[0;32mFalse\u001b[0m\u001b[0;34m)\u001b[0m\u001b[0;34m\u001b[0m\u001b[0;34m\u001b[0m\u001b[0m\n",
            "\u001b[0;31mKeyboardInterrupt\u001b[0m: "
          ]
        }
      ]
    },
    {
      "cell_type": "code",
      "execution_count": null,
      "metadata": {
        "colab": {
          "base_uri": "https://localhost:8080/"
        },
        "id": "7RYZtcl0Wo0n",
        "outputId": "74b4f35c-96fb-47b7-d417-006b5bb187f6"
      },
      "outputs": [
        {
          "name": "stdout",
          "output_type": "stream",
          "text": [
            "Local metadata does not exists. Falling back to download.\n",
            "\u001b[?25l[####################################]  74.74M/74.74M  100%  atlas_image.nii.gz          \u001b[?25h\n",
            "\u001b[?25l[####################################]  76.70M/76.70M  100%  FC_probmap.nii.gz          \u001b[?25h\n",
            "\u001b[?25l[####################################]  27.96M/27.96M  100%  image_preprocessed.nii.gz          \u001b[?25h\n",
            "\u001b[?25l[####################################]  76.66M/76.66M  100%  TC_probmap.nii.gz          \u001b[?25h\n"
          ]
        }
      ],
      "source": [
        "# Download the relevant files such as input image, atlas image, segmented TC and FC maps\n",
        "\n",
        "!girder-client --api-url https://data.kitware.com/api/v1 localsync 621a5d784acac99f426c143b OAIData"
      ]
    },
    {
      "cell_type": "code",
      "execution_count": null,
      "metadata": {
        "id": "2HbtL8r4TiKb"
      },
      "outputs": [],
      "source": [
        "# All Function Definitions with Dask Delayed Decorator to perform parallel Computing\n",
        "\n",
        "#@delayed(nout=2)\n",
        "def read_images(image_preprocessed, atlas_image):\n",
        "    image_A = itk.imread(image_preprocessed, itk.D)\n",
        "    image_B = itk.imread(atlas_image, itk.D)\n",
        "\n",
        "    fc_prob_file = './OAIData/FC_probmap.nii.gz'\n",
        "    FC_prob = itk.imread(fc_prob_file)\n",
        "\n",
        "    tc_prob_file = './OAIData/TC_probmap.nii.gz'\n",
        "    TC_prob = itk.imread(tc_prob_file)\n",
        "\n",
        "    return image_A, image_B, FC_prob, TC_prob\n",
        "\n",
        "@delayed(nout=3)\n",
        "def register_images_delayed():\n",
        "    import boto3\n",
        "    import itk\n",
        "    import icon_registration\n",
        "    import icon_registration.itk_wrapper as itk_wrapper\n",
        "    import icon_registration.pretrained_models as pretrained_models\n",
        "    from os.path import exists\n",
        "\n",
        "    if 1:\n",
        "        image_A = 'image_preprocessed.nii.gz'\n",
        "        image_B = 'atlas_image.nii.gz'\n",
        "        if (exists(image_A) and exists(image_B)) == False:\n",
        "          s3          = boto3.resource(\"s3\")\n",
        "          bucket_name = 'oaisample1'\n",
        "          bucket      = s3.Bucket(bucket_name)\n",
        "\n",
        "          s3.Bucket(bucket_name).download_file(image_A, image_A)\n",
        "          s3.Bucket(bucket_name).download_file(image_B, image_B)\n",
        "    else:\n",
        "        image_A = './OAIData/image_preprocessed.nii.gz'\n",
        "        image_B = './OAIData/atlas_image.nii.gz'\n",
        "\n",
        "    image_A = itk.imread(image_A, itk.D)\n",
        "    image_B = itk.imread(image_B, itk.D)\n",
        "\n",
        "    model = pretrained_models.OAI_knees_gradICON_model()\n",
        "    model.to('cpu')\n",
        "\n",
        "    # Register the images\n",
        "    phi_AB, phi_BA = itk_wrapper.register_pair(model, image_A, image_B)\n",
        "    return itk.dict_from_transform(phi_AB), itk.dict_from_image(image_A), itk.dict_from_image(image_B)\n",
        "\n",
        "@delayed(nout=1)\n",
        "def deform_probmap_FC_delayed(phi_AB, image_A, image_B):\n",
        "    import itk\n",
        "    import boto3\n",
        "\n",
        "    if 1:\n",
        "        s3          = boto3.resource(\"s3\")\n",
        "        bucket_name = 'oaisample1'\n",
        "        bucket      = s3.Bucket(bucket_name)\n",
        "        fc_prob_file = 'FC_probmap.nii.gz'\n",
        "        s3.Bucket(bucket_name).download_file(fc_prob_file, fc_prob_file)\n",
        "\n",
        "    phi_AB1  = itk.transform_from_dict(phi_AB)\n",
        "    \n",
        "    def set_parameters(phi_AB, phi_AB1):\n",
        "        for i in range(len(phi_AB)-1):\n",
        "            transform1 = phi_AB1.GetNthTransform(i)\n",
        "\n",
        "            fp = phi_AB[i+1]['fixedParameters']\n",
        "            o1 = transform1.GetFixedParameters()\n",
        "            o1.SetSize(fp.shape[0])\n",
        "            for j, v in enumerate(fp):\n",
        "                o1.SetElement(j, v)\n",
        "            transform1.SetFixedParameters(o1)\n",
        "\n",
        "            p = phi_AB[i+1]['parameters']\n",
        "            o2 = transform1.GetParameters()\n",
        "            o2.SetSize(p.shape[0])\n",
        "            for j, v in enumerate(p):\n",
        "                o2.SetElement(j, v)\n",
        "            transform1.SetParameters(o2)\n",
        "\n",
        "    set_parameters(phi_AB, phi_AB1)\n",
        "    image_A = itk.image_from_dict(image_A)\n",
        "    image_B = itk.image_from_dict(image_B)\n",
        "\n",
        "    interpolator = itk.LinearInterpolateImageFunction.New(image_A)\n",
        "    \n",
        "    prob_file = 'FC_probmap.nii.gz'\n",
        "    prob = itk.imread(prob_file, itk.D)\n",
        "\n",
        "    warped_image = itk.resample_image_filter(prob, \n",
        "       transform=phi_AB1, \n",
        "       interpolator=interpolator,\n",
        "       size=itk.size(image_B),\n",
        "       output_spacing=itk.spacing(image_B),\n",
        "       output_direction=image_B.GetDirection(),\n",
        "       output_origin=image_B.GetOrigin()\n",
        "    )\n",
        "\n",
        "    output_dict = itk.dict_from_image(warped_image)\n",
        "    return output_dict\n",
        "  \n",
        "@delayed\n",
        "def deform_probmap_TC_delayed(phi_AB, image_A, image_B):\n",
        "    import itk\n",
        "    import boto3\n",
        "\n",
        "    if 1:\n",
        "        s3          = boto3.resource(\"s3\")\n",
        "        bucket_name = 'oaisample1'\n",
        "        bucket      = s3.Bucket(bucket_name)\n",
        "        fc_prob_file = 'TC_probmap.nii.gz'\n",
        "        s3.Bucket(bucket_name).download_file(fc_prob_file, fc_prob_file)\n",
        "\n",
        "    phi_AB1  = itk.transform_from_dict(phi_AB)\n",
        "    \n",
        "    def set_parameters(phi_AB, phi_AB1):\n",
        "        for i in range(len(phi_AB)-1):\n",
        "            transform1 = phi_AB1.GetNthTransform(i)\n",
        "\n",
        "            fp = phi_AB[i+1]['fixedParameters']\n",
        "            o1 = transform1.GetFixedParameters()\n",
        "            o1.SetSize(fp.shape[0])\n",
        "            for j, v in enumerate(fp):\n",
        "                o1.SetElement(j, v)\n",
        "            transform1.SetFixedParameters(o1)\n",
        "\n",
        "            p = phi_AB[i+1]['parameters']\n",
        "            o2 = transform1.GetParameters()\n",
        "            o2.SetSize(p.shape[0])\n",
        "            for j, v in enumerate(p):\n",
        "                o2.SetElement(j, v)\n",
        "            transform1.SetParameters(o2)\n",
        "\n",
        "    set_parameters(phi_AB, phi_AB1)\n",
        "    image_A = itk.image_from_dict(image_A)\n",
        "    image_B = itk.image_from_dict(image_B)\n",
        "\n",
        "    interpolator = itk.LinearInterpolateImageFunction.New(image_A)\n",
        "    \n",
        "    prob_file = 'TC_probmap.nii.gz'\n",
        "    prob = itk.imread(prob_file, itk.D)\n",
        "\n",
        "    warped_image = itk.resample_image_filter(prob, \n",
        "       transform=phi_AB1, \n",
        "       interpolator=interpolator,\n",
        "       size=itk.size(image_B),\n",
        "       output_spacing=itk.spacing(image_B),\n",
        "       output_direction=image_B.GetDirection(),\n",
        "       output_origin=image_B.GetOrigin()\n",
        "    )\n",
        "\n",
        "    output_dict = itk.dict_from_image(warped_image)\n",
        "    return output_dict\n",
        "  \n",
        "\n",
        "@delayed\n",
        "def deform_probmap_TC(phi_AB, image_A, image_B, TC_prob):\n",
        "    #import itkConfig\n",
        "    #itkConfig.LazyLoading = False\n",
        "    #import itk\n",
        "    #tc_prob_file = './OAIData/TC_probmap.nii.gz'\n",
        "    #TC_prob = itk.imread(tc_prob_file)\n",
        "\n",
        "    interpolator = itk.LinearInterpolateImageFunction.New(image_A)\n",
        "    warped_image_TC = itk.resample_image_filter(TC_prob, \n",
        "        transform=phi_AB, \n",
        "        interpolator=interpolator,\n",
        "        size=itk.size(image_B),\n",
        "        output_spacing=itk.spacing(image_B),\n",
        "        output_direction=image_B.GetDirection(),\n",
        "        output_origin=image_B.GetOrigin()\n",
        "    )\n",
        "\n",
        "    return warped_image_TC\n",
        "\n",
        "# Convert from VTK Mesh to ITK Mesh to make it serializable\n",
        "def get_itk_mesh(vtk_mesh):\n",
        "    #import itkConfig\n",
        "    #itkConfig.LazyLoading = False\n",
        "    #import itk\n",
        "\n",
        "    Dimension = 3\n",
        "    PixelType = itk.D\n",
        "    \n",
        "    MeshType = itk.Mesh[PixelType, Dimension]\n",
        "    itk_mesh = MeshType.New()\n",
        "    \n",
        "    # Get points array from VTK mesh\n",
        "    points = vtk_mesh.GetPoints().GetData()\n",
        "    points_numpy = np.array(points).flatten().astype('float32')\n",
        "        \n",
        "    polys = vtk_mesh.GetPolys().GetData()\n",
        "    polys_numpy = np.array(polys).flatten()\n",
        "\n",
        "    # Triangle Mesh\n",
        "    vtk_cells_count = vtk_mesh.GetNumberOfPolys()\n",
        "    polys_numpy = np.reshape(polys_numpy, [vtk_cells_count, Dimension+1])\n",
        "\n",
        "    # Extracting only the points by removing first column that denotes the VTK cell type\n",
        "    polys_numpy = polys_numpy[:, 1:]\n",
        "    polys_numpy = polys_numpy.flatten().astype(np.uint64)\n",
        "\n",
        "    # Get point data from VTK mesh to insert in ITK Mesh\n",
        "    point_data_numpy = np.array(vtk_mesh.GetPointData().GetScalars())#.astype('float64')\n",
        "    \n",
        "    # Get cell data from VTK mesh to insert in ITK Mesh\n",
        "    cell_data_numpy = np.array(vtk_mesh.GetCellData().GetScalars())#.astype('float64')\n",
        "    \n",
        "    itk_mesh.SetPoints(itk.vector_container_from_array(points_numpy))\n",
        "    itk_mesh.SetCellsArray(itk.vector_container_from_array(polys_numpy), itk.CommonEnums.CellGeometry_TRIANGLE_CELL)\n",
        "    itk_mesh.SetPointData(itk.vector_container_from_array(point_data_numpy))\n",
        "    itk_mesh.SetCellData(itk.vector_container_from_array(cell_data_numpy))    \n",
        "    return itk_mesh\n",
        "    \n",
        "@delayed\n",
        "def get_thickness_FC(warped_image_FC):\n",
        "    import itk\n",
        "    from oai_analysis_2 import mesh_processing as mp\n",
        "\n",
        "    warped_image_FC = itk.image_from_dict(warped_image_FC)\n",
        "    distance_inner_FC, distance_outer_FC = mp.get_thickness_mesh(warped_image_FC, mesh_type='FC')\n",
        "    distance_inner_FC = get_itk_mesh(distance_inner_FC)\n",
        "    distance_inner_FC = itk.dict_from_mesh(distance_inner_FC)\n",
        "    return distance_inner_FC\n",
        "\n",
        "@delayed(nout=1)\n",
        "def get_thickness_TC(warped_image_TC):\n",
        "    import itk\n",
        "    import vtk\n",
        "    import numpy as np\n",
        "    from oai_analysis_2 import mesh_processing as mp\n",
        "\n",
        "    def get_itk_mesh(vtk_mesh):\n",
        "        Dimension = 3\n",
        "        PixelType = itk.D\n",
        "        \n",
        "        # Get points array from VTK mesh\n",
        "        points = vtk_mesh.GetPoints().GetData()\n",
        "        points_numpy = np.array(points).flatten()#.astype('float32')\n",
        "            \n",
        "        polys = vtk_mesh.GetPolys().GetData()\n",
        "        polys_numpy = np.array(polys).flatten()\n",
        "\n",
        "        # Triangle Mesh\n",
        "        vtk_cells_count = vtk_mesh.GetNumberOfPolys()\n",
        "        polys_numpy = np.reshape(polys_numpy, [vtk_cells_count, Dimension+1])\n",
        "\n",
        "        # Extracting only the points by removing first column that denotes the VTK cell type\n",
        "        polys_numpy = polys_numpy[:, 1:]\n",
        "        polys_numpy = polys_numpy.flatten().astype(np.uint64)\n",
        "\n",
        "        # Get point data from VTK mesh to insert in ITK Mesh\n",
        "        point_data_numpy = np.array(vtk_mesh.GetPointData().GetScalars())#.astype('float64')\n",
        "        \n",
        "        # Get cell data from VTK mesh to insert in ITK Mesh\n",
        "        cell_data_numpy = np.array(vtk_mesh.GetCellData().GetScalars())#.astype('float64')\n",
        "        \n",
        "        MeshType = itk.Mesh[PixelType, Dimension]\n",
        "        itk_mesh = MeshType.New()\n",
        "        \n",
        "        itk_mesh.SetPoints(itk.vector_container_from_array(points_numpy))\n",
        "        itk_mesh.SetCellsArray(itk.vector_container_from_array(polys_numpy), itk.CommonEnums.CellGeometry_TRIANGLE_CELL)\n",
        "        itk_mesh.SetPointData(itk.vector_container_from_array(point_data_numpy))\n",
        "        itk_mesh.SetCellData(itk.vector_container_from_array(cell_data_numpy))    \n",
        "        return itk_mesh\n",
        "\n",
        "    warped_image_TC = itk.image_from_dict(warped_image_TC)\n",
        "    distance_inner_TC, distance_outer_TC = mp.get_thickness_mesh(warped_image_TC, mesh_type='TC')\n",
        "    \n",
        "    polys = distance_inner_TC.GetPolys().GetData()\n",
        "    polys_numpy = np.array(polys).flatten()\n",
        "\n",
        "    distance_inner_TC_itk = get_itk_mesh(distance_inner_TC)\n",
        "    distance_inner_TC_itk_dict = itk.dict_from_mesh(distance_inner_TC_itk)\n",
        "\n",
        "    cells1 = distance_inner_TC_itk_dict[\"cells\"][:5]\n",
        "    cells2 = distance_inner_TC_itk[\"cells\"][:5]\n",
        "\n",
        "    return [distance_inner_TC_itk_dict, distance_inner_TC_itk_dict[\"cells\"], cells1, cells2, polys_numpy]\n",
        "    #cells_array = distance_inner_TC_itk.GetCellsArray()\n",
        "    #cells_array = itk.array_from_vector_container(cells_array)\n",
        "    #return cells_array\n",
        "    #return [distance_inner_TC.GetNumberOfPoints(), distance_inner_TC.GetNumberOfCells()]\n",
        "    #distance_inner_TC = itk.dict_from_mesh(distance_inner_TC)\n",
        "    #return distance_inner_TC\n",
        "    #return [cells1, cells2]\n",
        "\n",
        "#@delayed(nout=2)\n",
        "def get_paths():\n",
        "    import numpy as np\n",
        "    import itk\n",
        "    import vtk\n",
        "    import itkwidgets\n",
        "    import icon_registration\n",
        "    import icon_registration.itk_wrapper as itk_wrapper\n",
        "    import icon_registration.pretrained_models as pretrained_models\n",
        "    from oai_analysis_2 import mesh_processing as mp\n",
        "\n",
        "    image_preprocessed = \"./OAIData/image_preprocessed.nii.gz\"\n",
        "    atlas_image = \"./OAIData/atlas_image.nii.gz\"\n",
        "\n",
        "    return image_preprocessed, atlas_image\n",
        "\n",
        "#@delayed\n",
        "def only_register_images(image_A, image_B):\n",
        "  #import itkConfig\n",
        "  #itkConfig.LazyLoading = False\n",
        "  #import itk\n",
        "  import numpy as np\n",
        "  import itk\n",
        "  import vtk\n",
        "  import itkwidgets\n",
        "  import icon_registration\n",
        "  import icon_registration.itk_wrapper as itk_wrapper\n",
        "  import icon_registration.pretrained_models as pretrained_models\n",
        "  from oai_analysis_2 import mesh_processing as mp\n",
        "\n",
        "  phi_AB  = register_images(image_A=image_A, image_B=image_B)\n",
        "  return phi_AB\n",
        "\n",
        "@delayed\n",
        "def import_all():\n",
        "  import numpy as np\n",
        "  #import itkConfig\n",
        "  #itkConfig.LazyLoading = False\n",
        "  import itk\n",
        "  import vtk\n",
        "  import itkwidgets\n",
        "  import icon_registration\n",
        "  import icon_registration.itk_wrapper as itk_wrapper\n",
        "  import icon_registration.pretrained_models as pretrained_models\n",
        "  from oai_analysis_2 import mesh_processing as mp\n",
        "\n",
        "  return True"
      ]
    },
    {
      "cell_type": "code",
      "source": [
        "# For checking if vtk import works properly\n",
        "@delayed\n",
        "def check_vtk():\n",
        "  import vtk\n",
        "  return vtk.__version__\n",
        "\n",
        "@delayed\n",
        "def check_skimage():\n",
        "  import skimage\n",
        "  return skimage.__version__\n",
        "\n",
        "t1 = check_skimage()\n",
        "output_result = compute(t1)\n",
        "print(output_result)"
      ],
      "metadata": {
        "colab": {
          "base_uri": "https://localhost:8080/"
        },
        "id": "t6irlumR7ctq",
        "outputId": "e2bf19d0-3bcf-411d-d113-e409d71d108b"
      },
      "execution_count": null,
      "outputs": [
        {
          "output_type": "stream",
          "name": "stdout",
          "text": [
            "('0.18.3',)\n"
          ]
        }
      ]
    },
    {
      "cell_type": "code",
      "execution_count": null,
      "metadata": {
        "id": "snuntUuOBLqV"
      },
      "outputs": [],
      "source": [
        "# Main execution block\n",
        "\n",
        "phi_AB, image_A, image_B = register_images_delayed()\n",
        "#deformed_fc = deform_probmap_FC_delayed(phi_AB, image_A, image_B)\n",
        "deformed_tc = deform_probmap_TC_delayed(phi_AB, image_A, image_B)\n",
        "\n",
        "#thickness_fc = get_thickness_FC(deformed_fc)\n",
        "thickness_tc = get_thickness_TC(deformed_tc)\n",
        "\n",
        "result = [thickness_tc]\n",
        "#result = #[deformed_fc]\n",
        "output_result = compute(*result)\n",
        "#print(output_result)"
      ]
    },
    {
      "cell_type": "code",
      "source": [
        "print(output_result)"
      ],
      "metadata": {
        "colab": {
          "base_uri": "https://localhost:8080/"
        },
        "id": "Y3u-2PdJxkEy",
        "outputId": "178bc0bd-8f98-4e2e-872e-960fe835f68e"
      },
      "execution_count": null,
      "outputs": [
        {
          "output_type": "stream",
          "name": "stdout",
          "text": [
            "([{'meshType': {'dimension': 3, 'pointComponentType': 'float32', 'pointPixelComponentType': 'float64', 'pointPixelType': 'Scalar', 'pointPixelComponents': 1, 'cellComponentType': 'uint64', 'cellPixelComponentType': 'float64', 'cellPixelType': 'Scalar', 'cellPixelComponents': 1}, 'name': '', 'dimension': 3, 'numberOfPoints': 16587, 'points': array([ 55.538155,  91.491844,  64.33265 , ..., 104.95681 ,  93.99789 ,\n",
            "        34.300396], dtype=float32), 'numberOfPointPixels': 16587, 'pointData': array([0.16583272, 0.        , 0.        , ..., 0.        , 0.10137601,\n",
            "       0.        ]), 'numberOfCells': 32224, 'cells': array([    2,     3,     0, ..., 16584, 16586, 16585], dtype=uint64), 'numberOfCellPixels': 32224, 'cellData': array([0.05527757, 0.10370194, 0.05577836, ..., 0.09223103, 0.033792  ,\n",
            "       0.03447352]), 'cellBufferSize': 161120}, array([    2,     3,     0, ..., 16584, 16586, 16585], dtype=uint64), array([2, 3, 0, 1, 2], dtype=uint64), array([2, 3, 0, 1, 2], dtype=uint64), array([    3,     0,     1, ..., 16584, 16586, 16585])],)\n"
          ]
        }
      ]
    },
    {
      "cell_type": "code",
      "source": [
        "print(output_result)"
      ],
      "metadata": {
        "colab": {
          "base_uri": "https://localhost:8080/"
        },
        "id": "E4BqPb-7xgqM",
        "outputId": "3ce5c817-132e-4f50-c001-7850429717c2"
      },
      "execution_count": null,
      "outputs": [
        {
          "output_type": "stream",
          "name": "stdout",
          "text": [
            "([{'meshType': {'dimension': 3, 'pointComponentType': 'float32', 'pointPixelComponentType': 'float64', 'pointPixelType': 'Scalar', 'pointPixelComponents': 1, 'cellComponentType': 'uint64', 'cellPixelComponentType': 'float64', 'cellPixelType': 'Scalar', 'cellPixelComponents': 1}, 'name': '', 'dimension': 3, 'numberOfPoints': 16587, 'points': array([ 55.538155,  91.491844,  64.33265 , ..., 104.95681 ,  93.99789 ,\n",
            "        34.300396], dtype=float32), 'numberOfPointPixels': 16587, 'pointData': array([0.16583272, 0.        , 0.        , ..., 0.        , 0.10137601,\n",
            "       0.        ]), 'numberOfCells': 32224, 'cells': array([    2,     3,     0, ..., 16584, 16586, 16585], dtype=uint64), 'numberOfCellPixels': 32224, 'cellData': array([6.93652245e-310, 6.93652258e-310, 0.00000000e+000, ...,\n",
            "       9.22310260e-002, 3.37920043e-002, 3.44735188e-002]), 'cellBufferSize': 161120}, array([    2,     3,     0, ..., 16584, 16586, 16585], dtype=uint64), array([2, 3, 0, 1, 2], dtype=uint64), array([2, 3, 0, 1, 2], dtype=uint64), array([    3,     0,     1, ..., 16584, 16586, 16585])],)\n"
          ]
        }
      ]
    },
    {
      "cell_type": "code",
      "source": [
        "print(output_result)"
      ],
      "metadata": {
        "colab": {
          "base_uri": "https://localhost:8080/"
        },
        "id": "ic-UkNckxOUk",
        "outputId": "430b17a2-3734-4f40-d33a-cc19743ba2ec"
      },
      "execution_count": null,
      "outputs": [
        {
          "output_type": "stream",
          "name": "stdout",
          "text": [
            "([{'meshType': {'dimension': 3, 'pointComponentType': 'float32', 'pointPixelComponentType': 'float64', 'pointPixelType': 'Scalar', 'pointPixelComponents': 1, 'cellComponentType': 'uint64', 'cellPixelComponentType': 'float64', 'cellPixelType': 'Scalar', 'cellPixelComponents': 1}, 'name': '', 'dimension': 3, 'numberOfPoints': 16587, 'points': array([ 55.538155,  91.491844,  64.33265 , ..., 104.95681 ,  93.99789 ,\n",
            "        34.300396], dtype=float32), 'numberOfPointPixels': 16587, 'pointData': array([0.16583272, 0.        , 0.        , ..., 0.        , 0.10137601,\n",
            "       0.        ]), 'numberOfCells': 32224, 'cells': array([    2,     3,     0, ..., 16584, 16586, 16585], dtype=uint64), 'numberOfCellPixels': 32224, 'cellData': array([6.93652245e-310, 6.93652258e-310, 0.00000000e+000, ...,\n",
            "       9.22310260e-002, 3.37920043e-002, 3.44735188e-002]), 'cellBufferSize': 161120}, array([    2,     3,     0, ..., 16584, 16586, 16585], dtype=uint64), array([2, 3, 0, 1, 2], dtype=uint64), array([2, 3, 0, 1, 2], dtype=uint64), array([    3,     0,     1, ..., 16584, 16586, 16585])],)\n"
          ]
        }
      ]
    },
    {
      "cell_type": "code",
      "source": [
        "print(output_result)"
      ],
      "metadata": {
        "colab": {
          "base_uri": "https://localhost:8080/",
          "height": 176
        },
        "id": "woi0trE9xFAo",
        "outputId": "ddc19ba0-bf06-43da-a759-079973455a98"
      },
      "execution_count": null,
      "outputs": [
        {
          "output_type": "stream",
          "name": "stdout",
          "text": [
            "([{'meshType': {'dimension': 3, 'pointComponentType': 'float32', 'pointPixelComponentType': 'float64', 'pointPixelType': 'Scalar', 'pointPixelComponents': 1, 'cellComponentType': 'uint64', 'cellPixelComponentType': 'float64', 'cellPixelType': 'Scalar', 'cellPixelComponents': 1}, 'name': '', 'dimension': 3, 'numberOfPoints': 16587, 'points': array([ 55.538155,  91.491844,  64.33265 , ..., 104.95681 ,  93.99789 ,\n",
            "        34.300396], dtype=float32), 'numberOfPointPixels': 16587, 'pointData': array([0.16583272, 0.        , 0.        , ..., 0.        , 0.10137601,\n",
            "       0.        ]), 'numberOfCells': 32224, 'cells': array([140396306901776, 140396307045680,               0, ...,\n",
            "                 16584,           16586,           16585], dtype=uint64), 'numberOfCellPixels': 32224, 'cellData': array([6.93616358e-310, 6.93649924e-310, 0.00000000e+000, ...,\n",
            "       9.22310260e-002, 3.37920043e-002, 3.44735188e-002]), 'cellBufferSize': 161120}, array([140396306901776, 140396307045680,               0, ...,\n",
            "                 16584,           16586,           16585], dtype=uint64), array([140396306901776, 140396307045680,               0,               0,\n",
            "                     2], dtype=uint64), array([140396306901776, 140396307045680,               0,               0,\n",
            "                     2], dtype=uint64), array([    3,     0,     1, ..., 16584, 16586, 16585])],)\n"
          ]
        }
      ]
    },
    {
      "cell_type": "code",
      "source": [
        "print(output_result)"
      ],
      "metadata": {
        "colab": {
          "base_uri": "https://localhost:8080/"
        },
        "id": "kPpOz5JVvf0I",
        "outputId": "7c835eac-c76a-41fe-f38f-e45919b46261"
      },
      "execution_count": null,
      "outputs": [
        {
          "output_type": "stream",
          "name": "stdout",
          "text": [
            "([{'meshType': {'dimension': 3, 'pointComponentType': 'float32', 'pointPixelComponentType': 'float64', 'pointPixelType': 'Scalar', 'pointPixelComponents': 1, 'cellComponentType': 'uint64', 'cellPixelComponentType': 'float64', 'cellPixelType': 'Scalar', 'cellPixelComponents': 1}, 'name': '', 'dimension': 3, 'numberOfPoints': 16587, 'points': array([ 55.538155,  91.491844,  64.33265 , ..., 104.95681 ,  93.99789 ,\n",
            "        34.300396], dtype=float32), 'numberOfPointPixels': 16587, 'pointData': array([0.16583272, 0.        , 0.        , ..., 0.        , 0.10137601,\n",
            "       0.        ]), 'numberOfCells': 32224, 'cells': array([    2,     3,     0, ..., 16584, 16586, 16585], dtype=uint64), 'numberOfCellPixels': 32224, 'cellData': array([6.93652251e-310, 6.93652245e-310, 0.00000000e+000, ...,\n",
            "       9.22310260e-002, 3.37920043e-002, 3.44735188e-002]), 'cellBufferSize': 161120}, array([    2,     3,     0, ..., 16584, 16586, 16585], dtype=uint64), array([2, 3, 0, 1, 2], dtype=uint64), array([2, 3, 0, 1, 2], dtype=uint64), array([    3,     0,     1, ..., 16584, 16586, 16585])],)\n"
          ]
        }
      ]
    },
    {
      "cell_type": "code",
      "source": [
        "print(output_result)"
      ],
      "metadata": {
        "colab": {
          "base_uri": "https://localhost:8080/"
        },
        "id": "dBQRGsCjrZ9t",
        "outputId": "92a101ab-b96c-4ed1-9f5e-dcf30ca4aefd"
      },
      "execution_count": null,
      "outputs": [
        {
          "output_type": "stream",
          "name": "stdout",
          "text": [
            "([{'meshType': {'dimension': 3, 'pointComponentType': 'float32', 'pointPixelComponentType': 'float64', 'pointPixelType': 'Scalar', 'pointPixelComponents': 1, 'cellComponentType': 'uint64', 'cellPixelComponentType': 'float64', 'cellPixelType': 'Scalar', 'cellPixelComponents': 1}, 'name': '', 'dimension': 3, 'numberOfPoints': 16587, 'points': array([ 55.538155,  91.491844,  64.33265 , ..., 104.95681 ,  93.99789 ,\n",
            "        34.300396], dtype=float32), 'numberOfPointPixels': 16587, 'pointData': array([0.16583272, 0.        , 0.        , ..., 0.        , 0.10137601,\n",
            "       0.        ]), 'numberOfCells': 32224, 'cells': array([140396173240640, 140396172711552,               0, ...,\n",
            "                 16584,           16586,           16585], dtype=uint64), 'numberOfCellPixels': 32224, 'cellData': array([6.93649257e-310, 6.93649261e-310, 0.00000000e+000, ...,\n",
            "       9.22310260e-002, 3.37920043e-002, 3.44735188e-002]), 'cellBufferSize': 161120}, array([140396173240640, 140396172711552,               0, ...,\n",
            "                 16584,           16586,           16585], dtype=uint64), array([140396173240640, 140396172711552,               0,               0,\n",
            "                     2], dtype=uint64), array([140396173240640, 140396172711552,               0,               0,\n",
            "                     2], dtype=uint64)],)\n"
          ]
        }
      ]
    },
    {
      "cell_type": "code",
      "source": [
        "mesh1 = itk.mesh_from_dict(output_result[0][0])\n",
        "\n",
        "#itkwidgets.view(geometries=[mesh1])\n"
      ],
      "metadata": {
        "id": "fVVbcbjgsFRw"
      },
      "execution_count": null,
      "outputs": []
    },
    {
      "cell_type": "code",
      "source": [
        "itk.meshwrite(mesh1, 'mesh1.vtk')"
      ],
      "metadata": {
        "id": "j6eHPXn4v9gX"
      },
      "execution_count": null,
      "outputs": []
    },
    {
      "cell_type": "code",
      "source": [
        "print(output_result[0][0])"
      ],
      "metadata": {
        "colab": {
          "base_uri": "https://localhost:8080/"
        },
        "id": "wHxbZnP9txX8",
        "outputId": "98dc9c01-5a61-4393-c69e-cbd00c632f3b"
      },
      "execution_count": null,
      "outputs": [
        {
          "output_type": "stream",
          "name": "stdout",
          "text": [
            "{'meshType': {'dimension': 3, 'pointComponentType': 'float32', 'pointPixelComponentType': 'float64', 'pointPixelType': 'Scalar', 'pointPixelComponents': 1, 'cellComponentType': 'uint64', 'cellPixelComponentType': 'float64', 'cellPixelType': 'Scalar', 'cellPixelComponents': 1}, 'name': '', 'dimension': 3, 'numberOfPoints': 16587, 'points': array([ 55.538155,  91.491844,  64.33265 , ..., 104.95681 ,  93.99789 ,\n",
            "        34.300396], dtype=float32), 'numberOfPointPixels': 16587, 'pointData': array([0.16583272, 0.        , 0.        , ..., 0.        , 0.10137601,\n",
            "       0.        ]), 'numberOfCells': 32224, 'cells': array([140396173240640, 140396172711552,               0, ...,\n",
            "                 16584,           16586,           16585], dtype=uint64), 'numberOfCellPixels': 32224, 'cellData': array([6.93649257e-310, 6.93649261e-310, 0.00000000e+000, ...,\n",
            "       9.22310260e-002, 3.37920043e-002, 3.44735188e-002]), 'cellBufferSize': 161120}\n"
          ]
        }
      ]
    },
    {
      "cell_type": "code",
      "source": [
        "print(output_result[0][1])"
      ],
      "metadata": {
        "colab": {
          "base_uri": "https://localhost:8080/"
        },
        "id": "3eX6aADXt4Y1",
        "outputId": "c94eb181-4964-4115-9d2f-5b73cda3dd69"
      },
      "execution_count": null,
      "outputs": [
        {
          "output_type": "stream",
          "name": "stdout",
          "text": [
            "[140396173240640 140396172711552               0 ...           16584\n",
            "           16586           16585]\n"
          ]
        }
      ]
    },
    {
      "cell_type": "code",
      "source": [
        "print(output_result[0][2])"
      ],
      "metadata": {
        "colab": {
          "base_uri": "https://localhost:8080/"
        },
        "id": "orJC4CAWt6Ek",
        "outputId": "2747e086-25ae-4188-ccf7-4df7137a595e"
      },
      "execution_count": null,
      "outputs": [
        {
          "output_type": "stream",
          "name": "stdout",
          "text": [
            "[140396173240640 140396172711552               0               0\n",
            "               2]\n"
          ]
        }
      ]
    },
    {
      "cell_type": "code",
      "source": [
        "cells_array1 = output_result[0]#['cells']\n",
        "print(cells_array1.shape[0])\n",
        "cells_array1 = np.reshape(cells_array1, [32224, 5])\n",
        "print(cells_array1.shape)"
      ],
      "metadata": {
        "colab": {
          "base_uri": "https://localhost:8080/"
        },
        "id": "iiMfOxkPmjzY",
        "outputId": "959fd758-b076-4731-ba3c-351455fa9952"
      },
      "execution_count": null,
      "outputs": [
        {
          "output_type": "stream",
          "name": "stdout",
          "text": [
            "161120\n",
            "(32224, 5)\n"
          ]
        }
      ]
    },
    {
      "cell_type": "code",
      "source": [
        "cells_array1[:3]"
      ],
      "metadata": {
        "colab": {
          "base_uri": "https://localhost:8080/"
        },
        "id": "RHdZkBOpsMp8",
        "outputId": "fe900d9e-1de7-4920-f68c-4a0e47694776"
      },
      "execution_count": null,
      "outputs": [
        {
          "output_type": "execute_result",
          "data": {
            "text/plain": [
              "array([[2, 3, 0, 1, 2],\n",
              "       [2, 3, 2, 3, 0],\n",
              "       [2, 3, 4, 3, 2]], dtype=uint64)"
            ]
          },
          "metadata": {},
          "execution_count": 65
        }
      ]
    },
    {
      "cell_type": "code",
      "source": [
        "cells_array[:3]"
      ],
      "metadata": {
        "colab": {
          "base_uri": "https://localhost:8080/"
        },
        "id": "27MPDLW6sP7i",
        "outputId": "237a5085-3f78-471f-8fd0-3d1c67bd84ca"
      },
      "execution_count": null,
      "outputs": [
        {
          "output_type": "execute_result",
          "data": {
            "text/plain": [
              "array([[140396274906288, 140396248231168,               0,\n",
              "                      0,               2],\n",
              "       [              2,               3,               2,\n",
              "                      3,               0],\n",
              "       [              2,               3,               4,\n",
              "                      3,               2]], dtype=uint64)"
            ]
          },
          "metadata": {},
          "execution_count": 66
        }
      ]
    },
    {
      "cell_type": "code",
      "source": [
        "# 140396274906288, 140396248231168"
      ],
      "metadata": {
        "id": "GADioqT9sZqR"
      },
      "execution_count": null,
      "outputs": []
    },
    {
      "cell_type": "code",
      "source": [
        "cells_array = output_result[0]#['cells']\n",
        "print(cells_array.shape[0])\n",
        "cells_array = np.reshape(cells_array, [32224, 5])\n",
        "print(cells_array.shape)"
      ],
      "metadata": {
        "colab": {
          "base_uri": "https://localhost:8080/"
        },
        "id": "Cdp5sOO5lQi-",
        "outputId": "7af3c201-59d9-4645-c907-be905065406a"
      },
      "execution_count": null,
      "outputs": [
        {
          "output_type": "stream",
          "name": "stdout",
          "text": [
            "161120\n",
            "(32224, 5)\n"
          ]
        }
      ]
    },
    {
      "cell_type": "code",
      "source": [
        "np.save('c1.npy', cells_array)"
      ],
      "metadata": {
        "id": "t8LDdsaPq7LZ"
      },
      "execution_count": null,
      "outputs": []
    },
    {
      "cell_type": "code",
      "source": [
        "for k in range(10):\n",
        "  print(cells_array[k])"
      ],
      "metadata": {
        "colab": {
          "base_uri": "https://localhost:8080/"
        },
        "id": "ZTsi-8Ixlz_9",
        "outputId": "0918981e-758b-4836-b15c-40f025e4f954"
      },
      "execution_count": null,
      "outputs": [
        {
          "output_type": "stream",
          "name": "stdout",
          "text": [
            "[140396274906288 140396248231168               0               0\n",
            "               2]\n",
            "[2 3 2 3 0]\n",
            "[2 3 4 3 2]\n",
            "[2 3 5 3 4]\n",
            "[2 3 6 5 4]\n",
            "[2 3 7 5 6]\n",
            "[2 3 8 7 6]\n",
            "[ 2  3  9 10 11]\n",
            "[ 2  3 11 12  9]\n",
            "[ 2  3 12 13 14]\n"
          ]
        }
      ]
    },
    {
      "cell_type": "code",
      "source": [
        "# To enable running the itkwidgets window on colab\n",
        "from google.colab import output\n",
        "output.enable_custom_widget_manager()\n",
        "\n",
        "mesh1 = itk.mesh_from_dict(output_result[0])\n",
        "itkwidgets.view(geometries=[mesh1])"
      ],
      "metadata": {
        "colab": {
          "base_uri": "https://localhost:8080/",
          "height": 356
        },
        "id": "kFJAcPTsaQkk",
        "outputId": "972cf7cc-e1a6-4e2e-b2fe-aff23c9fb402"
      },
      "execution_count": null,
      "outputs": [
        {
          "output_type": "error",
          "ename": "RuntimeError",
          "evalue": "ignored",
          "traceback": [
            "\u001b[0;31m---------------------------------------------------------------------------\u001b[0m",
            "\u001b[0;31mRuntimeError\u001b[0m                              Traceback (most recent call last)",
            "\u001b[0;32m<ipython-input-13-a48fc8535140>\u001b[0m in \u001b[0;36m<module>\u001b[0;34m()\u001b[0m\n\u001b[1;32m      3\u001b[0m \u001b[0moutput\u001b[0m\u001b[0;34m.\u001b[0m\u001b[0menable_custom_widget_manager\u001b[0m\u001b[0;34m(\u001b[0m\u001b[0;34m)\u001b[0m\u001b[0;34m\u001b[0m\u001b[0;34m\u001b[0m\u001b[0m\n\u001b[1;32m      4\u001b[0m \u001b[0;34m\u001b[0m\u001b[0m\n\u001b[0;32m----> 5\u001b[0;31m \u001b[0mmesh1\u001b[0m \u001b[0;34m=\u001b[0m \u001b[0mitk\u001b[0m\u001b[0;34m.\u001b[0m\u001b[0mmesh_from_dict\u001b[0m\u001b[0;34m(\u001b[0m\u001b[0moutput_result\u001b[0m\u001b[0;34m[\u001b[0m\u001b[0;36m0\u001b[0m\u001b[0;34m]\u001b[0m\u001b[0;34m)\u001b[0m\u001b[0;34m\u001b[0m\u001b[0;34m\u001b[0m\u001b[0m\n\u001b[0m\u001b[1;32m      6\u001b[0m \u001b[0mitkwidgets\u001b[0m\u001b[0;34m.\u001b[0m\u001b[0mview\u001b[0m\u001b[0;34m(\u001b[0m\u001b[0mgeometries\u001b[0m\u001b[0;34m=\u001b[0m\u001b[0;34m[\u001b[0m\u001b[0mmesh1\u001b[0m\u001b[0;34m]\u001b[0m\u001b[0;34m)\u001b[0m\u001b[0;34m\u001b[0m\u001b[0;34m\u001b[0m\u001b[0m\n",
            "\u001b[0;32m/usr/local/lib/python3.7/dist-packages/itk/support/extras.py\u001b[0m in \u001b[0;36mmesh_from_dict\u001b[0;34m(mesh_dict)\u001b[0m\n\u001b[1;32m    875\u001b[0m     \u001b[0mcells\u001b[0m \u001b[0;34m=\u001b[0m \u001b[0mmesh_dict\u001b[0m\u001b[0;34m[\u001b[0m\u001b[0;34m\"cells\"\u001b[0m\u001b[0;34m]\u001b[0m\u001b[0;34m\u001b[0m\u001b[0;34m\u001b[0m\u001b[0m\n\u001b[1;32m    876\u001b[0m     \u001b[0mcells\u001b[0m \u001b[0;34m=\u001b[0m \u001b[0mitk\u001b[0m\u001b[0;34m.\u001b[0m\u001b[0mvector_container_from_array\u001b[0m\u001b[0;34m(\u001b[0m\u001b[0mcells\u001b[0m\u001b[0;34m)\u001b[0m\u001b[0;34m\u001b[0m\u001b[0;34m\u001b[0m\u001b[0m\n\u001b[0;32m--> 877\u001b[0;31m     \u001b[0mmesh\u001b[0m\u001b[0;34m.\u001b[0m\u001b[0mSetCellsArray\u001b[0m\u001b[0;34m(\u001b[0m\u001b[0mcells\u001b[0m\u001b[0;34m)\u001b[0m\u001b[0;34m\u001b[0m\u001b[0;34m\u001b[0m\u001b[0m\n\u001b[0m\u001b[1;32m    878\u001b[0m \u001b[0;34m\u001b[0m\u001b[0m\n\u001b[1;32m    879\u001b[0m     \u001b[0mcell_data\u001b[0m \u001b[0;34m=\u001b[0m \u001b[0mmesh_dict\u001b[0m\u001b[0;34m[\u001b[0m\u001b[0;34m\"cellData\"\u001b[0m\u001b[0;34m]\u001b[0m\u001b[0;34m\u001b[0m\u001b[0;34m\u001b[0m\u001b[0m\n",
            "\u001b[0;31mRuntimeError\u001b[0m: /work/ITK-source/ITK/Modules/Core/Mesh/include/itkMesh.hxx:171:\nITK ERROR: Mesh(0x92c74a0): Unknown mesh cell"
          ]
        }
      ]
    },
    {
      "cell_type": "code",
      "source": [
        "# Read File from S3 from Dask workers inside the EC2 instances\n",
        "# Now finish the pipeline\n",
        "\n",
        "@delayed\n",
        "def show_contents_s3_bucket_a(bucket_name, filename):\n",
        "  import boto3\n",
        "  import itk\n",
        "\n",
        "  s3     = boto3.resource(\"s3\")\n",
        "  bucket = s3.Bucket(bucket_name)\n",
        "\n",
        "  #all_objects = []\n",
        "  #for obj in bucket.objects.all():\n",
        "  #  all_objects.append(str(obj.key))\n",
        "  #all_files = \",\".join(all_objects)\n",
        "\n",
        "  s3.Bucket(bucket_name).download_file(filename, filename)\n",
        "  itk_image = itk.imread(filename)\n",
        "  return itk_image.shape\n",
        "\n",
        "bucket_name = 'oaisample1'\n",
        "filename    = 'atlas_image.nii.gz'\n",
        "output_str  = show_contents_s3_bucket_a(bucket_name, filename)\n",
        "\n",
        "l = compute(output_str)\n",
        "print(l)"
      ],
      "metadata": {
        "id": "6MikIq2-6vfH"
      },
      "execution_count": null,
      "outputs": []
    },
    {
      "cell_type": "code",
      "execution_count": null,
      "metadata": {
        "id": "8lqJbjg941Rt"
      },
      "outputs": [],
      "source": [
        "# For fetching files from S3\n",
        "\n",
        "import boto3\n",
        "s3 = boto3.resource(\"s3\")\n",
        "\n",
        "def show_contents_s3_bucket(bucket_name):\n",
        "  import boto3\n",
        "\n",
        "  s3     = boto3.resource(\"s3\")\n",
        "  bucket = s3.Bucket(bucket_name)\n",
        "\n",
        "  all_objects = []\n",
        "  for obj in bucket.objects.all():\n",
        "    all_objects.append(str(obj.key))\n",
        "  \n",
        "  return \",\".join(all_objects)\n",
        "\n",
        "#print(f'filename : {obj.key} ')\n",
        "#s3.Bucket(bucket_name).download_file(obj.key, './OAIData1/'+obj.key)\n",
        "    \n",
        "bucket_name = 'oaisample1'\n",
        "show_contents_s3_bucket(bucket_name)"
      ]
    },
    {
      "cell_type": "code",
      "execution_count": null,
      "metadata": {
        "id": "EqxFLKdbgYq6"
      },
      "outputs": [],
      "source": [
        "# Code to create right transform\n",
        "\n",
        "for i in range(phi_AB.GetNumberOfTransforms()):\n",
        "  transform0 = phi_AB.GetNthTransform(i)\n",
        "  transform1 = phi_AB1.GetNthTransform(i)\n",
        "\n",
        "  o1 = transform1.GetFixedParameters()\n",
        "  o1.SetSize(transform0['fixedParameters'].shape[0])\n",
        "  for j, v in enumerate(transform0['fixedParameters']):\n",
        "      o1.SetElement(j, v)\n",
        "  transform1.SetFixedParameters(o1)\n",
        "\n",
        "  o2 = transform1.GetParameters()\n",
        "  o2.SetSize(transform0['parameters'].shape[0])\n",
        "  for j, v in enumerate(transform0['parameters']):\n",
        "      o2.SetElement(j, v)\n",
        "  transform1.SetParameters(o2)"
      ]
    },
    {
      "cell_type": "code",
      "execution_count": null,
      "metadata": {
        "colab": {
          "base_uri": "https://localhost:8080/"
        },
        "id": "fxm2-ekug74d",
        "outputId": "15160714-5049-453b-f666-49e6e80bc86e"
      },
      "outputs": [
        {
          "data": {
            "text/plain": [
              "<itk.itkTransformBasePython.itkTransformD33; proxy of <Swig Object of type 'itkTransformD33 *' at 0x7fa306063360> >"
            ]
          },
          "execution_count": 59,
          "metadata": {},
          "output_type": "execute_result"
        }
      ],
      "source": [
        "#itk.dict_from_transform(phi_AB1)\n",
        "phi_AB1.GetNthTransform(1)"
      ]
    },
    {
      "cell_type": "code",
      "execution_count": null,
      "metadata": {
        "colab": {
          "base_uri": "https://localhost:8080/"
        },
        "id": "gXc7o4y6bAA0",
        "outputId": "eacd4328-dc09-4d99-d33e-43699c2e2ba2"
      },
      "outputs": [
        {
          "name": "stdout",
          "output_type": "stream",
          "text": [
            "[{'name': '', 'numberOfTransforms': 1, 'parametersValueType': 'float64', 'inDimension': 3, 'outDimension': 3, 'transformName': 'DisplacementFieldTransform', 'transformType': 'D33', 'parameters': array([], dtype=float64), 'fixedParameters': array([0., 0., 0., 0., 0., 0., 0., 0., 0., 0., 0., 0., 0., 0., 0., 0., 0.,\n",
            "       0.]), 'numberOfParameters': 0, 'numberOfFixedParameters': 18}]\n"
          ]
        }
      ],
      "source": [
        "transform1 = phi_AB1.GetNthTransform(1)\n",
        "d1 = itk.dict_from_transform(transform1)\n",
        "print(d1)\n",
        "#print(transform1)"
      ]
    },
    {
      "cell_type": "code",
      "execution_count": null,
      "metadata": {
        "id": "nqnNqEurcxwz"
      },
      "outputs": [],
      "source": [
        "phi_AB1_dis = phi_AB1.GetNthTransform(1)"
      ]
    },
    {
      "cell_type": "code",
      "execution_count": null,
      "metadata": {
        "colab": {
          "base_uri": "https://localhost:8080/"
        },
        "id": "hxUUKXg0c4u6",
        "outputId": "d3ca6ed3-ea2a-4eab-d6b9-6eb6dfe4ccdb"
      },
      "outputs": [
        {
          "name": "stdout",
          "output_type": "stream",
          "text": [
            "[{'name': '', 'numberOfTransforms': 1, 'parametersValueType': 'float64', 'inDimension': 3, 'outDimension': 3, 'transformName': 'DisplacementFieldTransform', 'transformType': 'D33', 'parameters': array([], dtype=float64), 'fixedParameters': array([0., 0., 0., 0., 0., 0., 0., 0., 0., 0., 0., 0., 0., 0., 0., 0., 0.,\n",
            "       0.]), 'numberOfParameters': 0, 'numberOfFixedParameters': 18}]\n"
          ]
        }
      ],
      "source": [
        "print(itk.dict_from_transform(phi_AB1_dis))"
      ]
    },
    {
      "cell_type": "code",
      "execution_count": null,
      "metadata": {
        "colab": {
          "base_uri": "https://localhost:8080/"
        },
        "id": "t1mGvxsee7uY",
        "outputId": "779f01d7-a50c-46cb-d1e5-2e808335f4a7"
      },
      "outputs": [
        {
          "data": {
            "text/plain": [
              "[{'fixedParameters': array([192., 192.,  80.,   0.,   0.,   0.,   1.,   1.,   1.,   1.,   0.,\n",
              "           0.,   0.,   1.,   0.,   0.,   0.,   1.]),\n",
              "  'inDimension': 3,\n",
              "  'name': '',\n",
              "  'numberOfFixedParameters': 18,\n",
              "  'numberOfParameters': 8847360,\n",
              "  'numberOfTransforms': 1,\n",
              "  'outDimension': 3,\n",
              "  'parameters': array([-1.55766129, -1.21581364, -0.17686807, ...,  0.61738586,\n",
              "          2.51548004,  9.465065  ]),\n",
              "  'parametersValueType': 'float64',\n",
              "  'transformName': 'DisplacementFieldTransform',\n",
              "  'transformType': 'D33'}]"
            ]
          },
          "execution_count": 33,
          "metadata": {},
          "output_type": "execute_result"
        }
      ],
      "source": [
        "itk.dict_from_transform(phi_AB1_dis)"
      ]
    },
    {
      "cell_type": "code",
      "execution_count": null,
      "metadata": {
        "id": "VSu7RC9ScUTT"
      },
      "outputs": [],
      "source": [
        "# o2 = phi_AB1_dis.GetFixedParameters()\n",
        "# print(o2.Size())\n",
        "\n",
        "o2 = phi_AB1_dis.GetParameters()\n",
        "o2.SetSize(d1[0]['parameters'].shape[0])\n",
        "for j, v in enumerate(d1[0]['parameters']):\n",
        "    o2.SetElement(j, v)\n",
        "phi_AB1_dis.SetParameters(o2)\n",
        "\n",
        "o1 = phi_AB1_dis.GetFixedParameters()\n",
        "o1.SetSize(d1[0]['fixedParameters'].shape[0])\n",
        "for j, v in enumerate(d1[0]['fixedParameters']):\n",
        "    o1.SetElement(j, v)\n",
        "phi_AB1_dis.SetFixedParameters(o1)"
      ]
    },
    {
      "cell_type": "code",
      "execution_count": null,
      "metadata": {
        "colab": {
          "base_uri": "https://localhost:8080/"
        },
        "id": "N7GOkuc0egwa",
        "outputId": "2e362da0-9216-452b-9030-6433be561fda"
      },
      "outputs": [
        {
          "data": {
            "text/plain": [
              "[{'fixedParameters': array([0., 0., 0., 0., 0., 0., 0., 0., 0., 0., 0., 0., 0., 0., 0., 0., 0.,\n",
              "         0.]),\n",
              "  'inDimension': 3,\n",
              "  'name': '',\n",
              "  'numberOfFixedParameters': 18,\n",
              "  'numberOfParameters': 0,\n",
              "  'numberOfTransforms': 1,\n",
              "  'outDimension': 3,\n",
              "  'parameters': array([], dtype=float64),\n",
              "  'parametersValueType': 'float64',\n",
              "  'transformName': 'DisplacementFieldTransform',\n",
              "  'transformType': 'D33'}]"
            ]
          },
          "execution_count": 40,
          "metadata": {},
          "output_type": "execute_result"
        }
      ],
      "source": [
        "itk.dict_from_transform(phi_AB1_dis)"
      ]
    },
    {
      "cell_type": "code",
      "execution_count": null,
      "metadata": {
        "colab": {
          "base_uri": "https://localhost:8080/"
        },
        "id": "rA9VE4D7dTuS",
        "outputId": "f1c45e5a-82f1-4393-c610-9d9ec9bd9ad7"
      },
      "outputs": [
        {
          "data": {
            "text/plain": [
              "[{'fixedParameters': array([192., 192.,  80.,   0.,   0.,   0.,   1.,   1.,   1.,   1.,   0.,\n",
              "           0.,   0.,   1.,   0.,   0.,   0.,   1.]),\n",
              "  'inDimension': 3,\n",
              "  'name': '',\n",
              "  'numberOfFixedParameters': 18,\n",
              "  'numberOfParameters': 8847360,\n",
              "  'numberOfTransforms': 1,\n",
              "  'outDimension': 3,\n",
              "  'parameters': array([-1.55766129, -1.21581364, -0.17686807, ...,  0.61738586,\n",
              "          2.51548004,  9.465065  ]),\n",
              "  'parametersValueType': 'float64',\n",
              "  'transformName': 'DisplacementFieldTransform',\n",
              "  'transformType': 'D33'}]"
            ]
          },
          "execution_count": 28,
          "metadata": {},
          "output_type": "execute_result"
        }
      ],
      "source": [
        "itk.dict_from_transform(phi_AB1_dis)"
      ]
    },
    {
      "cell_type": "code",
      "execution_count": null,
      "metadata": {
        "colab": {
          "base_uri": "https://localhost:8080/",
          "height": 329
        },
        "id": "nBhsns89d8wE",
        "outputId": "e20ee6a0-026c-4bf6-9035-85358c25db24"
      },
      "outputs": [
        {
          "ename": "AttributeError",
          "evalue": "ignored",
          "output_type": "error",
          "traceback": [
            "\u001b[0;31m---------------------------------------------------------------------------\u001b[0m",
            "\u001b[0;31mAttributeError\u001b[0m                            Traceback (most recent call last)",
            "\u001b[0;32m<ipython-input-29-e7b1df14f003>\u001b[0m in \u001b[0;36m<module>\u001b[0;34m()\u001b[0m\n\u001b[0;32m----> 1\u001b[0;31m \u001b[0mphi_AB1_dis1\u001b[0m \u001b[0;34m=\u001b[0m \u001b[0mitk\u001b[0m\u001b[0;34m.\u001b[0m\u001b[0mtransform_from_dict\u001b[0m\u001b[0;34m(\u001b[0m\u001b[0mitk\u001b[0m\u001b[0;34m.\u001b[0m\u001b[0mdict_from_transform\u001b[0m\u001b[0;34m(\u001b[0m\u001b[0mphi_AB1_dis\u001b[0m\u001b[0;34m)\u001b[0m\u001b[0;34m)\u001b[0m\u001b[0;34m\u001b[0m\u001b[0;34m\u001b[0m\u001b[0m\n\u001b[0m\u001b[1;32m      2\u001b[0m \u001b[0mprint\u001b[0m\u001b[0;34m(\u001b[0m\u001b[0mphi_AB1_dis1\u001b[0m\u001b[0;34m)\u001b[0m\u001b[0;34m\u001b[0m\u001b[0;34m\u001b[0m\u001b[0m\n",
            "\u001b[0;32m/usr/local/lib/python3.7/dist-packages/itk/support/extras.py\u001b[0m in \u001b[0;36mtransform_from_dict\u001b[0;34m(transform_dict)\u001b[0m\n\u001b[1;32m   1148\u001b[0m         \u001b[0;31m# because that way we can handle future extensions easily.\u001b[0m\u001b[0;34m\u001b[0m\u001b[0;34m\u001b[0m\u001b[0;34m\u001b[0m\u001b[0m\n\u001b[1;32m   1149\u001b[0m         \u001b[0mtransform_template\u001b[0m \u001b[0;34m=\u001b[0m \u001b[0mgetattr\u001b[0m\u001b[0;34m(\u001b[0m\u001b[0mitk\u001b[0m\u001b[0;34m,\u001b[0m \u001b[0mtransform_dict\u001b[0m\u001b[0;34m[\u001b[0m\u001b[0;36m0\u001b[0m\u001b[0;34m]\u001b[0m\u001b[0;34m[\u001b[0m\u001b[0;34m\"transformName\"\u001b[0m\u001b[0;34m]\u001b[0m\u001b[0;34m)\u001b[0m\u001b[0;34m\u001b[0m\u001b[0;34m\u001b[0m\u001b[0m\n\u001b[0;32m-> 1150\u001b[0;31m         \u001b[0mtransform\u001b[0m \u001b[0;34m=\u001b[0m \u001b[0mgetattr\u001b[0m\u001b[0;34m(\u001b[0m\u001b[0mtransform_template\u001b[0m\u001b[0;34m,\u001b[0m \u001b[0mtransform_dict\u001b[0m\u001b[0;34m[\u001b[0m\u001b[0;36m0\u001b[0m\u001b[0;34m]\u001b[0m\u001b[0;34m[\u001b[0m\u001b[0;34m\"transformType\"\u001b[0m\u001b[0;34m]\u001b[0m\u001b[0;34m)\u001b[0m\u001b[0;34m.\u001b[0m\u001b[0mNew\u001b[0m\u001b[0;34m(\u001b[0m\u001b[0;34m)\u001b[0m\u001b[0;34m\u001b[0m\u001b[0;34m\u001b[0m\u001b[0m\n\u001b[0m\u001b[1;32m   1151\u001b[0m         \u001b[0mtransform\u001b[0m\u001b[0;34m.\u001b[0m\u001b[0mSetObjectName\u001b[0m\u001b[0;34m(\u001b[0m\u001b[0mtransform_dict\u001b[0m\u001b[0;34m[\u001b[0m\u001b[0;36m0\u001b[0m\u001b[0;34m]\u001b[0m\u001b[0;34m[\u001b[0m\u001b[0;34m\"name\"\u001b[0m\u001b[0;34m]\u001b[0m\u001b[0;34m)\u001b[0m\u001b[0;34m\u001b[0m\u001b[0;34m\u001b[0m\u001b[0m\n\u001b[1;32m   1152\u001b[0m         \u001b[0mset_parameters\u001b[0m\u001b[0;34m(\u001b[0m\u001b[0mtransform\u001b[0m\u001b[0;34m,\u001b[0m \u001b[0mtransform_dict\u001b[0m\u001b[0;34m[\u001b[0m\u001b[0;36m0\u001b[0m\u001b[0;34m]\u001b[0m\u001b[0;34m[\u001b[0m\u001b[0;34m\"parameters\"\u001b[0m\u001b[0;34m]\u001b[0m\u001b[0;34m,\u001b[0m \u001b[0mtransform_dict\u001b[0m\u001b[0;34m[\u001b[0m\u001b[0;36m0\u001b[0m\u001b[0;34m]\u001b[0m\u001b[0;34m[\u001b[0m\u001b[0;34m\"fixedParameters\"\u001b[0m\u001b[0;34m]\u001b[0m\u001b[0;34m)\u001b[0m\u001b[0;34m\u001b[0m\u001b[0;34m\u001b[0m\u001b[0m\n",
            "\u001b[0;32m/usr/local/lib/python3.7/dist-packages/itk/support/template_class.py\u001b[0m in \u001b[0;36m__getattr__\u001b[0;34m(self, attr)\u001b[0m\n\u001b[1;32m    536\u001b[0m         \u001b[0;34m\"\"\"Support for lazy loading.\"\"\"\u001b[0m\u001b[0;34m\u001b[0m\u001b[0;34m\u001b[0m\u001b[0m\n\u001b[1;32m    537\u001b[0m         \u001b[0mself\u001b[0m\u001b[0;34m.\u001b[0m\u001b[0m_LoadModules\u001b[0m\u001b[0;34m(\u001b[0m\u001b[0;34m)\u001b[0m\u001b[0;34m\u001b[0m\u001b[0;34m\u001b[0m\u001b[0m\n\u001b[0;32m--> 538\u001b[0;31m         \u001b[0;32mreturn\u001b[0m \u001b[0mobject\u001b[0m\u001b[0;34m.\u001b[0m\u001b[0m__getattribute__\u001b[0m\u001b[0;34m(\u001b[0m\u001b[0mself\u001b[0m\u001b[0;34m,\u001b[0m \u001b[0mattr\u001b[0m\u001b[0;34m)\u001b[0m\u001b[0;34m\u001b[0m\u001b[0;34m\u001b[0m\u001b[0m\n\u001b[0m\u001b[1;32m    539\u001b[0m \u001b[0;34m\u001b[0m\u001b[0m\n\u001b[1;32m    540\u001b[0m     \u001b[0;32mdef\u001b[0m \u001b[0m_LoadModules\u001b[0m\u001b[0;34m(\u001b[0m\u001b[0mself\u001b[0m\u001b[0;34m)\u001b[0m \u001b[0;34m->\u001b[0m \u001b[0;32mNone\u001b[0m\u001b[0;34m:\u001b[0m\u001b[0;34m\u001b[0m\u001b[0;34m\u001b[0m\u001b[0m\n",
            "\u001b[0;31mAttributeError\u001b[0m: 'itkTemplate' object has no attribute 'D33'"
          ]
        }
      ],
      "source": [
        "phi_AB1_dis1 = itk.transform_from_dict(itk.dict_from_transform(phi_AB1_dis))\n",
        "print(phi_AB1_dis1)"
      ]
    },
    {
      "cell_type": "code",
      "execution_count": null,
      "metadata": {
        "id": "R1i2sj1sbSfl"
      },
      "outputs": [],
      "source": [
        "import pickle\n",
        "pickle.dump(d1, open(\"transform_object.pkl\", \"wb\")) "
      ]
    },
    {
      "cell_type": "code",
      "execution_count": null,
      "metadata": {
        "colab": {
          "base_uri": "https://localhost:8080/"
        },
        "id": "n-9YIHJ5a3AX",
        "outputId": "db7ea824-fa2a-4798-fedb-44d4407c6a1c"
      },
      "outputs": [
        {
          "name": "stdout",
          "output_type": "stream",
          "text": [
            "[0. 0. 0. 0. 0. 0. 0. 0. 0. 0. 0. 0. 0. 0. 0. 0. 0. 0.]\n"
          ]
        }
      ],
      "source": [
        "print(phi_AB1.GetNthTransform(1)[\"fixedParameters\"])"
      ]
    },
    {
      "cell_type": "code",
      "execution_count": null,
      "metadata": {
        "colab": {
          "base_uri": "https://localhost:8080/"
        },
        "id": "36L0jvSniGK6",
        "outputId": "8dd5d8ab-711c-4d1a-ea9f-92174d3e5ee0"
      },
      "outputs": [
        {
          "name": "stdout",
          "output_type": "stream",
          "text": [
            "[192. 192.  80.   0.   0.   0.   1.   1.   1.   1.   0.   0.   0.   1.\n",
            "   0.   0.   0.   1.]\n"
          ]
        }
      ],
      "source": [
        "print(phi_AB.GetNthTransform(1)[\"fixedParameters\"])"
      ]
    },
    {
      "cell_type": "code",
      "execution_count": null,
      "metadata": {
        "colab": {
          "base_uri": "https://localhost:8080/"
        },
        "id": "Tk6s1buzjVCY",
        "outputId": "f999be0c-b39c-4882-d8bd-721621c37051"
      },
      "outputs": [
        {
          "name": "stdout",
          "output_type": "stream",
          "text": [
            "[-1.55766129 -1.21581364 -0.17686807 ...  0.61738586  2.51548004\n",
            "  9.465065  ]\n",
            "[-0.55766129 -0.21581364  0.82313193 ...  1.61738586  3.51548004\n",
            " 10.465065  ]\n"
          ]
        }
      ],
      "source": [
        "temp1 = phi_AB1.GetNthTransform(1)\n",
        "print(temp1[\"parameters\"])\n",
        "temp1[\"parameters\"] = phi_AB.GetNthTransform(1)[\"parameters\"]+1\n",
        "print(temp1[\"parameters\"])"
      ]
    },
    {
      "cell_type": "code",
      "execution_count": null,
      "metadata": {
        "id": "SgwCk3O1kI3h"
      },
      "outputs": [],
      "source": [
        "itk.dict_from_transform(phi_AB1)"
      ]
    },
    {
      "cell_type": "code",
      "execution_count": null,
      "metadata": {
        "id": "b21yc9jGj7-V"
      },
      "outputs": [],
      "source": [
        "itk.dict_from_transform(phi_AB)"
      ]
    },
    {
      "cell_type": "code",
      "execution_count": null,
      "metadata": {
        "colab": {
          "base_uri": "https://localhost:8080/"
        },
        "id": "YzZLycI7h5Ro",
        "outputId": "633e40ea-1878-4f15-c1d9-1fd5d94659a7"
      },
      "outputs": [
        {
          "name": "stdout",
          "output_type": "stream",
          "text": [
            "[-1.55766129 -1.21581364 -0.17686807 ...  0.61738586  2.51548004\n",
            "  9.465065  ]\n"
          ]
        }
      ],
      "source": [
        "print(phi_AB.GetNthTransform(1)[\"parameters\"])"
      ]
    },
    {
      "cell_type": "code",
      "execution_count": null,
      "metadata": {
        "id": "AggW6qERJ26R"
      },
      "outputs": [],
      "source": [
        "deformed_fc = deform_probmap_FC_delayed(phi_AB, image_A, image_B)"
      ]
    },
    {
      "cell_type": "code",
      "execution_count": null,
      "metadata": {
        "id": "3kMAjypVd7id"
      },
      "outputs": [],
      "source": [
        "phi_AB1 = itk.transform_from_dict(d1)"
      ]
    },
    {
      "cell_type": "code",
      "execution_count": null,
      "metadata": {
        "colab": {
          "base_uri": "https://localhost:8080/"
        },
        "id": "23FkZkOWhtlX",
        "outputId": "9fb7ec11-ad3f-4895-c187-984ab1d939c7"
      },
      "outputs": [
        {
          "name": "stdout",
          "output_type": "stream",
          "text": [
            "[]\n"
          ]
        }
      ],
      "source": [
        "phi_AB1[\"fixedParameters\"]\n",
        "print(phi_AB[\"fixedParameters\"])"
      ]
    },
    {
      "cell_type": "code",
      "execution_count": null,
      "metadata": {
        "id": "KnnPVmUgdzBQ"
      },
      "outputs": [],
      "source": [
        "d1 = itk.dict_from_transform(phi_AB)"
      ]
    },
    {
      "cell_type": "code",
      "execution_count": null,
      "metadata": {
        "id": "LiaCLDdVds07"
      },
      "outputs": [],
      "source": [
        "print(phi_AB)"
      ]
    },
    {
      "cell_type": "code",
      "execution_count": null,
      "metadata": {
        "id": "OeGQvP5oM0rm"
      },
      "outputs": [],
      "source": [
        "d1"
      ]
    },
    {
      "cell_type": "code",
      "execution_count": null,
      "metadata": {
        "id": "WafSZY7MKWqO"
      },
      "outputs": [],
      "source": [
        "d1 = itk.dict_from_transform(phi_AB)\n",
        "phi_AB1 = itk.transform_from_dict(d1)\n",
        "\n",
        "print(phi_AB1)"
      ]
    },
    {
      "cell_type": "code",
      "execution_count": null,
      "metadata": {
        "id": "TbzlXlKONPVm"
      },
      "outputs": [],
      "source": [
        "phi_AB1_fixed_params = phi_AB1.GetNthTransform(0)#['fixedParameters']\n",
        "print(phi_AB1_fixed_params[\"fixedParameters\"])\n",
        "\n",
        "phi_AB_fixed_params = phi_AB.GetNthTransform(0)#['fixedParameters']\n",
        "print(phi_AB_fixed_params[\"fixedParameters\"])\n",
        "\n",
        "#print(phi_AB1_fixed_params.GetFixedParameters())"
      ]
    },
    {
      "cell_type": "code",
      "execution_count": null,
      "metadata": {
        "colab": {
          "base_uri": "https://localhost:8080/",
          "height": 381
        },
        "id": "nrqDAxzqQs_V",
        "outputId": "df54c541-0fd8-4442-fbaf-9614bbbf9ac6"
      },
      "outputs": [
        {
          "ename": "ModuleNotFoundError",
          "evalue": "ignored",
          "output_type": "error",
          "traceback": [
            "\u001b[0;31m---------------------------------------------------------------------------\u001b[0m",
            "\u001b[0;31mModuleNotFoundError\u001b[0m                       Traceback (most recent call last)",
            "\u001b[0;32m<ipython-input-1-28ac62ca86d0>\u001b[0m in \u001b[0;36m<module>\u001b[0;34m()\u001b[0m\n\u001b[0;32m----> 1\u001b[0;31m \u001b[0;32mimport\u001b[0m \u001b[0mitk\u001b[0m\u001b[0;34m\u001b[0m\u001b[0;34m\u001b[0m\u001b[0m\n\u001b[0m\u001b[1;32m      2\u001b[0m \u001b[0;32mimport\u001b[0m \u001b[0mnumpy\u001b[0m \u001b[0;32mas\u001b[0m \u001b[0mnp\u001b[0m\u001b[0;34m\u001b[0m\u001b[0;34m\u001b[0m\u001b[0m\n\u001b[1;32m      3\u001b[0m \u001b[0;32mimport\u001b[0m \u001b[0mpickle\u001b[0m\u001b[0;34m\u001b[0m\u001b[0;34m\u001b[0m\u001b[0m\n\u001b[1;32m      4\u001b[0m \u001b[0;34m\u001b[0m\u001b[0m\n\u001b[1;32m      5\u001b[0m \u001b[0mDimension\u001b[0m \u001b[0;34m=\u001b[0m \u001b[0;36m3\u001b[0m\u001b[0;34m\u001b[0m\u001b[0;34m\u001b[0m\u001b[0m\n",
            "\u001b[0;31mModuleNotFoundError\u001b[0m: No module named 'itk'",
            "",
            "\u001b[0;31m---------------------------------------------------------------------------\u001b[0;32m\nNOTE: If your import is failing due to a missing package, you can\nmanually install dependencies using either !pip or !apt.\n\nTo view examples of installing some common dependencies, click the\n\"Open Examples\" button below.\n\u001b[0;31m---------------------------------------------------------------------------\u001b[0m\n"
          ]
        }
      ],
      "source": [
        "import itk\n",
        "import numpy as np\n",
        "import pickle\n",
        "\n",
        "Dimension = 3\n",
        "PixelType = itk.D\n",
        "\n",
        "# List of Transforms to test\n",
        "transforms_to_test = [itk.DisplacementFieldTransform[PixelType, Dimension]]#[itk.AffineTransform[PixelType, Dimension], itk.DisplacementFieldTransform[PixelType, Dimension], itk.BSplineTransform[PixelType, Dimension, 3], itk.QuaternionRigidTransform[PixelType]]\n",
        "\n",
        "keys_to_test1 = [\"name\", \"parametersValueType\", \"transformName\", \"transformType\", \"inDimension\", \"outDimension\", \"numberOfParameters\", \"numberOfFixedParameters\"]\n",
        "keys_to_test2 = [\"parameters\", \"fixedParameters\"]\n",
        "\n",
        "transform_object_list = []\n",
        "for i, transform_type in enumerate(transforms_to_test):\n",
        "    print(transform_type)\n",
        "\n",
        "    transform = transform_type.New()\n",
        "    transform.SetObjectName(\"transform\"+str(i))\n",
        "    print(transform.GetObjectName())\n",
        "\n",
        "    fixedParameters = np.random.rand(3, 3, 2).flatten()\n",
        "    print(transform.GetFixedParameters().Size())\n",
        "\n",
        "    #print(fixedParameters.dtype)\n",
        "    transform[\"fixedParameters\"] = fixedParameters\n",
        "\n",
        "    #print(transform[\"fixedParameters\"])\n",
        "\n",
        "    # Check the serialization\n",
        "    serialize_deserialize = pickle.loads(pickle.dumps(transform))\n",
        "\n",
        "    #print(serialize_deserialize)\n",
        "    # # Test all the attributes\n",
        "    for k in keys_to_test1:\n",
        "        assert serialize_deserialize[k] == transform[k]\n",
        "\n",
        "    # # Test all the parameters\n",
        "    for k in keys_to_test2:\n",
        "        print(k)\n",
        "        print(serialize_deserialize[k])\n",
        "        print(transform[k])\n",
        "        assert np.array_equal(serialize_deserialize[k], transform[k])\n",
        "\n",
        "    transform.SetFixedParameters(transform.GetFixedParameters())\n",
        "    #transform[\"fixedParameters\"] = fixedParameters#transform.GetFixedParameters()\n",
        "    #print(transform)\n",
        "    # transform_object_list.append(transform)\n",
        "\n",
        "print('Individual Transforms Test Done')"
      ]
    },
    {
      "cell_type": "code",
      "execution_count": null,
      "metadata": {
        "id": "1eW0If1hRmIg"
      },
      "outputs": [],
      "source": [
        "transform.SetFixedParameters"
      ]
    },
    {
      "cell_type": "code",
      "execution_count": null,
      "metadata": {
        "id": "tztMFgs3QxVT"
      },
      "outputs": [],
      "source": [
        "t1 = transform_object_list[1]\n",
        "print(t1[\"fixedParameters\"])"
      ]
    },
    {
      "cell_type": "code",
      "execution_count": null,
      "metadata": {
        "id": "55FBR5LMNjKN"
      },
      "outputs": [],
      "source": [
        "transform_template = getattr(itk, 'DisplacementFieldTransform')\n",
        "transform_template"
      ]
    },
    {
      "cell_type": "code",
      "execution_count": null,
      "metadata": {
        "id": "U-tAi3ECN14T"
      },
      "outputs": [],
      "source": [
        "a = np.array([3, 3])\n",
        "print(a.shape)\n",
        "print(np.random.rand(*a))"
      ]
    },
    {
      "cell_type": "code",
      "execution_count": null,
      "metadata": {
        "id": "WSZ2PUWYB0vy"
      },
      "outputs": [],
      "source": [
        "output_result = compute(result)\n",
        "print(output_result)"
      ]
    },
    {
      "cell_type": "code",
      "execution_count": null,
      "metadata": {
        "id": "XDJkXRHs-7FN"
      },
      "outputs": [],
      "source": [
        "img_np = np.random.rand(5, 5)\n",
        "print(img_np.shape)\n",
        "\n",
        "img = itk.image_from_array(img_np)\n",
        "print(img.shape)"
      ]
    },
    {
      "cell_type": "code",
      "execution_count": null,
      "metadata": {
        "id": "A87IIQ4tcwvQ"
      },
      "outputs": [],
      "source": [
        "# Create a test mesh\n",
        "\n",
        "m = itk.Mesh.F3.New()\n",
        "p = np.random.rand(5, 3).astype('float32')\n",
        "print(p.shape, p.dtype)\n",
        "m.SetPoints(itk.vector_container_from_array(p.flatten()))\n",
        "\n",
        "#md = itk.dict_from_mesh(m)\n",
        "#print(md)"
      ]
    },
    {
      "cell_type": "code",
      "execution_count": null,
      "metadata": {
        "id": "LO0weghb_KIm"
      },
      "outputs": [],
      "source": [
        "@delayed\n",
        "def perform_sum1(img_temp):\n",
        "  import itk\n",
        "  mesh = itk.mesh_from_dict(img_temp)\n",
        "  return img_temp['dimension']\n",
        "\n",
        "  #return np.sum(img_temp['points'])\n",
        "  #return itk.di\n",
        "  #import itkConfig\n",
        "  #itkConfig.LazyLoading = False\n",
        "  #import itk\n",
        "  #return itk.image_from_array(img_temp)\n",
        "  #a = np.array(img_temp)\n",
        "  #return a#np.sum(img_temp)"
      ]
    },
    {
      "cell_type": "code",
      "execution_count": null,
      "metadata": {
        "id": "19uaqQxfXFGZ"
      },
      "outputs": [],
      "source": [
        "# Create Dask Computation Graph\n",
        "\n",
        "result = []\n",
        "\n",
        "#import_done = import_all()\n",
        "image_preprocessed, atlas_image   = get_paths()\n",
        "\n",
        "image_A, image_B, FC_prob, TC_prob  = read_images(image_preprocessed, atlas_image)\n",
        "phi_AB            = only_register_images(image_A, image_B)\n",
        "\n",
        "warped_image_FC = deform_probmap_FC(phi_AB, image_A, image_B, FC_prob)\n",
        "warped_image_TC = deform_probmap_TC(phi_AB, image_A, image_B, TC_prob)\n",
        "\n",
        "thickness_FC = get_thickness_FC(warped_image_FC)\n",
        "thickness_TC = get_thickness_TC(warped_image_TC)\n",
        "\n",
        "result.append(thickness_FC)\n",
        "result.append(thickness_TC)"
      ]
    },
    {
      "cell_type": "code",
      "execution_count": null,
      "metadata": {
        "id": "TAkwQu9Emm_-"
      },
      "outputs": [],
      "source": [
        "numParam = deform_probmap_FC_paramA(phi_AB)\n"
      ]
    },
    {
      "cell_type": "code",
      "execution_count": null,
      "metadata": {
        "id": "9-jWMZxT_S-0"
      },
      "outputs": [],
      "source": [
        "m1 = itk.dict_from_mesh(m)\n",
        "sumImg = perform_sum1(m1)"
      ]
    },
    {
      "cell_type": "code",
      "execution_count": null,
      "metadata": {
        "id": "PzSIRcHff1BP"
      },
      "outputs": [],
      "source": [
        "#cluster.close()"
      ]
    },
    {
      "cell_type": "code",
      "execution_count": null,
      "metadata": {
        "id": "7B9giaonXGfA"
      },
      "outputs": [],
      "source": [
        "# Visualize Dask Computation Graph\n",
        "\n",
        "visualize(sumImg)"
      ]
    },
    {
      "cell_type": "code",
      "execution_count": null,
      "metadata": {
        "id": "06pW5urcXIzF"
      },
      "outputs": [],
      "source": [
        "# Perform computation\n",
        "#%%time\n",
        "l = compute(sumImg)"
      ]
    },
    {
      "cell_type": "code",
      "execution_count": null,
      "metadata": {
        "id": "wBmRAP-Dlwpe"
      },
      "outputs": [],
      "source": [
        "print(l)"
      ]
    },
    {
      "cell_type": "code",
      "execution_count": null,
      "metadata": {
        "id": "oW-DKEDbFfIM"
      },
      "outputs": [],
      "source": [
        "import pickle\n",
        "import cloudpickle\n",
        "a = itk.image_from_array(img_np)\n",
        "b = cloudpickle.loads(pickle.dumps(a))\n",
        "print(b)"
      ]
    },
    {
      "cell_type": "code",
      "execution_count": null,
      "metadata": {
        "id": "TQwypZ4tHEZW"
      },
      "outputs": [],
      "source": [
        "!pip install cloudpickle"
      ]
    },
    {
      "cell_type": "code",
      "execution_count": null,
      "metadata": {
        "id": "K6S0ee-zGwa-"
      },
      "outputs": [],
      "source": [
        ""
      ]
    },
    {
      "cell_type": "markdown",
      "metadata": {
        "id": "4MlwDE5nXo4C"
      },
      "source": [
        "![DaskProgress](https://user-images.githubusercontent.com/1044135/163692457-40a41395-3d83-4928-9445-528cd025a7b9.png)\n"
      ]
    },
    {
      "cell_type": "code",
      "execution_count": null,
      "metadata": {
        "id": "EGoH_Yv4XwN-"
      },
      "outputs": [],
      "source": [
        "# Write the result meshes\n",
        "\n",
        "distance_inner_FC = l[0]\n",
        "distance_inner_TC = l[1]\n",
        "\n",
        "itk.meshwrite(distance_inner_FC, 'itk_distance_inner_FC.vtk')\n",
        "itk.meshwrite(distance_inner_TC, 'itk_distance_inner_TC.vtk')"
      ]
    },
    {
      "cell_type": "code",
      "execution_count": null,
      "metadata": {
        "id": "NyM5dBpSX2D6"
      },
      "outputs": [],
      "source": [
        "# Visualize the meshes with thickness as cell data\n",
        "\n",
        "# To enable running the itkwidgets window on colab\n",
        "from google.colab import output\n",
        "output.enable_custom_widget_manager()\n",
        "\n",
        "a1 = vtk.vtkPolyDataReader()\n",
        "a1.SetFileName('itk_distance_inner_FC.vtk')\n",
        "a1.Update()\n",
        "distance_inner_FC = a1.GetOutput()\n",
        "\n",
        "itkwidgets.view(geometries=[distance_inner_FC])"
      ]
    }
  ],
  "metadata": {
    "accelerator": "GPU",
    "colab": {
      "collapsed_sections": [],
      "name": "DaskComputationCoiled.ipynb",
      "provenance": [],
      "include_colab_link": true
    },
    "kernelspec": {
      "display_name": "Python 3",
      "name": "python3"
    },
    "language_info": {
      "name": "python"
    },
    "widgets": {
      "application/vnd.jupyter.widget-state+json": {
        "efbdf373f0a34b8bb4b2168509b3d451": {
          "model_module": "@jupyter-widgets/output",
          "model_name": "OutputModel",
          "model_module_version": "1.0.0",
          "state": {
            "_dom_classes": [],
            "_model_module": "@jupyter-widgets/output",
            "_model_module_version": "1.0.0",
            "_model_name": "OutputModel",
            "_view_count": null,
            "_view_module": "@jupyter-widgets/output",
            "_view_module_version": "1.0.0",
            "_view_name": "OutputView",
            "layout": "IPY_MODEL_4207533d5b4f4b6bb4885079601a66b3",
            "msg_id": "",
            "outputs": [
              {
                "output_type": "display_data",
                "data": {
                  "text/plain": "\u001b[32m⠋\u001b[0m \u001b[1;32mCreating Cluster. This might take a few minutes...\u001b[0m\n",
                  "text/html": "<pre style=\"white-space:pre;overflow-x:auto;line-height:normal;font-family:Menlo,'DejaVu Sans Mono',consolas,'Courier New',monospace\"><span style=\"color: #008000; text-decoration-color: #008000\">⠋</span> <span style=\"color: #008000; text-decoration-color: #008000; font-weight: bold\">Creating Cluster. This might take a few minutes...</span>\n</pre>\n"
                },
                "metadata": {}
              }
            ]
          }
        },
        "4207533d5b4f4b6bb4885079601a66b3": {
          "model_module": "@jupyter-widgets/base",
          "model_name": "LayoutModel",
          "model_module_version": "1.2.0",
          "state": {
            "_model_module": "@jupyter-widgets/base",
            "_model_module_version": "1.2.0",
            "_model_name": "LayoutModel",
            "_view_count": null,
            "_view_module": "@jupyter-widgets/base",
            "_view_module_version": "1.2.0",
            "_view_name": "LayoutView",
            "align_content": null,
            "align_items": null,
            "align_self": null,
            "border": null,
            "bottom": null,
            "display": null,
            "flex": null,
            "flex_flow": null,
            "grid_area": null,
            "grid_auto_columns": null,
            "grid_auto_flow": null,
            "grid_auto_rows": null,
            "grid_column": null,
            "grid_gap": null,
            "grid_row": null,
            "grid_template_areas": null,
            "grid_template_columns": null,
            "grid_template_rows": null,
            "height": null,
            "justify_content": null,
            "justify_items": null,
            "left": null,
            "margin": null,
            "max_height": null,
            "max_width": null,
            "min_height": null,
            "min_width": null,
            "object_fit": null,
            "object_position": null,
            "order": null,
            "overflow": null,
            "overflow_x": null,
            "overflow_y": null,
            "padding": null,
            "right": null,
            "top": null,
            "visibility": null,
            "width": null
          }
        }
      }
    }
  },
  "nbformat": 4,
  "nbformat_minor": 0
}