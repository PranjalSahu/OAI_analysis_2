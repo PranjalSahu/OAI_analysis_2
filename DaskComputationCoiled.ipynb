{
  "nbformat": 4,
  "nbformat_minor": 0,
  "metadata": {
    "colab": {
      "name": "DaskComputationCoiled.ipynb",
      "provenance": [],
      "collapsed_sections": [],
      "authorship_tag": "ABX9TyNylF7CXqp5HwXjb7dbj7Yt",
      "include_colab_link": true
    },
    "kernelspec": {
      "name": "python3",
      "display_name": "Python 3"
    },
    "language_info": {
      "name": "python"
    },
    "widgets": {
      "application/vnd.jupyter.widget-state+json": {
        "1168bdc5c1634fc38627a535d5e3dc8f": {
          "model_module": "itkwidgets",
          "model_name": "ViewerModel",
          "model_module_version": "^0.32.1",
          "state": {
            "_custom_cmap": null,
            "_dom_classes": [],
            "_downsampling": false,
            "_largest_roi": {
              "shape": [
                2,
                3
              ],
              "dtype": "float64"
            },
            "_model_module": "itkwidgets",
            "_model_module_version": "^0.32.1",
            "_model_name": "ViewerModel",
            "_rendering_image": false,
            "_reset_crop_requested": false,
            "_scale_factors": {
              "shape": [
                3
              ],
              "dtype": "uint8"
            },
            "_view_count": null,
            "_view_module": "itkwidgets",
            "_view_module_version": "^0.32.1",
            "_view_name": "ViewerView",
            "annotations": true,
            "axes": false,
            "background": [
              1,
              1,
              1
            ],
            "blend_mode": "composite",
            "camera": {
              "shape": [
                3,
                3
              ],
              "dtype": "float32"
            },
            "channels": null,
            "clicked_slice_point": null,
            "cmap": null,
            "geometries": [
              {
                "vtkClass": "vtkPolyData",
                "points": {
                  "vtkClass": "vtkPoints",
                  "name": "_points",
                  "numberOfComponents": 3,
                  "dataType": "Float32Array",
                  "size": 161451
                },
                "polys": {
                  "vtkClass": "vtkCellArray",
                  "name": "_polys",
                  "numberOfComponents": 1,
                  "size": 421692,
                  "dataType": "Uint32Array"
                },
                "pointData": {
                  "vtkClass": "vtkDataSetAttributes",
                  "activeScalars": 0,
                  "arrays": [
                    {
                      "data": {
                        "vtkClass": "vtkDataArray",
                        "name": "PointScalarData",
                        "numberOfComponents": 1,
                        "size": 53818,
                        "dataType": "Float64Array"
                      }
                    }
                  ]
                },
                "cellData": {
                  "vtkClass": "vtkDataSetAttributes",
                  "activeScalars": 0,
                  "arrays": [
                    {
                      "data": {
                        "vtkClass": "vtkDataArray",
                        "name": "CellScalarData",
                        "numberOfComponents": 1,
                        "size": 105424,
                        "dataType": "Float64Array"
                      }
                    }
                  ]
                },
                "metadata": {
                  "name": "Geometry 0"
                }
              }
            ],
            "geometry_colors": {
              "shape": [
                1,
                3
              ],
              "dtype": "float32"
            },
            "geometry_opacities": {
              "shape": [
                1
              ],
              "dtype": "float32"
            },
            "gradient_opacity": 0.22,
            "interpolation": true,
            "label_image_blend": 0.5,
            "label_image_names": null,
            "label_image_weights": null,
            "layout": "IPY_MODEL_694e81244a3f42baa5e955811ba96ad3",
            "lut": "glasbey",
            "mode": "v",
            "opacity_gaussians": null,
            "point_set_colors": {
              "shape": [
                0,
                3
              ],
              "dtype": "float32"
            },
            "point_set_opacities": {
              "shape": [
                0
              ],
              "dtype": "float32"
            },
            "point_set_representations": [],
            "point_set_sizes": {
              "shape": [
                0
              ],
              "dtype": "uint8"
            },
            "point_sets": [],
            "rendered_image": null,
            "rendered_label_image": null,
            "roi": {
              "shape": [
                2,
                3
              ],
              "dtype": "float64"
            },
            "rotate": false,
            "sample_distance": 0.25,
            "select_roi": false,
            "shadow": true,
            "slicing_planes": false,
            "ui_collapsed": false,
            "units": "",
            "vmax": null,
            "vmin": null,
            "x_slice": null,
            "y_slice": null,
            "z_slice": null
          }
        },
        "694e81244a3f42baa5e955811ba96ad3": {
          "model_module": "@jupyter-widgets/base",
          "model_name": "LayoutModel",
          "model_module_version": "1.2.0",
          "state": {
            "_model_module": "@jupyter-widgets/base",
            "_model_module_version": "1.2.0",
            "_model_name": "LayoutModel",
            "_view_count": null,
            "_view_module": "@jupyter-widgets/base",
            "_view_module_version": "1.2.0",
            "_view_name": "LayoutView",
            "align_content": null,
            "align_items": null,
            "align_self": null,
            "border": null,
            "bottom": null,
            "display": null,
            "flex": null,
            "flex_flow": null,
            "grid_area": null,
            "grid_auto_columns": null,
            "grid_auto_flow": null,
            "grid_auto_rows": null,
            "grid_column": null,
            "grid_gap": null,
            "grid_row": null,
            "grid_template_areas": null,
            "grid_template_columns": null,
            "grid_template_rows": null,
            "height": null,
            "justify_content": null,
            "justify_items": null,
            "left": null,
            "margin": null,
            "max_height": null,
            "max_width": null,
            "min_height": null,
            "min_width": null,
            "object_fit": null,
            "object_position": null,
            "order": null,
            "overflow": null,
            "overflow_x": null,
            "overflow_y": null,
            "padding": null,
            "right": null,
            "top": null,
            "visibility": null,
            "width": null
          }
        },
        "d9c77f0364ae449f816c87b1f241fdee": {
          "model_module": "itkwidgets",
          "model_name": "ViewerModel",
          "model_module_version": "^0.32.1",
          "state": {
            "_custom_cmap": null,
            "_dom_classes": [],
            "_downsampling": false,
            "_largest_roi": {
              "shape": [
                2,
                3
              ],
              "dtype": "float64"
            },
            "_model_module": "itkwidgets",
            "_model_module_version": "^0.32.1",
            "_model_name": "ViewerModel",
            "_rendering_image": true,
            "_reset_crop_requested": false,
            "_scale_factors": {
              "shape": [
                3
              ],
              "dtype": "uint8"
            },
            "_view_count": null,
            "_view_module": "itkwidgets",
            "_view_module_version": "^0.32.1",
            "_view_name": "ViewerView",
            "annotations": true,
            "axes": false,
            "background": [],
            "blend_mode": "composite",
            "camera": {
              "shape": [
                3,
                3
              ],
              "dtype": "float32"
            },
            "channels": null,
            "clicked_slice_point": null,
            "cmap": null,
            "geometries": [],
            "geometry_colors": {
              "shape": [
                0,
                3
              ],
              "dtype": "float32"
            },
            "geometry_opacities": {
              "shape": [
                0
              ],
              "dtype": "float32"
            },
            "gradient_opacity": 0.9,
            "interpolation": true,
            "label_image_blend": 0.5,
            "label_image_names": null,
            "label_image_weights": null,
            "layout": "IPY_MODEL_59d60f04c04545dc8fe3b25a4cbb9a24",
            "lut": "glasbey",
            "mode": "v",
            "opacity_gaussians": null,
            "point_set_colors": {
              "shape": [
                0,
                3
              ],
              "dtype": "float32"
            },
            "point_set_opacities": {
              "shape": [
                0
              ],
              "dtype": "float32"
            },
            "point_set_representations": [],
            "point_set_sizes": {
              "shape": [
                0
              ],
              "dtype": "uint8"
            },
            "point_sets": [],
            "rendered_image": {
              "imageType": {
                "dimension": 3,
                "componentType": "double",
                "pixelType": 1,
                "components": 1
              },
              "origin": [
                0,
                0,
                0
              ],
              "spacing": [
                1,
                1,
                1
              ],
              "size": [
                100,
                100,
                100
              ],
              "direction": {
                "data": [
                  1,
                  0,
                  0,
                  0,
                  1,
                  0,
                  0,
                  0,
                  1
                ],
                "rows": 3,
                "columns": 3
              }
            },
            "rendered_label_image": null,
            "roi": {
              "shape": [
                2,
                3
              ],
              "dtype": "float64"
            },
            "rotate": false,
            "sample_distance": 0.25,
            "select_roi": false,
            "shadow": true,
            "slicing_planes": false,
            "ui_collapsed": false,
            "units": "",
            "vmax": null,
            "vmin": null,
            "x_slice": null,
            "y_slice": null,
            "z_slice": null
          }
        },
        "485e70d09d474adb8886f5fb63b907dd": {
          "model_module": "@jupyter-widgets/output",
          "model_name": "OutputModel",
          "model_module_version": "1.0.0",
          "state": {
            "_dom_classes": [],
            "_model_module": "@jupyter-widgets/output",
            "_model_module_version": "1.0.0",
            "_model_name": "OutputModel",
            "_view_count": null,
            "_view_module": "@jupyter-widgets/output",
            "_view_module_version": "1.0.0",
            "_view_name": "OutputView",
            "layout": "IPY_MODEL_7456ad7b79af4c4e997570974de1a256",
            "msg_id": "",
            "outputs": [
              {
                "output_type": "display_data",
                "data": {
                  "text/plain": "\u001b[32m⠇\u001b[0m \u001b[1;32mCreating Cluster. This might take a few minutes...\u001b[0m\n",
                  "text/html": "<pre style=\"white-space:pre;overflow-x:auto;line-height:normal;font-family:Menlo,'DejaVu Sans Mono',consolas,'Courier New',monospace\"><span style=\"color: #008000; text-decoration-color: #008000\">⠇</span> <span style=\"color: #008000; text-decoration-color: #008000; font-weight: bold\">Creating Cluster. This might take a few minutes...</span>\n</pre>\n"
                },
                "metadata": {}
              }
            ]
          }
        },
        "7456ad7b79af4c4e997570974de1a256": {
          "model_module": "@jupyter-widgets/base",
          "model_name": "LayoutModel",
          "model_module_version": "1.2.0",
          "state": {
            "_model_module": "@jupyter-widgets/base",
            "_model_module_version": "1.2.0",
            "_model_name": "LayoutModel",
            "_view_count": null,
            "_view_module": "@jupyter-widgets/base",
            "_view_module_version": "1.2.0",
            "_view_name": "LayoutView",
            "align_content": null,
            "align_items": null,
            "align_self": null,
            "border": null,
            "bottom": null,
            "display": null,
            "flex": null,
            "flex_flow": null,
            "grid_area": null,
            "grid_auto_columns": null,
            "grid_auto_flow": null,
            "grid_auto_rows": null,
            "grid_column": null,
            "grid_gap": null,
            "grid_row": null,
            "grid_template_areas": null,
            "grid_template_columns": null,
            "grid_template_rows": null,
            "height": null,
            "justify_content": null,
            "justify_items": null,
            "left": null,
            "margin": null,
            "max_height": null,
            "max_width": null,
            "min_height": null,
            "min_width": null,
            "object_fit": null,
            "object_position": null,
            "order": null,
            "overflow": null,
            "overflow_x": null,
            "overflow_y": null,
            "padding": null,
            "right": null,
            "top": null,
            "visibility": null,
            "width": null
          }
        },
        "453f88562bec4e049fd592cb926722c4": {
          "model_module": "@jupyter-widgets/controls",
          "model_name": "TabModel",
          "model_module_version": "1.5.0",
          "state": {
            "_dom_classes": [],
            "_model_module": "@jupyter-widgets/controls",
            "_model_module_version": "1.5.0",
            "_model_name": "TabModel",
            "_titles": {
              "0": "Status",
              "1": "Scaling"
            },
            "_view_count": null,
            "_view_module": "@jupyter-widgets/controls",
            "_view_module_version": "1.5.0",
            "_view_name": "TabView",
            "box_style": "",
            "children": [
              "IPY_MODEL_0ac884295e5d498280f4f77d8c67bd9e",
              "IPY_MODEL_6d9735b50e06414da2f363a4a6e7aadb"
            ],
            "layout": "IPY_MODEL_9aea63319cee43d99b577ba5f38972ab",
            "selected_index": 0
          }
        },
        "0ac884295e5d498280f4f77d8c67bd9e": {
          "model_module": "@jupyter-widgets/controls",
          "model_name": "HTMLModel",
          "model_module_version": "1.5.0",
          "state": {
            "_dom_classes": [],
            "_model_module": "@jupyter-widgets/controls",
            "_model_module_version": "1.5.0",
            "_model_name": "HTMLModel",
            "_view_count": null,
            "_view_module": "@jupyter-widgets/controls",
            "_view_module_version": "1.5.0",
            "_view_name": "HTMLView",
            "description": "",
            "description_tooltip": null,
            "layout": "IPY_MODEL_9c2e089f8f78440eae7fe4aebf83633e",
            "placeholder": "​",
            "style": "IPY_MODEL_aeaaf48775a545b3996b3b9a3e57ebfb",
            "value": "<div class=\"jp-RenderedHTMLCommon jp-RenderedHTML jp-mod-trusted jp-OutputArea-output\">\n    <div style=\"width: 24px; height: 24px; background-color: #e1e1e1; border: 3px solid #9D9D9D; border-radius: 5px; position: absolute;\">\n    </div>\n    <div style=\"margin-left: 48px;\">\n        <h3 style=\"margin-bottom: 0px; margin-top: 0px;\">Cluster</h3>\n        <p style=\"color: #9D9D9D; margin-bottom: 0px;\">pranjal-sahu-a3ff5552-8</p>\n        <table style=\"width: 100%; text-align: left;\">\n            <tr>\n                <td style=\"text-align: left;\">\n                    <strong>Dashboard:</strong> <a href=\"http://35.172.180.96:8787\" target=\"_blank\">http://35.172.180.96:8787</a>\n                </td>\n                <td style=\"text-align: left;\">\n                    <strong>Workers:</strong> 4\n                </td>\n            </tr>\n            <tr>\n                <td style=\"text-align: left;\">\n                    <strong>Total threads:</strong> 16\n                </td>\n                <td style=\"text-align: left;\">\n                    <strong>Total memory:</strong> 61.79 GiB\n                </td>\n            </tr>\n            \n        </table>\n\n        <details>\n            <summary style=\"margin-bottom: 20px;\">\n                <h3 style=\"display: inline;\">Scheduler Info</h3>\n            </summary>\n\n            <div style=\"\">\n    <div>\n        <div style=\"width: 24px; height: 24px; background-color: #FFF7E5; border: 3px solid #FF6132; border-radius: 5px; position: absolute;\"> </div>\n        <div style=\"margin-left: 48px;\">\n            <h3 style=\"margin-bottom: 0px;\">Scheduler</h3>\n            <p style=\"color: #9D9D9D; margin-bottom: 0px;\">Scheduler-8395aed4-7d09-468c-82f5-0a754294a1e4</p>\n            <table style=\"width: 100%; text-align: left;\">\n                <tr>\n                    <td style=\"text-align: left;\">\n                        <strong>Comm:</strong> tls://10.0.2.196:8786\n                    </td>\n                    <td style=\"text-align: left;\">\n                        <strong>Workers:</strong> 4\n                    </td>\n                </tr>\n                <tr>\n                    <td style=\"text-align: left;\">\n                        <strong>Dashboard:</strong> <a href=\"http://10.0.2.196:8787/status\" target=\"_blank\">http://10.0.2.196:8787/status</a>\n                    </td>\n                    <td style=\"text-align: left;\">\n                        <strong>Total threads:</strong> 16\n                    </td>\n                </tr>\n                <tr>\n                    <td style=\"text-align: left;\">\n                        <strong>Started:</strong> 16 minutes ago\n                    </td>\n                    <td style=\"text-align: left;\">\n                        <strong>Total memory:</strong> 61.79 GiB\n                    </td>\n                </tr>\n            </table>\n        </div>\n    </div>\n\n    <details style=\"margin-left: 48px;\">\n        <summary style=\"margin-bottom: 20px;\">\n            <h3 style=\"display: inline;\">Workers</h3>\n        </summary>\n\n        \n        <div style=\"margin-bottom: 20px;\">\n            <div style=\"width: 24px; height: 24px; background-color: #DBF5FF; border: 3px solid #4CC9FF; border-radius: 5px; position: absolute;\"> </div>\n            <div style=\"margin-left: 48px;\">\n            <details>\n                <summary>\n                    <h4 style=\"margin-bottom: 0px; display: inline;\">Worker: coiled-dask-pranjal09-151052-worker-47c8d2a680</h4>\n                </summary>\n                <table style=\"width: 100%; text-align: left;\">\n                    <tr>\n                        <td style=\"text-align: left;\">\n                            <strong>Comm: </strong> tls://10.0.7.250:33745\n                        </td>\n                        <td style=\"text-align: left;\">\n                            <strong>Total threads: </strong> 4\n                        </td>\n                    </tr>\n                    <tr>\n                        <td style=\"text-align: left;\">\n                            <strong>Dashboard: </strong> <a href=\"http://10.0.7.250:34909/status\" target=\"_blank\">http://10.0.7.250:34909/status</a>\n                        </td>\n                        <td style=\"text-align: left;\">\n                            <strong>Memory: </strong> 15.45 GiB\n                        </td>\n                    </tr>\n                    <tr>\n                        <td style=\"text-align: left;\">\n                            <strong>Nanny: </strong> tls://10.0.7.250:45509\n                        </td>\n                        <td style=\"text-align: left;\"></td>\n                    </tr>\n                    <tr>\n                        <td colspan=\"2\" style=\"text-align: left;\">\n                            <strong>Local directory: </strong> /dask-worker-space/worker-ujd8_1f3\n                        </td>\n                    </tr>\n\n                    \n\n                    \n\n                </table>\n            </details>\n            </div>\n        </div>\n        \n        <div style=\"margin-bottom: 20px;\">\n            <div style=\"width: 24px; height: 24px; background-color: #DBF5FF; border: 3px solid #4CC9FF; border-radius: 5px; position: absolute;\"> </div>\n            <div style=\"margin-left: 48px;\">\n            <details>\n                <summary>\n                    <h4 style=\"margin-bottom: 0px; display: inline;\">Worker: coiled-dask-pranjal09-151052-worker-7483778ca1</h4>\n                </summary>\n                <table style=\"width: 100%; text-align: left;\">\n                    <tr>\n                        <td style=\"text-align: left;\">\n                            <strong>Comm: </strong> tls://10.0.14.241:42187\n                        </td>\n                        <td style=\"text-align: left;\">\n                            <strong>Total threads: </strong> 4\n                        </td>\n                    </tr>\n                    <tr>\n                        <td style=\"text-align: left;\">\n                            <strong>Dashboard: </strong> <a href=\"http://10.0.14.241:45129/status\" target=\"_blank\">http://10.0.14.241:45129/status</a>\n                        </td>\n                        <td style=\"text-align: left;\">\n                            <strong>Memory: </strong> 15.45 GiB\n                        </td>\n                    </tr>\n                    <tr>\n                        <td style=\"text-align: left;\">\n                            <strong>Nanny: </strong> tls://10.0.14.241:34713\n                        </td>\n                        <td style=\"text-align: left;\"></td>\n                    </tr>\n                    <tr>\n                        <td colspan=\"2\" style=\"text-align: left;\">\n                            <strong>Local directory: </strong> /dask-worker-space/worker-4rbefsoe\n                        </td>\n                    </tr>\n\n                    \n\n                    \n\n                </table>\n            </details>\n            </div>\n        </div>\n        \n        <div style=\"margin-bottom: 20px;\">\n            <div style=\"width: 24px; height: 24px; background-color: #DBF5FF; border: 3px solid #4CC9FF; border-radius: 5px; position: absolute;\"> </div>\n            <div style=\"margin-left: 48px;\">\n            <details>\n                <summary>\n                    <h4 style=\"margin-bottom: 0px; display: inline;\">Worker: coiled-dask-pranjal09-151052-worker-b2345ab1ea</h4>\n                </summary>\n                <table style=\"width: 100%; text-align: left;\">\n                    <tr>\n                        <td style=\"text-align: left;\">\n                            <strong>Comm: </strong> tls://10.0.13.165:39573\n                        </td>\n                        <td style=\"text-align: left;\">\n                            <strong>Total threads: </strong> 4\n                        </td>\n                    </tr>\n                    <tr>\n                        <td style=\"text-align: left;\">\n                            <strong>Dashboard: </strong> <a href=\"http://10.0.13.165:34439/status\" target=\"_blank\">http://10.0.13.165:34439/status</a>\n                        </td>\n                        <td style=\"text-align: left;\">\n                            <strong>Memory: </strong> 15.45 GiB\n                        </td>\n                    </tr>\n                    <tr>\n                        <td style=\"text-align: left;\">\n                            <strong>Nanny: </strong> tls://10.0.13.165:40151\n                        </td>\n                        <td style=\"text-align: left;\"></td>\n                    </tr>\n                    <tr>\n                        <td colspan=\"2\" style=\"text-align: left;\">\n                            <strong>Local directory: </strong> /dask-worker-space/worker-jyc87o5i\n                        </td>\n                    </tr>\n\n                    \n\n                    \n\n                </table>\n            </details>\n            </div>\n        </div>\n        \n        <div style=\"margin-bottom: 20px;\">\n            <div style=\"width: 24px; height: 24px; background-color: #DBF5FF; border: 3px solid #4CC9FF; border-radius: 5px; position: absolute;\"> </div>\n            <div style=\"margin-left: 48px;\">\n            <details>\n                <summary>\n                    <h4 style=\"margin-bottom: 0px; display: inline;\">Worker: coiled-dask-pranjal09-151052-worker-d63fd067fa</h4>\n                </summary>\n                <table style=\"width: 100%; text-align: left;\">\n                    <tr>\n                        <td style=\"text-align: left;\">\n                            <strong>Comm: </strong> tls://10.0.3.110:46217\n                        </td>\n                        <td style=\"text-align: left;\">\n                            <strong>Total threads: </strong> 4\n                        </td>\n                    </tr>\n                    <tr>\n                        <td style=\"text-align: left;\">\n                            <strong>Dashboard: </strong> <a href=\"http://10.0.3.110:44485/status\" target=\"_blank\">http://10.0.3.110:44485/status</a>\n                        </td>\n                        <td style=\"text-align: left;\">\n                            <strong>Memory: </strong> 15.45 GiB\n                        </td>\n                    </tr>\n                    <tr>\n                        <td style=\"text-align: left;\">\n                            <strong>Nanny: </strong> tls://10.0.3.110:41479\n                        </td>\n                        <td style=\"text-align: left;\"></td>\n                    </tr>\n                    <tr>\n                        <td colspan=\"2\" style=\"text-align: left;\">\n                            <strong>Local directory: </strong> /dask-worker-space/worker-yzqr7h57\n                        </td>\n                    </tr>\n\n                    \n\n                    \n\n                </table>\n            </details>\n            </div>\n        </div>\n        \n\n    </details>\n</div>\n\n        </details>\n    </div>\n</div>"
          }
        },
        "6d9735b50e06414da2f363a4a6e7aadb": {
          "model_module": "@jupyter-widgets/controls",
          "model_name": "VBoxModel",
          "model_module_version": "1.5.0",
          "state": {
            "_dom_classes": [],
            "_model_module": "@jupyter-widgets/controls",
            "_model_module_version": "1.5.0",
            "_model_name": "VBoxModel",
            "_view_count": null,
            "_view_module": "@jupyter-widgets/controls",
            "_view_module_version": "1.5.0",
            "_view_name": "VBoxView",
            "box_style": "",
            "children": [
              "IPY_MODEL_11bea4a4a8324febb2efac5c66b192cb",
              "IPY_MODEL_d4cbdb708ef84a81a03f3785ca8e168f"
            ],
            "layout": "IPY_MODEL_6ca18f4c757a4138904a07b10c89633d"
          }
        },
        "9aea63319cee43d99b577ba5f38972ab": {
          "model_module": "@jupyter-widgets/base",
          "model_name": "LayoutModel",
          "model_module_version": "1.2.0",
          "state": {
            "_model_module": "@jupyter-widgets/base",
            "_model_module_version": "1.2.0",
            "_model_name": "LayoutModel",
            "_view_count": null,
            "_view_module": "@jupyter-widgets/base",
            "_view_module_version": "1.2.0",
            "_view_name": "LayoutView",
            "align_content": null,
            "align_items": null,
            "align_self": null,
            "border": null,
            "bottom": null,
            "display": null,
            "flex": null,
            "flex_flow": null,
            "grid_area": null,
            "grid_auto_columns": null,
            "grid_auto_flow": null,
            "grid_auto_rows": null,
            "grid_column": null,
            "grid_gap": null,
            "grid_row": null,
            "grid_template_areas": null,
            "grid_template_columns": null,
            "grid_template_rows": null,
            "height": null,
            "justify_content": null,
            "justify_items": null,
            "left": null,
            "margin": null,
            "max_height": null,
            "max_width": null,
            "min_height": null,
            "min_width": null,
            "object_fit": null,
            "object_position": null,
            "order": null,
            "overflow": null,
            "overflow_x": null,
            "overflow_y": null,
            "padding": null,
            "right": null,
            "top": null,
            "visibility": null,
            "width": null
          }
        },
        "9c2e089f8f78440eae7fe4aebf83633e": {
          "model_module": "@jupyter-widgets/base",
          "model_name": "LayoutModel",
          "model_module_version": "1.2.0",
          "state": {
            "_model_module": "@jupyter-widgets/base",
            "_model_module_version": "1.2.0",
            "_model_name": "LayoutModel",
            "_view_count": null,
            "_view_module": "@jupyter-widgets/base",
            "_view_module_version": "1.2.0",
            "_view_name": "LayoutView",
            "align_content": null,
            "align_items": null,
            "align_self": null,
            "border": null,
            "bottom": null,
            "display": null,
            "flex": null,
            "flex_flow": null,
            "grid_area": null,
            "grid_auto_columns": null,
            "grid_auto_flow": null,
            "grid_auto_rows": null,
            "grid_column": null,
            "grid_gap": null,
            "grid_row": null,
            "grid_template_areas": null,
            "grid_template_columns": null,
            "grid_template_rows": null,
            "height": null,
            "justify_content": null,
            "justify_items": null,
            "left": null,
            "margin": null,
            "max_height": null,
            "max_width": null,
            "min_height": null,
            "min_width": null,
            "object_fit": null,
            "object_position": null,
            "order": null,
            "overflow": null,
            "overflow_x": null,
            "overflow_y": null,
            "padding": null,
            "right": null,
            "top": null,
            "visibility": null,
            "width": null
          }
        },
        "aeaaf48775a545b3996b3b9a3e57ebfb": {
          "model_module": "@jupyter-widgets/controls",
          "model_name": "DescriptionStyleModel",
          "model_module_version": "1.5.0",
          "state": {
            "_model_module": "@jupyter-widgets/controls",
            "_model_module_version": "1.5.0",
            "_model_name": "DescriptionStyleModel",
            "_view_count": null,
            "_view_module": "@jupyter-widgets/base",
            "_view_module_version": "1.2.0",
            "_view_name": "StyleView",
            "description_width": ""
          }
        },
        "11bea4a4a8324febb2efac5c66b192cb": {
          "model_module": "@jupyter-widgets/controls",
          "model_name": "HTMLModel",
          "model_module_version": "1.5.0",
          "state": {
            "_dom_classes": [],
            "_model_module": "@jupyter-widgets/controls",
            "_model_module_version": "1.5.0",
            "_model_name": "HTMLModel",
            "_view_count": null,
            "_view_module": "@jupyter-widgets/controls",
            "_view_module_version": "1.5.0",
            "_view_name": "HTMLView",
            "description": "",
            "description_tooltip": null,
            "layout": "IPY_MODEL_92b38ba2fba446dc98d9fa9be68599c1",
            "placeholder": "​",
            "style": "IPY_MODEL_0d6662e9540b420f815b40319c2e38bf",
            "value": "\n        <table>\n            <tr><td style=\"text-align: left;\">Scaling mode: Manual</td></tr>\n            <tr><td style=\"text-align: left;\">Workers: 4</td></tr>\n        </table>\n        "
          }
        },
        "d4cbdb708ef84a81a03f3785ca8e168f": {
          "model_module": "@jupyter-widgets/controls",
          "model_name": "AccordionModel",
          "model_module_version": "1.5.0",
          "state": {
            "_dom_classes": [],
            "_model_module": "@jupyter-widgets/controls",
            "_model_module_version": "1.5.0",
            "_model_name": "AccordionModel",
            "_titles": {
              "0": "Manual Scaling",
              "1": "Adaptive Scaling"
            },
            "_view_count": null,
            "_view_module": "@jupyter-widgets/controls",
            "_view_module_version": "1.5.0",
            "_view_name": "AccordionView",
            "box_style": "",
            "children": [
              "IPY_MODEL_a0e2255a86ca40379de3473def33ce0b",
              "IPY_MODEL_baca15566ba3435aae13f1c102244a7f"
            ],
            "layout": "IPY_MODEL_06c9795f25a349a7b8a958023da43ca2",
            "selected_index": null
          }
        },
        "6ca18f4c757a4138904a07b10c89633d": {
          "model_module": "@jupyter-widgets/base",
          "model_name": "LayoutModel",
          "model_module_version": "1.2.0",
          "state": {
            "_model_module": "@jupyter-widgets/base",
            "_model_module_version": "1.2.0",
            "_model_name": "LayoutModel",
            "_view_count": null,
            "_view_module": "@jupyter-widgets/base",
            "_view_module_version": "1.2.0",
            "_view_name": "LayoutView",
            "align_content": null,
            "align_items": null,
            "align_self": null,
            "border": null,
            "bottom": null,
            "display": null,
            "flex": null,
            "flex_flow": null,
            "grid_area": null,
            "grid_auto_columns": null,
            "grid_auto_flow": null,
            "grid_auto_rows": null,
            "grid_column": null,
            "grid_gap": null,
            "grid_row": null,
            "grid_template_areas": null,
            "grid_template_columns": null,
            "grid_template_rows": null,
            "height": null,
            "justify_content": null,
            "justify_items": null,
            "left": null,
            "margin": null,
            "max_height": null,
            "max_width": null,
            "min_height": null,
            "min_width": null,
            "object_fit": null,
            "object_position": null,
            "order": null,
            "overflow": null,
            "overflow_x": null,
            "overflow_y": null,
            "padding": null,
            "right": null,
            "top": null,
            "visibility": null,
            "width": null
          }
        },
        "92b38ba2fba446dc98d9fa9be68599c1": {
          "model_module": "@jupyter-widgets/base",
          "model_name": "LayoutModel",
          "model_module_version": "1.2.0",
          "state": {
            "_model_module": "@jupyter-widgets/base",
            "_model_module_version": "1.2.0",
            "_model_name": "LayoutModel",
            "_view_count": null,
            "_view_module": "@jupyter-widgets/base",
            "_view_module_version": "1.2.0",
            "_view_name": "LayoutView",
            "align_content": null,
            "align_items": null,
            "align_self": null,
            "border": null,
            "bottom": null,
            "display": null,
            "flex": null,
            "flex_flow": null,
            "grid_area": null,
            "grid_auto_columns": null,
            "grid_auto_flow": null,
            "grid_auto_rows": null,
            "grid_column": null,
            "grid_gap": null,
            "grid_row": null,
            "grid_template_areas": null,
            "grid_template_columns": null,
            "grid_template_rows": null,
            "height": null,
            "justify_content": null,
            "justify_items": null,
            "left": null,
            "margin": null,
            "max_height": null,
            "max_width": null,
            "min_height": null,
            "min_width": null,
            "object_fit": null,
            "object_position": null,
            "order": null,
            "overflow": null,
            "overflow_x": null,
            "overflow_y": null,
            "padding": null,
            "right": null,
            "top": null,
            "visibility": null,
            "width": null
          }
        },
        "0d6662e9540b420f815b40319c2e38bf": {
          "model_module": "@jupyter-widgets/controls",
          "model_name": "DescriptionStyleModel",
          "model_module_version": "1.5.0",
          "state": {
            "_model_module": "@jupyter-widgets/controls",
            "_model_module_version": "1.5.0",
            "_model_name": "DescriptionStyleModel",
            "_view_count": null,
            "_view_module": "@jupyter-widgets/base",
            "_view_module_version": "1.2.0",
            "_view_name": "StyleView",
            "description_width": ""
          }
        },
        "a0e2255a86ca40379de3473def33ce0b": {
          "model_module": "@jupyter-widgets/controls",
          "model_name": "HBoxModel",
          "model_module_version": "1.5.0",
          "state": {
            "_dom_classes": [],
            "_model_module": "@jupyter-widgets/controls",
            "_model_module_version": "1.5.0",
            "_model_name": "HBoxModel",
            "_view_count": null,
            "_view_module": "@jupyter-widgets/controls",
            "_view_module_version": "1.5.0",
            "_view_name": "HBoxView",
            "box_style": "",
            "children": [
              "IPY_MODEL_4bb0b0077e7945d1aa42ffdf7d5b1d7a",
              "IPY_MODEL_73f03c16fd5d4a7c9a677725ad87a1cf"
            ],
            "layout": "IPY_MODEL_57ea9fa4d7ec42f3b54877b1c2408e7a"
          }
        },
        "baca15566ba3435aae13f1c102244a7f": {
          "model_module": "@jupyter-widgets/controls",
          "model_name": "HBoxModel",
          "model_module_version": "1.5.0",
          "state": {
            "_dom_classes": [],
            "_model_module": "@jupyter-widgets/controls",
            "_model_module_version": "1.5.0",
            "_model_name": "HBoxModel",
            "_view_count": null,
            "_view_module": "@jupyter-widgets/controls",
            "_view_module_version": "1.5.0",
            "_view_name": "HBoxView",
            "box_style": "",
            "children": [
              "IPY_MODEL_8485a2268f384a438ea9cebd42598bf8",
              "IPY_MODEL_d7577ff6bdaf46b9abdfb2f29075a470",
              "IPY_MODEL_5de0f6bd67a44689ac783e7da83b4d14"
            ],
            "layout": "IPY_MODEL_59c6ecec3bdf4e3b8908bf4362fd688d"
          }
        },
        "06c9795f25a349a7b8a958023da43ca2": {
          "model_module": "@jupyter-widgets/base",
          "model_name": "LayoutModel",
          "model_module_version": "1.2.0",
          "state": {
            "_model_module": "@jupyter-widgets/base",
            "_model_module_version": "1.2.0",
            "_model_name": "LayoutModel",
            "_view_count": null,
            "_view_module": "@jupyter-widgets/base",
            "_view_module_version": "1.2.0",
            "_view_name": "LayoutView",
            "align_content": null,
            "align_items": null,
            "align_self": null,
            "border": null,
            "bottom": null,
            "display": null,
            "flex": null,
            "flex_flow": null,
            "grid_area": null,
            "grid_auto_columns": null,
            "grid_auto_flow": null,
            "grid_auto_rows": null,
            "grid_column": null,
            "grid_gap": null,
            "grid_row": null,
            "grid_template_areas": null,
            "grid_template_columns": null,
            "grid_template_rows": null,
            "height": null,
            "justify_content": null,
            "justify_items": null,
            "left": null,
            "margin": null,
            "max_height": null,
            "max_width": null,
            "min_height": null,
            "min_width": "500px",
            "object_fit": null,
            "object_position": null,
            "order": null,
            "overflow": null,
            "overflow_x": null,
            "overflow_y": null,
            "padding": null,
            "right": null,
            "top": null,
            "visibility": null,
            "width": null
          }
        },
        "4bb0b0077e7945d1aa42ffdf7d5b1d7a": {
          "model_module": "@jupyter-widgets/controls",
          "model_name": "IntTextModel",
          "model_module_version": "1.5.0",
          "state": {
            "_dom_classes": [],
            "_model_module": "@jupyter-widgets/controls",
            "_model_module_version": "1.5.0",
            "_model_name": "IntTextModel",
            "_view_count": null,
            "_view_module": "@jupyter-widgets/controls",
            "_view_module_version": "1.5.0",
            "_view_name": "IntTextView",
            "continuous_update": false,
            "description": "Workers",
            "description_tooltip": null,
            "disabled": false,
            "layout": "IPY_MODEL_0f69acd7e83f47688837bffbcc9eecd8",
            "step": 1,
            "style": "IPY_MODEL_9b6ce4eaf4dc46159a125c3824cb3ff0",
            "value": 0
          }
        },
        "73f03c16fd5d4a7c9a677725ad87a1cf": {
          "model_module": "@jupyter-widgets/controls",
          "model_name": "ButtonModel",
          "model_module_version": "1.5.0",
          "state": {
            "_dom_classes": [],
            "_model_module": "@jupyter-widgets/controls",
            "_model_module_version": "1.5.0",
            "_model_name": "ButtonModel",
            "_view_count": null,
            "_view_module": "@jupyter-widgets/controls",
            "_view_module_version": "1.5.0",
            "_view_name": "ButtonView",
            "button_style": "",
            "description": "Scale",
            "disabled": false,
            "icon": "",
            "layout": "IPY_MODEL_0f69acd7e83f47688837bffbcc9eecd8",
            "style": "IPY_MODEL_086baf5dd82b4f5d818458cd6a54934f",
            "tooltip": ""
          }
        },
        "57ea9fa4d7ec42f3b54877b1c2408e7a": {
          "model_module": "@jupyter-widgets/base",
          "model_name": "LayoutModel",
          "model_module_version": "1.2.0",
          "state": {
            "_model_module": "@jupyter-widgets/base",
            "_model_module_version": "1.2.0",
            "_model_name": "LayoutModel",
            "_view_count": null,
            "_view_module": "@jupyter-widgets/base",
            "_view_module_version": "1.2.0",
            "_view_name": "LayoutView",
            "align_content": null,
            "align_items": null,
            "align_self": null,
            "border": null,
            "bottom": null,
            "display": null,
            "flex": null,
            "flex_flow": null,
            "grid_area": null,
            "grid_auto_columns": null,
            "grid_auto_flow": null,
            "grid_auto_rows": null,
            "grid_column": null,
            "grid_gap": null,
            "grid_row": null,
            "grid_template_areas": null,
            "grid_template_columns": null,
            "grid_template_rows": null,
            "height": null,
            "justify_content": null,
            "justify_items": null,
            "left": null,
            "margin": null,
            "max_height": null,
            "max_width": null,
            "min_height": null,
            "min_width": null,
            "object_fit": null,
            "object_position": null,
            "order": null,
            "overflow": null,
            "overflow_x": null,
            "overflow_y": null,
            "padding": null,
            "right": null,
            "top": null,
            "visibility": null,
            "width": null
          }
        },
        "8485a2268f384a438ea9cebd42598bf8": {
          "model_module": "@jupyter-widgets/controls",
          "model_name": "IntTextModel",
          "model_module_version": "1.5.0",
          "state": {
            "_dom_classes": [],
            "_model_module": "@jupyter-widgets/controls",
            "_model_module_version": "1.5.0",
            "_model_name": "IntTextModel",
            "_view_count": null,
            "_view_module": "@jupyter-widgets/controls",
            "_view_module_version": "1.5.0",
            "_view_name": "IntTextView",
            "continuous_update": false,
            "description": "Minimum",
            "description_tooltip": null,
            "disabled": false,
            "layout": "IPY_MODEL_0f69acd7e83f47688837bffbcc9eecd8",
            "step": 1,
            "style": "IPY_MODEL_736db6c4b2854a88b138700ae2b24d0e",
            "value": 0
          }
        },
        "d7577ff6bdaf46b9abdfb2f29075a470": {
          "model_module": "@jupyter-widgets/controls",
          "model_name": "IntTextModel",
          "model_module_version": "1.5.0",
          "state": {
            "_dom_classes": [],
            "_model_module": "@jupyter-widgets/controls",
            "_model_module_version": "1.5.0",
            "_model_name": "IntTextModel",
            "_view_count": null,
            "_view_module": "@jupyter-widgets/controls",
            "_view_module_version": "1.5.0",
            "_view_name": "IntTextView",
            "continuous_update": false,
            "description": "Maximum",
            "description_tooltip": null,
            "disabled": false,
            "layout": "IPY_MODEL_0f69acd7e83f47688837bffbcc9eecd8",
            "step": 1,
            "style": "IPY_MODEL_167eb2d311064245ae7a894cb12e796b",
            "value": 0
          }
        },
        "5de0f6bd67a44689ac783e7da83b4d14": {
          "model_module": "@jupyter-widgets/controls",
          "model_name": "ButtonModel",
          "model_module_version": "1.5.0",
          "state": {
            "_dom_classes": [],
            "_model_module": "@jupyter-widgets/controls",
            "_model_module_version": "1.5.0",
            "_model_name": "ButtonModel",
            "_view_count": null,
            "_view_module": "@jupyter-widgets/controls",
            "_view_module_version": "1.5.0",
            "_view_name": "ButtonView",
            "button_style": "",
            "description": "Adapt",
            "disabled": false,
            "icon": "",
            "layout": "IPY_MODEL_0f69acd7e83f47688837bffbcc9eecd8",
            "style": "IPY_MODEL_1df51fac78434ad8a45a13f4079d55a9",
            "tooltip": ""
          }
        },
        "59c6ecec3bdf4e3b8908bf4362fd688d": {
          "model_module": "@jupyter-widgets/base",
          "model_name": "LayoutModel",
          "model_module_version": "1.2.0",
          "state": {
            "_model_module": "@jupyter-widgets/base",
            "_model_module_version": "1.2.0",
            "_model_name": "LayoutModel",
            "_view_count": null,
            "_view_module": "@jupyter-widgets/base",
            "_view_module_version": "1.2.0",
            "_view_name": "LayoutView",
            "align_content": null,
            "align_items": null,
            "align_self": null,
            "border": null,
            "bottom": null,
            "display": null,
            "flex": null,
            "flex_flow": null,
            "grid_area": null,
            "grid_auto_columns": null,
            "grid_auto_flow": null,
            "grid_auto_rows": null,
            "grid_column": null,
            "grid_gap": null,
            "grid_row": null,
            "grid_template_areas": null,
            "grid_template_columns": null,
            "grid_template_rows": null,
            "height": null,
            "justify_content": null,
            "justify_items": null,
            "left": null,
            "margin": null,
            "max_height": null,
            "max_width": null,
            "min_height": null,
            "min_width": null,
            "object_fit": null,
            "object_position": null,
            "order": null,
            "overflow": null,
            "overflow_x": null,
            "overflow_y": null,
            "padding": null,
            "right": null,
            "top": null,
            "visibility": null,
            "width": null
          }
        },
        "0f69acd7e83f47688837bffbcc9eecd8": {
          "model_module": "@jupyter-widgets/base",
          "model_name": "LayoutModel",
          "model_module_version": "1.2.0",
          "state": {
            "_model_module": "@jupyter-widgets/base",
            "_model_module_version": "1.2.0",
            "_model_name": "LayoutModel",
            "_view_count": null,
            "_view_module": "@jupyter-widgets/base",
            "_view_module_version": "1.2.0",
            "_view_name": "LayoutView",
            "align_content": null,
            "align_items": null,
            "align_self": null,
            "border": null,
            "bottom": null,
            "display": null,
            "flex": null,
            "flex_flow": null,
            "grid_area": null,
            "grid_auto_columns": null,
            "grid_auto_flow": null,
            "grid_auto_rows": null,
            "grid_column": null,
            "grid_gap": null,
            "grid_row": null,
            "grid_template_areas": null,
            "grid_template_columns": null,
            "grid_template_rows": null,
            "height": null,
            "justify_content": null,
            "justify_items": null,
            "left": null,
            "margin": null,
            "max_height": null,
            "max_width": null,
            "min_height": null,
            "min_width": null,
            "object_fit": null,
            "object_position": null,
            "order": null,
            "overflow": null,
            "overflow_x": null,
            "overflow_y": null,
            "padding": null,
            "right": null,
            "top": null,
            "visibility": null,
            "width": "150px"
          }
        },
        "9b6ce4eaf4dc46159a125c3824cb3ff0": {
          "model_module": "@jupyter-widgets/controls",
          "model_name": "DescriptionStyleModel",
          "model_module_version": "1.5.0",
          "state": {
            "_model_module": "@jupyter-widgets/controls",
            "_model_module_version": "1.5.0",
            "_model_name": "DescriptionStyleModel",
            "_view_count": null,
            "_view_module": "@jupyter-widgets/base",
            "_view_module_version": "1.2.0",
            "_view_name": "StyleView",
            "description_width": ""
          }
        },
        "086baf5dd82b4f5d818458cd6a54934f": {
          "model_module": "@jupyter-widgets/controls",
          "model_name": "ButtonStyleModel",
          "model_module_version": "1.5.0",
          "state": {
            "_model_module": "@jupyter-widgets/controls",
            "_model_module_version": "1.5.0",
            "_model_name": "ButtonStyleModel",
            "_view_count": null,
            "_view_module": "@jupyter-widgets/base",
            "_view_module_version": "1.2.0",
            "_view_name": "StyleView",
            "button_color": null,
            "font_weight": ""
          }
        },
        "736db6c4b2854a88b138700ae2b24d0e": {
          "model_module": "@jupyter-widgets/controls",
          "model_name": "DescriptionStyleModel",
          "model_module_version": "1.5.0",
          "state": {
            "_model_module": "@jupyter-widgets/controls",
            "_model_module_version": "1.5.0",
            "_model_name": "DescriptionStyleModel",
            "_view_count": null,
            "_view_module": "@jupyter-widgets/base",
            "_view_module_version": "1.2.0",
            "_view_name": "StyleView",
            "description_width": ""
          }
        },
        "167eb2d311064245ae7a894cb12e796b": {
          "model_module": "@jupyter-widgets/controls",
          "model_name": "DescriptionStyleModel",
          "model_module_version": "1.5.0",
          "state": {
            "_model_module": "@jupyter-widgets/controls",
            "_model_module_version": "1.5.0",
            "_model_name": "DescriptionStyleModel",
            "_view_count": null,
            "_view_module": "@jupyter-widgets/base",
            "_view_module_version": "1.2.0",
            "_view_name": "StyleView",
            "description_width": ""
          }
        },
        "1df51fac78434ad8a45a13f4079d55a9": {
          "model_module": "@jupyter-widgets/controls",
          "model_name": "ButtonStyleModel",
          "model_module_version": "1.5.0",
          "state": {
            "_model_module": "@jupyter-widgets/controls",
            "_model_module_version": "1.5.0",
            "_model_name": "ButtonStyleModel",
            "_view_count": null,
            "_view_module": "@jupyter-widgets/base",
            "_view_module_version": "1.2.0",
            "_view_name": "StyleView",
            "button_color": null,
            "font_weight": ""
          }
        }
      }
    }
  },
  "cells": [
    {
      "cell_type": "markdown",
      "metadata": {
        "id": "view-in-github",
        "colab_type": "text"
      },
      "source": [
        "<a href=\"https://colab.research.google.com/github/PranjalSahu/OAI_analysis_2/blob/pranjal/DaskComputationCoiled.ipynb\" target=\"_parent\"><img src=\"https://colab.research.google.com/assets/colab-badge.svg\" alt=\"Open In Colab\"/></a>"
      ]
    },
    {
      "cell_type": "code",
      "execution_count": null,
      "metadata": {
        "id": "8VnZ6zuBOtp3"
      },
      "outputs": [],
      "source": [
        "# Install packages\n",
        "\n",
        "# Remember to Restart runtime after installation\n",
        "\n",
        "\n",
        "!pip install itk==5.3rc4\n",
        "!pip install vtk\n",
        "!pip install itkwidgets\n",
        "!pip install icon-registration==0.3.4\n",
        "#!pip install \"dask[complete]\"\n",
        "#!pip install coiled dask distributed\n",
        "!pip install tornado==6.1\n",
        "!pip install coiled\n",
        "!pip install torch\n",
        "!pip install jupyter\n",
        "!pip install girder_client\n",
        "!pip install git+https://github.com/uncbiag/mermaid.git\n",
        "!pip install git+https://github.com/uncbiag/easyreg.git\n",
        "!pip install git+https://github.com/PranjalSahu/OAI_analysis_2.git#egg=oai_package"
      ]
    },
    {
      "cell_type": "code",
      "source": [
        "import coiled\n",
        "import dask"
      ],
      "metadata": {
        "id": "RVYsTjDQCJfq"
      },
      "execution_count": 13,
      "outputs": []
    },
    {
      "cell_type": "code",
      "source": [
        "# All Imports\n",
        "\n",
        "import numpy as np\n",
        "\n",
        "#import itkConfig\n",
        "#itkConfig.LazyLoading = False\n",
        "\n",
        "import itk\n",
        "import vtk\n",
        "import itkwidgets\n",
        "import icon_registration\n",
        "import icon_registration.itk_wrapper as itk_wrapper\n",
        "import icon_registration.pretrained_models as pretrained_models\n",
        "from oai_analysis_2 import mesh_processing as mp\n",
        "\n",
        "import os\n",
        "os.environ[\"CUDA_VISIBLE_DEVICES\"]=\"\"\n",
        "import dask\n",
        "from dask import delayed, compute, visualize\n",
        "from dask.distributed import Client, progress, LocalCluster"
      ],
      "metadata": {
        "id": "0w5y-3zBOxkY"
      },
      "execution_count": 14,
      "outputs": []
    },
    {
      "cell_type": "code",
      "source": [
        "# Create the environment\n",
        "\n",
        "if False:\n",
        "  import coiled\n",
        "\n",
        "  # coiled.create_software_environment(\n",
        "  #   name=\"oai4\",\n",
        "  #   pip=\"coiled_requirements.txt\",\n",
        "  # )\n",
        "  coiled.create_software_environment(\n",
        "    name=\"oai4\",\n",
        "    container=\"pranjalsahu/pranjal-sahu-oai4:cf409eeb-435c-4976-afd4-6a5118d6b683\",\n",
        "  )"
      ],
      "metadata": {
        "id": "D-E-5gV6KX8E",
        "colab": {
          "base_uri": "https://localhost:8080/"
        },
        "outputId": "fad5bced-f6af-4930-fd9a-608de8648594"
      },
      "execution_count": null,
      "outputs": [
        {
          "output_type": "stream",
          "name": "stdout",
          "text": [
            "Creating new software environment\n",
            "Creating container-only software environment\n",
            "Successfully saved software environment build\n"
          ]
        }
      ]
    },
    {
      "cell_type": "code",
      "source": [
        "# Create Dask Client. This will also spawn dask worker and scheduler\n",
        "\n",
        "import coiled\n",
        "\n",
        "use_coiled = True\n",
        "\n",
        "if use_coiled:\n",
        "  name = None\n",
        "  cluster = coiled.Cluster(n_workers=4,\n",
        "                         worker_cpu=4,\n",
        "                         worker_memory='12G',\n",
        "                         name=name,\n",
        "                         software='pranjal-sahu/oai4')\n",
        "  client = dask.distributed.Client(cluster, \n",
        "                                   serializers=['pickle', 'dask'],\n",
        "                                   deserializers=['pickle', 'dask'])\n",
        "  client\n",
        "else:\n",
        "  cluster = LocalCluster(processes=False)\n",
        "  client = Client(cluster)\n",
        "  client"
      ],
      "metadata": {
        "colab": {
          "base_uri": "https://localhost:8080/",
          "height": 260,
          "referenced_widgets": [
            "485e70d09d474adb8886f5fb63b907dd",
            "7456ad7b79af4c4e997570974de1a256"
          ]
        },
        "id": "2wQIfgkLSMRy",
        "outputId": "743a5736-b591-41d1-dc51-fb28ea4be658"
      },
      "execution_count": 15,
      "outputs": [
        {
          "output_type": "display_data",
          "data": {
            "text/plain": [
              "Output()"
            ],
            "application/vnd.jupyter.widget-view+json": {
              "version_major": 2,
              "version_minor": 0,
              "model_id": "485e70d09d474adb8886f5fb63b907dd"
            }
          },
          "metadata": {}
        },
        {
          "output_type": "stream",
          "name": "stdout",
          "text": [
            "Found software environment build\n",
            "Created fw rule: inbound [8786-8787] [0.0.0.0/0] []\n",
            "Created FW rules: coiled-dask-pranjal09-151052-firewall\n",
            "Created fw rule: cluster [0-65535] [None] [coiled-dask-pranjal09-151052-firewall -> coiled-dask-pranjal09-151052-firewall]\n",
            "Created FW rules: coiled-dask-pranjal09-151052-cluster-firewall\n",
            "Created fw rule: cluster [0-65535] [None] [coiled-dask-pranjal09-151052-cluster-firewall -> coiled-dask-pranjal09-151052-cluster-firewall]\n",
            "Created scheduler VM: coiled-dask-pranjal09-151052-scheduler (type: t3.medium, ip: ['35.172.180.96'])\n"
          ]
        },
        {
          "output_type": "display_data",
          "data": {
            "text/plain": [
              ""
            ],
            "text/html": [
              "<pre style=\"white-space:pre;overflow-x:auto;line-height:normal;font-family:Menlo,'DejaVu Sans Mono',consolas,'Courier New',monospace\"></pre>\n"
            ]
          },
          "metadata": {}
        },
        {
          "output_type": "stream",
          "name": "stderr",
          "text": [
            "Mismatched versions found\n",
            "\n",
            "+---------+--------+-----------+---------+\n",
            "| Package | client | scheduler | workers |\n",
            "+---------+--------+-----------+---------+\n",
            "| blosc   | 1.10.6 | None      | None    |\n",
            "+---------+--------+-----------+---------+\n"
          ]
        }
      ]
    },
    {
      "cell_type": "code",
      "source": [
        "cluster"
      ],
      "metadata": {
        "colab": {
          "base_uri": "https://localhost:8080/",
          "height": 258,
          "referenced_widgets": [
            "453f88562bec4e049fd592cb926722c4",
            "0ac884295e5d498280f4f77d8c67bd9e",
            "6d9735b50e06414da2f363a4a6e7aadb",
            "9aea63319cee43d99b577ba5f38972ab",
            "9c2e089f8f78440eae7fe4aebf83633e",
            "aeaaf48775a545b3996b3b9a3e57ebfb",
            "11bea4a4a8324febb2efac5c66b192cb",
            "d4cbdb708ef84a81a03f3785ca8e168f",
            "6ca18f4c757a4138904a07b10c89633d",
            "92b38ba2fba446dc98d9fa9be68599c1",
            "0d6662e9540b420f815b40319c2e38bf",
            "a0e2255a86ca40379de3473def33ce0b",
            "baca15566ba3435aae13f1c102244a7f",
            "06c9795f25a349a7b8a958023da43ca2",
            "4bb0b0077e7945d1aa42ffdf7d5b1d7a",
            "73f03c16fd5d4a7c9a677725ad87a1cf",
            "57ea9fa4d7ec42f3b54877b1c2408e7a",
            "8485a2268f384a438ea9cebd42598bf8",
            "d7577ff6bdaf46b9abdfb2f29075a470",
            "5de0f6bd67a44689ac783e7da83b4d14",
            "59c6ecec3bdf4e3b8908bf4362fd688d",
            "0f69acd7e83f47688837bffbcc9eecd8",
            "9b6ce4eaf4dc46159a125c3824cb3ff0",
            "086baf5dd82b4f5d818458cd6a54934f",
            "736db6c4b2854a88b138700ae2b24d0e",
            "167eb2d311064245ae7a894cb12e796b",
            "1df51fac78434ad8a45a13f4079d55a9"
          ]
        },
        "id": "Ckrfrc8UkZMJ",
        "outputId": "1b5e7a93-57eb-40ed-a51f-a90996dd5421"
      },
      "execution_count": 24,
      "outputs": [
        {
          "output_type": "display_data",
          "data": {
            "text/plain": [
              "Tab(children=(HTML(value='<div class=\"jp-RenderedHTMLCommon jp-RenderedHTML jp-mod-trusted jp-OutputArea-outpu…"
            ],
            "application/vnd.jupyter.widget-view+json": {
              "version_major": 2,
              "version_minor": 0,
              "model_id": "453f88562bec4e049fd592cb926722c4"
            }
          },
          "metadata": {}
        }
      ]
    },
    {
      "cell_type": "code",
      "source": [
        "#client.close()\n",
        "#cluster.close()"
      ],
      "metadata": {
        "colab": {
          "base_uri": "https://localhost:8080/",
          "height": 33
        },
        "id": "T_a0m5vPJynp",
        "outputId": "806166bc-13b0-4fa3-f256-5c16231fb563"
      },
      "execution_count": 72,
      "outputs": [
        {
          "output_type": "display_data",
          "data": {
            "text/plain": [
              "\u001b[32mCluster deleted successfully.\u001b[0m\n"
            ],
            "text/html": [
              "<pre style=\"white-space:pre;overflow-x:auto;line-height:normal;font-family:Menlo,'DejaVu Sans Mono',consolas,'Courier New',monospace\"><span style=\"color: #008000; text-decoration-color: #008000\">Cluster deleted successfully.</span>\n",
              "</pre>\n"
            ]
          },
          "metadata": {}
        }
      ]
    },
    {
      "cell_type": "code",
      "source": [
        "print(dask.__version__)\n",
        "import distributed\n",
        "print(distributed.__version__)\n",
        "print(distributed.__path__)"
      ],
      "metadata": {
        "colab": {
          "base_uri": "https://localhost:8080/"
        },
        "id": "sOF9qYy1fUDK",
        "outputId": "375714bb-172c-4ed3-a4db-ec61e25b0cb4"
      },
      "execution_count": 93,
      "outputs": [
        {
          "output_type": "stream",
          "name": "stdout",
          "text": [
            "2022.02.0\n",
            "2022.02.0\n",
            "['/usr/local/lib/python3.7/dist-packages/distributed']\n"
          ]
        }
      ]
    },
    {
      "cell_type": "code",
      "source": [
        "# Download the relevant files such as input image, atlas image, segmented TC and FC maps\n",
        "\n",
        "!girder-client --api-url https://data.kitware.com/api/v1 localsync 621a5d784acac99f426c143b OAIData"
      ],
      "metadata": {
        "id": "7RYZtcl0Wo0n",
        "colab": {
          "base_uri": "https://localhost:8080/"
        },
        "outputId": "3730be7d-a0be-4188-9076-d4a4ed7d707f"
      },
      "execution_count": 5,
      "outputs": [
        {
          "output_type": "stream",
          "name": "stdout",
          "text": [
            "Local metadata does not exists. Falling back to download.\n",
            "\u001b[?25l[####################################]  74.74M/74.74M  100%  atlas_image.nii.gz          \u001b[?25h\n",
            "\u001b[?25l[####################################]  76.70M/76.70M  100%  FC_probmap.nii.gz          \u001b[?25h\n",
            "\u001b[?25l[####################################]  27.96M/27.96M  100%  image_preprocessed.nii.gz          \u001b[?25h\n",
            "\u001b[?25l[####################################]  76.66M/76.66M  100%  TC_probmap.nii.gz          \u001b[?25h\n"
          ]
        }
      ]
    },
    {
      "cell_type": "code",
      "source": [
        "# All Function Definitions with Dask Delayed Decorator to perform parallel Computing\n",
        "\n",
        "#@delayed(nout=2)\n",
        "def read_images(image_preprocessed, atlas_image):\n",
        "    image_A = itk.imread(image_preprocessed, itk.D)\n",
        "    image_B = itk.imread(atlas_image, itk.D)\n",
        "\n",
        "    fc_prob_file = './OAIData/FC_probmap.nii.gz'\n",
        "    FC_prob = itk.imread(fc_prob_file)\n",
        "\n",
        "    tc_prob_file = './OAIData/TC_probmap.nii.gz'\n",
        "    TC_prob = itk.imread(tc_prob_file)\n",
        "\n",
        "    return image_A, image_B, FC_prob, TC_prob\n",
        "\n",
        "def register_images(image_A, image_B):\n",
        "    model = pretrained_models.OAI_knees_gradICON_model()\n",
        "    model.to('cpu')\n",
        "\n",
        "    # Register the images\n",
        "    phi_AB, phi_BA = itk_wrapper.register_pair(model, image_A, image_B)\n",
        "    return phi_AB\n",
        "\n",
        "@delayed\n",
        "def deform_probmap_FC(phi_AB, image_A, image_B, FC_prob):\n",
        "    #import itkConfig\n",
        "    #itkConfig.LazyLoading = False\n",
        "    import itk\n",
        "    #fc_prob_file = './OAIData/FC_probmap.nii.gz'\n",
        "    #FC_prob = itk.imread(fc_prob_file)\n",
        "\n",
        "    # interpolator = itk.LinearInterpolateImageFunction.New(image_A)\n",
        "    # warped_image_FC = itk.resample_image_filter(FC_prob, \n",
        "    #     transform=phi_AB, \n",
        "    #     interpolator=interpolator,\n",
        "    #     size=itk.size(image_B),\n",
        "    #     output_spacing=itk.spacing(image_B),\n",
        "    #     output_direction=image_B.GetDirection(),\n",
        "    #     output_origin=image_B.GetOrigin()\n",
        "    # )\n",
        "\n",
        "    return image_A.shape\n",
        "    #return warped_image_FC\n",
        "\n",
        "@delayed\n",
        "def deform_probmap_FC_paramA(phi_AB):\n",
        "    #import itkConfig\n",
        "    #itkConfig.LazyLoading = False\n",
        "    #import itk\n",
        "    #return itk.dict_from_transform(phi_AB)[\"transformName\"]#.GetNumberOfParameters()\n",
        "    #return warped_image_FC\n",
        "    return phi_AB[\"transformName\"]\n",
        "\n",
        "@delayed\n",
        "def deform_probmap_TC(phi_AB, image_A, image_B, TC_prob):\n",
        "    #import itkConfig\n",
        "    #itkConfig.LazyLoading = False\n",
        "    #import itk\n",
        "    #tc_prob_file = './OAIData/TC_probmap.nii.gz'\n",
        "    #TC_prob = itk.imread(tc_prob_file)\n",
        "\n",
        "    interpolator = itk.LinearInterpolateImageFunction.New(image_A)\n",
        "    warped_image_TC = itk.resample_image_filter(TC_prob, \n",
        "        transform=phi_AB, \n",
        "        interpolator=interpolator,\n",
        "        size=itk.size(image_B),\n",
        "        output_spacing=itk.spacing(image_B),\n",
        "        output_direction=image_B.GetDirection(),\n",
        "        output_origin=image_B.GetOrigin()\n",
        "    )\n",
        "\n",
        "    return warped_image_TC\n",
        "\n",
        "# Convert from VTK Mesh to ITK Mesh to make it serializable\n",
        "def get_itk_mesh(vtk_mesh):\n",
        "    #import itkConfig\n",
        "    #itkConfig.LazyLoading = False\n",
        "    #import itk\n",
        "\n",
        "    Dimension = 3\n",
        "    PixelType = itk.D\n",
        "    \n",
        "    MeshType = itk.Mesh[PixelType, Dimension]\n",
        "    itk_mesh = MeshType.New()\n",
        "    \n",
        "    # Get points array from VTK mesh\n",
        "    points = vtk_mesh.GetPoints().GetData()\n",
        "    points_numpy = np.array(points).flatten().astype('float32')\n",
        "        \n",
        "    polys = vtk_mesh.GetPolys().GetData()\n",
        "    polys_numpy = np.array(polys).flatten()\n",
        "\n",
        "    # Triangle Mesh\n",
        "    vtk_cells_count = vtk_mesh.GetNumberOfPolys()\n",
        "    polys_numpy = np.reshape(polys_numpy, [vtk_cells_count, Dimension+1])\n",
        "\n",
        "    # Extracting only the points by removing first column that denotes the VTK cell type\n",
        "    polys_numpy = polys_numpy[:, 1:]\n",
        "    polys_numpy = polys_numpy.flatten().astype(np.uint64)\n",
        "\n",
        "    # Get point data from VTK mesh to insert in ITK Mesh\n",
        "    point_data_numpy = np.array(vtk_mesh.GetPointData().GetScalars())#.astype('float64')\n",
        "    \n",
        "    # Get cell data from VTK mesh to insert in ITK Mesh\n",
        "    cell_data_numpy = np.array(vtk_mesh.GetCellData().GetScalars())#.astype('float64')\n",
        "    \n",
        "    itk_mesh.SetPoints(itk.vector_container_from_array(points_numpy))\n",
        "    itk_mesh.SetCellsArray(itk.vector_container_from_array(polys_numpy), itk.CommonEnums.CellGeometry_TRIANGLE_CELL)\n",
        "    itk_mesh.SetPointData(itk.vector_container_from_array(point_data_numpy))\n",
        "    itk_mesh.SetCellData(itk.vector_container_from_array(cell_data_numpy))    \n",
        "    return itk_mesh\n",
        "    \n",
        "@delayed\n",
        "def get_thickness_FC(warped_image_FC):\n",
        "    #import itkConfig\n",
        "    #itkConfig.LazyLoading = False\n",
        "    #import itk\n",
        "\n",
        "    distance_inner_FC, distance_outer_FC = mp.get_thickness_mesh(warped_image_FC, mesh_type='FC')\n",
        "    distance_inner_FC = get_itk_mesh(distance_inner_FC)\n",
        "    return distance_inner_FC\n",
        "\n",
        "@delayed\n",
        "def get_thickness_TC(warped_image_TC):\n",
        "    #import itkConfig\n",
        "    #itkConfig.LazyLoading = False\n",
        "    #import itk\n",
        "\n",
        "    distance_inner_TC, distance_outer_TC = mp.get_thickness_mesh(warped_image_TC, mesh_type='TC')\n",
        "    distance_inner_TC = get_itk_mesh(distance_inner_TC)\n",
        "    return distance_inner_TC\n",
        "\n",
        "#@delayed(nout=2)\n",
        "def get_paths():\n",
        "    import numpy as np\n",
        "    import itk\n",
        "    import vtk\n",
        "    import itkwidgets\n",
        "    import icon_registration\n",
        "    import icon_registration.itk_wrapper as itk_wrapper\n",
        "    import icon_registration.pretrained_models as pretrained_models\n",
        "    from oai_analysis_2 import mesh_processing as mp\n",
        "\n",
        "    image_preprocessed = \"./OAIData/image_preprocessed.nii.gz\"\n",
        "    atlas_image = \"./OAIData/atlas_image.nii.gz\"\n",
        "\n",
        "    return image_preprocessed, atlas_image\n",
        "\n",
        "#@delayed\n",
        "def only_register_images(image_A, image_B):\n",
        "  #import itkConfig\n",
        "  #itkConfig.LazyLoading = False\n",
        "  #import itk\n",
        "  import numpy as np\n",
        "  import itk\n",
        "  import vtk\n",
        "  import itkwidgets\n",
        "  import icon_registration\n",
        "  import icon_registration.itk_wrapper as itk_wrapper\n",
        "  import icon_registration.pretrained_models as pretrained_models\n",
        "  from oai_analysis_2 import mesh_processing as mp\n",
        "\n",
        "  phi_AB  = register_images(image_A=image_A, image_B=image_B)\n",
        "  return phi_AB\n",
        "\n",
        "@delayed\n",
        "def import_all():\n",
        "  import numpy as np\n",
        "  #import itkConfig\n",
        "  #itkConfig.LazyLoading = False\n",
        "  import itk\n",
        "  import vtk\n",
        "  import itkwidgets\n",
        "  import icon_registration\n",
        "  import icon_registration.itk_wrapper as itk_wrapper\n",
        "  import icon_registration.pretrained_models as pretrained_models\n",
        "  from oai_analysis_2 import mesh_processing as mp\n",
        "\n",
        "  return True"
      ],
      "metadata": {
        "id": "2HbtL8r4TiKb"
      },
      "execution_count": 16,
      "outputs": []
    },
    {
      "cell_type": "code",
      "source": [
        "img_np = np.random.rand(5, 5)\n",
        "print(img_np.shape)\n",
        "\n",
        "img = itk.image_from_array(img_np)\n",
        "print(img.shape)"
      ],
      "metadata": {
        "colab": {
          "base_uri": "https://localhost:8080/"
        },
        "id": "XDJkXRHs-7FN",
        "outputId": "785e9bdd-ab16-4274-8ec8-fe794dbd3b8a"
      },
      "execution_count": 17,
      "outputs": [
        {
          "output_type": "stream",
          "name": "stdout",
          "text": [
            "(5, 5)\n",
            "(5, 5)\n"
          ]
        }
      ]
    },
    {
      "cell_type": "code",
      "source": [
        "# Create a test mesh\n",
        "\n",
        "m = itk.Mesh.F3.New()\n",
        "p = np.random.rand(5, 3).astype('float32')\n",
        "print(p.shape, p.dtype)\n",
        "m.SetPoints(itk.vector_container_from_array(p.flatten()))\n",
        "\n",
        "#md = itk.dict_from_mesh(m)\n",
        "#print(md)"
      ],
      "metadata": {
        "colab": {
          "base_uri": "https://localhost:8080/"
        },
        "id": "A87IIQ4tcwvQ",
        "outputId": "146b1022-0389-4734-85d3-98aacba2ffe8"
      },
      "execution_count": 18,
      "outputs": [
        {
          "output_type": "stream",
          "name": "stdout",
          "text": [
            "(5, 3) float32\n"
          ]
        }
      ]
    },
    {
      "cell_type": "code",
      "source": [
        "@delayed\n",
        "def perform_sum1(img_temp):\n",
        "  import itk\n",
        "  mesh = itk.mesh_from_dict(img_temp)\n",
        "  return img_temp['dimension']\n",
        "\n",
        "@delayed\n",
        "def perform_sum2(img_temp: itk.Mesh):\n",
        "  import itk\n",
        "  #mesh = itk.mesh_from_dict(img_temp)\n",
        "  return img_temp['dimension']\n",
        "\n",
        "\n",
        "@delayed\n",
        "def perform_sum3(img_temp):\n",
        "  import itk\n",
        "  mesh = itk.mesh_from_dict(img_temp)\n",
        "  return mesh['points']\n",
        "\n",
        "  #return np.sum(img_temp['points'])\n",
        "  #return itk.di\n",
        "  #import itkConfig\n",
        "  #itkConfig.LazyLoading = False\n",
        "  #import itk\n",
        "  #return itk.image_from_array(img_temp)\n",
        "  #a = np.array(img_temp)\n",
        "  #return a#np.sum(img_temp)"
      ],
      "metadata": {
        "id": "LO0weghb_KIm"
      },
      "execution_count": 43,
      "outputs": []
    },
    {
      "cell_type": "code",
      "source": [
        "# Create Dask Computation Graph\n",
        "\n",
        "result = []\n",
        "\n",
        "#import_done = import_all()\n",
        "image_preprocessed, atlas_image   = get_paths()\n",
        "\n",
        "image_A, image_B, FC_prob, TC_prob  = read_images(image_preprocessed, atlas_image)\n",
        "phi_AB            = only_register_images(image_A, image_B)\n",
        "\n",
        "warped_image_FC = deform_probmap_FC(phi_AB, image_A, image_B, FC_prob)\n",
        "warped_image_TC = deform_probmap_TC(phi_AB, image_A, image_B, TC_prob)\n",
        "\n",
        "thickness_FC = get_thickness_FC(warped_image_FC)\n",
        "thickness_TC = get_thickness_TC(warped_image_TC)\n",
        "\n",
        "result.append(thickness_FC)\n",
        "result.append(thickness_TC)"
      ],
      "metadata": {
        "id": "19uaqQxfXFGZ"
      },
      "execution_count": null,
      "outputs": []
    },
    {
      "cell_type": "code",
      "source": [
        "numParam = deform_probmap_FC_paramA(phi_AB)\n"
      ],
      "metadata": {
        "id": "TAkwQu9Emm_-"
      },
      "execution_count": null,
      "outputs": []
    },
    {
      "cell_type": "code",
      "source": [
        "m1 = itk.dict_from_mesh(m)\n",
        "sumImg = perform_sum3(m1)"
      ],
      "metadata": {
        "id": "9-jWMZxT_S-0"
      },
      "execution_count": 44,
      "outputs": []
    },
    {
      "cell_type": "code",
      "source": [
        "#cluster.close()"
      ],
      "metadata": {
        "colab": {
          "base_uri": "https://localhost:8080/",
          "height": 33
        },
        "id": "PzSIRcHff1BP",
        "outputId": "bae2b8b0-5b86-4d63-a3b4-b2e04d1cd000"
      },
      "execution_count": 12,
      "outputs": [
        {
          "output_type": "display_data",
          "data": {
            "text/plain": [
              "\u001b[32mCluster deleted successfully.\u001b[0m\n"
            ],
            "text/html": [
              "<pre style=\"white-space:pre;overflow-x:auto;line-height:normal;font-family:Menlo,'DejaVu Sans Mono',consolas,'Courier New',monospace\"><span style=\"color: #008000; text-decoration-color: #008000\">Cluster deleted successfully.</span>\n",
              "</pre>\n"
            ]
          },
          "metadata": {}
        }
      ]
    },
    {
      "cell_type": "code",
      "source": [
        "# Visualize Dask Computation Graph\n",
        "\n",
        "visualize(sumImg)"
      ],
      "metadata": {
        "colab": {
          "base_uri": "https://localhost:8080/",
          "height": 314
        },
        "id": "7B9giaonXGfA",
        "outputId": "c2f45272-1e69-448a-bc36-4eee545d96e5"
      },
      "execution_count": 45,
      "outputs": [
        {
          "output_type": "execute_result",
          "data": {
            "text/plain": [
              "<IPython.core.display.Image object>"
            ],
            "image/png": "[encoded data removed]"
          },
          "metadata": {},
          "execution_count": 45
        }
      ]
    },
    {
      "cell_type": "code",
      "source": [
        "# Perform computation\n",
        "#%%time\n",
        "l = compute(sumImg)"
      ],
      "metadata": {
        "id": "06pW5urcXIzF"
      },
      "execution_count": 46,
      "outputs": []
    },
    {
      "cell_type": "code",
      "source": [
        "print(l)"
      ],
      "metadata": {
        "colab": {
          "base_uri": "https://localhost:8080/"
        },
        "id": "wBmRAP-Dlwpe",
        "outputId": "2611f625-cd79-4c19-c41f-4c737c227b0b"
      },
      "execution_count": 47,
      "outputs": [
        {
          "output_type": "stream",
          "name": "stdout",
          "text": [
            "(array([0.49196097, 0.76765674, 0.94078916, 0.79572743, 0.46459323,\n",
            "       0.6721373 , 0.7920722 , 0.6339246 , 0.07515171, 0.3353372 ,\n",
            "       0.40732956, 0.13174278, 0.07618685, 0.74596786, 0.527918  ],\n",
            "      dtype=float32),)\n"
          ]
        }
      ]
    },
    {
      "cell_type": "code",
      "source": [
        "import pickle\n",
        "import cloudpickle\n",
        "a = itk.image_from_array(img_np)\n",
        "b = cloudpickle.loads(pickle.dumps(a))\n",
        "print(b)"
      ],
      "metadata": {
        "id": "oW-DKEDbFfIM"
      },
      "execution_count": null,
      "outputs": []
    },
    {
      "cell_type": "code",
      "source": [
        "!pip install cloudpickle"
      ],
      "metadata": {
        "colab": {
          "base_uri": "https://localhost:8080/"
        },
        "id": "TQwypZ4tHEZW",
        "outputId": "4a07ec63-25e1-4d3c-c87e-c2b210a46b5b"
      },
      "execution_count": 45,
      "outputs": [
        {
          "output_type": "stream",
          "name": "stdout",
          "text": [
            "Requirement already satisfied: cloudpickle in /usr/local/lib/python3.7/dist-packages (2.0.0)\n"
          ]
        }
      ]
    },
    {
      "cell_type": "code",
      "source": [
        "pickle.__file__"
      ],
      "metadata": {
        "colab": {
          "base_uri": "https://localhost:8080/",
          "height": 35
        },
        "id": "CU4weCJVGwVJ",
        "outputId": "0f955e81-2bab-4d5b-fd6b-d6f7bf95afd7"
      },
      "execution_count": 44,
      "outputs": [
        {
          "output_type": "execute_result",
          "data": {
            "text/plain": [
              "'/usr/lib/python3.7/pickle.py'"
            ],
            "application/vnd.google.colaboratory.intrinsic+json": {
              "type": "string"
            }
          },
          "metadata": {},
          "execution_count": 44
        }
      ]
    },
    {
      "cell_type": "code",
      "source": [
        ""
      ],
      "metadata": {
        "id": "K6S0ee-zGwa-"
      },
      "execution_count": null,
      "outputs": []
    },
    {
      "cell_type": "markdown",
      "source": [
        "![DaskProgress](https://user-images.githubusercontent.com/1044135/163692457-40a41395-3d83-4928-9445-528cd025a7b9.png)\n"
      ],
      "metadata": {
        "id": "4MlwDE5nXo4C"
      }
    },
    {
      "cell_type": "code",
      "source": [
        "# Write the result meshes\n",
        "\n",
        "distance_inner_FC = l[0]\n",
        "distance_inner_TC = l[1]\n",
        "\n",
        "itk.meshwrite(distance_inner_FC, 'itk_distance_inner_FC.vtk')\n",
        "itk.meshwrite(distance_inner_TC, 'itk_distance_inner_TC.vtk')"
      ],
      "metadata": {
        "id": "EGoH_Yv4XwN-"
      },
      "execution_count": null,
      "outputs": []
    },
    {
      "cell_type": "code",
      "source": [
        "# Visualize the meshes with thickness as cell data\n",
        "\n",
        "# To enable running the itkwidgets window on colab\n",
        "from google.colab import output\n",
        "output.enable_custom_widget_manager()\n",
        "\n",
        "a1 = vtk.vtkPolyDataReader()\n",
        "a1.SetFileName('itk_distance_inner_FC.vtk')\n",
        "a1.Update()\n",
        "distance_inner_FC = a1.GetOutput()\n",
        "\n",
        "itkwidgets.view(geometries=[distance_inner_FC])"
      ],
      "metadata": {
        "colab": {
          "base_uri": "https://localhost:8080/",
          "height": 717,
          "referenced_widgets": [
            "1168bdc5c1634fc38627a535d5e3dc8f",
            "694e81244a3f42baa5e955811ba96ad3"
          ]
        },
        "id": "NyM5dBpSX2D6",
        "outputId": "e05d3396-5a4a-4c1f-e3e3-477e4f89480c"
      },
      "execution_count": null,
      "outputs": [
        {
          "output_type": "display_data",
          "data": {
            "text/plain": [
              "Viewer(geometries=[{'vtkClass': 'vtkPolyData', 'points': {'vtkClass': 'vtkPoints', 'name': '_points', 'numberO…"
            ],
            "application/vnd.jupyter.widget-view+json": {
              "version_major": 2,
              "version_minor": 0,
              "model_id": "1168bdc5c1634fc38627a535d5e3dc8f"
            }
          },
          "metadata": {
            "application/vnd.jupyter.widget-view+json": {
              "colab": {
                "custom_widget_manager": {
                  "url": "https://ssl.gstatic.com/colaboratory-static/widgets/colab-cdn-widget-manager/a8874ba6619b6106/manager.min.js"
                }
              }
            }
          }
        }
      ]
    },
    {
      "cell_type": "code",
      "source": [
        "import dask.array as da\n",
        "import zarr\n",
        "\n",
        "z1 = zarr.open('example.zarr', mode='w', shape=(100, 100, 100), chunks=(100, 100, 100))\n",
        "print(z1.shape)\n",
        "z1[0, 0, :] = np.arange(100)"
      ],
      "metadata": {
        "colab": {
          "base_uri": "https://localhost:8080/"
        },
        "id": "U8zRJ7Sq3Pjy",
        "outputId": "8362ffdc-c86b-4873-b89a-fbccf58b4002"
      },
      "execution_count": null,
      "outputs": [
        {
          "output_type": "stream",
          "name": "stdout",
          "text": [
            "(100, 100, 100)\n"
          ]
        }
      ]
    },
    {
      "cell_type": "code",
      "source": [
        "from google.colab import output\n",
        "output.enable_custom_widget_manager()"
      ],
      "metadata": {
        "id": "BYgbZ9US40qM"
      },
      "execution_count": null,
      "outputs": []
    },
    {
      "cell_type": "code",
      "source": [
        "#!pip install itkwidgets\n",
        "\n",
        "from itkwidgets import view\n",
        "view(z1, gradient_opacity=0.9)"
      ],
      "metadata": {
        "colab": {
          "base_uri": "https://localhost:8080/",
          "height": 17,
          "referenced_widgets": [
            "d9c77f0364ae449f816c87b1f241fdee"
          ]
        },
        "id": "_pkX6Lvs4ep4",
        "outputId": "6ecd624a-69c6-4bc2-a9d1-fcf79658f1e0"
      },
      "execution_count": null,
      "outputs": [
        {
          "output_type": "display_data",
          "data": {
            "text/plain": [
              "Viewer(geometries=[], gradient_opacity=0.9, point_sets=[], rendered_image=<itk.itkImagePython.itkImageD3; prox…"
            ],
            "application/vnd.jupyter.widget-view+json": {
              "version_major": 2,
              "version_minor": 0,
              "model_id": "d9c77f0364ae449f816c87b1f241fdee"
            }
          },
          "metadata": {
            "application/vnd.jupyter.widget-view+json": {
              "colab": {
                "custom_widget_manager": {
                  "url": "https://ssl.gstatic.com/colaboratory-static/widgets/colab-cdn-widget-manager/a8874ba6619b6106/manager.min.js"
                }
              }
            }
          }
        }
      ]
    },
    {
      "cell_type": "code",
      "source": [
        "z1"
      ],
      "metadata": {
        "colab": {
          "base_uri": "https://localhost:8080/"
        },
        "id": "ozFYHPvl5DlJ",
        "outputId": "feb9efc3-ac21-4363-bfe3-c7abf36909db"
      },
      "execution_count": null,
      "outputs": [
        {
          "output_type": "execute_result",
          "data": {
            "text/plain": [
              "<zarr.core.Array (100, 100, 100) float64>"
            ]
          },
          "metadata": {},
          "execution_count": 36
        }
      ]
    },
    {
      "cell_type": "code",
      "source": [
        "import numpy as np\n",
        "import dask.array as da\n",
        "\n",
        "vol = z1\n",
        "factor = 2\n",
        "down = da.coarsen(np.mean, vol, { 0: 1, 1: 1, 2: 1}, trim_excess=True)\n",
        "down"
      ],
      "metadata": {
        "colab": {
          "base_uri": "https://localhost:8080/",
          "height": 362
        },
        "id": "fQddi2g_49-0",
        "outputId": "f60be180-b701-4905-9b26-c3a6e1242869"
      },
      "execution_count": null,
      "outputs": [
        {
          "output_type": "error",
          "ename": "IndexError",
          "evalue": "ignored",
          "traceback": [
            "\u001b[0;31m---------------------------------------------------------------------------\u001b[0m",
            "\u001b[0;31mIndexError\u001b[0m                                Traceback (most recent call last)",
            "\u001b[0;32m<ipython-input-42-e05b7387dfea>\u001b[0m in \u001b[0;36m<module>\u001b[0;34m()\u001b[0m\n\u001b[1;32m      4\u001b[0m \u001b[0mvol\u001b[0m \u001b[0;34m=\u001b[0m \u001b[0mz1\u001b[0m\u001b[0;34m\u001b[0m\u001b[0;34m\u001b[0m\u001b[0m\n\u001b[1;32m      5\u001b[0m \u001b[0mfactor\u001b[0m \u001b[0;34m=\u001b[0m \u001b[0;36m2\u001b[0m\u001b[0;34m\u001b[0m\u001b[0;34m\u001b[0m\u001b[0m\n\u001b[0;32m----> 6\u001b[0;31m \u001b[0mdown\u001b[0m \u001b[0;34m=\u001b[0m \u001b[0mda\u001b[0m\u001b[0;34m.\u001b[0m\u001b[0mcoarsen\u001b[0m\u001b[0;34m(\u001b[0m\u001b[0mnp\u001b[0m\u001b[0;34m.\u001b[0m\u001b[0mmean\u001b[0m\u001b[0;34m,\u001b[0m \u001b[0mvol\u001b[0m\u001b[0;34m,\u001b[0m \u001b[0;34m{\u001b[0m \u001b[0;36m0\u001b[0m\u001b[0;34m:\u001b[0m \u001b[0;36m1\u001b[0m\u001b[0;34m,\u001b[0m \u001b[0;36m1\u001b[0m\u001b[0;34m:\u001b[0m \u001b[0;36m1\u001b[0m\u001b[0;34m,\u001b[0m \u001b[0;36m2\u001b[0m\u001b[0;34m:\u001b[0m \u001b[0;36m1\u001b[0m\u001b[0;34m}\u001b[0m\u001b[0;34m,\u001b[0m \u001b[0mtrim_excess\u001b[0m\u001b[0;34m=\u001b[0m\u001b[0;32mTrue\u001b[0m\u001b[0;34m)\u001b[0m\u001b[0;34m\u001b[0m\u001b[0;34m\u001b[0m\u001b[0m\n\u001b[0m\u001b[1;32m      7\u001b[0m \u001b[0mdown\u001b[0m\u001b[0;34m\u001b[0m\u001b[0;34m\u001b[0m\u001b[0m\n",
            "\u001b[0;32m/usr/local/lib/python3.7/dist-packages/dask/array/routines.py\u001b[0m in \u001b[0;36mcoarsen\u001b[0;34m(reduction, x, axes, trim_excess, **kwargs)\u001b[0m\n\u001b[1;32m   2281\u001b[0m     \u001b[0mnew_chunks\u001b[0m \u001b[0;34m=\u001b[0m \u001b[0;34m{\u001b[0m\u001b[0;34m}\u001b[0m\u001b[0;34m\u001b[0m\u001b[0;34m\u001b[0m\u001b[0m\n\u001b[1;32m   2282\u001b[0m     \u001b[0;32mfor\u001b[0m \u001b[0mi\u001b[0m\u001b[0;34m,\u001b[0m \u001b[0mdiv\u001b[0m \u001b[0;32min\u001b[0m \u001b[0maxes\u001b[0m\u001b[0;34m.\u001b[0m\u001b[0mitems\u001b[0m\u001b[0;34m(\u001b[0m\u001b[0;34m)\u001b[0m\u001b[0;34m:\u001b[0m\u001b[0;34m\u001b[0m\u001b[0;34m\u001b[0m\u001b[0m\n\u001b[0;32m-> 2283\u001b[0;31m         \u001b[0maligned\u001b[0m \u001b[0;34m=\u001b[0m \u001b[0maligned_coarsen_chunks\u001b[0m\u001b[0;34m(\u001b[0m\u001b[0mx\u001b[0m\u001b[0;34m.\u001b[0m\u001b[0mchunks\u001b[0m\u001b[0;34m[\u001b[0m\u001b[0mi\u001b[0m\u001b[0;34m]\u001b[0m\u001b[0;34m,\u001b[0m \u001b[0mdiv\u001b[0m\u001b[0;34m)\u001b[0m\u001b[0;34m\u001b[0m\u001b[0;34m\u001b[0m\u001b[0m\n\u001b[0m\u001b[1;32m   2284\u001b[0m         \u001b[0;32mif\u001b[0m \u001b[0maligned\u001b[0m \u001b[0;34m!=\u001b[0m \u001b[0mx\u001b[0m\u001b[0;34m.\u001b[0m\u001b[0mchunks\u001b[0m\u001b[0;34m[\u001b[0m\u001b[0mi\u001b[0m\u001b[0;34m]\u001b[0m\u001b[0;34m:\u001b[0m\u001b[0;34m\u001b[0m\u001b[0;34m\u001b[0m\u001b[0m\n\u001b[1;32m   2285\u001b[0m             \u001b[0mnew_chunks\u001b[0m\u001b[0;34m[\u001b[0m\u001b[0mi\u001b[0m\u001b[0;34m]\u001b[0m \u001b[0;34m=\u001b[0m \u001b[0maligned\u001b[0m\u001b[0;34m\u001b[0m\u001b[0;34m\u001b[0m\u001b[0m\n",
            "\u001b[0;32m/usr/local/lib/python3.7/dist-packages/dask/array/routines.py\u001b[0m in \u001b[0;36maligned_coarsen_chunks\u001b[0;34m(chunks, multiple)\u001b[0m\n\u001b[1;32m   2255\u001b[0m     \u001b[0;31m# sorting the valid chunks by size (ascending)\u001b[0m\u001b[0;34m\u001b[0m\u001b[0;34m\u001b[0m\u001b[0;34m\u001b[0m\u001b[0m\n\u001b[1;32m   2256\u001b[0m     chunk_modification_order = [\n\u001b[0;32m-> 2257\u001b[0;31m         \u001b[0;34m*\u001b[0m\u001b[0minvalid_inds\u001b[0m\u001b[0;34m[\u001b[0m\u001b[0mnp\u001b[0m\u001b[0;34m.\u001b[0m\u001b[0margsort\u001b[0m\u001b[0;34m(\u001b[0m\u001b[0mnew_chunks\u001b[0m\u001b[0;34m[\u001b[0m\u001b[0minvalid_inds\u001b[0m\u001b[0;34m]\u001b[0m\u001b[0;34m)\u001b[0m\u001b[0;34m]\u001b[0m\u001b[0;34m,\u001b[0m\u001b[0;34m\u001b[0m\u001b[0;34m\u001b[0m\u001b[0m\n\u001b[0m\u001b[1;32m   2258\u001b[0m         \u001b[0;34m*\u001b[0m\u001b[0mvalid_inds\u001b[0m\u001b[0;34m[\u001b[0m\u001b[0mnp\u001b[0m\u001b[0;34m.\u001b[0m\u001b[0margsort\u001b[0m\u001b[0;34m(\u001b[0m\u001b[0mnew_chunks\u001b[0m\u001b[0;34m[\u001b[0m\u001b[0mvalid_inds\u001b[0m\u001b[0;34m]\u001b[0m\u001b[0;34m)\u001b[0m\u001b[0;34m]\u001b[0m\u001b[0;34m,\u001b[0m\u001b[0;34m\u001b[0m\u001b[0;34m\u001b[0m\u001b[0m\n\u001b[1;32m   2259\u001b[0m     ]\n",
            "\u001b[0;31mIndexError\u001b[0m: invalid index to scalar variable."
          ]
        }
      ]
    },
    {
      "cell_type": "code",
      "source": [
        ""
      ],
      "metadata": {
        "id": "LQCtlfuH4-S3"
      },
      "execution_count": null,
      "outputs": []
    }
  ]
}